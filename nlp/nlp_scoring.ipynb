{
 "cells": [
  {
   "cell_type": "code",
   "execution_count": 1,
   "metadata": {},
   "outputs": [],
   "source": [
    "import pandas as pd"
   ]
  },
  {
   "cell_type": "markdown",
   "metadata": {},
   "source": [
    "## create the dataset for gemini distillation"
   ]
  },
  {
   "cell_type": "code",
   "execution_count": 59,
   "metadata": {},
   "outputs": [
    {
     "data": {
      "application/vnd.microsoft.datawrangler.viewer.v0+json": {
       "columns": [
        {
         "name": "index",
         "rawType": "int64",
         "type": "integer"
        },
        {
         "name": "ticker",
         "rawType": "object",
         "type": "string"
        },
        {
         "name": "company_name",
         "rawType": "object",
         "type": "string"
        },
        {
         "name": "original_word",
         "rawType": "object",
         "type": "string"
        },
        {
         "name": "match_type",
         "rawType": "object",
         "type": "string"
        },
        {
         "name": "match_score",
         "rawType": "float64",
         "type": "float"
        },
        {
         "name": "text",
         "rawType": "object",
         "type": "string"
        },
        {
         "name": "text_index",
         "rawType": "int64",
         "type": "integer"
        },
        {
         "name": "origin",
         "rawType": "object",
         "type": "string"
        },
        {
         "name": "original_index",
         "rawType": "int64",
         "type": "integer"
        }
       ],
       "conversionMethod": "pd.DataFrame",
       "ref": "dd5005fe-fb42-45ad-bf26-6969761aad02",
       "rows": [
        [
         "0",
         "AAPL",
         "Apple Inc.",
         "AAPL",
         "ticker",
         "100.0",
         "Selling my AAPL position because of Itunes/AppleTV",
         "0",
         "submission_title",
         "0"
        ],
        [
         "1",
         "LEN",
         "Lennar",
         "Lennar",
         "name",
         "100.0",
         "Thoughts on long-term position for Lennar Corp (LEN) and for the homebuilding industry in general?",
         "30",
         "submission_title",
         "30"
        ],
        [
         "2",
         "AMD",
         "Advanced Micro Devices",
         "AMD",
         "ticker",
         "100.0",
         "Why can't I find the AMD Annual Report for 2016",
         "40",
         "submission_title",
         "40"
        ],
        [
         "3",
         "TSLA",
         "Tesla, Inc.",
         "TSLA",
         "ticker",
         "100.0",
         "What is happening to TSLA stock?",
         "65",
         "submission_title",
         "65"
        ],
        [
         "4",
         "HLT",
         "Hilton Worldwide",
         "HLT",
         "ticker",
         "100.0",
         "My position in HLT has split into different symbols",
         "71",
         "submission_title",
         "71"
        ],
        [
         "5",
         "DOW",
         "Dow Inc.",
         "DOW",
         "ticker",
         "100.0",
         "So... No more DOW 20,000?",
         "98",
         "submission_title",
         "98"
        ],
        [
         "6",
         "AMD",
         "Advanced Micro Devices",
         "AMD",
         "ticker",
         "100.0",
         "All things AMD are looking good today at CES. So why is it down?",
         "102",
         "submission_title",
         "102"
        ],
        [
         "7",
         "STZ",
         "Constellation Brands",
         "stz",
         "ticker",
         "100.0",
         "Confusion on stz today",
         "103",
         "submission_title",
         "103"
        ],
        [
         "8",
         "GOOGL",
         "Alphabet Inc. (Class A)",
         "Google",
         "ticker",
         "90.9090909090909",
         "Google is an ETF",
         "107",
         "submission_title",
         "107"
        ],
        [
         "9",
         "FSLR",
         "First Solar",
         "FSLR",
         "ticker",
         "100.0",
         "FSLR -- Should I 'hold' or 'sell' my share of First Solar",
         "134",
         "submission_title",
         "134"
        ],
        [
         "10",
         "NVDA",
         "Nvidia",
         "NVDA",
         "ticker",
         "100.0",
         "NVDA",
         "181",
         "submission_title",
         "181"
        ],
        [
         "11",
         "NVDA",
         "Nvidia",
         "NVDA",
         "ticker",
         "100.0",
         "95% on NVDA call from last week",
         "193",
         "submission_title",
         "193"
        ],
        [
         "12",
         "SBUX",
         "Starbucks",
         "Starbucks",
         "name",
         "100.0",
         "Using my Starbucks stock employee discount",
         "202",
         "submission_title",
         "202"
        ],
        [
         "13",
         "MSFT",
         "Microsoft",
         "Microsoft",
         "name",
         "100.0",
         "Will Microsoft Corporation Stock Continue To Rally?",
         "234",
         "submission_title",
         "234"
        ],
        [
         "14",
         "GOOGL",
         "Alphabet Inc. (Class A)",
         "Google",
         "ticker",
         "90.9090909090909",
         "\"Ross\" from Warrior Trading is spamming the hell out of my Google ads. He must be spending a fortune on advertising. Anyone else notice this?",
         "247",
         "submission_title",
         "247"
        ],
        [
         "15",
         "CRM",
         "Salesforce",
         "CRM",
         "ticker",
         "100.0",
         "FB, AAPL, or CRM",
         "251",
         "submission_title",
         "251"
        ],
        [
         "16",
         "BAC",
         "Bank of America",
         "BAC",
         "ticker",
         "100.0",
         "Is BAC and BP a good buy for long term investment?",
         "265",
         "submission_title",
         "265"
        ],
        [
         "17",
         "SBUX",
         "Starbucks",
         "Starbucks",
         "name",
         "100.0",
         "Starbucks RSU questions.",
         "269",
         "submission_title",
         "269"
        ],
        [
         "18",
         "SBUX",
         "Starbucks",
         "SBUX",
         "ticker",
         "100.0",
         "SBUX Earnings - Question",
         "294",
         "submission_title",
         "294"
        ],
        [
         "19",
         "BAC",
         "Bank of America",
         "BAC",
         "ticker",
         "100.0",
         "BAC",
         "338",
         "submission_title",
         "338"
        ],
        [
         "20",
         "AMD",
         "Advanced Micro Devices",
         "AMD",
         "ticker",
         "100.0",
         "I bought into the AMD hype like an idiot, and have lost 15 dollars so far. Should I cut my losses and sell?",
         "340",
         "submission_title",
         "340"
        ],
        [
         "21",
         "ABBV",
         "AbbVie",
         "ABBV",
         "ticker",
         "100.0",
         "Been looking at dividened stocks and ABBV caught my eye.",
         "397",
         "submission_title",
         "397"
        ],
        [
         "22",
         "KEY",
         "KeyCorp",
         "KeyCorp",
         "name",
         "100.0",
         "KeyCorp",
         "405",
         "submission_title",
         "405"
        ],
        [
         "23",
         "TECH",
         "Bio-Techne",
         "Bio-Tech",
         "name",
         "88.88888888888889",
         "Bio-Tech DD",
         "420",
         "submission_title",
         "420"
        ],
        [
         "24",
         "TSLA",
         "Tesla, Inc.",
         "TSLA",
         "ticker",
         "100.0",
         "TSLA",
         "426",
         "submission_title",
         "426"
        ],
        [
         "25",
         "BAC",
         "Bank of America",
         "BAC",
         "ticker",
         "100.0",
         "BAC",
         "439",
         "submission_title",
         "439"
        ],
        [
         "26",
         "NVDA",
         "Nvidia",
         "Nvidia",
         "name",
         "100.0",
         "Nvidia",
         "440",
         "submission_title",
         "440"
        ],
        [
         "27",
         "NFLX",
         "Netflix",
         "NFLX",
         "ticker",
         "100.0",
         "NFLX up 8% after hours",
         "444",
         "submission_title",
         "444"
        ],
        [
         "28",
         "AMD",
         "Advanced Micro Devices",
         "AMD",
         "ticker",
         "100.0",
         "Why has AMD stock being going down?",
         "447",
         "submission_title",
         "447"
        ],
        [
         "29",
         "AMD",
         "Advanced Micro Devices",
         "AMD",
         "ticker",
         "100.0",
         "AMD is it time to pull the plug?",
         "460",
         "submission_title",
         "460"
        ],
        [
         "30",
         "TSLA",
         "Tesla, Inc.",
         "TSLA",
         "ticker",
         "100.0",
         "Should I jump on the ballooning TSLA stocks?",
         "467",
         "submission_title",
         "467"
        ],
        [
         "31",
         "TAP",
         "Molson Coors Beverage Company",
         "tap",
         "ticker",
         "100.0",
         "How long is the S&amp;P going to tap against 2275?",
         "490",
         "submission_title",
         "490"
        ],
        [
         "32",
         "CSCO",
         "Cisco",
         "Cisco",
         "name",
         "100.0",
         "Cisco since Avaya filing bankruptcy?",
         "518",
         "submission_title",
         "518"
        ],
        [
         "33",
         "AMD",
         "Advanced Micro Devices",
         "amd",
         "ticker",
         "100.0",
         "Is amd dropping due to being overbought?",
         "528",
         "submission_title",
         "528"
        ],
        [
         "34",
         "BALL",
         "Ball Corporation",
         "ball",
         "ticker",
         "100.0",
         "China can make ball point pens, what are the effects in stocks of companies involved?",
         "535",
         "submission_title",
         "535"
        ],
        [
         "35",
         "QCOM",
         "Qualcomm",
         "Qualcomm",
         "name",
         "100.0",
         "Qualcomm took another hit",
         "536",
         "submission_title",
         "536"
        ],
        [
         "36",
         "NFLX",
         "Netflix",
         "Netflix,",
         "name",
         "93.33333333333333",
         "Netflix, Inc. (NASDAQ:NFLX) Quarterly EPS Set At $0.425",
         "537",
         "submission_title",
         "537"
        ],
        [
         "37",
         "NFLX",
         "Netflix",
         "Netflix",
         "name",
         "100.0",
         "Netflix CEO explains why his company keeps growing",
         "539",
         "submission_title",
         "539"
        ],
        [
         "38",
         "QCOM",
         "Qualcomm",
         "Qualcomm;",
         "name",
         "94.11764705882352",
         "Apple Sues Qualcomm; Company's Legal Woes Begin To Pile Up",
         "540",
         "submission_title",
         "540"
        ],
        [
         "39",
         "AMD",
         "Advanced Micro Devices",
         "AMD",
         "ticker",
         "100.0",
         "AMD stock had a great run in 2016, but the stock may not be able to repeat its performance in 2017.",
         "555",
         "submission_title",
         "555"
        ],
        [
         "40",
         "GLW",
         "Corning Inc.",
         "GLW",
         "ticker",
         "100.0",
         "GLW doesnt get enough love here",
         "565",
         "submission_title",
         "565"
        ],
        [
         "41",
         "GILD",
         "Gilead Sciences",
         "GILD",
         "ticker",
         "100.0",
         "WTF GILD ?",
         "574",
         "submission_title",
         "574"
        ],
        [
         "42",
         "DOW",
         "Dow Inc.",
         "Dow",
         "ticker",
         "100.0",
         "Dow index hits 20k!",
         "590",
         "submission_title",
         "590"
        ],
        [
         "43",
         "IBM",
         "IBM",
         "$IBM",
         "name",
         "85.71428571428572",
         "Taking $IBM and $NFLX to the bank this morning",
         "593",
         "submission_title",
         "593"
        ],
        [
         "44",
         "YUM",
         "Yum! Brands",
         "Yum",
         "ticker",
         "100.0",
         "Would a temporary Yum investment be wise?",
         "638",
         "submission_title",
         "638"
        ],
        [
         "45",
         "STZ",
         "Constellation Brands",
         "STZ",
         "ticker",
         "100.0",
         "STZ",
         "641",
         "submission_title",
         "641"
        ],
        [
         "46",
         "EBAY",
         "eBay Inc.",
         "eBay",
         "ticker",
         "100.0",
         "Is eBay worth buying after they jumped up?",
         "652",
         "submission_title",
         "652"
        ],
        [
         "47",
         "DOW",
         "Dow Inc.",
         "DOW",
         "ticker",
         "100.0",
         "DOW overvalued?",
         "653",
         "submission_title",
         "653"
        ],
        [
         "48",
         "AMZN",
         "Amazon",
         "Amazon",
         "name",
         "100.0",
         "Invest in Google, Amazon or ETF?",
         "657",
         "submission_title",
         "657"
        ],
        [
         "49",
         "SBUX",
         "Starbucks",
         "SBUX",
         "ticker",
         "100.0",
         "SBUX caught in No Man's Land",
         "660",
         "submission_title",
         "660"
        ]
       ],
       "shape": {
        "columns": 9,
        "rows": 298607
       }
      },
      "text/html": [
       "<div>\n",
       "<style scoped>\n",
       "    .dataframe tbody tr th:only-of-type {\n",
       "        vertical-align: middle;\n",
       "    }\n",
       "\n",
       "    .dataframe tbody tr th {\n",
       "        vertical-align: top;\n",
       "    }\n",
       "\n",
       "    .dataframe thead th {\n",
       "        text-align: right;\n",
       "    }\n",
       "</style>\n",
       "<table border=\"1\" class=\"dataframe\">\n",
       "  <thead>\n",
       "    <tr style=\"text-align: right;\">\n",
       "      <th></th>\n",
       "      <th>ticker</th>\n",
       "      <th>company_name</th>\n",
       "      <th>original_word</th>\n",
       "      <th>match_type</th>\n",
       "      <th>match_score</th>\n",
       "      <th>text</th>\n",
       "      <th>text_index</th>\n",
       "      <th>origin</th>\n",
       "      <th>original_index</th>\n",
       "    </tr>\n",
       "  </thead>\n",
       "  <tbody>\n",
       "    <tr>\n",
       "      <th>0</th>\n",
       "      <td>AAPL</td>\n",
       "      <td>Apple Inc.</td>\n",
       "      <td>AAPL</td>\n",
       "      <td>ticker</td>\n",
       "      <td>100.000000</td>\n",
       "      <td>Selling my AAPL position because of Itunes/App...</td>\n",
       "      <td>0</td>\n",
       "      <td>submission_title</td>\n",
       "      <td>0</td>\n",
       "    </tr>\n",
       "    <tr>\n",
       "      <th>1</th>\n",
       "      <td>LEN</td>\n",
       "      <td>Lennar</td>\n",
       "      <td>Lennar</td>\n",
       "      <td>name</td>\n",
       "      <td>100.000000</td>\n",
       "      <td>Thoughts on long-term position for Lennar Corp...</td>\n",
       "      <td>30</td>\n",
       "      <td>submission_title</td>\n",
       "      <td>30</td>\n",
       "    </tr>\n",
       "    <tr>\n",
       "      <th>2</th>\n",
       "      <td>AMD</td>\n",
       "      <td>Advanced Micro Devices</td>\n",
       "      <td>AMD</td>\n",
       "      <td>ticker</td>\n",
       "      <td>100.000000</td>\n",
       "      <td>Why can't I find the AMD Annual Report for 2016</td>\n",
       "      <td>40</td>\n",
       "      <td>submission_title</td>\n",
       "      <td>40</td>\n",
       "    </tr>\n",
       "    <tr>\n",
       "      <th>3</th>\n",
       "      <td>TSLA</td>\n",
       "      <td>Tesla, Inc.</td>\n",
       "      <td>TSLA</td>\n",
       "      <td>ticker</td>\n",
       "      <td>100.000000</td>\n",
       "      <td>What is happening to TSLA stock?</td>\n",
       "      <td>65</td>\n",
       "      <td>submission_title</td>\n",
       "      <td>65</td>\n",
       "    </tr>\n",
       "    <tr>\n",
       "      <th>4</th>\n",
       "      <td>HLT</td>\n",
       "      <td>Hilton Worldwide</td>\n",
       "      <td>HLT</td>\n",
       "      <td>ticker</td>\n",
       "      <td>100.000000</td>\n",
       "      <td>My position in HLT has split into different sy...</td>\n",
       "      <td>71</td>\n",
       "      <td>submission_title</td>\n",
       "      <td>71</td>\n",
       "    </tr>\n",
       "    <tr>\n",
       "      <th>...</th>\n",
       "      <td>...</td>\n",
       "      <td>...</td>\n",
       "      <td>...</td>\n",
       "      <td>...</td>\n",
       "      <td>...</td>\n",
       "      <td>...</td>\n",
       "      <td>...</td>\n",
       "      <td>...</td>\n",
       "      <td>...</td>\n",
       "    </tr>\n",
       "    <tr>\n",
       "      <th>298602</th>\n",
       "      <td>PYPL</td>\n",
       "      <td>PayPal</td>\n",
       "      <td>PayPal</td>\n",
       "      <td>name</td>\n",
       "      <td>100.000000</td>\n",
       "      <td>This story has hit some pretty big publication...</td>\n",
       "      <td>2245688</td>\n",
       "      <td>comment</td>\n",
       "      <td>8902</td>\n",
       "    </tr>\n",
       "    <tr>\n",
       "      <th>298603</th>\n",
       "      <td>TSLA</td>\n",
       "      <td>Tesla, Inc.</td>\n",
       "      <td>TSLA</td>\n",
       "      <td>ticker</td>\n",
       "      <td>100.000000</td>\n",
       "      <td>Index fund such as FXAIX $300, TSLA $200, GOOG...</td>\n",
       "      <td>2245695</td>\n",
       "      <td>comment</td>\n",
       "      <td>8909</td>\n",
       "    </tr>\n",
       "    <tr>\n",
       "      <th>298604</th>\n",
       "      <td>GOOG</td>\n",
       "      <td>Alphabet Inc. (Class C)</td>\n",
       "      <td>GOOG</td>\n",
       "      <td>ticker</td>\n",
       "      <td>100.000000</td>\n",
       "      <td>Index fund such as FXAIX $300, TSLA $200, GOOG...</td>\n",
       "      <td>2245695</td>\n",
       "      <td>comment</td>\n",
       "      <td>8909</td>\n",
       "    </tr>\n",
       "    <tr>\n",
       "      <th>298605</th>\n",
       "      <td>NVDA</td>\n",
       "      <td>Nvidia</td>\n",
       "      <td>NVDA</td>\n",
       "      <td>ticker</td>\n",
       "      <td>100.000000</td>\n",
       "      <td>Index fund such as FXAIX $300, TSLA $200, GOOG...</td>\n",
       "      <td>2245695</td>\n",
       "      <td>comment</td>\n",
       "      <td>8909</td>\n",
       "    </tr>\n",
       "    <tr>\n",
       "      <th>298606</th>\n",
       "      <td>MSFT</td>\n",
       "      <td>Microsoft</td>\n",
       "      <td>Microsoft,</td>\n",
       "      <td>name</td>\n",
       "      <td>94.736842</td>\n",
       "      <td>$ONEI at $1.48 (+28.7%) with a big NYSE decisi...</td>\n",
       "      <td>2245727</td>\n",
       "      <td>comment</td>\n",
       "      <td>8941</td>\n",
       "    </tr>\n",
       "  </tbody>\n",
       "</table>\n",
       "<p>298607 rows × 9 columns</p>\n",
       "</div>"
      ],
      "text/plain": [
       "       ticker             company_name original_word match_type  match_score  \\\n",
       "0        AAPL               Apple Inc.          AAPL     ticker   100.000000   \n",
       "1         LEN                   Lennar        Lennar       name   100.000000   \n",
       "2         AMD   Advanced Micro Devices           AMD     ticker   100.000000   \n",
       "3        TSLA              Tesla, Inc.          TSLA     ticker   100.000000   \n",
       "4         HLT         Hilton Worldwide           HLT     ticker   100.000000   \n",
       "...       ...                      ...           ...        ...          ...   \n",
       "298602   PYPL                   PayPal        PayPal       name   100.000000   \n",
       "298603   TSLA              Tesla, Inc.          TSLA     ticker   100.000000   \n",
       "298604   GOOG  Alphabet Inc. (Class C)          GOOG     ticker   100.000000   \n",
       "298605   NVDA                   Nvidia          NVDA     ticker   100.000000   \n",
       "298606   MSFT                Microsoft    Microsoft,       name    94.736842   \n",
       "\n",
       "                                                     text  text_index  \\\n",
       "0       Selling my AAPL position because of Itunes/App...           0   \n",
       "1       Thoughts on long-term position for Lennar Corp...          30   \n",
       "2         Why can't I find the AMD Annual Report for 2016          40   \n",
       "3                        What is happening to TSLA stock?          65   \n",
       "4       My position in HLT has split into different sy...          71   \n",
       "...                                                   ...         ...   \n",
       "298602  This story has hit some pretty big publication...     2245688   \n",
       "298603  Index fund such as FXAIX $300, TSLA $200, GOOG...     2245695   \n",
       "298604  Index fund such as FXAIX $300, TSLA $200, GOOG...     2245695   \n",
       "298605  Index fund such as FXAIX $300, TSLA $200, GOOG...     2245695   \n",
       "298606  $ONEI at $1.48 (+28.7%) with a big NYSE decisi...     2245727   \n",
       "\n",
       "                  origin  original_index  \n",
       "0       submission_title               0  \n",
       "1       submission_title              30  \n",
       "2       submission_title              40  \n",
       "3       submission_title              65  \n",
       "4       submission_title              71  \n",
       "...                  ...             ...  \n",
       "298602           comment            8902  \n",
       "298603           comment            8909  \n",
       "298604           comment            8909  \n",
       "298605           comment            8909  \n",
       "298606           comment            8941  \n",
       "\n",
       "[298607 rows x 9 columns]"
      ]
     },
     "execution_count": 59,
     "metadata": {},
     "output_type": "execute_result"
    }
   ],
   "source": [
    "stock_mentions = \"../data/stock_mentions.parquet\"\n",
    "stock_mentions = pd.read_parquet(stock_mentions)\n",
    "stock_mentions"
   ]
  },
  {
   "cell_type": "code",
   "execution_count": 31,
   "metadata": {},
   "outputs": [],
   "source": [
    "from nlp_utils import score_text_gemini\n",
    "\n",
    "with open(\"api_key.txt\", \"r\") as f:\n",
    "    api_key = f.read().strip()"
   ]
  },
  {
   "cell_type": "code",
   "execution_count": 103,
   "metadata": {},
   "outputs": [],
   "source": [
    "first_index = 500\n",
    "last_index = 600"
   ]
  },
  {
   "cell_type": "code",
   "execution_count": 104,
   "metadata": {},
   "outputs": [
    {
     "name": "stdout",
     "output_type": "stream",
     "text": [
      "scored submission_title at index 5700\n",
      "scored submission_title at index 5725\n",
      "scored submission_title at index 5728\n",
      "scored submission_title at index 5729\n",
      "scored submission_title at index 5732\n",
      "scored submission_title at index 5739\n",
      "scored submission_title at index 5745\n",
      "scored submission_title at index 5750\n",
      "scored submission_title at index 5762\n",
      "scored submission_title at index 5763\n",
      "scored submission_title at index 5772\n",
      "scored submission_title at index 5784\n",
      "scored submission_title at index 5801\n",
      "scored submission_title at index 5812\n",
      "scored submission_title at index 5816\n",
      "scored submission_title at index 5819\n",
      "scored submission_title at index 5828\n",
      "scored submission_title at index 5829\n",
      "scored submission_title at index 5829\n",
      "scored submission_title at index 5835\n",
      "scored submission_title at index 5842\n",
      "scored submission_title at index 5846\n",
      "scored submission_title at index 5852\n",
      "scored submission_title at index 5866\n",
      "scored submission_title at index 5868\n",
      "scored submission_title at index 5870\n",
      "scored submission_title at index 5872\n",
      "scored submission_title at index 5894\n",
      "scored submission_title at index 5897\n",
      "scored submission_title at index 5900\n",
      "scored submission_title at index 5915\n",
      "scored submission_title at index 5918\n",
      "scored submission_title at index 5924\n",
      "scored submission_title at index 5926\n",
      "scored submission_title at index 5932\n",
      "scored submission_title at index 5955\n",
      "scored submission_title at index 5962\n",
      "scored submission_title at index 5979\n",
      "scored submission_title at index 5991\n",
      "scored submission_title at index 5994\n",
      "scored submission_title at index 5999\n",
      "scored submission_title at index 6001\n",
      "scored submission_title at index 6019\n",
      "scored submission_title at index 6020\n",
      "scored submission_title at index 6056\n",
      "scored submission_title at index 6063\n",
      "scored submission_title at index 6064\n",
      "scored submission_title at index 6071\n",
      "scored submission_title at index 6093\n",
      "scored submission_title at index 6118\n",
      "scored submission_title at index 6123\n",
      "scored submission_title at index 6161\n",
      "scored submission_title at index 6164\n",
      "scored submission_title at index 6177\n",
      "scored submission_title at index 6203\n",
      "scored submission_title at index 6218\n",
      "scored submission_title at index 6255\n",
      "scored submission_title at index 6261\n",
      "scored submission_title at index 6275\n",
      "scored submission_title at index 6277\n",
      "scored submission_title at index 6281\n",
      "scored submission_title at index 6299\n",
      "scored submission_title at index 6300\n",
      "scored submission_title at index 6341\n",
      "scored submission_title at index 6357\n",
      "scored submission_title at index 6369\n",
      "scored submission_title at index 6369\n",
      "scored submission_title at index 6370\n",
      "scored submission_title at index 6403\n",
      "scored submission_title at index 6412\n",
      "scored submission_title at index 6413\n",
      "scored submission_title at index 6426\n",
      "scored submission_title at index 6459\n",
      "scored submission_title at index 6459\n",
      "scored submission_title at index 6483\n",
      "scored submission_title at index 6484\n",
      "scored submission_title at index 6484\n",
      "scored submission_title at index 6489\n",
      "scored submission_title at index 6495\n",
      "scored submission_title at index 6501\n",
      "scored submission_title at index 6527\n",
      "scored submission_title at index 6529\n",
      "scored submission_title at index 6530\n",
      "scored submission_title at index 6547\n",
      "scored submission_title at index 6594\n",
      "scored submission_title at index 6601\n",
      "scored submission_title at index 6604\n",
      "scored submission_title at index 6632\n",
      "scored submission_title at index 6650\n",
      "scored submission_title at index 6670\n",
      "scored submission_title at index 6673\n",
      "scored submission_title at index 6685\n",
      "scored submission_title at index 6690\n",
      "scored submission_title at index 6691\n",
      "scored submission_title at index 6694\n",
      "scored submission_title at index 6705\n",
      "scored submission_title at index 6761\n",
      "scored submission_title at index 6851\n",
      "scored submission_title at index 6862\n",
      "scored submission_title at index 6866\n"
     ]
    }
   ],
   "source": [
    "def score_row_gemini(row):\n",
    "    score, tokens = score_text_gemini(row['text'], row['ticker'], api_key)\n",
    "    print(f'scored {row['origin']} at index {row['original_index']}')\n",
    "    return score\n",
    "\n",
    "def score_dataframe(df, start_index=0, end_index=99):\n",
    "    return df.iloc[start_index:end_index].apply(score_row_gemini, axis=1)\n",
    "\n",
    "scores_list = score_dataframe(stock_mentions, start_index=first_index, end_index=last_index)"
   ]
  },
  {
   "cell_type": "code",
   "execution_count": 97,
   "metadata": {},
   "outputs": [
    {
     "name": "stderr",
     "output_type": "stream",
     "text": [
      "/var/folders/2n/ywnb5cc17zq6c5n2w2n7bkzw0000gn/T/ipykernel_11482/1028078542.py:2: SettingWithCopyWarning: \n",
      "A value is trying to be set on a copy of a slice from a DataFrame.\n",
      "Try using .loc[row_indexer,col_indexer] = value instead\n",
      "\n",
      "See the caveats in the documentation: https://pandas.pydata.org/pandas-docs/stable/user_guide/indexing.html#returning-a-view-versus-a-copy\n",
      "  reduced_stock_mentions['score'] = scores_list\n"
     ]
    }
   ],
   "source": [
    "reduced_stock_mentions = stock_mentions.iloc[first_index:last_index]\n",
    "reduced_stock_mentions['score'] = scores_list"
   ]
  },
  {
   "cell_type": "code",
   "execution_count": 98,
   "metadata": {},
   "outputs": [],
   "source": [
    "reduced_stock_mentions.to_parquet(f\"fine_tuning/data/partial/reduced_stock_mentions_{first_index}_{last_index}.parquet\")"
   ]
  },
  {
   "cell_type": "code",
   "execution_count": 106,
   "metadata": {},
   "outputs": [],
   "source": [
    "import os\n",
    "\n",
    "directory = os.fsencode('fine_tuning/data/partial/')\n",
    "\n",
    "filenames = []\n",
    "    \n",
    "for file in os.listdir(directory):\n",
    "    filename = os.fsdecode(file)\n",
    "    if filename.endswith(\".parquet\"): \n",
    "        filenames.append(filename)\n",
    "        continue\n",
    "    else:\n",
    "        continue\n",
    "\n",
    "filenames = sorted(filenames)\n",
    "dataframes = []\n",
    "\n",
    "for filename in filenames:\n",
    "    dataframes.append(pd.read_parquet(f\"fine_tuning/data/partial/{filename}\"))\n",
    "\n",
    "reduced_stock_mentions = pd.concat(dataframes)"
   ]
  },
  {
   "cell_type": "code",
   "execution_count": 107,
   "metadata": {},
   "outputs": [
    {
     "data": {
      "application/vnd.microsoft.datawrangler.viewer.v0+json": {
       "columns": [
        {
         "name": "index",
         "rawType": "int64",
         "type": "integer"
        },
        {
         "name": "ticker",
         "rawType": "object",
         "type": "string"
        },
        {
         "name": "company_name",
         "rawType": "object",
         "type": "string"
        },
        {
         "name": "original_word",
         "rawType": "object",
         "type": "string"
        },
        {
         "name": "match_type",
         "rawType": "object",
         "type": "string"
        },
        {
         "name": "match_score",
         "rawType": "float64",
         "type": "float"
        },
        {
         "name": "text",
         "rawType": "object",
         "type": "string"
        },
        {
         "name": "text_index",
         "rawType": "int64",
         "type": "integer"
        },
        {
         "name": "origin",
         "rawType": "object",
         "type": "string"
        },
        {
         "name": "original_index",
         "rawType": "int64",
         "type": "integer"
        },
        {
         "name": "score",
         "rawType": "int64",
         "type": "integer"
        }
       ],
       "conversionMethod": "pd.DataFrame",
       "ref": "08a71b2b-ee83-485b-ba26-6c3fb82e79e6",
       "rows": [
        [
         "0",
         "AAPL",
         "Apple Inc.",
         "AAPL",
         "ticker",
         "100.0",
         "Selling my AAPL position because of Itunes/AppleTV",
         "0",
         "submission_title",
         "0",
         "-1"
        ],
        [
         "1",
         "LEN",
         "Lennar",
         "Lennar",
         "name",
         "100.0",
         "Thoughts on long-term position for Lennar Corp (LEN) and for the homebuilding industry in general?",
         "30",
         "submission_title",
         "30",
         "0"
        ],
        [
         "2",
         "AMD",
         "Advanced Micro Devices",
         "AMD",
         "ticker",
         "100.0",
         "Why can't I find the AMD Annual Report for 2016",
         "40",
         "submission_title",
         "40",
         "0"
        ],
        [
         "3",
         "TSLA",
         "Tesla, Inc.",
         "TSLA",
         "ticker",
         "100.0",
         "What is happening to TSLA stock?",
         "65",
         "submission_title",
         "65",
         "0"
        ],
        [
         "4",
         "HLT",
         "Hilton Worldwide",
         "HLT",
         "ticker",
         "100.0",
         "My position in HLT has split into different symbols",
         "71",
         "submission_title",
         "71",
         "0"
        ],
        [
         "5",
         "DOW",
         "Dow Inc.",
         "DOW",
         "ticker",
         "100.0",
         "So... No more DOW 20,000?",
         "98",
         "submission_title",
         "98",
         "-1"
        ],
        [
         "6",
         "AMD",
         "Advanced Micro Devices",
         "AMD",
         "ticker",
         "100.0",
         "All things AMD are looking good today at CES. So why is it down?",
         "102",
         "submission_title",
         "102",
         "-1"
        ],
        [
         "7",
         "STZ",
         "Constellation Brands",
         "stz",
         "ticker",
         "100.0",
         "Confusion on stz today",
         "103",
         "submission_title",
         "103",
         "0"
        ],
        [
         "8",
         "GOOGL",
         "Alphabet Inc. (Class A)",
         "Google",
         "ticker",
         "90.9090909090909",
         "Google is an ETF",
         "107",
         "submission_title",
         "107",
         "-1"
        ],
        [
         "9",
         "FSLR",
         "First Solar",
         "FSLR",
         "ticker",
         "100.0",
         "FSLR -- Should I 'hold' or 'sell' my share of First Solar",
         "134",
         "submission_title",
         "134",
         "0"
        ],
        [
         "10",
         "NVDA",
         "Nvidia",
         "NVDA",
         "ticker",
         "100.0",
         "NVDA",
         "181",
         "submission_title",
         "181",
         "0"
        ],
        [
         "11",
         "NVDA",
         "Nvidia",
         "NVDA",
         "ticker",
         "100.0",
         "95% on NVDA call from last week",
         "193",
         "submission_title",
         "193",
         "1"
        ],
        [
         "12",
         "SBUX",
         "Starbucks",
         "Starbucks",
         "name",
         "100.0",
         "Using my Starbucks stock employee discount",
         "202",
         "submission_title",
         "202",
         "0"
        ],
        [
         "13",
         "MSFT",
         "Microsoft",
         "Microsoft",
         "name",
         "100.0",
         "Will Microsoft Corporation Stock Continue To Rally?",
         "234",
         "submission_title",
         "234",
         "0"
        ],
        [
         "14",
         "GOOGL",
         "Alphabet Inc. (Class A)",
         "Google",
         "ticker",
         "90.9090909090909",
         "\"Ross\" from Warrior Trading is spamming the hell out of my Google ads. He must be spending a fortune on advertising. Anyone else notice this?",
         "247",
         "submission_title",
         "247",
         "0"
        ],
        [
         "15",
         "CRM",
         "Salesforce",
         "CRM",
         "ticker",
         "100.0",
         "FB, AAPL, or CRM",
         "251",
         "submission_title",
         "251",
         "0"
        ],
        [
         "16",
         "BAC",
         "Bank of America",
         "BAC",
         "ticker",
         "100.0",
         "Is BAC and BP a good buy for long term investment?",
         "265",
         "submission_title",
         "265",
         "0"
        ],
        [
         "17",
         "SBUX",
         "Starbucks",
         "Starbucks",
         "name",
         "100.0",
         "Starbucks RSU questions.",
         "269",
         "submission_title",
         "269",
         "0"
        ],
        [
         "18",
         "SBUX",
         "Starbucks",
         "SBUX",
         "ticker",
         "100.0",
         "SBUX Earnings - Question",
         "294",
         "submission_title",
         "294",
         "0"
        ],
        [
         "19",
         "BAC",
         "Bank of America",
         "BAC",
         "ticker",
         "100.0",
         "BAC",
         "338",
         "submission_title",
         "338",
         "0"
        ],
        [
         "20",
         "AMD",
         "Advanced Micro Devices",
         "AMD",
         "ticker",
         "100.0",
         "I bought into the AMD hype like an idiot, and have lost 15 dollars so far. Should I cut my losses and sell?",
         "340",
         "submission_title",
         "340",
         "-1"
        ],
        [
         "21",
         "ABBV",
         "AbbVie",
         "ABBV",
         "ticker",
         "100.0",
         "Been looking at dividened stocks and ABBV caught my eye.",
         "397",
         "submission_title",
         "397",
         "0"
        ],
        [
         "22",
         "KEY",
         "KeyCorp",
         "KeyCorp",
         "name",
         "100.0",
         "KeyCorp",
         "405",
         "submission_title",
         "405",
         "0"
        ],
        [
         "23",
         "TECH",
         "Bio-Techne",
         "Bio-Tech",
         "name",
         "88.88888888888889",
         "Bio-Tech DD",
         "420",
         "submission_title",
         "420",
         "0"
        ],
        [
         "24",
         "TSLA",
         "Tesla, Inc.",
         "TSLA",
         "ticker",
         "100.0",
         "TSLA",
         "426",
         "submission_title",
         "426",
         "0"
        ],
        [
         "25",
         "BAC",
         "Bank of America",
         "BAC",
         "ticker",
         "100.0",
         "BAC",
         "439",
         "submission_title",
         "439",
         "0"
        ],
        [
         "26",
         "NVDA",
         "Nvidia",
         "Nvidia",
         "name",
         "100.0",
         "Nvidia",
         "440",
         "submission_title",
         "440",
         "0"
        ],
        [
         "27",
         "NFLX",
         "Netflix",
         "NFLX",
         "ticker",
         "100.0",
         "NFLX up 8% after hours",
         "444",
         "submission_title",
         "444",
         "1"
        ],
        [
         "28",
         "AMD",
         "Advanced Micro Devices",
         "AMD",
         "ticker",
         "100.0",
         "Why has AMD stock being going down?",
         "447",
         "submission_title",
         "447",
         "0"
        ],
        [
         "29",
         "AMD",
         "Advanced Micro Devices",
         "AMD",
         "ticker",
         "100.0",
         "AMD is it time to pull the plug?",
         "460",
         "submission_title",
         "460",
         "-1"
        ],
        [
         "30",
         "TSLA",
         "Tesla, Inc.",
         "TSLA",
         "ticker",
         "100.0",
         "Should I jump on the ballooning TSLA stocks?",
         "467",
         "submission_title",
         "467",
         "0"
        ],
        [
         "31",
         "TAP",
         "Molson Coors Beverage Company",
         "tap",
         "ticker",
         "100.0",
         "How long is the S&amp;P going to tap against 2275?",
         "490",
         "submission_title",
         "490",
         "0"
        ],
        [
         "32",
         "CSCO",
         "Cisco",
         "Cisco",
         "name",
         "100.0",
         "Cisco since Avaya filing bankruptcy?",
         "518",
         "submission_title",
         "518",
         "1"
        ],
        [
         "33",
         "AMD",
         "Advanced Micro Devices",
         "amd",
         "ticker",
         "100.0",
         "Is amd dropping due to being overbought?",
         "528",
         "submission_title",
         "528",
         "-1"
        ],
        [
         "34",
         "BALL",
         "Ball Corporation",
         "ball",
         "ticker",
         "100.0",
         "China can make ball point pens, what are the effects in stocks of companies involved?",
         "535",
         "submission_title",
         "535",
         "-1"
        ],
        [
         "35",
         "QCOM",
         "Qualcomm",
         "Qualcomm",
         "name",
         "100.0",
         "Qualcomm took another hit",
         "536",
         "submission_title",
         "536",
         "-1"
        ],
        [
         "36",
         "NFLX",
         "Netflix",
         "Netflix,",
         "name",
         "93.33333333333333",
         "Netflix, Inc. (NASDAQ:NFLX) Quarterly EPS Set At $0.425",
         "537",
         "submission_title",
         "537",
         "0"
        ],
        [
         "37",
         "NFLX",
         "Netflix",
         "Netflix",
         "name",
         "100.0",
         "Netflix CEO explains why his company keeps growing",
         "539",
         "submission_title",
         "539",
         "1"
        ],
        [
         "38",
         "QCOM",
         "Qualcomm",
         "Qualcomm;",
         "name",
         "94.11764705882352",
         "Apple Sues Qualcomm; Company's Legal Woes Begin To Pile Up",
         "540",
         "submission_title",
         "540",
         "-1"
        ],
        [
         "39",
         "AMD",
         "Advanced Micro Devices",
         "AMD",
         "ticker",
         "100.0",
         "AMD stock had a great run in 2016, but the stock may not be able to repeat its performance in 2017.",
         "555",
         "submission_title",
         "555",
         "-1"
        ],
        [
         "40",
         "GLW",
         "Corning Inc.",
         "GLW",
         "ticker",
         "100.0",
         "GLW doesnt get enough love here",
         "565",
         "submission_title",
         "565",
         "1"
        ],
        [
         "41",
         "GILD",
         "Gilead Sciences",
         "GILD",
         "ticker",
         "100.0",
         "WTF GILD ?",
         "574",
         "submission_title",
         "574",
         "-1"
        ],
        [
         "42",
         "DOW",
         "Dow Inc.",
         "Dow",
         "ticker",
         "100.0",
         "Dow index hits 20k!",
         "590",
         "submission_title",
         "590",
         "1"
        ],
        [
         "43",
         "IBM",
         "IBM",
         "$IBM",
         "name",
         "85.71428571428572",
         "Taking $IBM and $NFLX to the bank this morning",
         "593",
         "submission_title",
         "593",
         "1"
        ],
        [
         "44",
         "YUM",
         "Yum! Brands",
         "Yum",
         "ticker",
         "100.0",
         "Would a temporary Yum investment be wise?",
         "638",
         "submission_title",
         "638",
         "0"
        ],
        [
         "45",
         "STZ",
         "Constellation Brands",
         "STZ",
         "ticker",
         "100.0",
         "STZ",
         "641",
         "submission_title",
         "641",
         "0"
        ],
        [
         "46",
         "EBAY",
         "eBay Inc.",
         "eBay",
         "ticker",
         "100.0",
         "Is eBay worth buying after they jumped up?",
         "652",
         "submission_title",
         "652",
         "0"
        ],
        [
         "47",
         "DOW",
         "Dow Inc.",
         "DOW",
         "ticker",
         "100.0",
         "DOW overvalued?",
         "653",
         "submission_title",
         "653",
         "-1"
        ],
        [
         "48",
         "AMZN",
         "Amazon",
         "Amazon",
         "name",
         "100.0",
         "Invest in Google, Amazon or ETF?",
         "657",
         "submission_title",
         "657",
         "0"
        ],
        [
         "49",
         "SBUX",
         "Starbucks",
         "SBUX",
         "ticker",
         "100.0",
         "SBUX caught in No Man's Land",
         "660",
         "submission_title",
         "660",
         "-1"
        ]
       ],
       "shape": {
        "columns": 10,
        "rows": 499
       }
      },
      "text/html": [
       "<div>\n",
       "<style scoped>\n",
       "    .dataframe tbody tr th:only-of-type {\n",
       "        vertical-align: middle;\n",
       "    }\n",
       "\n",
       "    .dataframe tbody tr th {\n",
       "        vertical-align: top;\n",
       "    }\n",
       "\n",
       "    .dataframe thead th {\n",
       "        text-align: right;\n",
       "    }\n",
       "</style>\n",
       "<table border=\"1\" class=\"dataframe\">\n",
       "  <thead>\n",
       "    <tr style=\"text-align: right;\">\n",
       "      <th></th>\n",
       "      <th>ticker</th>\n",
       "      <th>company_name</th>\n",
       "      <th>original_word</th>\n",
       "      <th>match_type</th>\n",
       "      <th>match_score</th>\n",
       "      <th>text</th>\n",
       "      <th>text_index</th>\n",
       "      <th>origin</th>\n",
       "      <th>original_index</th>\n",
       "      <th>score</th>\n",
       "    </tr>\n",
       "  </thead>\n",
       "  <tbody>\n",
       "    <tr>\n",
       "      <th>0</th>\n",
       "      <td>AAPL</td>\n",
       "      <td>Apple Inc.</td>\n",
       "      <td>AAPL</td>\n",
       "      <td>ticker</td>\n",
       "      <td>100.0</td>\n",
       "      <td>Selling my AAPL position because of Itunes/App...</td>\n",
       "      <td>0</td>\n",
       "      <td>submission_title</td>\n",
       "      <td>0</td>\n",
       "      <td>-1</td>\n",
       "    </tr>\n",
       "    <tr>\n",
       "      <th>1</th>\n",
       "      <td>LEN</td>\n",
       "      <td>Lennar</td>\n",
       "      <td>Lennar</td>\n",
       "      <td>name</td>\n",
       "      <td>100.0</td>\n",
       "      <td>Thoughts on long-term position for Lennar Corp...</td>\n",
       "      <td>30</td>\n",
       "      <td>submission_title</td>\n",
       "      <td>30</td>\n",
       "      <td>0</td>\n",
       "    </tr>\n",
       "    <tr>\n",
       "      <th>2</th>\n",
       "      <td>AMD</td>\n",
       "      <td>Advanced Micro Devices</td>\n",
       "      <td>AMD</td>\n",
       "      <td>ticker</td>\n",
       "      <td>100.0</td>\n",
       "      <td>Why can't I find the AMD Annual Report for 2016</td>\n",
       "      <td>40</td>\n",
       "      <td>submission_title</td>\n",
       "      <td>40</td>\n",
       "      <td>0</td>\n",
       "    </tr>\n",
       "    <tr>\n",
       "      <th>3</th>\n",
       "      <td>TSLA</td>\n",
       "      <td>Tesla, Inc.</td>\n",
       "      <td>TSLA</td>\n",
       "      <td>ticker</td>\n",
       "      <td>100.0</td>\n",
       "      <td>What is happening to TSLA stock?</td>\n",
       "      <td>65</td>\n",
       "      <td>submission_title</td>\n",
       "      <td>65</td>\n",
       "      <td>0</td>\n",
       "    </tr>\n",
       "    <tr>\n",
       "      <th>4</th>\n",
       "      <td>HLT</td>\n",
       "      <td>Hilton Worldwide</td>\n",
       "      <td>HLT</td>\n",
       "      <td>ticker</td>\n",
       "      <td>100.0</td>\n",
       "      <td>My position in HLT has split into different sy...</td>\n",
       "      <td>71</td>\n",
       "      <td>submission_title</td>\n",
       "      <td>71</td>\n",
       "      <td>0</td>\n",
       "    </tr>\n",
       "    <tr>\n",
       "      <th>...</th>\n",
       "      <td>...</td>\n",
       "      <td>...</td>\n",
       "      <td>...</td>\n",
       "      <td>...</td>\n",
       "      <td>...</td>\n",
       "      <td>...</td>\n",
       "      <td>...</td>\n",
       "      <td>...</td>\n",
       "      <td>...</td>\n",
       "      <td>...</td>\n",
       "    </tr>\n",
       "    <tr>\n",
       "      <th>495</th>\n",
       "      <td>QCOM</td>\n",
       "      <td>Qualcomm</td>\n",
       "      <td>QCOM</td>\n",
       "      <td>ticker</td>\n",
       "      <td>100.0</td>\n",
       "      <td>Prediction: Massive dump of QCOM after earning...</td>\n",
       "      <td>5634</td>\n",
       "      <td>submission_title</td>\n",
       "      <td>5634</td>\n",
       "      <td>-1</td>\n",
       "    </tr>\n",
       "    <tr>\n",
       "      <th>496</th>\n",
       "      <td>WEC</td>\n",
       "      <td>WEC Energy Group</td>\n",
       "      <td>WEC</td>\n",
       "      <td>ticker</td>\n",
       "      <td>100.0</td>\n",
       "      <td>WEC 2nd Quarter Earnings Report Speculation</td>\n",
       "      <td>5656</td>\n",
       "      <td>submission_title</td>\n",
       "      <td>5656</td>\n",
       "      <td>0</td>\n",
       "    </tr>\n",
       "    <tr>\n",
       "      <th>497</th>\n",
       "      <td>TMUS</td>\n",
       "      <td>T-Mobile US</td>\n",
       "      <td>TMUS</td>\n",
       "      <td>ticker</td>\n",
       "      <td>100.0</td>\n",
       "      <td>TMUS Earnings thread</td>\n",
       "      <td>5659</td>\n",
       "      <td>submission_title</td>\n",
       "      <td>5659</td>\n",
       "      <td>0</td>\n",
       "    </tr>\n",
       "    <tr>\n",
       "      <th>498</th>\n",
       "      <td>MSFT</td>\n",
       "      <td>Microsoft</td>\n",
       "      <td>Microsoft</td>\n",
       "      <td>name</td>\n",
       "      <td>100.0</td>\n",
       "      <td>Microsoft about to report - buy or short?</td>\n",
       "      <td>5671</td>\n",
       "      <td>submission_title</td>\n",
       "      <td>5671</td>\n",
       "      <td>0</td>\n",
       "    </tr>\n",
       "    <tr>\n",
       "      <th>499</th>\n",
       "      <td>MSFT</td>\n",
       "      <td>Microsoft</td>\n",
       "      <td>MSFT</td>\n",
       "      <td>ticker</td>\n",
       "      <td>100.0</td>\n",
       "      <td>Betting on MSFT</td>\n",
       "      <td>5672</td>\n",
       "      <td>submission_title</td>\n",
       "      <td>5672</td>\n",
       "      <td>1</td>\n",
       "    </tr>\n",
       "  </tbody>\n",
       "</table>\n",
       "<p>499 rows × 10 columns</p>\n",
       "</div>"
      ],
      "text/plain": [
       "    ticker            company_name original_word match_type  match_score  \\\n",
       "0     AAPL              Apple Inc.          AAPL     ticker        100.0   \n",
       "1      LEN                  Lennar        Lennar       name        100.0   \n",
       "2      AMD  Advanced Micro Devices           AMD     ticker        100.0   \n",
       "3     TSLA             Tesla, Inc.          TSLA     ticker        100.0   \n",
       "4      HLT        Hilton Worldwide           HLT     ticker        100.0   \n",
       "..     ...                     ...           ...        ...          ...   \n",
       "495   QCOM                Qualcomm          QCOM     ticker        100.0   \n",
       "496    WEC        WEC Energy Group           WEC     ticker        100.0   \n",
       "497   TMUS             T-Mobile US          TMUS     ticker        100.0   \n",
       "498   MSFT               Microsoft     Microsoft       name        100.0   \n",
       "499   MSFT               Microsoft          MSFT     ticker        100.0   \n",
       "\n",
       "                                                  text  text_index  \\\n",
       "0    Selling my AAPL position because of Itunes/App...           0   \n",
       "1    Thoughts on long-term position for Lennar Corp...          30   \n",
       "2      Why can't I find the AMD Annual Report for 2016          40   \n",
       "3                     What is happening to TSLA stock?          65   \n",
       "4    My position in HLT has split into different sy...          71   \n",
       "..                                                 ...         ...   \n",
       "495  Prediction: Massive dump of QCOM after earning...        5634   \n",
       "496        WEC 2nd Quarter Earnings Report Speculation        5656   \n",
       "497                               TMUS Earnings thread        5659   \n",
       "498          Microsoft about to report - buy or short?        5671   \n",
       "499                                    Betting on MSFT        5672   \n",
       "\n",
       "               origin  original_index  score  \n",
       "0    submission_title               0     -1  \n",
       "1    submission_title              30      0  \n",
       "2    submission_title              40      0  \n",
       "3    submission_title              65      0  \n",
       "4    submission_title              71      0  \n",
       "..                ...             ...    ...  \n",
       "495  submission_title            5634     -1  \n",
       "496  submission_title            5656      0  \n",
       "497  submission_title            5659      0  \n",
       "498  submission_title            5671      0  \n",
       "499  submission_title            5672      1  \n",
       "\n",
       "[499 rows x 10 columns]"
      ]
     },
     "execution_count": 107,
     "metadata": {},
     "output_type": "execute_result"
    }
   ],
   "source": [
    "reduced_stock_mentions"
   ]
  },
  {
   "cell_type": "code",
   "execution_count": 108,
   "metadata": {},
   "outputs": [
    {
     "data": {
      "application/vnd.microsoft.datawrangler.viewer.v0+json": {
       "columns": [
        {
         "name": "index",
         "rawType": "int64",
         "type": "integer"
        },
        {
         "name": "ticker",
         "rawType": "object",
         "type": "string"
        },
        {
         "name": "company_name",
         "rawType": "object",
         "type": "string"
        },
        {
         "name": "original_word",
         "rawType": "object",
         "type": "string"
        },
        {
         "name": "match_type",
         "rawType": "object",
         "type": "string"
        },
        {
         "name": "match_score",
         "rawType": "float64",
         "type": "float"
        },
        {
         "name": "text",
         "rawType": "object",
         "type": "string"
        },
        {
         "name": "text_index",
         "rawType": "int64",
         "type": "integer"
        },
        {
         "name": "origin",
         "rawType": "object",
         "type": "string"
        },
        {
         "name": "original_index",
         "rawType": "int64",
         "type": "integer"
        },
        {
         "name": "score",
         "rawType": "int64",
         "type": "integer"
        },
        {
         "name": "system_text",
         "rawType": "object",
         "type": "string"
        }
       ],
       "conversionMethod": "pd.DataFrame",
       "ref": "58c50a1f-82e3-49e0-a0fd-465465bc25b4",
       "rows": [
        [
         "0",
         "AAPL",
         "Apple Inc.",
         "AAPL",
         "ticker",
         "100.0",
         "Selling my AAPL position because of Itunes/AppleTV",
         "0",
         "submission_title",
         "0",
         "-1",
         "You need to act as an expert linguist, trader and researcher, read the reddit comment, and classify wether the comment is bullish or bearish about the ticker: AAPL. Your answer should be 1 if the comment is positive about AAPL, -1 if it is negative, and 0 if it is neutral. Do not reply to the comment, just classify it."
        ],
        [
         "1",
         "LEN",
         "Lennar",
         "Lennar",
         "name",
         "100.0",
         "Thoughts on long-term position for Lennar Corp (LEN) and for the homebuilding industry in general?",
         "30",
         "submission_title",
         "30",
         "0",
         "You need to act as an expert linguist, trader and researcher, read the reddit comment, and classify wether the comment is bullish or bearish about the ticker: LEN. Your answer should be 1 if the comment is positive about LEN, -1 if it is negative, and 0 if it is neutral. Do not reply to the comment, just classify it."
        ],
        [
         "2",
         "AMD",
         "Advanced Micro Devices",
         "AMD",
         "ticker",
         "100.0",
         "Why can't I find the AMD Annual Report for 2016",
         "40",
         "submission_title",
         "40",
         "0",
         "You need to act as an expert linguist, trader and researcher, read the reddit comment, and classify wether the comment is bullish or bearish about the ticker: AMD. Your answer should be 1 if the comment is positive about AMD, -1 if it is negative, and 0 if it is neutral. Do not reply to the comment, just classify it."
        ],
        [
         "3",
         "TSLA",
         "Tesla, Inc.",
         "TSLA",
         "ticker",
         "100.0",
         "What is happening to TSLA stock?",
         "65",
         "submission_title",
         "65",
         "0",
         "You need to act as an expert linguist, trader and researcher, read the reddit comment, and classify wether the comment is bullish or bearish about the ticker: TSLA. Your answer should be 1 if the comment is positive about TSLA, -1 if it is negative, and 0 if it is neutral. Do not reply to the comment, just classify it."
        ],
        [
         "4",
         "HLT",
         "Hilton Worldwide",
         "HLT",
         "ticker",
         "100.0",
         "My position in HLT has split into different symbols",
         "71",
         "submission_title",
         "71",
         "0",
         "You need to act as an expert linguist, trader and researcher, read the reddit comment, and classify wether the comment is bullish or bearish about the ticker: HLT. Your answer should be 1 if the comment is positive about HLT, -1 if it is negative, and 0 if it is neutral. Do not reply to the comment, just classify it."
        ],
        [
         "5",
         "DOW",
         "Dow Inc.",
         "DOW",
         "ticker",
         "100.0",
         "So... No more DOW 20,000?",
         "98",
         "submission_title",
         "98",
         "-1",
         "You need to act as an expert linguist, trader and researcher, read the reddit comment, and classify wether the comment is bullish or bearish about the ticker: DOW. Your answer should be 1 if the comment is positive about DOW, -1 if it is negative, and 0 if it is neutral. Do not reply to the comment, just classify it."
        ],
        [
         "6",
         "AMD",
         "Advanced Micro Devices",
         "AMD",
         "ticker",
         "100.0",
         "All things AMD are looking good today at CES. So why is it down?",
         "102",
         "submission_title",
         "102",
         "-1",
         "You need to act as an expert linguist, trader and researcher, read the reddit comment, and classify wether the comment is bullish or bearish about the ticker: AMD. Your answer should be 1 if the comment is positive about AMD, -1 if it is negative, and 0 if it is neutral. Do not reply to the comment, just classify it."
        ],
        [
         "7",
         "STZ",
         "Constellation Brands",
         "stz",
         "ticker",
         "100.0",
         "Confusion on stz today",
         "103",
         "submission_title",
         "103",
         "0",
         "You need to act as an expert linguist, trader and researcher, read the reddit comment, and classify wether the comment is bullish or bearish about the ticker: STZ. Your answer should be 1 if the comment is positive about STZ, -1 if it is negative, and 0 if it is neutral. Do not reply to the comment, just classify it."
        ],
        [
         "8",
         "GOOGL",
         "Alphabet Inc. (Class A)",
         "Google",
         "ticker",
         "90.9090909090909",
         "Google is an ETF",
         "107",
         "submission_title",
         "107",
         "-1",
         "You need to act as an expert linguist, trader and researcher, read the reddit comment, and classify wether the comment is bullish or bearish about the ticker: GOOGL. Your answer should be 1 if the comment is positive about GOOGL, -1 if it is negative, and 0 if it is neutral. Do not reply to the comment, just classify it."
        ],
        [
         "9",
         "FSLR",
         "First Solar",
         "FSLR",
         "ticker",
         "100.0",
         "FSLR -- Should I 'hold' or 'sell' my share of First Solar",
         "134",
         "submission_title",
         "134",
         "0",
         "You need to act as an expert linguist, trader and researcher, read the reddit comment, and classify wether the comment is bullish or bearish about the ticker: FSLR. Your answer should be 1 if the comment is positive about FSLR, -1 if it is negative, and 0 if it is neutral. Do not reply to the comment, just classify it."
        ],
        [
         "10",
         "NVDA",
         "Nvidia",
         "NVDA",
         "ticker",
         "100.0",
         "NVDA",
         "181",
         "submission_title",
         "181",
         "0",
         "You need to act as an expert linguist, trader and researcher, read the reddit comment, and classify wether the comment is bullish or bearish about the ticker: NVDA. Your answer should be 1 if the comment is positive about NVDA, -1 if it is negative, and 0 if it is neutral. Do not reply to the comment, just classify it."
        ],
        [
         "11",
         "NVDA",
         "Nvidia",
         "NVDA",
         "ticker",
         "100.0",
         "95% on NVDA call from last week",
         "193",
         "submission_title",
         "193",
         "1",
         "You need to act as an expert linguist, trader and researcher, read the reddit comment, and classify wether the comment is bullish or bearish about the ticker: NVDA. Your answer should be 1 if the comment is positive about NVDA, -1 if it is negative, and 0 if it is neutral. Do not reply to the comment, just classify it."
        ],
        [
         "12",
         "SBUX",
         "Starbucks",
         "Starbucks",
         "name",
         "100.0",
         "Using my Starbucks stock employee discount",
         "202",
         "submission_title",
         "202",
         "0",
         "You need to act as an expert linguist, trader and researcher, read the reddit comment, and classify wether the comment is bullish or bearish about the ticker: SBUX. Your answer should be 1 if the comment is positive about SBUX, -1 if it is negative, and 0 if it is neutral. Do not reply to the comment, just classify it."
        ],
        [
         "13",
         "MSFT",
         "Microsoft",
         "Microsoft",
         "name",
         "100.0",
         "Will Microsoft Corporation Stock Continue To Rally?",
         "234",
         "submission_title",
         "234",
         "0",
         "You need to act as an expert linguist, trader and researcher, read the reddit comment, and classify wether the comment is bullish or bearish about the ticker: MSFT. Your answer should be 1 if the comment is positive about MSFT, -1 if it is negative, and 0 if it is neutral. Do not reply to the comment, just classify it."
        ],
        [
         "14",
         "GOOGL",
         "Alphabet Inc. (Class A)",
         "Google",
         "ticker",
         "90.9090909090909",
         "\"Ross\" from Warrior Trading is spamming the hell out of my Google ads. He must be spending a fortune on advertising. Anyone else notice this?",
         "247",
         "submission_title",
         "247",
         "0",
         "You need to act as an expert linguist, trader and researcher, read the reddit comment, and classify wether the comment is bullish or bearish about the ticker: GOOGL. Your answer should be 1 if the comment is positive about GOOGL, -1 if it is negative, and 0 if it is neutral. Do not reply to the comment, just classify it."
        ],
        [
         "15",
         "CRM",
         "Salesforce",
         "CRM",
         "ticker",
         "100.0",
         "FB, AAPL, or CRM",
         "251",
         "submission_title",
         "251",
         "0",
         "You need to act as an expert linguist, trader and researcher, read the reddit comment, and classify wether the comment is bullish or bearish about the ticker: CRM. Your answer should be 1 if the comment is positive about CRM, -1 if it is negative, and 0 if it is neutral. Do not reply to the comment, just classify it."
        ],
        [
         "16",
         "BAC",
         "Bank of America",
         "BAC",
         "ticker",
         "100.0",
         "Is BAC and BP a good buy for long term investment?",
         "265",
         "submission_title",
         "265",
         "0",
         "You need to act as an expert linguist, trader and researcher, read the reddit comment, and classify wether the comment is bullish or bearish about the ticker: BAC. Your answer should be 1 if the comment is positive about BAC, -1 if it is negative, and 0 if it is neutral. Do not reply to the comment, just classify it."
        ],
        [
         "17",
         "SBUX",
         "Starbucks",
         "Starbucks",
         "name",
         "100.0",
         "Starbucks RSU questions.",
         "269",
         "submission_title",
         "269",
         "0",
         "You need to act as an expert linguist, trader and researcher, read the reddit comment, and classify wether the comment is bullish or bearish about the ticker: SBUX. Your answer should be 1 if the comment is positive about SBUX, -1 if it is negative, and 0 if it is neutral. Do not reply to the comment, just classify it."
        ],
        [
         "18",
         "SBUX",
         "Starbucks",
         "SBUX",
         "ticker",
         "100.0",
         "SBUX Earnings - Question",
         "294",
         "submission_title",
         "294",
         "0",
         "You need to act as an expert linguist, trader and researcher, read the reddit comment, and classify wether the comment is bullish or bearish about the ticker: SBUX. Your answer should be 1 if the comment is positive about SBUX, -1 if it is negative, and 0 if it is neutral. Do not reply to the comment, just classify it."
        ],
        [
         "19",
         "BAC",
         "Bank of America",
         "BAC",
         "ticker",
         "100.0",
         "BAC",
         "338",
         "submission_title",
         "338",
         "0",
         "You need to act as an expert linguist, trader and researcher, read the reddit comment, and classify wether the comment is bullish or bearish about the ticker: BAC. Your answer should be 1 if the comment is positive about BAC, -1 if it is negative, and 0 if it is neutral. Do not reply to the comment, just classify it."
        ],
        [
         "20",
         "AMD",
         "Advanced Micro Devices",
         "AMD",
         "ticker",
         "100.0",
         "I bought into the AMD hype like an idiot, and have lost 15 dollars so far. Should I cut my losses and sell?",
         "340",
         "submission_title",
         "340",
         "-1",
         "You need to act as an expert linguist, trader and researcher, read the reddit comment, and classify wether the comment is bullish or bearish about the ticker: AMD. Your answer should be 1 if the comment is positive about AMD, -1 if it is negative, and 0 if it is neutral. Do not reply to the comment, just classify it."
        ],
        [
         "21",
         "ABBV",
         "AbbVie",
         "ABBV",
         "ticker",
         "100.0",
         "Been looking at dividened stocks and ABBV caught my eye.",
         "397",
         "submission_title",
         "397",
         "0",
         "You need to act as an expert linguist, trader and researcher, read the reddit comment, and classify wether the comment is bullish or bearish about the ticker: ABBV. Your answer should be 1 if the comment is positive about ABBV, -1 if it is negative, and 0 if it is neutral. Do not reply to the comment, just classify it."
        ],
        [
         "22",
         "KEY",
         "KeyCorp",
         "KeyCorp",
         "name",
         "100.0",
         "KeyCorp",
         "405",
         "submission_title",
         "405",
         "0",
         "You need to act as an expert linguist, trader and researcher, read the reddit comment, and classify wether the comment is bullish or bearish about the ticker: KEY. Your answer should be 1 if the comment is positive about KEY, -1 if it is negative, and 0 if it is neutral. Do not reply to the comment, just classify it."
        ],
        [
         "23",
         "TECH",
         "Bio-Techne",
         "Bio-Tech",
         "name",
         "88.88888888888889",
         "Bio-Tech DD",
         "420",
         "submission_title",
         "420",
         "0",
         "You need to act as an expert linguist, trader and researcher, read the reddit comment, and classify wether the comment is bullish or bearish about the ticker: TECH. Your answer should be 1 if the comment is positive about TECH, -1 if it is negative, and 0 if it is neutral. Do not reply to the comment, just classify it."
        ],
        [
         "24",
         "TSLA",
         "Tesla, Inc.",
         "TSLA",
         "ticker",
         "100.0",
         "TSLA",
         "426",
         "submission_title",
         "426",
         "0",
         "You need to act as an expert linguist, trader and researcher, read the reddit comment, and classify wether the comment is bullish or bearish about the ticker: TSLA. Your answer should be 1 if the comment is positive about TSLA, -1 if it is negative, and 0 if it is neutral. Do not reply to the comment, just classify it."
        ],
        [
         "25",
         "BAC",
         "Bank of America",
         "BAC",
         "ticker",
         "100.0",
         "BAC",
         "439",
         "submission_title",
         "439",
         "0",
         "You need to act as an expert linguist, trader and researcher, read the reddit comment, and classify wether the comment is bullish or bearish about the ticker: BAC. Your answer should be 1 if the comment is positive about BAC, -1 if it is negative, and 0 if it is neutral. Do not reply to the comment, just classify it."
        ],
        [
         "26",
         "NVDA",
         "Nvidia",
         "Nvidia",
         "name",
         "100.0",
         "Nvidia",
         "440",
         "submission_title",
         "440",
         "0",
         "You need to act as an expert linguist, trader and researcher, read the reddit comment, and classify wether the comment is bullish or bearish about the ticker: NVDA. Your answer should be 1 if the comment is positive about NVDA, -1 if it is negative, and 0 if it is neutral. Do not reply to the comment, just classify it."
        ],
        [
         "27",
         "NFLX",
         "Netflix",
         "NFLX",
         "ticker",
         "100.0",
         "NFLX up 8% after hours",
         "444",
         "submission_title",
         "444",
         "1",
         "You need to act as an expert linguist, trader and researcher, read the reddit comment, and classify wether the comment is bullish or bearish about the ticker: NFLX. Your answer should be 1 if the comment is positive about NFLX, -1 if it is negative, and 0 if it is neutral. Do not reply to the comment, just classify it."
        ],
        [
         "28",
         "AMD",
         "Advanced Micro Devices",
         "AMD",
         "ticker",
         "100.0",
         "Why has AMD stock being going down?",
         "447",
         "submission_title",
         "447",
         "0",
         "You need to act as an expert linguist, trader and researcher, read the reddit comment, and classify wether the comment is bullish or bearish about the ticker: AMD. Your answer should be 1 if the comment is positive about AMD, -1 if it is negative, and 0 if it is neutral. Do not reply to the comment, just classify it."
        ],
        [
         "29",
         "AMD",
         "Advanced Micro Devices",
         "AMD",
         "ticker",
         "100.0",
         "AMD is it time to pull the plug?",
         "460",
         "submission_title",
         "460",
         "-1",
         "You need to act as an expert linguist, trader and researcher, read the reddit comment, and classify wether the comment is bullish or bearish about the ticker: AMD. Your answer should be 1 if the comment is positive about AMD, -1 if it is negative, and 0 if it is neutral. Do not reply to the comment, just classify it."
        ],
        [
         "30",
         "TSLA",
         "Tesla, Inc.",
         "TSLA",
         "ticker",
         "100.0",
         "Should I jump on the ballooning TSLA stocks?",
         "467",
         "submission_title",
         "467",
         "0",
         "You need to act as an expert linguist, trader and researcher, read the reddit comment, and classify wether the comment is bullish or bearish about the ticker: TSLA. Your answer should be 1 if the comment is positive about TSLA, -1 if it is negative, and 0 if it is neutral. Do not reply to the comment, just classify it."
        ],
        [
         "31",
         "TAP",
         "Molson Coors Beverage Company",
         "tap",
         "ticker",
         "100.0",
         "How long is the S&amp;P going to tap against 2275?",
         "490",
         "submission_title",
         "490",
         "0",
         "You need to act as an expert linguist, trader and researcher, read the reddit comment, and classify wether the comment is bullish or bearish about the ticker: TAP. Your answer should be 1 if the comment is positive about TAP, -1 if it is negative, and 0 if it is neutral. Do not reply to the comment, just classify it."
        ],
        [
         "32",
         "CSCO",
         "Cisco",
         "Cisco",
         "name",
         "100.0",
         "Cisco since Avaya filing bankruptcy?",
         "518",
         "submission_title",
         "518",
         "1",
         "You need to act as an expert linguist, trader and researcher, read the reddit comment, and classify wether the comment is bullish or bearish about the ticker: CSCO. Your answer should be 1 if the comment is positive about CSCO, -1 if it is negative, and 0 if it is neutral. Do not reply to the comment, just classify it."
        ],
        [
         "33",
         "AMD",
         "Advanced Micro Devices",
         "amd",
         "ticker",
         "100.0",
         "Is amd dropping due to being overbought?",
         "528",
         "submission_title",
         "528",
         "-1",
         "You need to act as an expert linguist, trader and researcher, read the reddit comment, and classify wether the comment is bullish or bearish about the ticker: AMD. Your answer should be 1 if the comment is positive about AMD, -1 if it is negative, and 0 if it is neutral. Do not reply to the comment, just classify it."
        ],
        [
         "34",
         "BALL",
         "Ball Corporation",
         "ball",
         "ticker",
         "100.0",
         "China can make ball point pens, what are the effects in stocks of companies involved?",
         "535",
         "submission_title",
         "535",
         "-1",
         "You need to act as an expert linguist, trader and researcher, read the reddit comment, and classify wether the comment is bullish or bearish about the ticker: BALL. Your answer should be 1 if the comment is positive about BALL, -1 if it is negative, and 0 if it is neutral. Do not reply to the comment, just classify it."
        ],
        [
         "35",
         "QCOM",
         "Qualcomm",
         "Qualcomm",
         "name",
         "100.0",
         "Qualcomm took another hit",
         "536",
         "submission_title",
         "536",
         "-1",
         "You need to act as an expert linguist, trader and researcher, read the reddit comment, and classify wether the comment is bullish or bearish about the ticker: QCOM. Your answer should be 1 if the comment is positive about QCOM, -1 if it is negative, and 0 if it is neutral. Do not reply to the comment, just classify it."
        ],
        [
         "36",
         "NFLX",
         "Netflix",
         "Netflix,",
         "name",
         "93.33333333333333",
         "Netflix, Inc. (NASDAQ:NFLX) Quarterly EPS Set At $0.425",
         "537",
         "submission_title",
         "537",
         "0",
         "You need to act as an expert linguist, trader and researcher, read the reddit comment, and classify wether the comment is bullish or bearish about the ticker: NFLX. Your answer should be 1 if the comment is positive about NFLX, -1 if it is negative, and 0 if it is neutral. Do not reply to the comment, just classify it."
        ],
        [
         "37",
         "NFLX",
         "Netflix",
         "Netflix",
         "name",
         "100.0",
         "Netflix CEO explains why his company keeps growing",
         "539",
         "submission_title",
         "539",
         "1",
         "You need to act as an expert linguist, trader and researcher, read the reddit comment, and classify wether the comment is bullish or bearish about the ticker: NFLX. Your answer should be 1 if the comment is positive about NFLX, -1 if it is negative, and 0 if it is neutral. Do not reply to the comment, just classify it."
        ],
        [
         "38",
         "QCOM",
         "Qualcomm",
         "Qualcomm;",
         "name",
         "94.11764705882352",
         "Apple Sues Qualcomm; Company's Legal Woes Begin To Pile Up",
         "540",
         "submission_title",
         "540",
         "-1",
         "You need to act as an expert linguist, trader and researcher, read the reddit comment, and classify wether the comment is bullish or bearish about the ticker: QCOM. Your answer should be 1 if the comment is positive about QCOM, -1 if it is negative, and 0 if it is neutral. Do not reply to the comment, just classify it."
        ],
        [
         "39",
         "AMD",
         "Advanced Micro Devices",
         "AMD",
         "ticker",
         "100.0",
         "AMD stock had a great run in 2016, but the stock may not be able to repeat its performance in 2017.",
         "555",
         "submission_title",
         "555",
         "-1",
         "You need to act as an expert linguist, trader and researcher, read the reddit comment, and classify wether the comment is bullish or bearish about the ticker: AMD. Your answer should be 1 if the comment is positive about AMD, -1 if it is negative, and 0 if it is neutral. Do not reply to the comment, just classify it."
        ],
        [
         "40",
         "GLW",
         "Corning Inc.",
         "GLW",
         "ticker",
         "100.0",
         "GLW doesnt get enough love here",
         "565",
         "submission_title",
         "565",
         "1",
         "You need to act as an expert linguist, trader and researcher, read the reddit comment, and classify wether the comment is bullish or bearish about the ticker: GLW. Your answer should be 1 if the comment is positive about GLW, -1 if it is negative, and 0 if it is neutral. Do not reply to the comment, just classify it."
        ],
        [
         "41",
         "GILD",
         "Gilead Sciences",
         "GILD",
         "ticker",
         "100.0",
         "WTF GILD ?",
         "574",
         "submission_title",
         "574",
         "-1",
         "You need to act as an expert linguist, trader and researcher, read the reddit comment, and classify wether the comment is bullish or bearish about the ticker: GILD. Your answer should be 1 if the comment is positive about GILD, -1 if it is negative, and 0 if it is neutral. Do not reply to the comment, just classify it."
        ],
        [
         "42",
         "DOW",
         "Dow Inc.",
         "Dow",
         "ticker",
         "100.0",
         "Dow index hits 20k!",
         "590",
         "submission_title",
         "590",
         "1",
         "You need to act as an expert linguist, trader and researcher, read the reddit comment, and classify wether the comment is bullish or bearish about the ticker: DOW. Your answer should be 1 if the comment is positive about DOW, -1 if it is negative, and 0 if it is neutral. Do not reply to the comment, just classify it."
        ],
        [
         "43",
         "IBM",
         "IBM",
         "$IBM",
         "name",
         "85.71428571428572",
         "Taking $IBM and $NFLX to the bank this morning",
         "593",
         "submission_title",
         "593",
         "1",
         "You need to act as an expert linguist, trader and researcher, read the reddit comment, and classify wether the comment is bullish or bearish about the ticker: IBM. Your answer should be 1 if the comment is positive about IBM, -1 if it is negative, and 0 if it is neutral. Do not reply to the comment, just classify it."
        ],
        [
         "44",
         "YUM",
         "Yum! Brands",
         "Yum",
         "ticker",
         "100.0",
         "Would a temporary Yum investment be wise?",
         "638",
         "submission_title",
         "638",
         "0",
         "You need to act as an expert linguist, trader and researcher, read the reddit comment, and classify wether the comment is bullish or bearish about the ticker: YUM. Your answer should be 1 if the comment is positive about YUM, -1 if it is negative, and 0 if it is neutral. Do not reply to the comment, just classify it."
        ],
        [
         "45",
         "STZ",
         "Constellation Brands",
         "STZ",
         "ticker",
         "100.0",
         "STZ",
         "641",
         "submission_title",
         "641",
         "0",
         "You need to act as an expert linguist, trader and researcher, read the reddit comment, and classify wether the comment is bullish or bearish about the ticker: STZ. Your answer should be 1 if the comment is positive about STZ, -1 if it is negative, and 0 if it is neutral. Do not reply to the comment, just classify it."
        ],
        [
         "46",
         "EBAY",
         "eBay Inc.",
         "eBay",
         "ticker",
         "100.0",
         "Is eBay worth buying after they jumped up?",
         "652",
         "submission_title",
         "652",
         "0",
         "You need to act as an expert linguist, trader and researcher, read the reddit comment, and classify wether the comment is bullish or bearish about the ticker: EBAY. Your answer should be 1 if the comment is positive about EBAY, -1 if it is negative, and 0 if it is neutral. Do not reply to the comment, just classify it."
        ],
        [
         "47",
         "DOW",
         "Dow Inc.",
         "DOW",
         "ticker",
         "100.0",
         "DOW overvalued?",
         "653",
         "submission_title",
         "653",
         "-1",
         "You need to act as an expert linguist, trader and researcher, read the reddit comment, and classify wether the comment is bullish or bearish about the ticker: DOW. Your answer should be 1 if the comment is positive about DOW, -1 if it is negative, and 0 if it is neutral. Do not reply to the comment, just classify it."
        ],
        [
         "48",
         "AMZN",
         "Amazon",
         "Amazon",
         "name",
         "100.0",
         "Invest in Google, Amazon or ETF?",
         "657",
         "submission_title",
         "657",
         "0",
         "You need to act as an expert linguist, trader and researcher, read the reddit comment, and classify wether the comment is bullish or bearish about the ticker: AMZN. Your answer should be 1 if the comment is positive about AMZN, -1 if it is negative, and 0 if it is neutral. Do not reply to the comment, just classify it."
        ],
        [
         "49",
         "SBUX",
         "Starbucks",
         "SBUX",
         "ticker",
         "100.0",
         "SBUX caught in No Man's Land",
         "660",
         "submission_title",
         "660",
         "-1",
         "You need to act as an expert linguist, trader and researcher, read the reddit comment, and classify wether the comment is bullish or bearish about the ticker: SBUX. Your answer should be 1 if the comment is positive about SBUX, -1 if it is negative, and 0 if it is neutral. Do not reply to the comment, just classify it."
        ]
       ],
       "shape": {
        "columns": 11,
        "rows": 499
       }
      },
      "text/html": [
       "<div>\n",
       "<style scoped>\n",
       "    .dataframe tbody tr th:only-of-type {\n",
       "        vertical-align: middle;\n",
       "    }\n",
       "\n",
       "    .dataframe tbody tr th {\n",
       "        vertical-align: top;\n",
       "    }\n",
       "\n",
       "    .dataframe thead th {\n",
       "        text-align: right;\n",
       "    }\n",
       "</style>\n",
       "<table border=\"1\" class=\"dataframe\">\n",
       "  <thead>\n",
       "    <tr style=\"text-align: right;\">\n",
       "      <th></th>\n",
       "      <th>ticker</th>\n",
       "      <th>company_name</th>\n",
       "      <th>original_word</th>\n",
       "      <th>match_type</th>\n",
       "      <th>match_score</th>\n",
       "      <th>text</th>\n",
       "      <th>text_index</th>\n",
       "      <th>origin</th>\n",
       "      <th>original_index</th>\n",
       "      <th>score</th>\n",
       "      <th>system_text</th>\n",
       "    </tr>\n",
       "  </thead>\n",
       "  <tbody>\n",
       "    <tr>\n",
       "      <th>0</th>\n",
       "      <td>AAPL</td>\n",
       "      <td>Apple Inc.</td>\n",
       "      <td>AAPL</td>\n",
       "      <td>ticker</td>\n",
       "      <td>100.0</td>\n",
       "      <td>Selling my AAPL position because of Itunes/App...</td>\n",
       "      <td>0</td>\n",
       "      <td>submission_title</td>\n",
       "      <td>0</td>\n",
       "      <td>-1</td>\n",
       "      <td>You need to act as an expert linguist, trader ...</td>\n",
       "    </tr>\n",
       "    <tr>\n",
       "      <th>1</th>\n",
       "      <td>LEN</td>\n",
       "      <td>Lennar</td>\n",
       "      <td>Lennar</td>\n",
       "      <td>name</td>\n",
       "      <td>100.0</td>\n",
       "      <td>Thoughts on long-term position for Lennar Corp...</td>\n",
       "      <td>30</td>\n",
       "      <td>submission_title</td>\n",
       "      <td>30</td>\n",
       "      <td>0</td>\n",
       "      <td>You need to act as an expert linguist, trader ...</td>\n",
       "    </tr>\n",
       "    <tr>\n",
       "      <th>2</th>\n",
       "      <td>AMD</td>\n",
       "      <td>Advanced Micro Devices</td>\n",
       "      <td>AMD</td>\n",
       "      <td>ticker</td>\n",
       "      <td>100.0</td>\n",
       "      <td>Why can't I find the AMD Annual Report for 2016</td>\n",
       "      <td>40</td>\n",
       "      <td>submission_title</td>\n",
       "      <td>40</td>\n",
       "      <td>0</td>\n",
       "      <td>You need to act as an expert linguist, trader ...</td>\n",
       "    </tr>\n",
       "    <tr>\n",
       "      <th>3</th>\n",
       "      <td>TSLA</td>\n",
       "      <td>Tesla, Inc.</td>\n",
       "      <td>TSLA</td>\n",
       "      <td>ticker</td>\n",
       "      <td>100.0</td>\n",
       "      <td>What is happening to TSLA stock?</td>\n",
       "      <td>65</td>\n",
       "      <td>submission_title</td>\n",
       "      <td>65</td>\n",
       "      <td>0</td>\n",
       "      <td>You need to act as an expert linguist, trader ...</td>\n",
       "    </tr>\n",
       "    <tr>\n",
       "      <th>4</th>\n",
       "      <td>HLT</td>\n",
       "      <td>Hilton Worldwide</td>\n",
       "      <td>HLT</td>\n",
       "      <td>ticker</td>\n",
       "      <td>100.0</td>\n",
       "      <td>My position in HLT has split into different sy...</td>\n",
       "      <td>71</td>\n",
       "      <td>submission_title</td>\n",
       "      <td>71</td>\n",
       "      <td>0</td>\n",
       "      <td>You need to act as an expert linguist, trader ...</td>\n",
       "    </tr>\n",
       "    <tr>\n",
       "      <th>...</th>\n",
       "      <td>...</td>\n",
       "      <td>...</td>\n",
       "      <td>...</td>\n",
       "      <td>...</td>\n",
       "      <td>...</td>\n",
       "      <td>...</td>\n",
       "      <td>...</td>\n",
       "      <td>...</td>\n",
       "      <td>...</td>\n",
       "      <td>...</td>\n",
       "      <td>...</td>\n",
       "    </tr>\n",
       "    <tr>\n",
       "      <th>495</th>\n",
       "      <td>QCOM</td>\n",
       "      <td>Qualcomm</td>\n",
       "      <td>QCOM</td>\n",
       "      <td>ticker</td>\n",
       "      <td>100.0</td>\n",
       "      <td>Prediction: Massive dump of QCOM after earning...</td>\n",
       "      <td>5634</td>\n",
       "      <td>submission_title</td>\n",
       "      <td>5634</td>\n",
       "      <td>-1</td>\n",
       "      <td>You need to act as an expert linguist, trader ...</td>\n",
       "    </tr>\n",
       "    <tr>\n",
       "      <th>496</th>\n",
       "      <td>WEC</td>\n",
       "      <td>WEC Energy Group</td>\n",
       "      <td>WEC</td>\n",
       "      <td>ticker</td>\n",
       "      <td>100.0</td>\n",
       "      <td>WEC 2nd Quarter Earnings Report Speculation</td>\n",
       "      <td>5656</td>\n",
       "      <td>submission_title</td>\n",
       "      <td>5656</td>\n",
       "      <td>0</td>\n",
       "      <td>You need to act as an expert linguist, trader ...</td>\n",
       "    </tr>\n",
       "    <tr>\n",
       "      <th>497</th>\n",
       "      <td>TMUS</td>\n",
       "      <td>T-Mobile US</td>\n",
       "      <td>TMUS</td>\n",
       "      <td>ticker</td>\n",
       "      <td>100.0</td>\n",
       "      <td>TMUS Earnings thread</td>\n",
       "      <td>5659</td>\n",
       "      <td>submission_title</td>\n",
       "      <td>5659</td>\n",
       "      <td>0</td>\n",
       "      <td>You need to act as an expert linguist, trader ...</td>\n",
       "    </tr>\n",
       "    <tr>\n",
       "      <th>498</th>\n",
       "      <td>MSFT</td>\n",
       "      <td>Microsoft</td>\n",
       "      <td>Microsoft</td>\n",
       "      <td>name</td>\n",
       "      <td>100.0</td>\n",
       "      <td>Microsoft about to report - buy or short?</td>\n",
       "      <td>5671</td>\n",
       "      <td>submission_title</td>\n",
       "      <td>5671</td>\n",
       "      <td>0</td>\n",
       "      <td>You need to act as an expert linguist, trader ...</td>\n",
       "    </tr>\n",
       "    <tr>\n",
       "      <th>499</th>\n",
       "      <td>MSFT</td>\n",
       "      <td>Microsoft</td>\n",
       "      <td>MSFT</td>\n",
       "      <td>ticker</td>\n",
       "      <td>100.0</td>\n",
       "      <td>Betting on MSFT</td>\n",
       "      <td>5672</td>\n",
       "      <td>submission_title</td>\n",
       "      <td>5672</td>\n",
       "      <td>1</td>\n",
       "      <td>You need to act as an expert linguist, trader ...</td>\n",
       "    </tr>\n",
       "  </tbody>\n",
       "</table>\n",
       "<p>499 rows × 11 columns</p>\n",
       "</div>"
      ],
      "text/plain": [
       "    ticker            company_name original_word match_type  match_score  \\\n",
       "0     AAPL              Apple Inc.          AAPL     ticker        100.0   \n",
       "1      LEN                  Lennar        Lennar       name        100.0   \n",
       "2      AMD  Advanced Micro Devices           AMD     ticker        100.0   \n",
       "3     TSLA             Tesla, Inc.          TSLA     ticker        100.0   \n",
       "4      HLT        Hilton Worldwide           HLT     ticker        100.0   \n",
       "..     ...                     ...           ...        ...          ...   \n",
       "495   QCOM                Qualcomm          QCOM     ticker        100.0   \n",
       "496    WEC        WEC Energy Group           WEC     ticker        100.0   \n",
       "497   TMUS             T-Mobile US          TMUS     ticker        100.0   \n",
       "498   MSFT               Microsoft     Microsoft       name        100.0   \n",
       "499   MSFT               Microsoft          MSFT     ticker        100.0   \n",
       "\n",
       "                                                  text  text_index  \\\n",
       "0    Selling my AAPL position because of Itunes/App...           0   \n",
       "1    Thoughts on long-term position for Lennar Corp...          30   \n",
       "2      Why can't I find the AMD Annual Report for 2016          40   \n",
       "3                     What is happening to TSLA stock?          65   \n",
       "4    My position in HLT has split into different sy...          71   \n",
       "..                                                 ...         ...   \n",
       "495  Prediction: Massive dump of QCOM after earning...        5634   \n",
       "496        WEC 2nd Quarter Earnings Report Speculation        5656   \n",
       "497                               TMUS Earnings thread        5659   \n",
       "498          Microsoft about to report - buy or short?        5671   \n",
       "499                                    Betting on MSFT        5672   \n",
       "\n",
       "               origin  original_index  score  \\\n",
       "0    submission_title               0     -1   \n",
       "1    submission_title              30      0   \n",
       "2    submission_title              40      0   \n",
       "3    submission_title              65      0   \n",
       "4    submission_title              71      0   \n",
       "..                ...             ...    ...   \n",
       "495  submission_title            5634     -1   \n",
       "496  submission_title            5656      0   \n",
       "497  submission_title            5659      0   \n",
       "498  submission_title            5671      0   \n",
       "499  submission_title            5672      1   \n",
       "\n",
       "                                           system_text  \n",
       "0    You need to act as an expert linguist, trader ...  \n",
       "1    You need to act as an expert linguist, trader ...  \n",
       "2    You need to act as an expert linguist, trader ...  \n",
       "3    You need to act as an expert linguist, trader ...  \n",
       "4    You need to act as an expert linguist, trader ...  \n",
       "..                                                 ...  \n",
       "495  You need to act as an expert linguist, trader ...  \n",
       "496  You need to act as an expert linguist, trader ...  \n",
       "497  You need to act as an expert linguist, trader ...  \n",
       "498  You need to act as an expert linguist, trader ...  \n",
       "499  You need to act as an expert linguist, trader ...  \n",
       "\n",
       "[499 rows x 11 columns]"
      ]
     },
     "execution_count": 108,
     "metadata": {},
     "output_type": "execute_result"
    }
   ],
   "source": [
    "from nlp_utils import system_text\n",
    "\n",
    "def system_row(row):\n",
    "    prompt = system_text(row['ticker'])\n",
    "    return prompt\n",
    "\n",
    "reduced_stock_mentions['system_text'] = reduced_stock_mentions.apply(system_row, axis=1)\n",
    "reduced_stock_mentions"
   ]
  },
  {
   "cell_type": "code",
   "execution_count": 109,
   "metadata": {},
   "outputs": [],
   "source": [
    "json_data = [{\"messages\": [{\"role\": \"system\", \"content\": row[\"system_text\"]}, {\"role\": \"user\", \"content\": row[\"text\"]},{\"role\": \"assistant\", \"content\": row[\"score\"]}]} for _, row in reduced_stock_mentions.iterrows()]"
   ]
  },
  {
   "cell_type": "code",
   "execution_count": 110,
   "metadata": {},
   "outputs": [
    {
     "data": {
      "application/vnd.microsoft.datawrangler.viewer.v0+json": {
       "columns": [
        {
         "name": "index",
         "rawType": "int64",
         "type": "integer"
        },
        {
         "name": "messages",
         "rawType": "object",
         "type": "unknown"
        }
       ],
       "conversionMethod": "pd.DataFrame",
       "ref": "1b468798-ed14-490b-8f1c-6ff18f56fc7b",
       "rows": [
        [
         "0",
         "[{'role': 'system', 'content': 'You need to act as an expert linguist, trader and researcher, read the reddit comment, and classify wether the comment is bullish or bearish about the ticker: AAPL. Your answer should be 1 if the comment is positive about AAPL, -1 if it is negative, and 0 if it is neutral. Do not reply to the comment, just classify it.'}, {'role': 'user', 'content': 'Selling my AAPL position because of Itunes/AppleTV'}, {'role': 'assistant', 'content': -1}]"
        ],
        [
         "1",
         "[{'role': 'system', 'content': 'You need to act as an expert linguist, trader and researcher, read the reddit comment, and classify wether the comment is bullish or bearish about the ticker: LEN. Your answer should be 1 if the comment is positive about LEN, -1 if it is negative, and 0 if it is neutral. Do not reply to the comment, just classify it.'}, {'role': 'user', 'content': 'Thoughts on long-term position for Lennar Corp (LEN) and for the homebuilding industry in general?'}, {'role': 'assistant', 'content': 0}]"
        ],
        [
         "2",
         "[{'role': 'system', 'content': 'You need to act as an expert linguist, trader and researcher, read the reddit comment, and classify wether the comment is bullish or bearish about the ticker: AMD. Your answer should be 1 if the comment is positive about AMD, -1 if it is negative, and 0 if it is neutral. Do not reply to the comment, just classify it.'}, {'role': 'user', 'content': \"Why can't I find the AMD Annual Report for 2016\"}, {'role': 'assistant', 'content': 0}]"
        ],
        [
         "3",
         "[{'role': 'system', 'content': 'You need to act as an expert linguist, trader and researcher, read the reddit comment, and classify wether the comment is bullish or bearish about the ticker: TSLA. Your answer should be 1 if the comment is positive about TSLA, -1 if it is negative, and 0 if it is neutral. Do not reply to the comment, just classify it.'}, {'role': 'user', 'content': 'What is happening to TSLA stock?'}, {'role': 'assistant', 'content': 0}]"
        ],
        [
         "4",
         "[{'role': 'system', 'content': 'You need to act as an expert linguist, trader and researcher, read the reddit comment, and classify wether the comment is bullish or bearish about the ticker: HLT. Your answer should be 1 if the comment is positive about HLT, -1 if it is negative, and 0 if it is neutral. Do not reply to the comment, just classify it.'}, {'role': 'user', 'content': 'My position in HLT has split into different symbols'}, {'role': 'assistant', 'content': 0}]"
        ],
        [
         "5",
         "[{'role': 'system', 'content': 'You need to act as an expert linguist, trader and researcher, read the reddit comment, and classify wether the comment is bullish or bearish about the ticker: DOW. Your answer should be 1 if the comment is positive about DOW, -1 if it is negative, and 0 if it is neutral. Do not reply to the comment, just classify it.'}, {'role': 'user', 'content': 'So... No more DOW 20,000?'}, {'role': 'assistant', 'content': -1}]"
        ],
        [
         "6",
         "[{'role': 'system', 'content': 'You need to act as an expert linguist, trader and researcher, read the reddit comment, and classify wether the comment is bullish or bearish about the ticker: AMD. Your answer should be 1 if the comment is positive about AMD, -1 if it is negative, and 0 if it is neutral. Do not reply to the comment, just classify it.'}, {'role': 'user', 'content': 'All things AMD are looking good today at CES. So why is it down?'}, {'role': 'assistant', 'content': -1}]"
        ],
        [
         "7",
         "[{'role': 'system', 'content': 'You need to act as an expert linguist, trader and researcher, read the reddit comment, and classify wether the comment is bullish or bearish about the ticker: STZ. Your answer should be 1 if the comment is positive about STZ, -1 if it is negative, and 0 if it is neutral. Do not reply to the comment, just classify it.'}, {'role': 'user', 'content': 'Confusion on stz today'}, {'role': 'assistant', 'content': 0}]"
        ],
        [
         "8",
         "[{'role': 'system', 'content': 'You need to act as an expert linguist, trader and researcher, read the reddit comment, and classify wether the comment is bullish or bearish about the ticker: GOOGL. Your answer should be 1 if the comment is positive about GOOGL, -1 if it is negative, and 0 if it is neutral. Do not reply to the comment, just classify it.'}, {'role': 'user', 'content': 'Google is an ETF'}, {'role': 'assistant', 'content': -1}]"
        ],
        [
         "9",
         "[{'role': 'system', 'content': 'You need to act as an expert linguist, trader and researcher, read the reddit comment, and classify wether the comment is bullish or bearish about the ticker: FSLR. Your answer should be 1 if the comment is positive about FSLR, -1 if it is negative, and 0 if it is neutral. Do not reply to the comment, just classify it.'}, {'role': 'user', 'content': \"FSLR -- Should I 'hold' or 'sell' my share of First Solar\"}, {'role': 'assistant', 'content': 0}]"
        ],
        [
         "10",
         "[{'role': 'system', 'content': 'You need to act as an expert linguist, trader and researcher, read the reddit comment, and classify wether the comment is bullish or bearish about the ticker: NVDA. Your answer should be 1 if the comment is positive about NVDA, -1 if it is negative, and 0 if it is neutral. Do not reply to the comment, just classify it.'}, {'role': 'user', 'content': 'NVDA'}, {'role': 'assistant', 'content': 0}]"
        ],
        [
         "11",
         "[{'role': 'system', 'content': 'You need to act as an expert linguist, trader and researcher, read the reddit comment, and classify wether the comment is bullish or bearish about the ticker: NVDA. Your answer should be 1 if the comment is positive about NVDA, -1 if it is negative, and 0 if it is neutral. Do not reply to the comment, just classify it.'}, {'role': 'user', 'content': '95% on NVDA call from last week'}, {'role': 'assistant', 'content': 1}]"
        ],
        [
         "12",
         "[{'role': 'system', 'content': 'You need to act as an expert linguist, trader and researcher, read the reddit comment, and classify wether the comment is bullish or bearish about the ticker: SBUX. Your answer should be 1 if the comment is positive about SBUX, -1 if it is negative, and 0 if it is neutral. Do not reply to the comment, just classify it.'}, {'role': 'user', 'content': 'Using my Starbucks stock employee discount'}, {'role': 'assistant', 'content': 0}]"
        ],
        [
         "13",
         "[{'role': 'system', 'content': 'You need to act as an expert linguist, trader and researcher, read the reddit comment, and classify wether the comment is bullish or bearish about the ticker: MSFT. Your answer should be 1 if the comment is positive about MSFT, -1 if it is negative, and 0 if it is neutral. Do not reply to the comment, just classify it.'}, {'role': 'user', 'content': 'Will Microsoft Corporation Stock Continue To Rally?'}, {'role': 'assistant', 'content': 0}]"
        ],
        [
         "14",
         "[{'role': 'system', 'content': 'You need to act as an expert linguist, trader and researcher, read the reddit comment, and classify wether the comment is bullish or bearish about the ticker: GOOGL. Your answer should be 1 if the comment is positive about GOOGL, -1 if it is negative, and 0 if it is neutral. Do not reply to the comment, just classify it.'}, {'role': 'user', 'content': '\"Ross\" from Warrior Trading is spamming the hell out of my Google ads. He must be spending a fortune on advertising. Anyone else notice this?'}, {'role': 'assistant', 'content': 0}]"
        ],
        [
         "15",
         "[{'role': 'system', 'content': 'You need to act as an expert linguist, trader and researcher, read the reddit comment, and classify wether the comment is bullish or bearish about the ticker: CRM. Your answer should be 1 if the comment is positive about CRM, -1 if it is negative, and 0 if it is neutral. Do not reply to the comment, just classify it.'}, {'role': 'user', 'content': 'FB, AAPL, or CRM'}, {'role': 'assistant', 'content': 0}]"
        ],
        [
         "16",
         "[{'role': 'system', 'content': 'You need to act as an expert linguist, trader and researcher, read the reddit comment, and classify wether the comment is bullish or bearish about the ticker: BAC. Your answer should be 1 if the comment is positive about BAC, -1 if it is negative, and 0 if it is neutral. Do not reply to the comment, just classify it.'}, {'role': 'user', 'content': 'Is BAC and BP a good buy for long term investment?'}, {'role': 'assistant', 'content': 0}]"
        ],
        [
         "17",
         "[{'role': 'system', 'content': 'You need to act as an expert linguist, trader and researcher, read the reddit comment, and classify wether the comment is bullish or bearish about the ticker: SBUX. Your answer should be 1 if the comment is positive about SBUX, -1 if it is negative, and 0 if it is neutral. Do not reply to the comment, just classify it.'}, {'role': 'user', 'content': 'Starbucks RSU questions.'}, {'role': 'assistant', 'content': 0}]"
        ],
        [
         "18",
         "[{'role': 'system', 'content': 'You need to act as an expert linguist, trader and researcher, read the reddit comment, and classify wether the comment is bullish or bearish about the ticker: SBUX. Your answer should be 1 if the comment is positive about SBUX, -1 if it is negative, and 0 if it is neutral. Do not reply to the comment, just classify it.'}, {'role': 'user', 'content': 'SBUX Earnings - Question'}, {'role': 'assistant', 'content': 0}]"
        ],
        [
         "19",
         "[{'role': 'system', 'content': 'You need to act as an expert linguist, trader and researcher, read the reddit comment, and classify wether the comment is bullish or bearish about the ticker: BAC. Your answer should be 1 if the comment is positive about BAC, -1 if it is negative, and 0 if it is neutral. Do not reply to the comment, just classify it.'}, {'role': 'user', 'content': 'BAC'}, {'role': 'assistant', 'content': 0}]"
        ],
        [
         "20",
         "[{'role': 'system', 'content': 'You need to act as an expert linguist, trader and researcher, read the reddit comment, and classify wether the comment is bullish or bearish about the ticker: AMD. Your answer should be 1 if the comment is positive about AMD, -1 if it is negative, and 0 if it is neutral. Do not reply to the comment, just classify it.'}, {'role': 'user', 'content': 'I bought into the AMD hype like an idiot, and have lost 15 dollars so far. Should I cut my losses and sell?'}, {'role': 'assistant', 'content': -1}]"
        ],
        [
         "21",
         "[{'role': 'system', 'content': 'You need to act as an expert linguist, trader and researcher, read the reddit comment, and classify wether the comment is bullish or bearish about the ticker: ABBV. Your answer should be 1 if the comment is positive about ABBV, -1 if it is negative, and 0 if it is neutral. Do not reply to the comment, just classify it.'}, {'role': 'user', 'content': 'Been looking at dividened stocks and ABBV caught my eye.'}, {'role': 'assistant', 'content': 0}]"
        ],
        [
         "22",
         "[{'role': 'system', 'content': 'You need to act as an expert linguist, trader and researcher, read the reddit comment, and classify wether the comment is bullish or bearish about the ticker: KEY. Your answer should be 1 if the comment is positive about KEY, -1 if it is negative, and 0 if it is neutral. Do not reply to the comment, just classify it.'}, {'role': 'user', 'content': 'KeyCorp'}, {'role': 'assistant', 'content': 0}]"
        ],
        [
         "23",
         "[{'role': 'system', 'content': 'You need to act as an expert linguist, trader and researcher, read the reddit comment, and classify wether the comment is bullish or bearish about the ticker: TECH. Your answer should be 1 if the comment is positive about TECH, -1 if it is negative, and 0 if it is neutral. Do not reply to the comment, just classify it.'}, {'role': 'user', 'content': 'Bio-Tech DD'}, {'role': 'assistant', 'content': 0}]"
        ],
        [
         "24",
         "[{'role': 'system', 'content': 'You need to act as an expert linguist, trader and researcher, read the reddit comment, and classify wether the comment is bullish or bearish about the ticker: TSLA. Your answer should be 1 if the comment is positive about TSLA, -1 if it is negative, and 0 if it is neutral. Do not reply to the comment, just classify it.'}, {'role': 'user', 'content': 'TSLA'}, {'role': 'assistant', 'content': 0}]"
        ],
        [
         "25",
         "[{'role': 'system', 'content': 'You need to act as an expert linguist, trader and researcher, read the reddit comment, and classify wether the comment is bullish or bearish about the ticker: BAC. Your answer should be 1 if the comment is positive about BAC, -1 if it is negative, and 0 if it is neutral. Do not reply to the comment, just classify it.'}, {'role': 'user', 'content': 'BAC'}, {'role': 'assistant', 'content': 0}]"
        ],
        [
         "26",
         "[{'role': 'system', 'content': 'You need to act as an expert linguist, trader and researcher, read the reddit comment, and classify wether the comment is bullish or bearish about the ticker: NVDA. Your answer should be 1 if the comment is positive about NVDA, -1 if it is negative, and 0 if it is neutral. Do not reply to the comment, just classify it.'}, {'role': 'user', 'content': 'Nvidia'}, {'role': 'assistant', 'content': 0}]"
        ],
        [
         "27",
         "[{'role': 'system', 'content': 'You need to act as an expert linguist, trader and researcher, read the reddit comment, and classify wether the comment is bullish or bearish about the ticker: NFLX. Your answer should be 1 if the comment is positive about NFLX, -1 if it is negative, and 0 if it is neutral. Do not reply to the comment, just classify it.'}, {'role': 'user', 'content': 'NFLX up 8% after hours'}, {'role': 'assistant', 'content': 1}]"
        ],
        [
         "28",
         "[{'role': 'system', 'content': 'You need to act as an expert linguist, trader and researcher, read the reddit comment, and classify wether the comment is bullish or bearish about the ticker: AMD. Your answer should be 1 if the comment is positive about AMD, -1 if it is negative, and 0 if it is neutral. Do not reply to the comment, just classify it.'}, {'role': 'user', 'content': 'Why has AMD stock being going down?'}, {'role': 'assistant', 'content': 0}]"
        ],
        [
         "29",
         "[{'role': 'system', 'content': 'You need to act as an expert linguist, trader and researcher, read the reddit comment, and classify wether the comment is bullish or bearish about the ticker: AMD. Your answer should be 1 if the comment is positive about AMD, -1 if it is negative, and 0 if it is neutral. Do not reply to the comment, just classify it.'}, {'role': 'user', 'content': 'AMD is it time to pull the plug?'}, {'role': 'assistant', 'content': -1}]"
        ],
        [
         "30",
         "[{'role': 'system', 'content': 'You need to act as an expert linguist, trader and researcher, read the reddit comment, and classify wether the comment is bullish or bearish about the ticker: TSLA. Your answer should be 1 if the comment is positive about TSLA, -1 if it is negative, and 0 if it is neutral. Do not reply to the comment, just classify it.'}, {'role': 'user', 'content': 'Should I jump on the ballooning TSLA stocks?'}, {'role': 'assistant', 'content': 0}]"
        ],
        [
         "31",
         "[{'role': 'system', 'content': 'You need to act as an expert linguist, trader and researcher, read the reddit comment, and classify wether the comment is bullish or bearish about the ticker: TAP. Your answer should be 1 if the comment is positive about TAP, -1 if it is negative, and 0 if it is neutral. Do not reply to the comment, just classify it.'}, {'role': 'user', 'content': 'How long is the S&amp;P going to tap against 2275?'}, {'role': 'assistant', 'content': 0}]"
        ],
        [
         "32",
         "[{'role': 'system', 'content': 'You need to act as an expert linguist, trader and researcher, read the reddit comment, and classify wether the comment is bullish or bearish about the ticker: CSCO. Your answer should be 1 if the comment is positive about CSCO, -1 if it is negative, and 0 if it is neutral. Do not reply to the comment, just classify it.'}, {'role': 'user', 'content': 'Cisco since Avaya filing bankruptcy?'}, {'role': 'assistant', 'content': 1}]"
        ],
        [
         "33",
         "[{'role': 'system', 'content': 'You need to act as an expert linguist, trader and researcher, read the reddit comment, and classify wether the comment is bullish or bearish about the ticker: AMD. Your answer should be 1 if the comment is positive about AMD, -1 if it is negative, and 0 if it is neutral. Do not reply to the comment, just classify it.'}, {'role': 'user', 'content': 'Is amd dropping due to being overbought?'}, {'role': 'assistant', 'content': -1}]"
        ],
        [
         "34",
         "[{'role': 'system', 'content': 'You need to act as an expert linguist, trader and researcher, read the reddit comment, and classify wether the comment is bullish or bearish about the ticker: BALL. Your answer should be 1 if the comment is positive about BALL, -1 if it is negative, and 0 if it is neutral. Do not reply to the comment, just classify it.'}, {'role': 'user', 'content': 'China can make ball point pens, what are the effects in stocks of companies involved?'}, {'role': 'assistant', 'content': -1}]"
        ],
        [
         "35",
         "[{'role': 'system', 'content': 'You need to act as an expert linguist, trader and researcher, read the reddit comment, and classify wether the comment is bullish or bearish about the ticker: QCOM. Your answer should be 1 if the comment is positive about QCOM, -1 if it is negative, and 0 if it is neutral. Do not reply to the comment, just classify it.'}, {'role': 'user', 'content': 'Qualcomm took another hit'}, {'role': 'assistant', 'content': -1}]"
        ],
        [
         "36",
         "[{'role': 'system', 'content': 'You need to act as an expert linguist, trader and researcher, read the reddit comment, and classify wether the comment is bullish or bearish about the ticker: NFLX. Your answer should be 1 if the comment is positive about NFLX, -1 if it is negative, and 0 if it is neutral. Do not reply to the comment, just classify it.'}, {'role': 'user', 'content': 'Netflix, Inc. (NASDAQ:NFLX) Quarterly EPS Set At $0.425'}, {'role': 'assistant', 'content': 0}]"
        ],
        [
         "37",
         "[{'role': 'system', 'content': 'You need to act as an expert linguist, trader and researcher, read the reddit comment, and classify wether the comment is bullish or bearish about the ticker: NFLX. Your answer should be 1 if the comment is positive about NFLX, -1 if it is negative, and 0 if it is neutral. Do not reply to the comment, just classify it.'}, {'role': 'user', 'content': 'Netflix CEO explains why his company keeps growing'}, {'role': 'assistant', 'content': 1}]"
        ],
        [
         "38",
         "[{'role': 'system', 'content': 'You need to act as an expert linguist, trader and researcher, read the reddit comment, and classify wether the comment is bullish or bearish about the ticker: QCOM. Your answer should be 1 if the comment is positive about QCOM, -1 if it is negative, and 0 if it is neutral. Do not reply to the comment, just classify it.'}, {'role': 'user', 'content': \"Apple Sues Qualcomm; Company's Legal Woes Begin To Pile Up\"}, {'role': 'assistant', 'content': -1}]"
        ],
        [
         "39",
         "[{'role': 'system', 'content': 'You need to act as an expert linguist, trader and researcher, read the reddit comment, and classify wether the comment is bullish or bearish about the ticker: AMD. Your answer should be 1 if the comment is positive about AMD, -1 if it is negative, and 0 if it is neutral. Do not reply to the comment, just classify it.'}, {'role': 'user', 'content': 'AMD stock had a great run in 2016, but the stock may not be able to repeat its performance in 2017.'}, {'role': 'assistant', 'content': -1}]"
        ],
        [
         "40",
         "[{'role': 'system', 'content': 'You need to act as an expert linguist, trader and researcher, read the reddit comment, and classify wether the comment is bullish or bearish about the ticker: GLW. Your answer should be 1 if the comment is positive about GLW, -1 if it is negative, and 0 if it is neutral. Do not reply to the comment, just classify it.'}, {'role': 'user', 'content': 'GLW doesnt get enough love here'}, {'role': 'assistant', 'content': 1}]"
        ],
        [
         "41",
         "[{'role': 'system', 'content': 'You need to act as an expert linguist, trader and researcher, read the reddit comment, and classify wether the comment is bullish or bearish about the ticker: GILD. Your answer should be 1 if the comment is positive about GILD, -1 if it is negative, and 0 if it is neutral. Do not reply to the comment, just classify it.'}, {'role': 'user', 'content': 'WTF GILD ?'}, {'role': 'assistant', 'content': -1}]"
        ],
        [
         "42",
         "[{'role': 'system', 'content': 'You need to act as an expert linguist, trader and researcher, read the reddit comment, and classify wether the comment is bullish or bearish about the ticker: DOW. Your answer should be 1 if the comment is positive about DOW, -1 if it is negative, and 0 if it is neutral. Do not reply to the comment, just classify it.'}, {'role': 'user', 'content': 'Dow index hits 20k!'}, {'role': 'assistant', 'content': 1}]"
        ],
        [
         "43",
         "[{'role': 'system', 'content': 'You need to act as an expert linguist, trader and researcher, read the reddit comment, and classify wether the comment is bullish or bearish about the ticker: IBM. Your answer should be 1 if the comment is positive about IBM, -1 if it is negative, and 0 if it is neutral. Do not reply to the comment, just classify it.'}, {'role': 'user', 'content': 'Taking $IBM and $NFLX to the bank this morning'}, {'role': 'assistant', 'content': 1}]"
        ],
        [
         "44",
         "[{'role': 'system', 'content': 'You need to act as an expert linguist, trader and researcher, read the reddit comment, and classify wether the comment is bullish or bearish about the ticker: YUM. Your answer should be 1 if the comment is positive about YUM, -1 if it is negative, and 0 if it is neutral. Do not reply to the comment, just classify it.'}, {'role': 'user', 'content': 'Would a temporary Yum investment be wise?'}, {'role': 'assistant', 'content': 0}]"
        ],
        [
         "45",
         "[{'role': 'system', 'content': 'You need to act as an expert linguist, trader and researcher, read the reddit comment, and classify wether the comment is bullish or bearish about the ticker: STZ. Your answer should be 1 if the comment is positive about STZ, -1 if it is negative, and 0 if it is neutral. Do not reply to the comment, just classify it.'}, {'role': 'user', 'content': 'STZ'}, {'role': 'assistant', 'content': 0}]"
        ],
        [
         "46",
         "[{'role': 'system', 'content': 'You need to act as an expert linguist, trader and researcher, read the reddit comment, and classify wether the comment is bullish or bearish about the ticker: EBAY. Your answer should be 1 if the comment is positive about EBAY, -1 if it is negative, and 0 if it is neutral. Do not reply to the comment, just classify it.'}, {'role': 'user', 'content': 'Is eBay worth buying after they jumped up?'}, {'role': 'assistant', 'content': 0}]"
        ],
        [
         "47",
         "[{'role': 'system', 'content': 'You need to act as an expert linguist, trader and researcher, read the reddit comment, and classify wether the comment is bullish or bearish about the ticker: DOW. Your answer should be 1 if the comment is positive about DOW, -1 if it is negative, and 0 if it is neutral. Do not reply to the comment, just classify it.'}, {'role': 'user', 'content': 'DOW overvalued?'}, {'role': 'assistant', 'content': -1}]"
        ],
        [
         "48",
         "[{'role': 'system', 'content': 'You need to act as an expert linguist, trader and researcher, read the reddit comment, and classify wether the comment is bullish or bearish about the ticker: AMZN. Your answer should be 1 if the comment is positive about AMZN, -1 if it is negative, and 0 if it is neutral. Do not reply to the comment, just classify it.'}, {'role': 'user', 'content': 'Invest in Google, Amazon or ETF?'}, {'role': 'assistant', 'content': 0}]"
        ],
        [
         "49",
         "[{'role': 'system', 'content': 'You need to act as an expert linguist, trader and researcher, read the reddit comment, and classify wether the comment is bullish or bearish about the ticker: SBUX. Your answer should be 1 if the comment is positive about SBUX, -1 if it is negative, and 0 if it is neutral. Do not reply to the comment, just classify it.'}, {'role': 'user', 'content': \"SBUX caught in No Man's Land\"}, {'role': 'assistant', 'content': -1}]"
        ]
       ],
       "shape": {
        "columns": 1,
        "rows": 499
       }
      },
      "text/html": [
       "<div>\n",
       "<style scoped>\n",
       "    .dataframe tbody tr th:only-of-type {\n",
       "        vertical-align: middle;\n",
       "    }\n",
       "\n",
       "    .dataframe tbody tr th {\n",
       "        vertical-align: top;\n",
       "    }\n",
       "\n",
       "    .dataframe thead th {\n",
       "        text-align: right;\n",
       "    }\n",
       "</style>\n",
       "<table border=\"1\" class=\"dataframe\">\n",
       "  <thead>\n",
       "    <tr style=\"text-align: right;\">\n",
       "      <th></th>\n",
       "      <th>messages</th>\n",
       "    </tr>\n",
       "  </thead>\n",
       "  <tbody>\n",
       "    <tr>\n",
       "      <th>0</th>\n",
       "      <td>[{'role': 'system', 'content': 'You need to ac...</td>\n",
       "    </tr>\n",
       "    <tr>\n",
       "      <th>1</th>\n",
       "      <td>[{'role': 'system', 'content': 'You need to ac...</td>\n",
       "    </tr>\n",
       "    <tr>\n",
       "      <th>2</th>\n",
       "      <td>[{'role': 'system', 'content': 'You need to ac...</td>\n",
       "    </tr>\n",
       "    <tr>\n",
       "      <th>3</th>\n",
       "      <td>[{'role': 'system', 'content': 'You need to ac...</td>\n",
       "    </tr>\n",
       "    <tr>\n",
       "      <th>4</th>\n",
       "      <td>[{'role': 'system', 'content': 'You need to ac...</td>\n",
       "    </tr>\n",
       "    <tr>\n",
       "      <th>...</th>\n",
       "      <td>...</td>\n",
       "    </tr>\n",
       "    <tr>\n",
       "      <th>494</th>\n",
       "      <td>[{'role': 'system', 'content': 'You need to ac...</td>\n",
       "    </tr>\n",
       "    <tr>\n",
       "      <th>495</th>\n",
       "      <td>[{'role': 'system', 'content': 'You need to ac...</td>\n",
       "    </tr>\n",
       "    <tr>\n",
       "      <th>496</th>\n",
       "      <td>[{'role': 'system', 'content': 'You need to ac...</td>\n",
       "    </tr>\n",
       "    <tr>\n",
       "      <th>497</th>\n",
       "      <td>[{'role': 'system', 'content': 'You need to ac...</td>\n",
       "    </tr>\n",
       "    <tr>\n",
       "      <th>498</th>\n",
       "      <td>[{'role': 'system', 'content': 'You need to ac...</td>\n",
       "    </tr>\n",
       "  </tbody>\n",
       "</table>\n",
       "<p>499 rows × 1 columns</p>\n",
       "</div>"
      ],
      "text/plain": [
       "                                              messages\n",
       "0    [{'role': 'system', 'content': 'You need to ac...\n",
       "1    [{'role': 'system', 'content': 'You need to ac...\n",
       "2    [{'role': 'system', 'content': 'You need to ac...\n",
       "3    [{'role': 'system', 'content': 'You need to ac...\n",
       "4    [{'role': 'system', 'content': 'You need to ac...\n",
       "..                                                 ...\n",
       "494  [{'role': 'system', 'content': 'You need to ac...\n",
       "495  [{'role': 'system', 'content': 'You need to ac...\n",
       "496  [{'role': 'system', 'content': 'You need to ac...\n",
       "497  [{'role': 'system', 'content': 'You need to ac...\n",
       "498  [{'role': 'system', 'content': 'You need to ac...\n",
       "\n",
       "[499 rows x 1 columns]"
      ]
     },
     "execution_count": 110,
     "metadata": {},
     "output_type": "execute_result"
    }
   ],
   "source": [
    "json_df = pd.DataFrame(json_data)\n",
    "json_df"
   ]
  },
  {
   "cell_type": "code",
   "execution_count": 111,
   "metadata": {},
   "outputs": [],
   "source": [
    "from sklearn.model_selection import train_test_split\n",
    "\n",
    "# Split into 80% train, 20% temp (which will be split further)\n",
    "train_data, temp_data = train_test_split(json_df, test_size=0.2, random_state=42)\n",
    "\n",
    "# Split temp into 50% validation, 50% test (so each is 10% of total)\n",
    "val_data, test_data = train_test_split(temp_data, test_size=0.5, random_state=42)\n",
    "\n",
    "# Convert DataFrames back to list format for JSON saving\n",
    "train_json = train_data.to_dict(orient=\"records\")\n",
    "val_json = val_data.to_dict(orient=\"records\")\n",
    "test_json = test_data.to_dict(orient=\"records\")"
   ]
  },
  {
   "cell_type": "code",
   "execution_count": 112,
   "metadata": {},
   "outputs": [],
   "source": [
    "import json\n",
    "\n",
    "# Save train set\n",
    "with open(\"fine_tuning/data/json/train.jsonl\", \"w\", encoding=\"utf-8\") as f:\n",
    "    for item in train_json:\n",
    "        f.write(json.dumps(item) + '\\n')\n",
    "\n",
    "# Save validation set\n",
    "with open(\"fine_tuning/data/json/valid.jsonl\", \"w\", encoding=\"utf-8\") as f:\n",
    "    for item in val_json:\n",
    "        f.write(json.dumps(item) + '\\n')\n",
    "\n",
    "# Save test set\n",
    "with open(\"fine_tuning/data/json/test.jsonl\", \"w\", encoding=\"utf-8\") as f:\n",
    "    for item in test_json:\n",
    "        f.write(json.dumps(item) + '\\n')"
   ]
  },
  {
   "cell_type": "markdown",
   "metadata": {},
   "source": [
    "## score with local models"
   ]
  },
  {
   "cell_type": "code",
   "execution_count": 118,
   "metadata": {},
   "outputs": [],
   "source": [
    "from nlp_utils import score_text_local\n",
    "\n",
    "model_path = 'fine_tuning/models/Llama-3.2-1B-Instruct-4bit/fused_model'\n",
    "\n",
    "def score_row_local(row):\n",
    "    score = score_text_local(row['text'], row['ticker'], model_path)\n",
    "    return score\n",
    "\n",
    "scores_series_local = reduced_stock_mentions.apply(score_row_local, axis=1)"
   ]
  },
  {
   "cell_type": "code",
   "execution_count": 123,
   "metadata": {},
   "outputs": [
    {
     "data": {
      "application/vnd.jupyter.widget-view+json": {
       "model_id": "079dc5ea2fae47389c29e6c2f8cca07e",
       "version_major": 2,
       "version_minor": 0
      },
      "text/plain": [
       "Fetching 6 files:   0%|          | 0/6 [00:00<?, ?it/s]"
      ]
     },
     "metadata": {},
     "output_type": "display_data"
    },
    {
     "data": {
      "application/vnd.jupyter.widget-view+json": {
       "model_id": "d094f75102484e0a9f6cf37607e31e3a",
       "version_major": 2,
       "version_minor": 0
      },
      "text/plain": [
       "Fetching 6 files:   0%|          | 0/6 [00:00<?, ?it/s]"
      ]
     },
     "metadata": {},
     "output_type": "display_data"
    },
    {
     "data": {
      "application/vnd.jupyter.widget-view+json": {
       "model_id": "cf16fa35e45b4ce199691d0e0dd2dc35",
       "version_major": 2,
       "version_minor": 0
      },
      "text/plain": [
       "Fetching 6 files:   0%|          | 0/6 [00:00<?, ?it/s]"
      ]
     },
     "metadata": {},
     "output_type": "display_data"
    },
    {
     "data": {
      "application/vnd.jupyter.widget-view+json": {
       "model_id": "c076808b46b84651aabd3b2a8c548d35",
       "version_major": 2,
       "version_minor": 0
      },
      "text/plain": [
       "Fetching 6 files:   0%|          | 0/6 [00:00<?, ?it/s]"
      ]
     },
     "metadata": {},
     "output_type": "display_data"
    },
    {
     "data": {
      "application/vnd.jupyter.widget-view+json": {
       "model_id": "f79513b85f0e4781a4ca9d94ecc200b8",
       "version_major": 2,
       "version_minor": 0
      },
      "text/plain": [
       "Fetching 6 files:   0%|          | 0/6 [00:00<?, ?it/s]"
      ]
     },
     "metadata": {},
     "output_type": "display_data"
    },
    {
     "data": {
      "application/vnd.jupyter.widget-view+json": {
       "model_id": "fba519d333324c13b4270b83735f5a08",
       "version_major": 2,
       "version_minor": 0
      },
      "text/plain": [
       "Fetching 6 files:   0%|          | 0/6 [00:00<?, ?it/s]"
      ]
     },
     "metadata": {},
     "output_type": "display_data"
    },
    {
     "data": {
      "application/vnd.jupyter.widget-view+json": {
       "model_id": "ccf66556885148c2b4334c2255f3c24b",
       "version_major": 2,
       "version_minor": 0
      },
      "text/plain": [
       "Fetching 6 files:   0%|          | 0/6 [00:00<?, ?it/s]"
      ]
     },
     "metadata": {},
     "output_type": "display_data"
    },
    {
     "data": {
      "application/vnd.jupyter.widget-view+json": {
       "model_id": "b00aeb284e2f4bba8958a0bc750fe0b2",
       "version_major": 2,
       "version_minor": 0
      },
      "text/plain": [
       "Fetching 6 files:   0%|          | 0/6 [00:00<?, ?it/s]"
      ]
     },
     "metadata": {},
     "output_type": "display_data"
    },
    {
     "data": {
      "application/vnd.jupyter.widget-view+json": {
       "model_id": "3ed4f6ae81fd4275adb96a7f32ac76a8",
       "version_major": 2,
       "version_minor": 0
      },
      "text/plain": [
       "Fetching 6 files:   0%|          | 0/6 [00:00<?, ?it/s]"
      ]
     },
     "metadata": {},
     "output_type": "display_data"
    },
    {
     "data": {
      "application/vnd.jupyter.widget-view+json": {
       "model_id": "5e3b189ea3ec49639f0900c9c2b0d0b4",
       "version_major": 2,
       "version_minor": 0
      },
      "text/plain": [
       "Fetching 6 files:   0%|          | 0/6 [00:00<?, ?it/s]"
      ]
     },
     "metadata": {},
     "output_type": "display_data"
    },
    {
     "data": {
      "application/vnd.jupyter.widget-view+json": {
       "model_id": "f82843ff20524518b38c693a15ad184e",
       "version_major": 2,
       "version_minor": 0
      },
      "text/plain": [
       "Fetching 6 files:   0%|          | 0/6 [00:00<?, ?it/s]"
      ]
     },
     "metadata": {},
     "output_type": "display_data"
    },
    {
     "data": {
      "application/vnd.jupyter.widget-view+json": {
       "model_id": "43679af36f474f8287be47c1f2e57106",
       "version_major": 2,
       "version_minor": 0
      },
      "text/plain": [
       "Fetching 6 files:   0%|          | 0/6 [00:00<?, ?it/s]"
      ]
     },
     "metadata": {},
     "output_type": "display_data"
    },
    {
     "data": {
      "application/vnd.jupyter.widget-view+json": {
       "model_id": "003c524ca0fc49268273067a7dbda3bb",
       "version_major": 2,
       "version_minor": 0
      },
      "text/plain": [
       "Fetching 6 files:   0%|          | 0/6 [00:00<?, ?it/s]"
      ]
     },
     "metadata": {},
     "output_type": "display_data"
    },
    {
     "data": {
      "application/vnd.jupyter.widget-view+json": {
       "model_id": "7d66ed61ef484faabf9b31c6b4b3f048",
       "version_major": 2,
       "version_minor": 0
      },
      "text/plain": [
       "Fetching 6 files:   0%|          | 0/6 [00:00<?, ?it/s]"
      ]
     },
     "metadata": {},
     "output_type": "display_data"
    },
    {
     "data": {
      "application/vnd.jupyter.widget-view+json": {
       "model_id": "ae2d2682fe3a4364a861f7ad06a77b42",
       "version_major": 2,
       "version_minor": 0
      },
      "text/plain": [
       "Fetching 6 files:   0%|          | 0/6 [00:00<?, ?it/s]"
      ]
     },
     "metadata": {},
     "output_type": "display_data"
    },
    {
     "data": {
      "application/vnd.jupyter.widget-view+json": {
       "model_id": "0711c6c2808c4d39b032aec17368db39",
       "version_major": 2,
       "version_minor": 0
      },
      "text/plain": [
       "Fetching 6 files:   0%|          | 0/6 [00:00<?, ?it/s]"
      ]
     },
     "metadata": {},
     "output_type": "display_data"
    },
    {
     "data": {
      "application/vnd.jupyter.widget-view+json": {
       "model_id": "ad7c334572e74ee690b5695767ec44d8",
       "version_major": 2,
       "version_minor": 0
      },
      "text/plain": [
       "Fetching 6 files:   0%|          | 0/6 [00:00<?, ?it/s]"
      ]
     },
     "metadata": {},
     "output_type": "display_data"
    },
    {
     "data": {
      "application/vnd.jupyter.widget-view+json": {
       "model_id": "2a78512de25640e0a48c2890b0662ba8",
       "version_major": 2,
       "version_minor": 0
      },
      "text/plain": [
       "Fetching 6 files:   0%|          | 0/6 [00:00<?, ?it/s]"
      ]
     },
     "metadata": {},
     "output_type": "display_data"
    },
    {
     "data": {
      "application/vnd.jupyter.widget-view+json": {
       "model_id": "042fa542e0ea4df497c87c164a819fd5",
       "version_major": 2,
       "version_minor": 0
      },
      "text/plain": [
       "Fetching 6 files:   0%|          | 0/6 [00:00<?, ?it/s]"
      ]
     },
     "metadata": {},
     "output_type": "display_data"
    },
    {
     "data": {
      "application/vnd.jupyter.widget-view+json": {
       "model_id": "27d1a33311da4e44adf060c4fae6ab44",
       "version_major": 2,
       "version_minor": 0
      },
      "text/plain": [
       "Fetching 6 files:   0%|          | 0/6 [00:00<?, ?it/s]"
      ]
     },
     "metadata": {},
     "output_type": "display_data"
    },
    {
     "data": {
      "application/vnd.jupyter.widget-view+json": {
       "model_id": "59e908f5590e4ab5be2f317d0ed2fb08",
       "version_major": 2,
       "version_minor": 0
      },
      "text/plain": [
       "Fetching 6 files:   0%|          | 0/6 [00:00<?, ?it/s]"
      ]
     },
     "metadata": {},
     "output_type": "display_data"
    },
    {
     "data": {
      "application/vnd.jupyter.widget-view+json": {
       "model_id": "d538d2a62547417baba458f045a32fe5",
       "version_major": 2,
       "version_minor": 0
      },
      "text/plain": [
       "Fetching 6 files:   0%|          | 0/6 [00:00<?, ?it/s]"
      ]
     },
     "metadata": {},
     "output_type": "display_data"
    },
    {
     "data": {
      "application/vnd.jupyter.widget-view+json": {
       "model_id": "14f4c372c2034b13a046ee10962d1e06",
       "version_major": 2,
       "version_minor": 0
      },
      "text/plain": [
       "Fetching 6 files:   0%|          | 0/6 [00:00<?, ?it/s]"
      ]
     },
     "metadata": {},
     "output_type": "display_data"
    },
    {
     "data": {
      "application/vnd.jupyter.widget-view+json": {
       "model_id": "58aed4f79f484e5a8de899284cf32fb1",
       "version_major": 2,
       "version_minor": 0
      },
      "text/plain": [
       "Fetching 6 files:   0%|          | 0/6 [00:00<?, ?it/s]"
      ]
     },
     "metadata": {},
     "output_type": "display_data"
    },
    {
     "data": {
      "application/vnd.jupyter.widget-view+json": {
       "model_id": "787c61d28bdd41dbb77b3d1640fcea01",
       "version_major": 2,
       "version_minor": 0
      },
      "text/plain": [
       "Fetching 6 files:   0%|          | 0/6 [00:00<?, ?it/s]"
      ]
     },
     "metadata": {},
     "output_type": "display_data"
    },
    {
     "data": {
      "application/vnd.jupyter.widget-view+json": {
       "model_id": "fc25488c6c7d4985af9fbd90a27bf57d",
       "version_major": 2,
       "version_minor": 0
      },
      "text/plain": [
       "Fetching 6 files:   0%|          | 0/6 [00:00<?, ?it/s]"
      ]
     },
     "metadata": {},
     "output_type": "display_data"
    },
    {
     "data": {
      "application/vnd.jupyter.widget-view+json": {
       "model_id": "d11fea38741f4be087a3c3500dcdd8b1",
       "version_major": 2,
       "version_minor": 0
      },
      "text/plain": [
       "Fetching 6 files:   0%|          | 0/6 [00:00<?, ?it/s]"
      ]
     },
     "metadata": {},
     "output_type": "display_data"
    },
    {
     "data": {
      "application/vnd.jupyter.widget-view+json": {
       "model_id": "2f2d0a6d1b9649418311076342006ad6",
       "version_major": 2,
       "version_minor": 0
      },
      "text/plain": [
       "Fetching 6 files:   0%|          | 0/6 [00:00<?, ?it/s]"
      ]
     },
     "metadata": {},
     "output_type": "display_data"
    },
    {
     "data": {
      "application/vnd.jupyter.widget-view+json": {
       "model_id": "7c4a0df3fe7846da8e43b90950a3cf8b",
       "version_major": 2,
       "version_minor": 0
      },
      "text/plain": [
       "Fetching 6 files:   0%|          | 0/6 [00:00<?, ?it/s]"
      ]
     },
     "metadata": {},
     "output_type": "display_data"
    },
    {
     "data": {
      "application/vnd.jupyter.widget-view+json": {
       "model_id": "fc723eb0b8e0495db1d9d9f1114c8873",
       "version_major": 2,
       "version_minor": 0
      },
      "text/plain": [
       "Fetching 6 files:   0%|          | 0/6 [00:00<?, ?it/s]"
      ]
     },
     "metadata": {},
     "output_type": "display_data"
    },
    {
     "data": {
      "application/vnd.jupyter.widget-view+json": {
       "model_id": "b3b4b8170b294b30a440b1ad0d3002f7",
       "version_major": 2,
       "version_minor": 0
      },
      "text/plain": [
       "Fetching 6 files:   0%|          | 0/6 [00:00<?, ?it/s]"
      ]
     },
     "metadata": {},
     "output_type": "display_data"
    },
    {
     "data": {
      "application/vnd.jupyter.widget-view+json": {
       "model_id": "7fd24adbb8094d0abceecedeb371ed0a",
       "version_major": 2,
       "version_minor": 0
      },
      "text/plain": [
       "Fetching 6 files:   0%|          | 0/6 [00:00<?, ?it/s]"
      ]
     },
     "metadata": {},
     "output_type": "display_data"
    },
    {
     "data": {
      "application/vnd.jupyter.widget-view+json": {
       "model_id": "66be8fe5ca364e729738853bec0499d8",
       "version_major": 2,
       "version_minor": 0
      },
      "text/plain": [
       "Fetching 6 files:   0%|          | 0/6 [00:00<?, ?it/s]"
      ]
     },
     "metadata": {},
     "output_type": "display_data"
    },
    {
     "data": {
      "application/vnd.jupyter.widget-view+json": {
       "model_id": "fccaa654b5054ef3a4af6761228cd265",
       "version_major": 2,
       "version_minor": 0
      },
      "text/plain": [
       "Fetching 6 files:   0%|          | 0/6 [00:00<?, ?it/s]"
      ]
     },
     "metadata": {},
     "output_type": "display_data"
    },
    {
     "data": {
      "application/vnd.jupyter.widget-view+json": {
       "model_id": "1f3f42ec550d49feaa7584c7da8deecc",
       "version_major": 2,
       "version_minor": 0
      },
      "text/plain": [
       "Fetching 6 files:   0%|          | 0/6 [00:00<?, ?it/s]"
      ]
     },
     "metadata": {},
     "output_type": "display_data"
    },
    {
     "data": {
      "application/vnd.jupyter.widget-view+json": {
       "model_id": "ef3789e0de8a4c29947703cdf8f2e018",
       "version_major": 2,
       "version_minor": 0
      },
      "text/plain": [
       "Fetching 6 files:   0%|          | 0/6 [00:00<?, ?it/s]"
      ]
     },
     "metadata": {},
     "output_type": "display_data"
    },
    {
     "data": {
      "application/vnd.jupyter.widget-view+json": {
       "model_id": "ddb1f7c2cd8e474fbcfd99a32f4ac6ef",
       "version_major": 2,
       "version_minor": 0
      },
      "text/plain": [
       "Fetching 6 files:   0%|          | 0/6 [00:00<?, ?it/s]"
      ]
     },
     "metadata": {},
     "output_type": "display_data"
    },
    {
     "data": {
      "application/vnd.jupyter.widget-view+json": {
       "model_id": "828cb8dd0fb84af68c409f2a86c4f03d",
       "version_major": 2,
       "version_minor": 0
      },
      "text/plain": [
       "Fetching 6 files:   0%|          | 0/6 [00:00<?, ?it/s]"
      ]
     },
     "metadata": {},
     "output_type": "display_data"
    },
    {
     "data": {
      "application/vnd.jupyter.widget-view+json": {
       "model_id": "d043d8f080204a4fb25f7fea142ae7dd",
       "version_major": 2,
       "version_minor": 0
      },
      "text/plain": [
       "Fetching 6 files:   0%|          | 0/6 [00:00<?, ?it/s]"
      ]
     },
     "metadata": {},
     "output_type": "display_data"
    },
    {
     "data": {
      "application/vnd.jupyter.widget-view+json": {
       "model_id": "fdcf5f69b14b434fbfdbbfd59bf8c3fc",
       "version_major": 2,
       "version_minor": 0
      },
      "text/plain": [
       "Fetching 6 files:   0%|          | 0/6 [00:00<?, ?it/s]"
      ]
     },
     "metadata": {},
     "output_type": "display_data"
    },
    {
     "data": {
      "application/vnd.jupyter.widget-view+json": {
       "model_id": "456b59e7e9504d608e1e6d72d7ceb261",
       "version_major": 2,
       "version_minor": 0
      },
      "text/plain": [
       "Fetching 6 files:   0%|          | 0/6 [00:00<?, ?it/s]"
      ]
     },
     "metadata": {},
     "output_type": "display_data"
    },
    {
     "data": {
      "application/vnd.jupyter.widget-view+json": {
       "model_id": "ef6a461836614e5486e66ca8fa7d1ce7",
       "version_major": 2,
       "version_minor": 0
      },
      "text/plain": [
       "Fetching 6 files:   0%|          | 0/6 [00:00<?, ?it/s]"
      ]
     },
     "metadata": {},
     "output_type": "display_data"
    },
    {
     "data": {
      "application/vnd.jupyter.widget-view+json": {
       "model_id": "9833fbd1fb3a4e32b5345f8d260bc86e",
       "version_major": 2,
       "version_minor": 0
      },
      "text/plain": [
       "Fetching 6 files:   0%|          | 0/6 [00:00<?, ?it/s]"
      ]
     },
     "metadata": {},
     "output_type": "display_data"
    },
    {
     "data": {
      "application/vnd.jupyter.widget-view+json": {
       "model_id": "d3cdcf869cc2410f8b052fbf0598d0c8",
       "version_major": 2,
       "version_minor": 0
      },
      "text/plain": [
       "Fetching 6 files:   0%|          | 0/6 [00:00<?, ?it/s]"
      ]
     },
     "metadata": {},
     "output_type": "display_data"
    },
    {
     "data": {
      "application/vnd.jupyter.widget-view+json": {
       "model_id": "3bb0964d2c5741be8945e1ec4ec6f0f6",
       "version_major": 2,
       "version_minor": 0
      },
      "text/plain": [
       "Fetching 6 files:   0%|          | 0/6 [00:00<?, ?it/s]"
      ]
     },
     "metadata": {},
     "output_type": "display_data"
    },
    {
     "data": {
      "application/vnd.jupyter.widget-view+json": {
       "model_id": "4db5cfebd5ea461aa2b3dff9b5489b3d",
       "version_major": 2,
       "version_minor": 0
      },
      "text/plain": [
       "Fetching 6 files:   0%|          | 0/6 [00:00<?, ?it/s]"
      ]
     },
     "metadata": {},
     "output_type": "display_data"
    },
    {
     "data": {
      "application/vnd.jupyter.widget-view+json": {
       "model_id": "a9160d32bbda48cfb2ed11c3dd13ea94",
       "version_major": 2,
       "version_minor": 0
      },
      "text/plain": [
       "Fetching 6 files:   0%|          | 0/6 [00:00<?, ?it/s]"
      ]
     },
     "metadata": {},
     "output_type": "display_data"
    },
    {
     "data": {
      "application/vnd.jupyter.widget-view+json": {
       "model_id": "e5a472446b054d3489b3ceb01db65516",
       "version_major": 2,
       "version_minor": 0
      },
      "text/plain": [
       "Fetching 6 files:   0%|          | 0/6 [00:00<?, ?it/s]"
      ]
     },
     "metadata": {},
     "output_type": "display_data"
    },
    {
     "data": {
      "application/vnd.jupyter.widget-view+json": {
       "model_id": "c20671f7362548c8bfbe5e71e8c35cfd",
       "version_major": 2,
       "version_minor": 0
      },
      "text/plain": [
       "Fetching 6 files:   0%|          | 0/6 [00:00<?, ?it/s]"
      ]
     },
     "metadata": {},
     "output_type": "display_data"
    },
    {
     "data": {
      "application/vnd.jupyter.widget-view+json": {
       "model_id": "ae625d96e1e74f28823e57f5bfd8200b",
       "version_major": 2,
       "version_minor": 0
      },
      "text/plain": [
       "Fetching 6 files:   0%|          | 0/6 [00:00<?, ?it/s]"
      ]
     },
     "metadata": {},
     "output_type": "display_data"
    },
    {
     "data": {
      "application/vnd.jupyter.widget-view+json": {
       "model_id": "e71b940f25664b4581b8e5e6665b22e3",
       "version_major": 2,
       "version_minor": 0
      },
      "text/plain": [
       "Fetching 6 files:   0%|          | 0/6 [00:00<?, ?it/s]"
      ]
     },
     "metadata": {},
     "output_type": "display_data"
    },
    {
     "data": {
      "application/vnd.jupyter.widget-view+json": {
       "model_id": "a399694cdc4144a7aff97ebf02d7ef18",
       "version_major": 2,
       "version_minor": 0
      },
      "text/plain": [
       "Fetching 6 files:   0%|          | 0/6 [00:00<?, ?it/s]"
      ]
     },
     "metadata": {},
     "output_type": "display_data"
    },
    {
     "data": {
      "application/vnd.jupyter.widget-view+json": {
       "model_id": "62b8a931b8f64b228afbbcb0e9c6118e",
       "version_major": 2,
       "version_minor": 0
      },
      "text/plain": [
       "Fetching 6 files:   0%|          | 0/6 [00:00<?, ?it/s]"
      ]
     },
     "metadata": {},
     "output_type": "display_data"
    },
    {
     "data": {
      "application/vnd.jupyter.widget-view+json": {
       "model_id": "7fcf82b8725b46e095d1aa90ceb6041f",
       "version_major": 2,
       "version_minor": 0
      },
      "text/plain": [
       "Fetching 6 files:   0%|          | 0/6 [00:00<?, ?it/s]"
      ]
     },
     "metadata": {},
     "output_type": "display_data"
    },
    {
     "data": {
      "application/vnd.jupyter.widget-view+json": {
       "model_id": "3d44dfec1a4d4c62adc0d99e2809642f",
       "version_major": 2,
       "version_minor": 0
      },
      "text/plain": [
       "Fetching 6 files:   0%|          | 0/6 [00:00<?, ?it/s]"
      ]
     },
     "metadata": {},
     "output_type": "display_data"
    },
    {
     "data": {
      "application/vnd.jupyter.widget-view+json": {
       "model_id": "eb786090ac9f4591909e069e3e082075",
       "version_major": 2,
       "version_minor": 0
      },
      "text/plain": [
       "Fetching 6 files:   0%|          | 0/6 [00:00<?, ?it/s]"
      ]
     },
     "metadata": {},
     "output_type": "display_data"
    },
    {
     "data": {
      "application/vnd.jupyter.widget-view+json": {
       "model_id": "e1ab7b9731bc4c2fb7c3c193f317da28",
       "version_major": 2,
       "version_minor": 0
      },
      "text/plain": [
       "Fetching 6 files:   0%|          | 0/6 [00:00<?, ?it/s]"
      ]
     },
     "metadata": {},
     "output_type": "display_data"
    },
    {
     "data": {
      "application/vnd.jupyter.widget-view+json": {
       "model_id": "af01835f8879424d8b408d8338983efd",
       "version_major": 2,
       "version_minor": 0
      },
      "text/plain": [
       "Fetching 6 files:   0%|          | 0/6 [00:00<?, ?it/s]"
      ]
     },
     "metadata": {},
     "output_type": "display_data"
    },
    {
     "data": {
      "application/vnd.jupyter.widget-view+json": {
       "model_id": "be78cbaf6a884b93a3fb8e6559f3c9b8",
       "version_major": 2,
       "version_minor": 0
      },
      "text/plain": [
       "Fetching 6 files:   0%|          | 0/6 [00:00<?, ?it/s]"
      ]
     },
     "metadata": {},
     "output_type": "display_data"
    },
    {
     "data": {
      "application/vnd.jupyter.widget-view+json": {
       "model_id": "6b28053dec1c411c870924c3299dca78",
       "version_major": 2,
       "version_minor": 0
      },
      "text/plain": [
       "Fetching 6 files:   0%|          | 0/6 [00:00<?, ?it/s]"
      ]
     },
     "metadata": {},
     "output_type": "display_data"
    },
    {
     "data": {
      "application/vnd.jupyter.widget-view+json": {
       "model_id": "db7884541b4149a8aaca8cb46eb53646",
       "version_major": 2,
       "version_minor": 0
      },
      "text/plain": [
       "Fetching 6 files:   0%|          | 0/6 [00:00<?, ?it/s]"
      ]
     },
     "metadata": {},
     "output_type": "display_data"
    },
    {
     "data": {
      "application/vnd.jupyter.widget-view+json": {
       "model_id": "36b0a0b972814efcbe43cb95e88b07c1",
       "version_major": 2,
       "version_minor": 0
      },
      "text/plain": [
       "Fetching 6 files:   0%|          | 0/6 [00:00<?, ?it/s]"
      ]
     },
     "metadata": {},
     "output_type": "display_data"
    },
    {
     "data": {
      "application/vnd.jupyter.widget-view+json": {
       "model_id": "5fc5b93faf58499e90e3ee2ccc9da36c",
       "version_major": 2,
       "version_minor": 0
      },
      "text/plain": [
       "Fetching 6 files:   0%|          | 0/6 [00:00<?, ?it/s]"
      ]
     },
     "metadata": {},
     "output_type": "display_data"
    },
    {
     "data": {
      "application/vnd.jupyter.widget-view+json": {
       "model_id": "f392b6b6d6f14ed7b3a00328ea39d8e9",
       "version_major": 2,
       "version_minor": 0
      },
      "text/plain": [
       "Fetching 6 files:   0%|          | 0/6 [00:00<?, ?it/s]"
      ]
     },
     "metadata": {},
     "output_type": "display_data"
    },
    {
     "data": {
      "application/vnd.jupyter.widget-view+json": {
       "model_id": "d66bc9cbe83a4d38a2bf12cb473866f4",
       "version_major": 2,
       "version_minor": 0
      },
      "text/plain": [
       "Fetching 6 files:   0%|          | 0/6 [00:00<?, ?it/s]"
      ]
     },
     "metadata": {},
     "output_type": "display_data"
    },
    {
     "data": {
      "application/vnd.jupyter.widget-view+json": {
       "model_id": "9fbb53c210594f78b38d2e12ef8d7a49",
       "version_major": 2,
       "version_minor": 0
      },
      "text/plain": [
       "Fetching 6 files:   0%|          | 0/6 [00:00<?, ?it/s]"
      ]
     },
     "metadata": {},
     "output_type": "display_data"
    },
    {
     "data": {
      "application/vnd.jupyter.widget-view+json": {
       "model_id": "db83046c3af94bbb8fa19c4d509f2a94",
       "version_major": 2,
       "version_minor": 0
      },
      "text/plain": [
       "Fetching 6 files:   0%|          | 0/6 [00:00<?, ?it/s]"
      ]
     },
     "metadata": {},
     "output_type": "display_data"
    },
    {
     "data": {
      "application/vnd.jupyter.widget-view+json": {
       "model_id": "f337738ea5f14944b513f31c3de8191b",
       "version_major": 2,
       "version_minor": 0
      },
      "text/plain": [
       "Fetching 6 files:   0%|          | 0/6 [00:00<?, ?it/s]"
      ]
     },
     "metadata": {},
     "output_type": "display_data"
    },
    {
     "data": {
      "application/vnd.jupyter.widget-view+json": {
       "model_id": "f9727c56d1994c10b8c6eaee97705bfc",
       "version_major": 2,
       "version_minor": 0
      },
      "text/plain": [
       "Fetching 6 files:   0%|          | 0/6 [00:00<?, ?it/s]"
      ]
     },
     "metadata": {},
     "output_type": "display_data"
    },
    {
     "data": {
      "application/vnd.jupyter.widget-view+json": {
       "model_id": "0974982fe9514aa6b5633d45944b56c8",
       "version_major": 2,
       "version_minor": 0
      },
      "text/plain": [
       "Fetching 6 files:   0%|          | 0/6 [00:00<?, ?it/s]"
      ]
     },
     "metadata": {},
     "output_type": "display_data"
    },
    {
     "data": {
      "application/vnd.jupyter.widget-view+json": {
       "model_id": "53584cf1100242419509a1040de2325a",
       "version_major": 2,
       "version_minor": 0
      },
      "text/plain": [
       "Fetching 6 files:   0%|          | 0/6 [00:00<?, ?it/s]"
      ]
     },
     "metadata": {},
     "output_type": "display_data"
    },
    {
     "data": {
      "application/vnd.jupyter.widget-view+json": {
       "model_id": "73090eb6140c4d8cb47318d69b52c57c",
       "version_major": 2,
       "version_minor": 0
      },
      "text/plain": [
       "Fetching 6 files:   0%|          | 0/6 [00:00<?, ?it/s]"
      ]
     },
     "metadata": {},
     "output_type": "display_data"
    },
    {
     "data": {
      "application/vnd.jupyter.widget-view+json": {
       "model_id": "0cd5c509dda74310b087ca5bfd020d2d",
       "version_major": 2,
       "version_minor": 0
      },
      "text/plain": [
       "Fetching 6 files:   0%|          | 0/6 [00:00<?, ?it/s]"
      ]
     },
     "metadata": {},
     "output_type": "display_data"
    },
    {
     "data": {
      "application/vnd.jupyter.widget-view+json": {
       "model_id": "2964692cd8094901a9814eeb131a5345",
       "version_major": 2,
       "version_minor": 0
      },
      "text/plain": [
       "Fetching 6 files:   0%|          | 0/6 [00:00<?, ?it/s]"
      ]
     },
     "metadata": {},
     "output_type": "display_data"
    },
    {
     "data": {
      "application/vnd.jupyter.widget-view+json": {
       "model_id": "3eb62848cf5f41e7b04987478a770983",
       "version_major": 2,
       "version_minor": 0
      },
      "text/plain": [
       "Fetching 6 files:   0%|          | 0/6 [00:00<?, ?it/s]"
      ]
     },
     "metadata": {},
     "output_type": "display_data"
    },
    {
     "data": {
      "application/vnd.jupyter.widget-view+json": {
       "model_id": "076767b67b5c4c68bf301dc881f58e26",
       "version_major": 2,
       "version_minor": 0
      },
      "text/plain": [
       "Fetching 6 files:   0%|          | 0/6 [00:00<?, ?it/s]"
      ]
     },
     "metadata": {},
     "output_type": "display_data"
    },
    {
     "data": {
      "application/vnd.jupyter.widget-view+json": {
       "model_id": "6eee672351a443c39639b101bc33540e",
       "version_major": 2,
       "version_minor": 0
      },
      "text/plain": [
       "Fetching 6 files:   0%|          | 0/6 [00:00<?, ?it/s]"
      ]
     },
     "metadata": {},
     "output_type": "display_data"
    },
    {
     "data": {
      "application/vnd.jupyter.widget-view+json": {
       "model_id": "9375c55c260b492a95af3b4080a0d534",
       "version_major": 2,
       "version_minor": 0
      },
      "text/plain": [
       "Fetching 6 files:   0%|          | 0/6 [00:00<?, ?it/s]"
      ]
     },
     "metadata": {},
     "output_type": "display_data"
    },
    {
     "data": {
      "application/vnd.jupyter.widget-view+json": {
       "model_id": "0356608538b241b898abea12186adb5f",
       "version_major": 2,
       "version_minor": 0
      },
      "text/plain": [
       "Fetching 6 files:   0%|          | 0/6 [00:00<?, ?it/s]"
      ]
     },
     "metadata": {},
     "output_type": "display_data"
    },
    {
     "data": {
      "application/vnd.jupyter.widget-view+json": {
       "model_id": "1f2b0016544848818110c395ec5314d3",
       "version_major": 2,
       "version_minor": 0
      },
      "text/plain": [
       "Fetching 6 files:   0%|          | 0/6 [00:00<?, ?it/s]"
      ]
     },
     "metadata": {},
     "output_type": "display_data"
    },
    {
     "data": {
      "application/vnd.jupyter.widget-view+json": {
       "model_id": "713110fe564847d088cfa71cf9eadc79",
       "version_major": 2,
       "version_minor": 0
      },
      "text/plain": [
       "Fetching 6 files:   0%|          | 0/6 [00:00<?, ?it/s]"
      ]
     },
     "metadata": {},
     "output_type": "display_data"
    },
    {
     "data": {
      "application/vnd.jupyter.widget-view+json": {
       "model_id": "1c9765e2e2074ecfa3a9c9b3a93b9310",
       "version_major": 2,
       "version_minor": 0
      },
      "text/plain": [
       "Fetching 6 files:   0%|          | 0/6 [00:00<?, ?it/s]"
      ]
     },
     "metadata": {},
     "output_type": "display_data"
    },
    {
     "data": {
      "application/vnd.jupyter.widget-view+json": {
       "model_id": "662992a4592c45689bffae9983e2eefb",
       "version_major": 2,
       "version_minor": 0
      },
      "text/plain": [
       "Fetching 6 files:   0%|          | 0/6 [00:00<?, ?it/s]"
      ]
     },
     "metadata": {},
     "output_type": "display_data"
    },
    {
     "data": {
      "application/vnd.jupyter.widget-view+json": {
       "model_id": "076520369378405988b328a615b57e9e",
       "version_major": 2,
       "version_minor": 0
      },
      "text/plain": [
       "Fetching 6 files:   0%|          | 0/6 [00:00<?, ?it/s]"
      ]
     },
     "metadata": {},
     "output_type": "display_data"
    },
    {
     "data": {
      "application/vnd.jupyter.widget-view+json": {
       "model_id": "a8b0f37957014ddf9bf5428b6448ea4b",
       "version_major": 2,
       "version_minor": 0
      },
      "text/plain": [
       "Fetching 6 files:   0%|          | 0/6 [00:00<?, ?it/s]"
      ]
     },
     "metadata": {},
     "output_type": "display_data"
    },
    {
     "data": {
      "application/vnd.jupyter.widget-view+json": {
       "model_id": "8931c26d1c4347b6938e99182a4ca74a",
       "version_major": 2,
       "version_minor": 0
      },
      "text/plain": [
       "Fetching 6 files:   0%|          | 0/6 [00:00<?, ?it/s]"
      ]
     },
     "metadata": {},
     "output_type": "display_data"
    },
    {
     "data": {
      "application/vnd.jupyter.widget-view+json": {
       "model_id": "02cf4a139b8748ff95a3339ed0c98ff8",
       "version_major": 2,
       "version_minor": 0
      },
      "text/plain": [
       "Fetching 6 files:   0%|          | 0/6 [00:00<?, ?it/s]"
      ]
     },
     "metadata": {},
     "output_type": "display_data"
    },
    {
     "data": {
      "application/vnd.jupyter.widget-view+json": {
       "model_id": "9a4480e804114375874f497a044824eb",
       "version_major": 2,
       "version_minor": 0
      },
      "text/plain": [
       "Fetching 6 files:   0%|          | 0/6 [00:00<?, ?it/s]"
      ]
     },
     "metadata": {},
     "output_type": "display_data"
    },
    {
     "data": {
      "application/vnd.jupyter.widget-view+json": {
       "model_id": "1a8a9acacac7405994b67a830482eee8",
       "version_major": 2,
       "version_minor": 0
      },
      "text/plain": [
       "Fetching 6 files:   0%|          | 0/6 [00:00<?, ?it/s]"
      ]
     },
     "metadata": {},
     "output_type": "display_data"
    },
    {
     "data": {
      "application/vnd.jupyter.widget-view+json": {
       "model_id": "f739771b1f62483191c3ea4e8ff14845",
       "version_major": 2,
       "version_minor": 0
      },
      "text/plain": [
       "Fetching 6 files:   0%|          | 0/6 [00:00<?, ?it/s]"
      ]
     },
     "metadata": {},
     "output_type": "display_data"
    },
    {
     "data": {
      "application/vnd.jupyter.widget-view+json": {
       "model_id": "26be55c7f1114096ad605eee8812f1b0",
       "version_major": 2,
       "version_minor": 0
      },
      "text/plain": [
       "Fetching 6 files:   0%|          | 0/6 [00:00<?, ?it/s]"
      ]
     },
     "metadata": {},
     "output_type": "display_data"
    },
    {
     "data": {
      "application/vnd.jupyter.widget-view+json": {
       "model_id": "132d41cfadc4480b92b59a5dc96bceaf",
       "version_major": 2,
       "version_minor": 0
      },
      "text/plain": [
       "Fetching 6 files:   0%|          | 0/6 [00:00<?, ?it/s]"
      ]
     },
     "metadata": {},
     "output_type": "display_data"
    },
    {
     "data": {
      "application/vnd.jupyter.widget-view+json": {
       "model_id": "7b191f4ad944454e80b07e076b0ab1fb",
       "version_major": 2,
       "version_minor": 0
      },
      "text/plain": [
       "Fetching 6 files:   0%|          | 0/6 [00:00<?, ?it/s]"
      ]
     },
     "metadata": {},
     "output_type": "display_data"
    },
    {
     "data": {
      "application/vnd.jupyter.widget-view+json": {
       "model_id": "b254accb23a04205ad8fe91c0ea561a6",
       "version_major": 2,
       "version_minor": 0
      },
      "text/plain": [
       "Fetching 6 files:   0%|          | 0/6 [00:00<?, ?it/s]"
      ]
     },
     "metadata": {},
     "output_type": "display_data"
    },
    {
     "data": {
      "application/vnd.jupyter.widget-view+json": {
       "model_id": "ea4b619172fe4ae0853be87a440505e6",
       "version_major": 2,
       "version_minor": 0
      },
      "text/plain": [
       "Fetching 6 files:   0%|          | 0/6 [00:00<?, ?it/s]"
      ]
     },
     "metadata": {},
     "output_type": "display_data"
    },
    {
     "data": {
      "application/vnd.jupyter.widget-view+json": {
       "model_id": "6a2359c674804dec844b3ee9806515cc",
       "version_major": 2,
       "version_minor": 0
      },
      "text/plain": [
       "Fetching 6 files:   0%|          | 0/6 [00:00<?, ?it/s]"
      ]
     },
     "metadata": {},
     "output_type": "display_data"
    },
    {
     "data": {
      "application/vnd.jupyter.widget-view+json": {
       "model_id": "232a1d57bf3e4f7d9d6ef3d2dc90bf6d",
       "version_major": 2,
       "version_minor": 0
      },
      "text/plain": [
       "Fetching 6 files:   0%|          | 0/6 [00:00<?, ?it/s]"
      ]
     },
     "metadata": {},
     "output_type": "display_data"
    },
    {
     "data": {
      "application/vnd.jupyter.widget-view+json": {
       "model_id": "2bb28c60f0424ef6b033c4a6aef0c6e1",
       "version_major": 2,
       "version_minor": 0
      },
      "text/plain": [
       "Fetching 6 files:   0%|          | 0/6 [00:00<?, ?it/s]"
      ]
     },
     "metadata": {},
     "output_type": "display_data"
    },
    {
     "data": {
      "application/vnd.jupyter.widget-view+json": {
       "model_id": "2a9bee6e4b194f0ba464a7f7df2ae4d4",
       "version_major": 2,
       "version_minor": 0
      },
      "text/plain": [
       "Fetching 6 files:   0%|          | 0/6 [00:00<?, ?it/s]"
      ]
     },
     "metadata": {},
     "output_type": "display_data"
    },
    {
     "data": {
      "application/vnd.jupyter.widget-view+json": {
       "model_id": "7ae3259367254a859ca859260ddd5f5b",
       "version_major": 2,
       "version_minor": 0
      },
      "text/plain": [
       "Fetching 6 files:   0%|          | 0/6 [00:00<?, ?it/s]"
      ]
     },
     "metadata": {},
     "output_type": "display_data"
    },
    {
     "data": {
      "application/vnd.jupyter.widget-view+json": {
       "model_id": "60441492468f485db8e721705bf59a28",
       "version_major": 2,
       "version_minor": 0
      },
      "text/plain": [
       "Fetching 6 files:   0%|          | 0/6 [00:00<?, ?it/s]"
      ]
     },
     "metadata": {},
     "output_type": "display_data"
    },
    {
     "data": {
      "application/vnd.jupyter.widget-view+json": {
       "model_id": "0056c72a650e4d3fa1757365f54bfb8b",
       "version_major": 2,
       "version_minor": 0
      },
      "text/plain": [
       "Fetching 6 files:   0%|          | 0/6 [00:00<?, ?it/s]"
      ]
     },
     "metadata": {},
     "output_type": "display_data"
    },
    {
     "data": {
      "application/vnd.jupyter.widget-view+json": {
       "model_id": "7947048c7f6d49b69617d935aa330912",
       "version_major": 2,
       "version_minor": 0
      },
      "text/plain": [
       "Fetching 6 files:   0%|          | 0/6 [00:00<?, ?it/s]"
      ]
     },
     "metadata": {},
     "output_type": "display_data"
    },
    {
     "data": {
      "application/vnd.jupyter.widget-view+json": {
       "model_id": "27ff418d9da7448884c80456cc93cf31",
       "version_major": 2,
       "version_minor": 0
      },
      "text/plain": [
       "Fetching 6 files:   0%|          | 0/6 [00:00<?, ?it/s]"
      ]
     },
     "metadata": {},
     "output_type": "display_data"
    },
    {
     "data": {
      "application/vnd.jupyter.widget-view+json": {
       "model_id": "5bcf36c2df9543a1b7d9aa072d3a58ab",
       "version_major": 2,
       "version_minor": 0
      },
      "text/plain": [
       "Fetching 6 files:   0%|          | 0/6 [00:00<?, ?it/s]"
      ]
     },
     "metadata": {},
     "output_type": "display_data"
    },
    {
     "data": {
      "application/vnd.jupyter.widget-view+json": {
       "model_id": "9f8d7fc7053542028deca3dc6041a2c0",
       "version_major": 2,
       "version_minor": 0
      },
      "text/plain": [
       "Fetching 6 files:   0%|          | 0/6 [00:00<?, ?it/s]"
      ]
     },
     "metadata": {},
     "output_type": "display_data"
    },
    {
     "data": {
      "application/vnd.jupyter.widget-view+json": {
       "model_id": "b2bae78d9e304392849085c2a8eeac21",
       "version_major": 2,
       "version_minor": 0
      },
      "text/plain": [
       "Fetching 6 files:   0%|          | 0/6 [00:00<?, ?it/s]"
      ]
     },
     "metadata": {},
     "output_type": "display_data"
    },
    {
     "data": {
      "application/vnd.jupyter.widget-view+json": {
       "model_id": "11980e4ac45845e49c5930e4ace131f3",
       "version_major": 2,
       "version_minor": 0
      },
      "text/plain": [
       "Fetching 6 files:   0%|          | 0/6 [00:00<?, ?it/s]"
      ]
     },
     "metadata": {},
     "output_type": "display_data"
    },
    {
     "data": {
      "application/vnd.jupyter.widget-view+json": {
       "model_id": "a1d7afd4a5724b79a6042fdddb5d8f2e",
       "version_major": 2,
       "version_minor": 0
      },
      "text/plain": [
       "Fetching 6 files:   0%|          | 0/6 [00:00<?, ?it/s]"
      ]
     },
     "metadata": {},
     "output_type": "display_data"
    },
    {
     "data": {
      "application/vnd.jupyter.widget-view+json": {
       "model_id": "cc16802f97994c03a23d844d76e2f2fb",
       "version_major": 2,
       "version_minor": 0
      },
      "text/plain": [
       "Fetching 6 files:   0%|          | 0/6 [00:00<?, ?it/s]"
      ]
     },
     "metadata": {},
     "output_type": "display_data"
    },
    {
     "data": {
      "application/vnd.jupyter.widget-view+json": {
       "model_id": "945cbc6e4fa742daa93d8a730d49cce3",
       "version_major": 2,
       "version_minor": 0
      },
      "text/plain": [
       "Fetching 6 files:   0%|          | 0/6 [00:00<?, ?it/s]"
      ]
     },
     "metadata": {},
     "output_type": "display_data"
    },
    {
     "data": {
      "application/vnd.jupyter.widget-view+json": {
       "model_id": "240e3299e5e4465f96b4952e8ceef736",
       "version_major": 2,
       "version_minor": 0
      },
      "text/plain": [
       "Fetching 6 files:   0%|          | 0/6 [00:00<?, ?it/s]"
      ]
     },
     "metadata": {},
     "output_type": "display_data"
    },
    {
     "data": {
      "application/vnd.jupyter.widget-view+json": {
       "model_id": "08c38f9bd8444d5f9ad116ca13977ab6",
       "version_major": 2,
       "version_minor": 0
      },
      "text/plain": [
       "Fetching 6 files:   0%|          | 0/6 [00:00<?, ?it/s]"
      ]
     },
     "metadata": {},
     "output_type": "display_data"
    },
    {
     "data": {
      "application/vnd.jupyter.widget-view+json": {
       "model_id": "4203a6500fc64389bd6ff426410c97c1",
       "version_major": 2,
       "version_minor": 0
      },
      "text/plain": [
       "Fetching 6 files:   0%|          | 0/6 [00:00<?, ?it/s]"
      ]
     },
     "metadata": {},
     "output_type": "display_data"
    },
    {
     "data": {
      "application/vnd.jupyter.widget-view+json": {
       "model_id": "511eed70ac45421096136aed49588a79",
       "version_major": 2,
       "version_minor": 0
      },
      "text/plain": [
       "Fetching 6 files:   0%|          | 0/6 [00:00<?, ?it/s]"
      ]
     },
     "metadata": {},
     "output_type": "display_data"
    },
    {
     "data": {
      "application/vnd.jupyter.widget-view+json": {
       "model_id": "8bd66a6b2fd74a649c0226689a117c97",
       "version_major": 2,
       "version_minor": 0
      },
      "text/plain": [
       "Fetching 6 files:   0%|          | 0/6 [00:00<?, ?it/s]"
      ]
     },
     "metadata": {},
     "output_type": "display_data"
    },
    {
     "data": {
      "application/vnd.jupyter.widget-view+json": {
       "model_id": "b70b15d9303f4adc8c4ec3174dfd1e17",
       "version_major": 2,
       "version_minor": 0
      },
      "text/plain": [
       "Fetching 6 files:   0%|          | 0/6 [00:00<?, ?it/s]"
      ]
     },
     "metadata": {},
     "output_type": "display_data"
    },
    {
     "data": {
      "application/vnd.jupyter.widget-view+json": {
       "model_id": "9d9bdb20d36044efb31f7066335ae238",
       "version_major": 2,
       "version_minor": 0
      },
      "text/plain": [
       "Fetching 6 files:   0%|          | 0/6 [00:00<?, ?it/s]"
      ]
     },
     "metadata": {},
     "output_type": "display_data"
    },
    {
     "data": {
      "application/vnd.jupyter.widget-view+json": {
       "model_id": "b61aaedbf85d457d827d8c2b9fd27c80",
       "version_major": 2,
       "version_minor": 0
      },
      "text/plain": [
       "Fetching 6 files:   0%|          | 0/6 [00:00<?, ?it/s]"
      ]
     },
     "metadata": {},
     "output_type": "display_data"
    },
    {
     "data": {
      "application/vnd.jupyter.widget-view+json": {
       "model_id": "36348b2609874c1095b8e2592f4e1e0e",
       "version_major": 2,
       "version_minor": 0
      },
      "text/plain": [
       "Fetching 6 files:   0%|          | 0/6 [00:00<?, ?it/s]"
      ]
     },
     "metadata": {},
     "output_type": "display_data"
    },
    {
     "data": {
      "application/vnd.jupyter.widget-view+json": {
       "model_id": "051ae9ead81547e0bd7ed266caf8d3e2",
       "version_major": 2,
       "version_minor": 0
      },
      "text/plain": [
       "Fetching 6 files:   0%|          | 0/6 [00:00<?, ?it/s]"
      ]
     },
     "metadata": {},
     "output_type": "display_data"
    },
    {
     "data": {
      "application/vnd.jupyter.widget-view+json": {
       "model_id": "cb5d362838424d0a9c89c930d6ab527f",
       "version_major": 2,
       "version_minor": 0
      },
      "text/plain": [
       "Fetching 6 files:   0%|          | 0/6 [00:00<?, ?it/s]"
      ]
     },
     "metadata": {},
     "output_type": "display_data"
    },
    {
     "data": {
      "application/vnd.jupyter.widget-view+json": {
       "model_id": "6bc35fb20d464a5c8373220e82980f01",
       "version_major": 2,
       "version_minor": 0
      },
      "text/plain": [
       "Fetching 6 files:   0%|          | 0/6 [00:00<?, ?it/s]"
      ]
     },
     "metadata": {},
     "output_type": "display_data"
    },
    {
     "data": {
      "application/vnd.jupyter.widget-view+json": {
       "model_id": "fcb1f4690f2d46f8b52b0efb146e92a0",
       "version_major": 2,
       "version_minor": 0
      },
      "text/plain": [
       "Fetching 6 files:   0%|          | 0/6 [00:00<?, ?it/s]"
      ]
     },
     "metadata": {},
     "output_type": "display_data"
    },
    {
     "data": {
      "application/vnd.jupyter.widget-view+json": {
       "model_id": "2bec1f11dbbd45a089271f7140a84922",
       "version_major": 2,
       "version_minor": 0
      },
      "text/plain": [
       "Fetching 6 files:   0%|          | 0/6 [00:00<?, ?it/s]"
      ]
     },
     "metadata": {},
     "output_type": "display_data"
    },
    {
     "data": {
      "application/vnd.jupyter.widget-view+json": {
       "model_id": "4ffa7065a73c4c14833740cb2cb14633",
       "version_major": 2,
       "version_minor": 0
      },
      "text/plain": [
       "Fetching 6 files:   0%|          | 0/6 [00:00<?, ?it/s]"
      ]
     },
     "metadata": {},
     "output_type": "display_data"
    },
    {
     "data": {
      "application/vnd.jupyter.widget-view+json": {
       "model_id": "fa27f9577fc64fe7940ea51e73753611",
       "version_major": 2,
       "version_minor": 0
      },
      "text/plain": [
       "Fetching 6 files:   0%|          | 0/6 [00:00<?, ?it/s]"
      ]
     },
     "metadata": {},
     "output_type": "display_data"
    },
    {
     "data": {
      "application/vnd.jupyter.widget-view+json": {
       "model_id": "c1b89f88855c4ed19d5dbc190613cbd1",
       "version_major": 2,
       "version_minor": 0
      },
      "text/plain": [
       "Fetching 6 files:   0%|          | 0/6 [00:00<?, ?it/s]"
      ]
     },
     "metadata": {},
     "output_type": "display_data"
    },
    {
     "data": {
      "application/vnd.jupyter.widget-view+json": {
       "model_id": "09bf259f2d744b0aa96dad485c644d2f",
       "version_major": 2,
       "version_minor": 0
      },
      "text/plain": [
       "Fetching 6 files:   0%|          | 0/6 [00:00<?, ?it/s]"
      ]
     },
     "metadata": {},
     "output_type": "display_data"
    },
    {
     "data": {
      "application/vnd.jupyter.widget-view+json": {
       "model_id": "edb86e8ea64d4d2381ce8ddc1a11a927",
       "version_major": 2,
       "version_minor": 0
      },
      "text/plain": [
       "Fetching 6 files:   0%|          | 0/6 [00:00<?, ?it/s]"
      ]
     },
     "metadata": {},
     "output_type": "display_data"
    },
    {
     "data": {
      "application/vnd.jupyter.widget-view+json": {
       "model_id": "55f7f581d9d24cb08770daee2eaf8ec7",
       "version_major": 2,
       "version_minor": 0
      },
      "text/plain": [
       "Fetching 6 files:   0%|          | 0/6 [00:00<?, ?it/s]"
      ]
     },
     "metadata": {},
     "output_type": "display_data"
    },
    {
     "data": {
      "application/vnd.jupyter.widget-view+json": {
       "model_id": "7a4071aae625430d86aadea321fdeebf",
       "version_major": 2,
       "version_minor": 0
      },
      "text/plain": [
       "Fetching 6 files:   0%|          | 0/6 [00:00<?, ?it/s]"
      ]
     },
     "metadata": {},
     "output_type": "display_data"
    },
    {
     "data": {
      "application/vnd.jupyter.widget-view+json": {
       "model_id": "cee53360647540f6a339a6a29e983774",
       "version_major": 2,
       "version_minor": 0
      },
      "text/plain": [
       "Fetching 6 files:   0%|          | 0/6 [00:00<?, ?it/s]"
      ]
     },
     "metadata": {},
     "output_type": "display_data"
    },
    {
     "data": {
      "application/vnd.jupyter.widget-view+json": {
       "model_id": "b5ebb51264ad4a63937cd97fef0acf6c",
       "version_major": 2,
       "version_minor": 0
      },
      "text/plain": [
       "Fetching 6 files:   0%|          | 0/6 [00:00<?, ?it/s]"
      ]
     },
     "metadata": {},
     "output_type": "display_data"
    },
    {
     "data": {
      "application/vnd.jupyter.widget-view+json": {
       "model_id": "1c4a573e68794851a1a56a98bb57196e",
       "version_major": 2,
       "version_minor": 0
      },
      "text/plain": [
       "Fetching 6 files:   0%|          | 0/6 [00:00<?, ?it/s]"
      ]
     },
     "metadata": {},
     "output_type": "display_data"
    },
    {
     "data": {
      "application/vnd.jupyter.widget-view+json": {
       "model_id": "ab607817ed7e4425939c5d47d5e2f03b",
       "version_major": 2,
       "version_minor": 0
      },
      "text/plain": [
       "Fetching 6 files:   0%|          | 0/6 [00:00<?, ?it/s]"
      ]
     },
     "metadata": {},
     "output_type": "display_data"
    },
    {
     "data": {
      "application/vnd.jupyter.widget-view+json": {
       "model_id": "f28c7025dc3a456090ae49d3cb830702",
       "version_major": 2,
       "version_minor": 0
      },
      "text/plain": [
       "Fetching 6 files:   0%|          | 0/6 [00:00<?, ?it/s]"
      ]
     },
     "metadata": {},
     "output_type": "display_data"
    },
    {
     "data": {
      "application/vnd.jupyter.widget-view+json": {
       "model_id": "47a1903fb1f04df195bdbb73bf96f639",
       "version_major": 2,
       "version_minor": 0
      },
      "text/plain": [
       "Fetching 6 files:   0%|          | 0/6 [00:00<?, ?it/s]"
      ]
     },
     "metadata": {},
     "output_type": "display_data"
    },
    {
     "data": {
      "application/vnd.jupyter.widget-view+json": {
       "model_id": "f99dfba3643646db8bff438a9e10e2c7",
       "version_major": 2,
       "version_minor": 0
      },
      "text/plain": [
       "Fetching 6 files:   0%|          | 0/6 [00:00<?, ?it/s]"
      ]
     },
     "metadata": {},
     "output_type": "display_data"
    },
    {
     "data": {
      "application/vnd.jupyter.widget-view+json": {
       "model_id": "56fc53022f404623a1d8d4a44eb99993",
       "version_major": 2,
       "version_minor": 0
      },
      "text/plain": [
       "Fetching 6 files:   0%|          | 0/6 [00:00<?, ?it/s]"
      ]
     },
     "metadata": {},
     "output_type": "display_data"
    },
    {
     "data": {
      "application/vnd.jupyter.widget-view+json": {
       "model_id": "9ea4cc8e7a6740b3b39821a5a1c8a11d",
       "version_major": 2,
       "version_minor": 0
      },
      "text/plain": [
       "Fetching 6 files:   0%|          | 0/6 [00:00<?, ?it/s]"
      ]
     },
     "metadata": {},
     "output_type": "display_data"
    },
    {
     "data": {
      "application/vnd.jupyter.widget-view+json": {
       "model_id": "7a88b25df706441e9c48f0ac332c0b0e",
       "version_major": 2,
       "version_minor": 0
      },
      "text/plain": [
       "Fetching 6 files:   0%|          | 0/6 [00:00<?, ?it/s]"
      ]
     },
     "metadata": {},
     "output_type": "display_data"
    },
    {
     "data": {
      "application/vnd.jupyter.widget-view+json": {
       "model_id": "674905d69f1a43dbae11e96c3da7d57a",
       "version_major": 2,
       "version_minor": 0
      },
      "text/plain": [
       "Fetching 6 files:   0%|          | 0/6 [00:00<?, ?it/s]"
      ]
     },
     "metadata": {},
     "output_type": "display_data"
    },
    {
     "data": {
      "application/vnd.jupyter.widget-view+json": {
       "model_id": "fb7c079dd53444cfaf5414356ef7046f",
       "version_major": 2,
       "version_minor": 0
      },
      "text/plain": [
       "Fetching 6 files:   0%|          | 0/6 [00:00<?, ?it/s]"
      ]
     },
     "metadata": {},
     "output_type": "display_data"
    },
    {
     "data": {
      "application/vnd.jupyter.widget-view+json": {
       "model_id": "5504a9fa95a94ffc9a96f970f5241d8c",
       "version_major": 2,
       "version_minor": 0
      },
      "text/plain": [
       "Fetching 6 files:   0%|          | 0/6 [00:00<?, ?it/s]"
      ]
     },
     "metadata": {},
     "output_type": "display_data"
    },
    {
     "data": {
      "application/vnd.jupyter.widget-view+json": {
       "model_id": "fc1a7d93985047d6bb7ce7f7814b0c3a",
       "version_major": 2,
       "version_minor": 0
      },
      "text/plain": [
       "Fetching 6 files:   0%|          | 0/6 [00:00<?, ?it/s]"
      ]
     },
     "metadata": {},
     "output_type": "display_data"
    },
    {
     "data": {
      "application/vnd.jupyter.widget-view+json": {
       "model_id": "e48cf5a2e3eb4c1f9412c5944ee91b5c",
       "version_major": 2,
       "version_minor": 0
      },
      "text/plain": [
       "Fetching 6 files:   0%|          | 0/6 [00:00<?, ?it/s]"
      ]
     },
     "metadata": {},
     "output_type": "display_data"
    },
    {
     "data": {
      "application/vnd.jupyter.widget-view+json": {
       "model_id": "d131963d5ba746e9a857c4d26044bcec",
       "version_major": 2,
       "version_minor": 0
      },
      "text/plain": [
       "Fetching 6 files:   0%|          | 0/6 [00:00<?, ?it/s]"
      ]
     },
     "metadata": {},
     "output_type": "display_data"
    },
    {
     "data": {
      "application/vnd.jupyter.widget-view+json": {
       "model_id": "b8658e683dd24685ba6ddd22e9aa53b7",
       "version_major": 2,
       "version_minor": 0
      },
      "text/plain": [
       "Fetching 6 files:   0%|          | 0/6 [00:00<?, ?it/s]"
      ]
     },
     "metadata": {},
     "output_type": "display_data"
    },
    {
     "data": {
      "application/vnd.jupyter.widget-view+json": {
       "model_id": "c0c3f324f2af42b19c9e7bff874a64b5",
       "version_major": 2,
       "version_minor": 0
      },
      "text/plain": [
       "Fetching 6 files:   0%|          | 0/6 [00:00<?, ?it/s]"
      ]
     },
     "metadata": {},
     "output_type": "display_data"
    },
    {
     "data": {
      "application/vnd.jupyter.widget-view+json": {
       "model_id": "5864f30241e94c85a63b01945d3dea38",
       "version_major": 2,
       "version_minor": 0
      },
      "text/plain": [
       "Fetching 6 files:   0%|          | 0/6 [00:00<?, ?it/s]"
      ]
     },
     "metadata": {},
     "output_type": "display_data"
    },
    {
     "data": {
      "application/vnd.jupyter.widget-view+json": {
       "model_id": "cee546d0608e4eeb9eb8dd34a23a50e9",
       "version_major": 2,
       "version_minor": 0
      },
      "text/plain": [
       "Fetching 6 files:   0%|          | 0/6 [00:00<?, ?it/s]"
      ]
     },
     "metadata": {},
     "output_type": "display_data"
    },
    {
     "data": {
      "application/vnd.jupyter.widget-view+json": {
       "model_id": "23583e1989de492ea4879dc659a806d4",
       "version_major": 2,
       "version_minor": 0
      },
      "text/plain": [
       "Fetching 6 files:   0%|          | 0/6 [00:00<?, ?it/s]"
      ]
     },
     "metadata": {},
     "output_type": "display_data"
    },
    {
     "data": {
      "application/vnd.jupyter.widget-view+json": {
       "model_id": "b729a1244d7f462c8339d2f406944b0c",
       "version_major": 2,
       "version_minor": 0
      },
      "text/plain": [
       "Fetching 6 files:   0%|          | 0/6 [00:00<?, ?it/s]"
      ]
     },
     "metadata": {},
     "output_type": "display_data"
    },
    {
     "data": {
      "application/vnd.jupyter.widget-view+json": {
       "model_id": "66edb4b907934b99952f6f1cbf303cc9",
       "version_major": 2,
       "version_minor": 0
      },
      "text/plain": [
       "Fetching 6 files:   0%|          | 0/6 [00:00<?, ?it/s]"
      ]
     },
     "metadata": {},
     "output_type": "display_data"
    },
    {
     "data": {
      "application/vnd.jupyter.widget-view+json": {
       "model_id": "5a02f5d059d043b6a939fc09d613dd90",
       "version_major": 2,
       "version_minor": 0
      },
      "text/plain": [
       "Fetching 6 files:   0%|          | 0/6 [00:00<?, ?it/s]"
      ]
     },
     "metadata": {},
     "output_type": "display_data"
    },
    {
     "data": {
      "application/vnd.jupyter.widget-view+json": {
       "model_id": "9dba013a8b4e4c47ac6d982adab0cf4c",
       "version_major": 2,
       "version_minor": 0
      },
      "text/plain": [
       "Fetching 6 files:   0%|          | 0/6 [00:00<?, ?it/s]"
      ]
     },
     "metadata": {},
     "output_type": "display_data"
    },
    {
     "data": {
      "application/vnd.jupyter.widget-view+json": {
       "model_id": "6f9575ad0fd34b898d7d10c08155e821",
       "version_major": 2,
       "version_minor": 0
      },
      "text/plain": [
       "Fetching 6 files:   0%|          | 0/6 [00:00<?, ?it/s]"
      ]
     },
     "metadata": {},
     "output_type": "display_data"
    },
    {
     "data": {
      "application/vnd.jupyter.widget-view+json": {
       "model_id": "de441fc79e084fda90649989bb7aa701",
       "version_major": 2,
       "version_minor": 0
      },
      "text/plain": [
       "Fetching 6 files:   0%|          | 0/6 [00:00<?, ?it/s]"
      ]
     },
     "metadata": {},
     "output_type": "display_data"
    },
    {
     "data": {
      "application/vnd.jupyter.widget-view+json": {
       "model_id": "cfd988478bee44b18411df37a4766bae",
       "version_major": 2,
       "version_minor": 0
      },
      "text/plain": [
       "Fetching 6 files:   0%|          | 0/6 [00:00<?, ?it/s]"
      ]
     },
     "metadata": {},
     "output_type": "display_data"
    },
    {
     "data": {
      "application/vnd.jupyter.widget-view+json": {
       "model_id": "e2770f51d4414d5aabd53bae09416677",
       "version_major": 2,
       "version_minor": 0
      },
      "text/plain": [
       "Fetching 6 files:   0%|          | 0/6 [00:00<?, ?it/s]"
      ]
     },
     "metadata": {},
     "output_type": "display_data"
    },
    {
     "data": {
      "application/vnd.jupyter.widget-view+json": {
       "model_id": "5bff1b1895384ea181d9b045c3b23dbd",
       "version_major": 2,
       "version_minor": 0
      },
      "text/plain": [
       "Fetching 6 files:   0%|          | 0/6 [00:00<?, ?it/s]"
      ]
     },
     "metadata": {},
     "output_type": "display_data"
    },
    {
     "data": {
      "application/vnd.jupyter.widget-view+json": {
       "model_id": "38e3dbbc893c41a7b46f59d315dc735f",
       "version_major": 2,
       "version_minor": 0
      },
      "text/plain": [
       "Fetching 6 files:   0%|          | 0/6 [00:00<?, ?it/s]"
      ]
     },
     "metadata": {},
     "output_type": "display_data"
    },
    {
     "data": {
      "application/vnd.jupyter.widget-view+json": {
       "model_id": "b8a4b0621acd4de9804d0a157e0b0807",
       "version_major": 2,
       "version_minor": 0
      },
      "text/plain": [
       "Fetching 6 files:   0%|          | 0/6 [00:00<?, ?it/s]"
      ]
     },
     "metadata": {},
     "output_type": "display_data"
    },
    {
     "data": {
      "application/vnd.jupyter.widget-view+json": {
       "model_id": "3038a6283ba24d53b35f3e867287ebf4",
       "version_major": 2,
       "version_minor": 0
      },
      "text/plain": [
       "Fetching 6 files:   0%|          | 0/6 [00:00<?, ?it/s]"
      ]
     },
     "metadata": {},
     "output_type": "display_data"
    },
    {
     "data": {
      "application/vnd.jupyter.widget-view+json": {
       "model_id": "00c581d060a04c14857f95303d2f53a7",
       "version_major": 2,
       "version_minor": 0
      },
      "text/plain": [
       "Fetching 6 files:   0%|          | 0/6 [00:00<?, ?it/s]"
      ]
     },
     "metadata": {},
     "output_type": "display_data"
    },
    {
     "data": {
      "application/vnd.jupyter.widget-view+json": {
       "model_id": "ab42b9666b51468a9a6432acaedfa602",
       "version_major": 2,
       "version_minor": 0
      },
      "text/plain": [
       "Fetching 6 files:   0%|          | 0/6 [00:00<?, ?it/s]"
      ]
     },
     "metadata": {},
     "output_type": "display_data"
    },
    {
     "data": {
      "application/vnd.jupyter.widget-view+json": {
       "model_id": "1cf5b2cca2324eb68181b7cc56a4172b",
       "version_major": 2,
       "version_minor": 0
      },
      "text/plain": [
       "Fetching 6 files:   0%|          | 0/6 [00:00<?, ?it/s]"
      ]
     },
     "metadata": {},
     "output_type": "display_data"
    },
    {
     "data": {
      "application/vnd.jupyter.widget-view+json": {
       "model_id": "4aeaad8b4ef5456baf62efbb70a48299",
       "version_major": 2,
       "version_minor": 0
      },
      "text/plain": [
       "Fetching 6 files:   0%|          | 0/6 [00:00<?, ?it/s]"
      ]
     },
     "metadata": {},
     "output_type": "display_data"
    },
    {
     "data": {
      "application/vnd.jupyter.widget-view+json": {
       "model_id": "6c15bda83c4e4c98933b30e7d4131127",
       "version_major": 2,
       "version_minor": 0
      },
      "text/plain": [
       "Fetching 6 files:   0%|          | 0/6 [00:00<?, ?it/s]"
      ]
     },
     "metadata": {},
     "output_type": "display_data"
    },
    {
     "data": {
      "application/vnd.jupyter.widget-view+json": {
       "model_id": "05fa491ba2d348cebdf67ee52587fd3d",
       "version_major": 2,
       "version_minor": 0
      },
      "text/plain": [
       "Fetching 6 files:   0%|          | 0/6 [00:00<?, ?it/s]"
      ]
     },
     "metadata": {},
     "output_type": "display_data"
    },
    {
     "data": {
      "application/vnd.jupyter.widget-view+json": {
       "model_id": "e46fb84215a0483eb96f2e4669e5ea9e",
       "version_major": 2,
       "version_minor": 0
      },
      "text/plain": [
       "Fetching 6 files:   0%|          | 0/6 [00:00<?, ?it/s]"
      ]
     },
     "metadata": {},
     "output_type": "display_data"
    },
    {
     "data": {
      "application/vnd.jupyter.widget-view+json": {
       "model_id": "fb1fc43e1f8e4983b9c976322ff741b1",
       "version_major": 2,
       "version_minor": 0
      },
      "text/plain": [
       "Fetching 6 files:   0%|          | 0/6 [00:00<?, ?it/s]"
      ]
     },
     "metadata": {},
     "output_type": "display_data"
    },
    {
     "data": {
      "application/vnd.jupyter.widget-view+json": {
       "model_id": "53ab7b65e3254041ae03c59abb257b4f",
       "version_major": 2,
       "version_minor": 0
      },
      "text/plain": [
       "Fetching 6 files:   0%|          | 0/6 [00:00<?, ?it/s]"
      ]
     },
     "metadata": {},
     "output_type": "display_data"
    },
    {
     "data": {
      "application/vnd.jupyter.widget-view+json": {
       "model_id": "f511f56169644415b726788b971802ed",
       "version_major": 2,
       "version_minor": 0
      },
      "text/plain": [
       "Fetching 6 files:   0%|          | 0/6 [00:00<?, ?it/s]"
      ]
     },
     "metadata": {},
     "output_type": "display_data"
    },
    {
     "data": {
      "application/vnd.jupyter.widget-view+json": {
       "model_id": "41011cd619e9431099d47a9ccbc7a30d",
       "version_major": 2,
       "version_minor": 0
      },
      "text/plain": [
       "Fetching 6 files:   0%|          | 0/6 [00:00<?, ?it/s]"
      ]
     },
     "metadata": {},
     "output_type": "display_data"
    },
    {
     "data": {
      "application/vnd.jupyter.widget-view+json": {
       "model_id": "5842003841184918aa8212318125c7ff",
       "version_major": 2,
       "version_minor": 0
      },
      "text/plain": [
       "Fetching 6 files:   0%|          | 0/6 [00:00<?, ?it/s]"
      ]
     },
     "metadata": {},
     "output_type": "display_data"
    },
    {
     "data": {
      "application/vnd.jupyter.widget-view+json": {
       "model_id": "31213c7b05fe43a29ad6cdb50bf8869d",
       "version_major": 2,
       "version_minor": 0
      },
      "text/plain": [
       "Fetching 6 files:   0%|          | 0/6 [00:00<?, ?it/s]"
      ]
     },
     "metadata": {},
     "output_type": "display_data"
    },
    {
     "data": {
      "application/vnd.jupyter.widget-view+json": {
       "model_id": "0ee656d7e0ee4615b7de37d5ef7bda6e",
       "version_major": 2,
       "version_minor": 0
      },
      "text/plain": [
       "Fetching 6 files:   0%|          | 0/6 [00:00<?, ?it/s]"
      ]
     },
     "metadata": {},
     "output_type": "display_data"
    },
    {
     "data": {
      "application/vnd.jupyter.widget-view+json": {
       "model_id": "4b3bc6d5bc0b4be19d1c03ad92ee0fca",
       "version_major": 2,
       "version_minor": 0
      },
      "text/plain": [
       "Fetching 6 files:   0%|          | 0/6 [00:00<?, ?it/s]"
      ]
     },
     "metadata": {},
     "output_type": "display_data"
    },
    {
     "data": {
      "application/vnd.jupyter.widget-view+json": {
       "model_id": "952e8c4e6d1b4d86b393a2c029d9ef5b",
       "version_major": 2,
       "version_minor": 0
      },
      "text/plain": [
       "Fetching 6 files:   0%|          | 0/6 [00:00<?, ?it/s]"
      ]
     },
     "metadata": {},
     "output_type": "display_data"
    },
    {
     "data": {
      "application/vnd.jupyter.widget-view+json": {
       "model_id": "7488409ba280450dbf2dfea766cd00f3",
       "version_major": 2,
       "version_minor": 0
      },
      "text/plain": [
       "Fetching 6 files:   0%|          | 0/6 [00:00<?, ?it/s]"
      ]
     },
     "metadata": {},
     "output_type": "display_data"
    },
    {
     "data": {
      "application/vnd.jupyter.widget-view+json": {
       "model_id": "d099ab6bf5e941cd9b3fa40bc03206ac",
       "version_major": 2,
       "version_minor": 0
      },
      "text/plain": [
       "Fetching 6 files:   0%|          | 0/6 [00:00<?, ?it/s]"
      ]
     },
     "metadata": {},
     "output_type": "display_data"
    },
    {
     "data": {
      "application/vnd.jupyter.widget-view+json": {
       "model_id": "7a2ed3f7937540e19687eb80bfc09bda",
       "version_major": 2,
       "version_minor": 0
      },
      "text/plain": [
       "Fetching 6 files:   0%|          | 0/6 [00:00<?, ?it/s]"
      ]
     },
     "metadata": {},
     "output_type": "display_data"
    },
    {
     "data": {
      "application/vnd.jupyter.widget-view+json": {
       "model_id": "3e7f3ab30a5b4fcfb86bc6b1c16ab736",
       "version_major": 2,
       "version_minor": 0
      },
      "text/plain": [
       "Fetching 6 files:   0%|          | 0/6 [00:00<?, ?it/s]"
      ]
     },
     "metadata": {},
     "output_type": "display_data"
    },
    {
     "data": {
      "application/vnd.jupyter.widget-view+json": {
       "model_id": "4691fcba3b8848a5ad8dc37e8db17b06",
       "version_major": 2,
       "version_minor": 0
      },
      "text/plain": [
       "Fetching 6 files:   0%|          | 0/6 [00:00<?, ?it/s]"
      ]
     },
     "metadata": {},
     "output_type": "display_data"
    },
    {
     "data": {
      "application/vnd.jupyter.widget-view+json": {
       "model_id": "e514002f30c44618b6e6584b11c68d39",
       "version_major": 2,
       "version_minor": 0
      },
      "text/plain": [
       "Fetching 6 files:   0%|          | 0/6 [00:00<?, ?it/s]"
      ]
     },
     "metadata": {},
     "output_type": "display_data"
    },
    {
     "data": {
      "application/vnd.jupyter.widget-view+json": {
       "model_id": "2e8b3daa6d0243039150bfc4b9f3fc3d",
       "version_major": 2,
       "version_minor": 0
      },
      "text/plain": [
       "Fetching 6 files:   0%|          | 0/6 [00:00<?, ?it/s]"
      ]
     },
     "metadata": {},
     "output_type": "display_data"
    },
    {
     "data": {
      "application/vnd.jupyter.widget-view+json": {
       "model_id": "65842e44a02d4bf68c81a6eec768efc8",
       "version_major": 2,
       "version_minor": 0
      },
      "text/plain": [
       "Fetching 6 files:   0%|          | 0/6 [00:00<?, ?it/s]"
      ]
     },
     "metadata": {},
     "output_type": "display_data"
    },
    {
     "data": {
      "application/vnd.jupyter.widget-view+json": {
       "model_id": "b905f527b158456cb7096360be070592",
       "version_major": 2,
       "version_minor": 0
      },
      "text/plain": [
       "Fetching 6 files:   0%|          | 0/6 [00:00<?, ?it/s]"
      ]
     },
     "metadata": {},
     "output_type": "display_data"
    },
    {
     "data": {
      "application/vnd.jupyter.widget-view+json": {
       "model_id": "6cc7376e9d5940a4bd63e82742a7959c",
       "version_major": 2,
       "version_minor": 0
      },
      "text/plain": [
       "Fetching 6 files:   0%|          | 0/6 [00:00<?, ?it/s]"
      ]
     },
     "metadata": {},
     "output_type": "display_data"
    },
    {
     "data": {
      "application/vnd.jupyter.widget-view+json": {
       "model_id": "359881723984423cbe0f62efbf3baeec",
       "version_major": 2,
       "version_minor": 0
      },
      "text/plain": [
       "Fetching 6 files:   0%|          | 0/6 [00:00<?, ?it/s]"
      ]
     },
     "metadata": {},
     "output_type": "display_data"
    },
    {
     "data": {
      "application/vnd.jupyter.widget-view+json": {
       "model_id": "eafde9f4f42548569a71854b3831a655",
       "version_major": 2,
       "version_minor": 0
      },
      "text/plain": [
       "Fetching 6 files:   0%|          | 0/6 [00:00<?, ?it/s]"
      ]
     },
     "metadata": {},
     "output_type": "display_data"
    },
    {
     "data": {
      "application/vnd.jupyter.widget-view+json": {
       "model_id": "ef58815aea564bbebaee1b9dc63ba39a",
       "version_major": 2,
       "version_minor": 0
      },
      "text/plain": [
       "Fetching 6 files:   0%|          | 0/6 [00:00<?, ?it/s]"
      ]
     },
     "metadata": {},
     "output_type": "display_data"
    },
    {
     "data": {
      "application/vnd.jupyter.widget-view+json": {
       "model_id": "39932fc477984f3994bc95ebd09a1e9e",
       "version_major": 2,
       "version_minor": 0
      },
      "text/plain": [
       "Fetching 6 files:   0%|          | 0/6 [00:00<?, ?it/s]"
      ]
     },
     "metadata": {},
     "output_type": "display_data"
    },
    {
     "data": {
      "application/vnd.jupyter.widget-view+json": {
       "model_id": "baf436a6ff21430690b9ba296f8f46b4",
       "version_major": 2,
       "version_minor": 0
      },
      "text/plain": [
       "Fetching 6 files:   0%|          | 0/6 [00:00<?, ?it/s]"
      ]
     },
     "metadata": {},
     "output_type": "display_data"
    },
    {
     "data": {
      "application/vnd.jupyter.widget-view+json": {
       "model_id": "f77b6bc7f2334977a3139f1dfe715756",
       "version_major": 2,
       "version_minor": 0
      },
      "text/plain": [
       "Fetching 6 files:   0%|          | 0/6 [00:00<?, ?it/s]"
      ]
     },
     "metadata": {},
     "output_type": "display_data"
    },
    {
     "data": {
      "application/vnd.jupyter.widget-view+json": {
       "model_id": "aeef0a553c3a48ebb38057d3695aaf41",
       "version_major": 2,
       "version_minor": 0
      },
      "text/plain": [
       "Fetching 6 files:   0%|          | 0/6 [00:00<?, ?it/s]"
      ]
     },
     "metadata": {},
     "output_type": "display_data"
    },
    {
     "data": {
      "application/vnd.jupyter.widget-view+json": {
       "model_id": "b642da8594134574b5b20a43b64b1281",
       "version_major": 2,
       "version_minor": 0
      },
      "text/plain": [
       "Fetching 6 files:   0%|          | 0/6 [00:00<?, ?it/s]"
      ]
     },
     "metadata": {},
     "output_type": "display_data"
    },
    {
     "data": {
      "application/vnd.jupyter.widget-view+json": {
       "model_id": "be65a05461c54f48a154c487424665ac",
       "version_major": 2,
       "version_minor": 0
      },
      "text/plain": [
       "Fetching 6 files:   0%|          | 0/6 [00:00<?, ?it/s]"
      ]
     },
     "metadata": {},
     "output_type": "display_data"
    },
    {
     "data": {
      "application/vnd.jupyter.widget-view+json": {
       "model_id": "6f167b0892f44a7a9c52af0fdd6a3506",
       "version_major": 2,
       "version_minor": 0
      },
      "text/plain": [
       "Fetching 6 files:   0%|          | 0/6 [00:00<?, ?it/s]"
      ]
     },
     "metadata": {},
     "output_type": "display_data"
    },
    {
     "data": {
      "application/vnd.jupyter.widget-view+json": {
       "model_id": "2b590c6965bc4a9185362b4bdc720a46",
       "version_major": 2,
       "version_minor": 0
      },
      "text/plain": [
       "Fetching 6 files:   0%|          | 0/6 [00:00<?, ?it/s]"
      ]
     },
     "metadata": {},
     "output_type": "display_data"
    },
    {
     "data": {
      "application/vnd.jupyter.widget-view+json": {
       "model_id": "4b52c466ba00492b8f53b57488ba259d",
       "version_major": 2,
       "version_minor": 0
      },
      "text/plain": [
       "Fetching 6 files:   0%|          | 0/6 [00:00<?, ?it/s]"
      ]
     },
     "metadata": {},
     "output_type": "display_data"
    },
    {
     "data": {
      "application/vnd.jupyter.widget-view+json": {
       "model_id": "27fb6850f9af468eacd890bc2acebb61",
       "version_major": 2,
       "version_minor": 0
      },
      "text/plain": [
       "Fetching 6 files:   0%|          | 0/6 [00:00<?, ?it/s]"
      ]
     },
     "metadata": {},
     "output_type": "display_data"
    },
    {
     "data": {
      "application/vnd.jupyter.widget-view+json": {
       "model_id": "247d6b208b6b4332bb95fd81a00c93b8",
       "version_major": 2,
       "version_minor": 0
      },
      "text/plain": [
       "Fetching 6 files:   0%|          | 0/6 [00:00<?, ?it/s]"
      ]
     },
     "metadata": {},
     "output_type": "display_data"
    },
    {
     "data": {
      "application/vnd.jupyter.widget-view+json": {
       "model_id": "4b5e229dd55a483da373e7d6e077bc4c",
       "version_major": 2,
       "version_minor": 0
      },
      "text/plain": [
       "Fetching 6 files:   0%|          | 0/6 [00:00<?, ?it/s]"
      ]
     },
     "metadata": {},
     "output_type": "display_data"
    },
    {
     "data": {
      "application/vnd.jupyter.widget-view+json": {
       "model_id": "9414f8bc9e514dab999f667188a360ba",
       "version_major": 2,
       "version_minor": 0
      },
      "text/plain": [
       "Fetching 6 files:   0%|          | 0/6 [00:00<?, ?it/s]"
      ]
     },
     "metadata": {},
     "output_type": "display_data"
    },
    {
     "data": {
      "application/vnd.jupyter.widget-view+json": {
       "model_id": "15be80d6db814ba4ae84cc2e6a22c7b9",
       "version_major": 2,
       "version_minor": 0
      },
      "text/plain": [
       "Fetching 6 files:   0%|          | 0/6 [00:00<?, ?it/s]"
      ]
     },
     "metadata": {},
     "output_type": "display_data"
    },
    {
     "data": {
      "application/vnd.jupyter.widget-view+json": {
       "model_id": "7e7ee75bdb7b4d6889646cea5e9d983e",
       "version_major": 2,
       "version_minor": 0
      },
      "text/plain": [
       "Fetching 6 files:   0%|          | 0/6 [00:00<?, ?it/s]"
      ]
     },
     "metadata": {},
     "output_type": "display_data"
    },
    {
     "data": {
      "application/vnd.jupyter.widget-view+json": {
       "model_id": "82cc8f4a3bac4cb28daff89e5d77d270",
       "version_major": 2,
       "version_minor": 0
      },
      "text/plain": [
       "Fetching 6 files:   0%|          | 0/6 [00:00<?, ?it/s]"
      ]
     },
     "metadata": {},
     "output_type": "display_data"
    },
    {
     "data": {
      "application/vnd.jupyter.widget-view+json": {
       "model_id": "69dc7c3408bd445cb22c928c12bb1e29",
       "version_major": 2,
       "version_minor": 0
      },
      "text/plain": [
       "Fetching 6 files:   0%|          | 0/6 [00:00<?, ?it/s]"
      ]
     },
     "metadata": {},
     "output_type": "display_data"
    },
    {
     "data": {
      "application/vnd.jupyter.widget-view+json": {
       "model_id": "6d7c87e7d8ce4c44adaf1c90fcd5813b",
       "version_major": 2,
       "version_minor": 0
      },
      "text/plain": [
       "Fetching 6 files:   0%|          | 0/6 [00:00<?, ?it/s]"
      ]
     },
     "metadata": {},
     "output_type": "display_data"
    },
    {
     "data": {
      "application/vnd.jupyter.widget-view+json": {
       "model_id": "d993d1205b10465593a16d121d7ff739",
       "version_major": 2,
       "version_minor": 0
      },
      "text/plain": [
       "Fetching 6 files:   0%|          | 0/6 [00:00<?, ?it/s]"
      ]
     },
     "metadata": {},
     "output_type": "display_data"
    },
    {
     "data": {
      "application/vnd.jupyter.widget-view+json": {
       "model_id": "d7d060da1ff642fbad5b0465f250b108",
       "version_major": 2,
       "version_minor": 0
      },
      "text/plain": [
       "Fetching 6 files:   0%|          | 0/6 [00:00<?, ?it/s]"
      ]
     },
     "metadata": {},
     "output_type": "display_data"
    },
    {
     "data": {
      "application/vnd.jupyter.widget-view+json": {
       "model_id": "75b2bfbd70a74c47ab9d53e31e683664",
       "version_major": 2,
       "version_minor": 0
      },
      "text/plain": [
       "Fetching 6 files:   0%|          | 0/6 [00:00<?, ?it/s]"
      ]
     },
     "metadata": {},
     "output_type": "display_data"
    },
    {
     "data": {
      "application/vnd.jupyter.widget-view+json": {
       "model_id": "6348ab9df1944d4c80a0203e51e20edb",
       "version_major": 2,
       "version_minor": 0
      },
      "text/plain": [
       "Fetching 6 files:   0%|          | 0/6 [00:00<?, ?it/s]"
      ]
     },
     "metadata": {},
     "output_type": "display_data"
    },
    {
     "data": {
      "application/vnd.jupyter.widget-view+json": {
       "model_id": "f394ba62eb8842c3998367462eb1ab62",
       "version_major": 2,
       "version_minor": 0
      },
      "text/plain": [
       "Fetching 6 files:   0%|          | 0/6 [00:00<?, ?it/s]"
      ]
     },
     "metadata": {},
     "output_type": "display_data"
    },
    {
     "data": {
      "application/vnd.jupyter.widget-view+json": {
       "model_id": "8fe60ee51e4747de84cbe7bfee345ec7",
       "version_major": 2,
       "version_minor": 0
      },
      "text/plain": [
       "Fetching 6 files:   0%|          | 0/6 [00:00<?, ?it/s]"
      ]
     },
     "metadata": {},
     "output_type": "display_data"
    },
    {
     "data": {
      "application/vnd.jupyter.widget-view+json": {
       "model_id": "90a4294cd9c34ec2b5a1cec911af7c60",
       "version_major": 2,
       "version_minor": 0
      },
      "text/plain": [
       "Fetching 6 files:   0%|          | 0/6 [00:00<?, ?it/s]"
      ]
     },
     "metadata": {},
     "output_type": "display_data"
    },
    {
     "data": {
      "application/vnd.jupyter.widget-view+json": {
       "model_id": "11d8541391464713920f2ebc2fb5484a",
       "version_major": 2,
       "version_minor": 0
      },
      "text/plain": [
       "Fetching 6 files:   0%|          | 0/6 [00:00<?, ?it/s]"
      ]
     },
     "metadata": {},
     "output_type": "display_data"
    },
    {
     "data": {
      "application/vnd.jupyter.widget-view+json": {
       "model_id": "ffdbec91e5d74031838a246ef6c4ab61",
       "version_major": 2,
       "version_minor": 0
      },
      "text/plain": [
       "Fetching 6 files:   0%|          | 0/6 [00:00<?, ?it/s]"
      ]
     },
     "metadata": {},
     "output_type": "display_data"
    },
    {
     "data": {
      "application/vnd.jupyter.widget-view+json": {
       "model_id": "2af82d98e2904ab68933943c6d04cf85",
       "version_major": 2,
       "version_minor": 0
      },
      "text/plain": [
       "Fetching 6 files:   0%|          | 0/6 [00:00<?, ?it/s]"
      ]
     },
     "metadata": {},
     "output_type": "display_data"
    },
    {
     "data": {
      "application/vnd.jupyter.widget-view+json": {
       "model_id": "0f4e7da5da0f415ba1cc102705c5109d",
       "version_major": 2,
       "version_minor": 0
      },
      "text/plain": [
       "Fetching 6 files:   0%|          | 0/6 [00:00<?, ?it/s]"
      ]
     },
     "metadata": {},
     "output_type": "display_data"
    },
    {
     "data": {
      "application/vnd.jupyter.widget-view+json": {
       "model_id": "085fccbf63174085a07c2b1e4771ee40",
       "version_major": 2,
       "version_minor": 0
      },
      "text/plain": [
       "Fetching 6 files:   0%|          | 0/6 [00:00<?, ?it/s]"
      ]
     },
     "metadata": {},
     "output_type": "display_data"
    },
    {
     "data": {
      "application/vnd.jupyter.widget-view+json": {
       "model_id": "7ef4456dc3ba4223b1c41b9fbd176245",
       "version_major": 2,
       "version_minor": 0
      },
      "text/plain": [
       "Fetching 6 files:   0%|          | 0/6 [00:00<?, ?it/s]"
      ]
     },
     "metadata": {},
     "output_type": "display_data"
    },
    {
     "data": {
      "application/vnd.jupyter.widget-view+json": {
       "model_id": "f166c8057295442ebfb2ed2f13aa8c7b",
       "version_major": 2,
       "version_minor": 0
      },
      "text/plain": [
       "Fetching 6 files:   0%|          | 0/6 [00:00<?, ?it/s]"
      ]
     },
     "metadata": {},
     "output_type": "display_data"
    },
    {
     "data": {
      "application/vnd.jupyter.widget-view+json": {
       "model_id": "684de2802d8940b9a62f566f0f989271",
       "version_major": 2,
       "version_minor": 0
      },
      "text/plain": [
       "Fetching 6 files:   0%|          | 0/6 [00:00<?, ?it/s]"
      ]
     },
     "metadata": {},
     "output_type": "display_data"
    },
    {
     "data": {
      "application/vnd.jupyter.widget-view+json": {
       "model_id": "327bfdb96f9e4c8897fd7bcac0104675",
       "version_major": 2,
       "version_minor": 0
      },
      "text/plain": [
       "Fetching 6 files:   0%|          | 0/6 [00:00<?, ?it/s]"
      ]
     },
     "metadata": {},
     "output_type": "display_data"
    },
    {
     "data": {
      "application/vnd.jupyter.widget-view+json": {
       "model_id": "027b6770d1ba44b4b0b151b546714b70",
       "version_major": 2,
       "version_minor": 0
      },
      "text/plain": [
       "Fetching 6 files:   0%|          | 0/6 [00:00<?, ?it/s]"
      ]
     },
     "metadata": {},
     "output_type": "display_data"
    },
    {
     "data": {
      "application/vnd.jupyter.widget-view+json": {
       "model_id": "607fbd009b1847349ee706962c14c059",
       "version_major": 2,
       "version_minor": 0
      },
      "text/plain": [
       "Fetching 6 files:   0%|          | 0/6 [00:00<?, ?it/s]"
      ]
     },
     "metadata": {},
     "output_type": "display_data"
    },
    {
     "data": {
      "application/vnd.jupyter.widget-view+json": {
       "model_id": "d886bb0a6e2144ea9dce3a666e4d0d89",
       "version_major": 2,
       "version_minor": 0
      },
      "text/plain": [
       "Fetching 6 files:   0%|          | 0/6 [00:00<?, ?it/s]"
      ]
     },
     "metadata": {},
     "output_type": "display_data"
    },
    {
     "data": {
      "application/vnd.jupyter.widget-view+json": {
       "model_id": "11c734bab5094078ad91e223ae328014",
       "version_major": 2,
       "version_minor": 0
      },
      "text/plain": [
       "Fetching 6 files:   0%|          | 0/6 [00:00<?, ?it/s]"
      ]
     },
     "metadata": {},
     "output_type": "display_data"
    },
    {
     "data": {
      "application/vnd.jupyter.widget-view+json": {
       "model_id": "b9d492ac6f5e454480e98bf640f4ecfe",
       "version_major": 2,
       "version_minor": 0
      },
      "text/plain": [
       "Fetching 6 files:   0%|          | 0/6 [00:00<?, ?it/s]"
      ]
     },
     "metadata": {},
     "output_type": "display_data"
    },
    {
     "data": {
      "application/vnd.jupyter.widget-view+json": {
       "model_id": "9478424c1d0f4e2f9156d55d4b537cf3",
       "version_major": 2,
       "version_minor": 0
      },
      "text/plain": [
       "Fetching 6 files:   0%|          | 0/6 [00:00<?, ?it/s]"
      ]
     },
     "metadata": {},
     "output_type": "display_data"
    },
    {
     "data": {
      "application/vnd.jupyter.widget-view+json": {
       "model_id": "7a3353c7d62f469da7413591d7adf1ba",
       "version_major": 2,
       "version_minor": 0
      },
      "text/plain": [
       "Fetching 6 files:   0%|          | 0/6 [00:00<?, ?it/s]"
      ]
     },
     "metadata": {},
     "output_type": "display_data"
    },
    {
     "data": {
      "application/vnd.jupyter.widget-view+json": {
       "model_id": "8eca250914f747b0898d076720b850ba",
       "version_major": 2,
       "version_minor": 0
      },
      "text/plain": [
       "Fetching 6 files:   0%|          | 0/6 [00:00<?, ?it/s]"
      ]
     },
     "metadata": {},
     "output_type": "display_data"
    },
    {
     "data": {
      "application/vnd.jupyter.widget-view+json": {
       "model_id": "bf4c8b3275844cb7996d8a1434f20318",
       "version_major": 2,
       "version_minor": 0
      },
      "text/plain": [
       "Fetching 6 files:   0%|          | 0/6 [00:00<?, ?it/s]"
      ]
     },
     "metadata": {},
     "output_type": "display_data"
    },
    {
     "data": {
      "application/vnd.jupyter.widget-view+json": {
       "model_id": "8d11d686468349228910b60f3bb023d2",
       "version_major": 2,
       "version_minor": 0
      },
      "text/plain": [
       "Fetching 6 files:   0%|          | 0/6 [00:00<?, ?it/s]"
      ]
     },
     "metadata": {},
     "output_type": "display_data"
    },
    {
     "data": {
      "application/vnd.jupyter.widget-view+json": {
       "model_id": "727570076da74da6bf51fe3b508171e9",
       "version_major": 2,
       "version_minor": 0
      },
      "text/plain": [
       "Fetching 6 files:   0%|          | 0/6 [00:00<?, ?it/s]"
      ]
     },
     "metadata": {},
     "output_type": "display_data"
    },
    {
     "data": {
      "application/vnd.jupyter.widget-view+json": {
       "model_id": "404b9f0f82284ce7867b1a5e58ac702b",
       "version_major": 2,
       "version_minor": 0
      },
      "text/plain": [
       "Fetching 6 files:   0%|          | 0/6 [00:00<?, ?it/s]"
      ]
     },
     "metadata": {},
     "output_type": "display_data"
    },
    {
     "data": {
      "application/vnd.jupyter.widget-view+json": {
       "model_id": "d96be83118b140c4aca0c9b6d46ac1af",
       "version_major": 2,
       "version_minor": 0
      },
      "text/plain": [
       "Fetching 6 files:   0%|          | 0/6 [00:00<?, ?it/s]"
      ]
     },
     "metadata": {},
     "output_type": "display_data"
    },
    {
     "data": {
      "application/vnd.jupyter.widget-view+json": {
       "model_id": "8d69fe0e45a94abfa9169732e9eb823b",
       "version_major": 2,
       "version_minor": 0
      },
      "text/plain": [
       "Fetching 6 files:   0%|          | 0/6 [00:00<?, ?it/s]"
      ]
     },
     "metadata": {},
     "output_type": "display_data"
    },
    {
     "data": {
      "application/vnd.jupyter.widget-view+json": {
       "model_id": "53344c9a0b6a42d1af02bc40de12776c",
       "version_major": 2,
       "version_minor": 0
      },
      "text/plain": [
       "Fetching 6 files:   0%|          | 0/6 [00:00<?, ?it/s]"
      ]
     },
     "metadata": {},
     "output_type": "display_data"
    },
    {
     "data": {
      "application/vnd.jupyter.widget-view+json": {
       "model_id": "b5002722597d4ac98eb6b817363fb1ef",
       "version_major": 2,
       "version_minor": 0
      },
      "text/plain": [
       "Fetching 6 files:   0%|          | 0/6 [00:00<?, ?it/s]"
      ]
     },
     "metadata": {},
     "output_type": "display_data"
    },
    {
     "data": {
      "application/vnd.jupyter.widget-view+json": {
       "model_id": "ef6d10f742ad4417bf15c72126f99122",
       "version_major": 2,
       "version_minor": 0
      },
      "text/plain": [
       "Fetching 6 files:   0%|          | 0/6 [00:00<?, ?it/s]"
      ]
     },
     "metadata": {},
     "output_type": "display_data"
    },
    {
     "data": {
      "application/vnd.jupyter.widget-view+json": {
       "model_id": "406c43d41bf24f0aaff5dd748ae1b8b1",
       "version_major": 2,
       "version_minor": 0
      },
      "text/plain": [
       "Fetching 6 files:   0%|          | 0/6 [00:00<?, ?it/s]"
      ]
     },
     "metadata": {},
     "output_type": "display_data"
    },
    {
     "data": {
      "application/vnd.jupyter.widget-view+json": {
       "model_id": "303335555af7409ebb7f80358cf2f48a",
       "version_major": 2,
       "version_minor": 0
      },
      "text/plain": [
       "Fetching 6 files:   0%|          | 0/6 [00:00<?, ?it/s]"
      ]
     },
     "metadata": {},
     "output_type": "display_data"
    },
    {
     "data": {
      "application/vnd.jupyter.widget-view+json": {
       "model_id": "07400b2743054f42a6a7b7d4d1bbd6c3",
       "version_major": 2,
       "version_minor": 0
      },
      "text/plain": [
       "Fetching 6 files:   0%|          | 0/6 [00:00<?, ?it/s]"
      ]
     },
     "metadata": {},
     "output_type": "display_data"
    },
    {
     "data": {
      "application/vnd.jupyter.widget-view+json": {
       "model_id": "cf63fe4ffa2046e58348087f22283db0",
       "version_major": 2,
       "version_minor": 0
      },
      "text/plain": [
       "Fetching 6 files:   0%|          | 0/6 [00:00<?, ?it/s]"
      ]
     },
     "metadata": {},
     "output_type": "display_data"
    },
    {
     "data": {
      "application/vnd.jupyter.widget-view+json": {
       "model_id": "3c44110e4cf449f399adc5a88176da5e",
       "version_major": 2,
       "version_minor": 0
      },
      "text/plain": [
       "Fetching 6 files:   0%|          | 0/6 [00:00<?, ?it/s]"
      ]
     },
     "metadata": {},
     "output_type": "display_data"
    },
    {
     "data": {
      "application/vnd.jupyter.widget-view+json": {
       "model_id": "137a567859534a30a0d8ed97f9eede34",
       "version_major": 2,
       "version_minor": 0
      },
      "text/plain": [
       "Fetching 6 files:   0%|          | 0/6 [00:00<?, ?it/s]"
      ]
     },
     "metadata": {},
     "output_type": "display_data"
    },
    {
     "data": {
      "application/vnd.jupyter.widget-view+json": {
       "model_id": "e2ea296f77034976a51fea8f5870b28e",
       "version_major": 2,
       "version_minor": 0
      },
      "text/plain": [
       "Fetching 6 files:   0%|          | 0/6 [00:00<?, ?it/s]"
      ]
     },
     "metadata": {},
     "output_type": "display_data"
    },
    {
     "data": {
      "application/vnd.jupyter.widget-view+json": {
       "model_id": "aa605040830841748fe499873ca5c25b",
       "version_major": 2,
       "version_minor": 0
      },
      "text/plain": [
       "Fetching 6 files:   0%|          | 0/6 [00:00<?, ?it/s]"
      ]
     },
     "metadata": {},
     "output_type": "display_data"
    },
    {
     "data": {
      "application/vnd.jupyter.widget-view+json": {
       "model_id": "1ab837f8a0064f42978b04a8ed40a8da",
       "version_major": 2,
       "version_minor": 0
      },
      "text/plain": [
       "Fetching 6 files:   0%|          | 0/6 [00:00<?, ?it/s]"
      ]
     },
     "metadata": {},
     "output_type": "display_data"
    },
    {
     "data": {
      "application/vnd.jupyter.widget-view+json": {
       "model_id": "a47f007ba08e4254a0839200bc14a494",
       "version_major": 2,
       "version_minor": 0
      },
      "text/plain": [
       "Fetching 6 files:   0%|          | 0/6 [00:00<?, ?it/s]"
      ]
     },
     "metadata": {},
     "output_type": "display_data"
    },
    {
     "data": {
      "application/vnd.jupyter.widget-view+json": {
       "model_id": "1167d6ccc2a64c76be4effcf90e3a8b1",
       "version_major": 2,
       "version_minor": 0
      },
      "text/plain": [
       "Fetching 6 files:   0%|          | 0/6 [00:00<?, ?it/s]"
      ]
     },
     "metadata": {},
     "output_type": "display_data"
    },
    {
     "data": {
      "application/vnd.jupyter.widget-view+json": {
       "model_id": "57b737b9abda4495a7f1a968e8eac41b",
       "version_major": 2,
       "version_minor": 0
      },
      "text/plain": [
       "Fetching 6 files:   0%|          | 0/6 [00:00<?, ?it/s]"
      ]
     },
     "metadata": {},
     "output_type": "display_data"
    },
    {
     "data": {
      "application/vnd.jupyter.widget-view+json": {
       "model_id": "03eab5c0fdbc44ad8e2d788c658bb4db",
       "version_major": 2,
       "version_minor": 0
      },
      "text/plain": [
       "Fetching 6 files:   0%|          | 0/6 [00:00<?, ?it/s]"
      ]
     },
     "metadata": {},
     "output_type": "display_data"
    },
    {
     "data": {
      "application/vnd.jupyter.widget-view+json": {
       "model_id": "063dd7d3a7cd4cbd9d2d974e044d2f14",
       "version_major": 2,
       "version_minor": 0
      },
      "text/plain": [
       "Fetching 6 files:   0%|          | 0/6 [00:00<?, ?it/s]"
      ]
     },
     "metadata": {},
     "output_type": "display_data"
    },
    {
     "data": {
      "application/vnd.jupyter.widget-view+json": {
       "model_id": "3d5bd016a00149a1b647ce1d4a55a844",
       "version_major": 2,
       "version_minor": 0
      },
      "text/plain": [
       "Fetching 6 files:   0%|          | 0/6 [00:00<?, ?it/s]"
      ]
     },
     "metadata": {},
     "output_type": "display_data"
    },
    {
     "data": {
      "application/vnd.jupyter.widget-view+json": {
       "model_id": "abd5bc3f94b2486bb878ace0d6d099e7",
       "version_major": 2,
       "version_minor": 0
      },
      "text/plain": [
       "Fetching 6 files:   0%|          | 0/6 [00:00<?, ?it/s]"
      ]
     },
     "metadata": {},
     "output_type": "display_data"
    },
    {
     "data": {
      "application/vnd.jupyter.widget-view+json": {
       "model_id": "37d26392ebe843f8a6ee991e1fbcbc93",
       "version_major": 2,
       "version_minor": 0
      },
      "text/plain": [
       "Fetching 6 files:   0%|          | 0/6 [00:00<?, ?it/s]"
      ]
     },
     "metadata": {},
     "output_type": "display_data"
    },
    {
     "data": {
      "application/vnd.jupyter.widget-view+json": {
       "model_id": "2a484f2936e04654b06652d4ba569f4e",
       "version_major": 2,
       "version_minor": 0
      },
      "text/plain": [
       "Fetching 6 files:   0%|          | 0/6 [00:00<?, ?it/s]"
      ]
     },
     "metadata": {},
     "output_type": "display_data"
    },
    {
     "data": {
      "application/vnd.jupyter.widget-view+json": {
       "model_id": "a7d7a022e519419a9a10a4fd3040708b",
       "version_major": 2,
       "version_minor": 0
      },
      "text/plain": [
       "Fetching 6 files:   0%|          | 0/6 [00:00<?, ?it/s]"
      ]
     },
     "metadata": {},
     "output_type": "display_data"
    },
    {
     "data": {
      "application/vnd.jupyter.widget-view+json": {
       "model_id": "90b0bd52b49c47faa8e2b7c0414e2f6f",
       "version_major": 2,
       "version_minor": 0
      },
      "text/plain": [
       "Fetching 6 files:   0%|          | 0/6 [00:00<?, ?it/s]"
      ]
     },
     "metadata": {},
     "output_type": "display_data"
    },
    {
     "data": {
      "application/vnd.jupyter.widget-view+json": {
       "model_id": "442c8725649642228d17da82344d07b6",
       "version_major": 2,
       "version_minor": 0
      },
      "text/plain": [
       "Fetching 6 files:   0%|          | 0/6 [00:00<?, ?it/s]"
      ]
     },
     "metadata": {},
     "output_type": "display_data"
    },
    {
     "data": {
      "application/vnd.jupyter.widget-view+json": {
       "model_id": "1da8e479ef374fe097db687733b70c60",
       "version_major": 2,
       "version_minor": 0
      },
      "text/plain": [
       "Fetching 6 files:   0%|          | 0/6 [00:00<?, ?it/s]"
      ]
     },
     "metadata": {},
     "output_type": "display_data"
    },
    {
     "data": {
      "application/vnd.jupyter.widget-view+json": {
       "model_id": "be55d80002c84cc4a2a83a136e6147ad",
       "version_major": 2,
       "version_minor": 0
      },
      "text/plain": [
       "Fetching 6 files:   0%|          | 0/6 [00:00<?, ?it/s]"
      ]
     },
     "metadata": {},
     "output_type": "display_data"
    },
    {
     "data": {
      "application/vnd.jupyter.widget-view+json": {
       "model_id": "da462ee62d224857aea847ac2cb0436d",
       "version_major": 2,
       "version_minor": 0
      },
      "text/plain": [
       "Fetching 6 files:   0%|          | 0/6 [00:00<?, ?it/s]"
      ]
     },
     "metadata": {},
     "output_type": "display_data"
    },
    {
     "data": {
      "application/vnd.jupyter.widget-view+json": {
       "model_id": "3123a62fa7944cf4a520eb36ee89905b",
       "version_major": 2,
       "version_minor": 0
      },
      "text/plain": [
       "Fetching 6 files:   0%|          | 0/6 [00:00<?, ?it/s]"
      ]
     },
     "metadata": {},
     "output_type": "display_data"
    },
    {
     "data": {
      "application/vnd.jupyter.widget-view+json": {
       "model_id": "1c50651414fa440499e1c9ca4b49341d",
       "version_major": 2,
       "version_minor": 0
      },
      "text/plain": [
       "Fetching 6 files:   0%|          | 0/6 [00:00<?, ?it/s]"
      ]
     },
     "metadata": {},
     "output_type": "display_data"
    },
    {
     "data": {
      "application/vnd.jupyter.widget-view+json": {
       "model_id": "d3fe7ea6f5ea45149e274aec4a2ea160",
       "version_major": 2,
       "version_minor": 0
      },
      "text/plain": [
       "Fetching 6 files:   0%|          | 0/6 [00:00<?, ?it/s]"
      ]
     },
     "metadata": {},
     "output_type": "display_data"
    },
    {
     "data": {
      "application/vnd.jupyter.widget-view+json": {
       "model_id": "53cdc307f955483184c52b8d8295ef36",
       "version_major": 2,
       "version_minor": 0
      },
      "text/plain": [
       "Fetching 6 files:   0%|          | 0/6 [00:00<?, ?it/s]"
      ]
     },
     "metadata": {},
     "output_type": "display_data"
    },
    {
     "data": {
      "application/vnd.jupyter.widget-view+json": {
       "model_id": "fec26193afc8480db9ab65a832e5cfcd",
       "version_major": 2,
       "version_minor": 0
      },
      "text/plain": [
       "Fetching 6 files:   0%|          | 0/6 [00:00<?, ?it/s]"
      ]
     },
     "metadata": {},
     "output_type": "display_data"
    },
    {
     "data": {
      "application/vnd.jupyter.widget-view+json": {
       "model_id": "5c7863ee9dd14f17bf0c4e22e131efaa",
       "version_major": 2,
       "version_minor": 0
      },
      "text/plain": [
       "Fetching 6 files:   0%|          | 0/6 [00:00<?, ?it/s]"
      ]
     },
     "metadata": {},
     "output_type": "display_data"
    },
    {
     "data": {
      "application/vnd.jupyter.widget-view+json": {
       "model_id": "454da1915ae94b0a8ca48d3bda397801",
       "version_major": 2,
       "version_minor": 0
      },
      "text/plain": [
       "Fetching 6 files:   0%|          | 0/6 [00:00<?, ?it/s]"
      ]
     },
     "metadata": {},
     "output_type": "display_data"
    },
    {
     "data": {
      "application/vnd.jupyter.widget-view+json": {
       "model_id": "41f28134e633470c9eeeab57bde22564",
       "version_major": 2,
       "version_minor": 0
      },
      "text/plain": [
       "Fetching 6 files:   0%|          | 0/6 [00:00<?, ?it/s]"
      ]
     },
     "metadata": {},
     "output_type": "display_data"
    },
    {
     "data": {
      "application/vnd.jupyter.widget-view+json": {
       "model_id": "fd3af1da97914257bfe2c0830cbd4a7a",
       "version_major": 2,
       "version_minor": 0
      },
      "text/plain": [
       "Fetching 6 files:   0%|          | 0/6 [00:00<?, ?it/s]"
      ]
     },
     "metadata": {},
     "output_type": "display_data"
    },
    {
     "data": {
      "application/vnd.jupyter.widget-view+json": {
       "model_id": "be4dcbb61a134f1c94c82b7932445294",
       "version_major": 2,
       "version_minor": 0
      },
      "text/plain": [
       "Fetching 6 files:   0%|          | 0/6 [00:00<?, ?it/s]"
      ]
     },
     "metadata": {},
     "output_type": "display_data"
    },
    {
     "data": {
      "application/vnd.jupyter.widget-view+json": {
       "model_id": "4da22d9bfa8c4b84bfb245f145ec1326",
       "version_major": 2,
       "version_minor": 0
      },
      "text/plain": [
       "Fetching 6 files:   0%|          | 0/6 [00:00<?, ?it/s]"
      ]
     },
     "metadata": {},
     "output_type": "display_data"
    },
    {
     "data": {
      "application/vnd.jupyter.widget-view+json": {
       "model_id": "df0b8232d46e4600a00b2530254b3d62",
       "version_major": 2,
       "version_minor": 0
      },
      "text/plain": [
       "Fetching 6 files:   0%|          | 0/6 [00:00<?, ?it/s]"
      ]
     },
     "metadata": {},
     "output_type": "display_data"
    },
    {
     "data": {
      "application/vnd.jupyter.widget-view+json": {
       "model_id": "947bcd45880044148095c1aaea803c3d",
       "version_major": 2,
       "version_minor": 0
      },
      "text/plain": [
       "Fetching 6 files:   0%|          | 0/6 [00:00<?, ?it/s]"
      ]
     },
     "metadata": {},
     "output_type": "display_data"
    },
    {
     "data": {
      "application/vnd.jupyter.widget-view+json": {
       "model_id": "6892fbd3d77e4d8b9dbd5330af601734",
       "version_major": 2,
       "version_minor": 0
      },
      "text/plain": [
       "Fetching 6 files:   0%|          | 0/6 [00:00<?, ?it/s]"
      ]
     },
     "metadata": {},
     "output_type": "display_data"
    },
    {
     "data": {
      "application/vnd.jupyter.widget-view+json": {
       "model_id": "0ed808f760cb40e88f942a37a83979d9",
       "version_major": 2,
       "version_minor": 0
      },
      "text/plain": [
       "Fetching 6 files:   0%|          | 0/6 [00:00<?, ?it/s]"
      ]
     },
     "metadata": {},
     "output_type": "display_data"
    },
    {
     "data": {
      "application/vnd.jupyter.widget-view+json": {
       "model_id": "a70de9f0eea54a4daff434281c7cbe79",
       "version_major": 2,
       "version_minor": 0
      },
      "text/plain": [
       "Fetching 6 files:   0%|          | 0/6 [00:00<?, ?it/s]"
      ]
     },
     "metadata": {},
     "output_type": "display_data"
    },
    {
     "data": {
      "application/vnd.jupyter.widget-view+json": {
       "model_id": "c227129b01ab470dbd960e1db389b046",
       "version_major": 2,
       "version_minor": 0
      },
      "text/plain": [
       "Fetching 6 files:   0%|          | 0/6 [00:00<?, ?it/s]"
      ]
     },
     "metadata": {},
     "output_type": "display_data"
    },
    {
     "data": {
      "application/vnd.jupyter.widget-view+json": {
       "model_id": "54e0a238d950457fb86c82e65fb13808",
       "version_major": 2,
       "version_minor": 0
      },
      "text/plain": [
       "Fetching 6 files:   0%|          | 0/6 [00:00<?, ?it/s]"
      ]
     },
     "metadata": {},
     "output_type": "display_data"
    },
    {
     "data": {
      "application/vnd.jupyter.widget-view+json": {
       "model_id": "0d9617bc2e7a4072b56f826d3ea5b60f",
       "version_major": 2,
       "version_minor": 0
      },
      "text/plain": [
       "Fetching 6 files:   0%|          | 0/6 [00:00<?, ?it/s]"
      ]
     },
     "metadata": {},
     "output_type": "display_data"
    },
    {
     "data": {
      "application/vnd.jupyter.widget-view+json": {
       "model_id": "dd4a91d32def49e49d694f1b4802b2fb",
       "version_major": 2,
       "version_minor": 0
      },
      "text/plain": [
       "Fetching 6 files:   0%|          | 0/6 [00:00<?, ?it/s]"
      ]
     },
     "metadata": {},
     "output_type": "display_data"
    },
    {
     "data": {
      "application/vnd.jupyter.widget-view+json": {
       "model_id": "f67f8c3a555b47a385e9c14c1372409b",
       "version_major": 2,
       "version_minor": 0
      },
      "text/plain": [
       "Fetching 6 files:   0%|          | 0/6 [00:00<?, ?it/s]"
      ]
     },
     "metadata": {},
     "output_type": "display_data"
    },
    {
     "data": {
      "application/vnd.jupyter.widget-view+json": {
       "model_id": "b182f2c6b4394f1cbd744fd9a290333c",
       "version_major": 2,
       "version_minor": 0
      },
      "text/plain": [
       "Fetching 6 files:   0%|          | 0/6 [00:00<?, ?it/s]"
      ]
     },
     "metadata": {},
     "output_type": "display_data"
    },
    {
     "data": {
      "application/vnd.jupyter.widget-view+json": {
       "model_id": "2ad4ba97a1bc4a85b8bffea7194406bc",
       "version_major": 2,
       "version_minor": 0
      },
      "text/plain": [
       "Fetching 6 files:   0%|          | 0/6 [00:00<?, ?it/s]"
      ]
     },
     "metadata": {},
     "output_type": "display_data"
    },
    {
     "data": {
      "application/vnd.jupyter.widget-view+json": {
       "model_id": "3506fa60a7064e6088936a61c0965c83",
       "version_major": 2,
       "version_minor": 0
      },
      "text/plain": [
       "Fetching 6 files:   0%|          | 0/6 [00:00<?, ?it/s]"
      ]
     },
     "metadata": {},
     "output_type": "display_data"
    },
    {
     "data": {
      "application/vnd.jupyter.widget-view+json": {
       "model_id": "fd0506250e1f43e6873951f65ea9500b",
       "version_major": 2,
       "version_minor": 0
      },
      "text/plain": [
       "Fetching 6 files:   0%|          | 0/6 [00:00<?, ?it/s]"
      ]
     },
     "metadata": {},
     "output_type": "display_data"
    },
    {
     "data": {
      "application/vnd.jupyter.widget-view+json": {
       "model_id": "62dcb850c4bc4dae9a7e840e5d94336a",
       "version_major": 2,
       "version_minor": 0
      },
      "text/plain": [
       "Fetching 6 files:   0%|          | 0/6 [00:00<?, ?it/s]"
      ]
     },
     "metadata": {},
     "output_type": "display_data"
    },
    {
     "data": {
      "application/vnd.jupyter.widget-view+json": {
       "model_id": "15dbb8bd35914ad8adab236693303c08",
       "version_major": 2,
       "version_minor": 0
      },
      "text/plain": [
       "Fetching 6 files:   0%|          | 0/6 [00:00<?, ?it/s]"
      ]
     },
     "metadata": {},
     "output_type": "display_data"
    },
    {
     "data": {
      "application/vnd.jupyter.widget-view+json": {
       "model_id": "31a02a806a1341ad88cdf63fe86ff436",
       "version_major": 2,
       "version_minor": 0
      },
      "text/plain": [
       "Fetching 6 files:   0%|          | 0/6 [00:00<?, ?it/s]"
      ]
     },
     "metadata": {},
     "output_type": "display_data"
    },
    {
     "data": {
      "application/vnd.jupyter.widget-view+json": {
       "model_id": "f2fa52997fa8423d8ac55f38fc2bdc17",
       "version_major": 2,
       "version_minor": 0
      },
      "text/plain": [
       "Fetching 6 files:   0%|          | 0/6 [00:00<?, ?it/s]"
      ]
     },
     "metadata": {},
     "output_type": "display_data"
    },
    {
     "data": {
      "application/vnd.jupyter.widget-view+json": {
       "model_id": "43083077502d4dfb859b54e0a67a2d6d",
       "version_major": 2,
       "version_minor": 0
      },
      "text/plain": [
       "Fetching 6 files:   0%|          | 0/6 [00:00<?, ?it/s]"
      ]
     },
     "metadata": {},
     "output_type": "display_data"
    },
    {
     "data": {
      "application/vnd.jupyter.widget-view+json": {
       "model_id": "4ebc71d7946f42c1a73dbcb5690a5ca4",
       "version_major": 2,
       "version_minor": 0
      },
      "text/plain": [
       "Fetching 6 files:   0%|          | 0/6 [00:00<?, ?it/s]"
      ]
     },
     "metadata": {},
     "output_type": "display_data"
    },
    {
     "data": {
      "application/vnd.jupyter.widget-view+json": {
       "model_id": "51e5739880454618975ed0a85eee8921",
       "version_major": 2,
       "version_minor": 0
      },
      "text/plain": [
       "Fetching 6 files:   0%|          | 0/6 [00:00<?, ?it/s]"
      ]
     },
     "metadata": {},
     "output_type": "display_data"
    },
    {
     "data": {
      "application/vnd.jupyter.widget-view+json": {
       "model_id": "422986c846254d6681e1d780a0fb08b2",
       "version_major": 2,
       "version_minor": 0
      },
      "text/plain": [
       "Fetching 6 files:   0%|          | 0/6 [00:00<?, ?it/s]"
      ]
     },
     "metadata": {},
     "output_type": "display_data"
    },
    {
     "data": {
      "application/vnd.jupyter.widget-view+json": {
       "model_id": "ff980678f9e44cf586e3b942ecb2d395",
       "version_major": 2,
       "version_minor": 0
      },
      "text/plain": [
       "Fetching 6 files:   0%|          | 0/6 [00:00<?, ?it/s]"
      ]
     },
     "metadata": {},
     "output_type": "display_data"
    },
    {
     "data": {
      "application/vnd.jupyter.widget-view+json": {
       "model_id": "8b73f79647a147379ef3a6040e2c2c21",
       "version_major": 2,
       "version_minor": 0
      },
      "text/plain": [
       "Fetching 6 files:   0%|          | 0/6 [00:00<?, ?it/s]"
      ]
     },
     "metadata": {},
     "output_type": "display_data"
    },
    {
     "data": {
      "application/vnd.jupyter.widget-view+json": {
       "model_id": "2d33769e14b54425b98dda6962abe4d1",
       "version_major": 2,
       "version_minor": 0
      },
      "text/plain": [
       "Fetching 6 files:   0%|          | 0/6 [00:00<?, ?it/s]"
      ]
     },
     "metadata": {},
     "output_type": "display_data"
    },
    {
     "data": {
      "application/vnd.jupyter.widget-view+json": {
       "model_id": "763c45afe209479ba6b601e051b95d0e",
       "version_major": 2,
       "version_minor": 0
      },
      "text/plain": [
       "Fetching 6 files:   0%|          | 0/6 [00:00<?, ?it/s]"
      ]
     },
     "metadata": {},
     "output_type": "display_data"
    },
    {
     "data": {
      "application/vnd.jupyter.widget-view+json": {
       "model_id": "d05ffabb99404b699067b62c7f317b39",
       "version_major": 2,
       "version_minor": 0
      },
      "text/plain": [
       "Fetching 6 files:   0%|          | 0/6 [00:00<?, ?it/s]"
      ]
     },
     "metadata": {},
     "output_type": "display_data"
    },
    {
     "data": {
      "application/vnd.jupyter.widget-view+json": {
       "model_id": "65e8b991fdba4fe1a2c8c6c3f6e37d52",
       "version_major": 2,
       "version_minor": 0
      },
      "text/plain": [
       "Fetching 6 files:   0%|          | 0/6 [00:00<?, ?it/s]"
      ]
     },
     "metadata": {},
     "output_type": "display_data"
    },
    {
     "data": {
      "application/vnd.jupyter.widget-view+json": {
       "model_id": "3764aae2d4084ac497784d84582c7c51",
       "version_major": 2,
       "version_minor": 0
      },
      "text/plain": [
       "Fetching 6 files:   0%|          | 0/6 [00:00<?, ?it/s]"
      ]
     },
     "metadata": {},
     "output_type": "display_data"
    },
    {
     "data": {
      "application/vnd.jupyter.widget-view+json": {
       "model_id": "0d734e5ff5a947a6aa22f04abe74c9bf",
       "version_major": 2,
       "version_minor": 0
      },
      "text/plain": [
       "Fetching 6 files:   0%|          | 0/6 [00:00<?, ?it/s]"
      ]
     },
     "metadata": {},
     "output_type": "display_data"
    },
    {
     "data": {
      "application/vnd.jupyter.widget-view+json": {
       "model_id": "699a7af1d4b0444faefbda548a6fdd02",
       "version_major": 2,
       "version_minor": 0
      },
      "text/plain": [
       "Fetching 6 files:   0%|          | 0/6 [00:00<?, ?it/s]"
      ]
     },
     "metadata": {},
     "output_type": "display_data"
    },
    {
     "data": {
      "application/vnd.jupyter.widget-view+json": {
       "model_id": "480e73bd60da4cbfbf2a94659f3f88c7",
       "version_major": 2,
       "version_minor": 0
      },
      "text/plain": [
       "Fetching 6 files:   0%|          | 0/6 [00:00<?, ?it/s]"
      ]
     },
     "metadata": {},
     "output_type": "display_data"
    },
    {
     "data": {
      "application/vnd.jupyter.widget-view+json": {
       "model_id": "63270c677bfa41c9bc535047e6a73b18",
       "version_major": 2,
       "version_minor": 0
      },
      "text/plain": [
       "Fetching 6 files:   0%|          | 0/6 [00:00<?, ?it/s]"
      ]
     },
     "metadata": {},
     "output_type": "display_data"
    },
    {
     "data": {
      "application/vnd.jupyter.widget-view+json": {
       "model_id": "39135ad4ca4e476ab83e10cd42786bf0",
       "version_major": 2,
       "version_minor": 0
      },
      "text/plain": [
       "Fetching 6 files:   0%|          | 0/6 [00:00<?, ?it/s]"
      ]
     },
     "metadata": {},
     "output_type": "display_data"
    },
    {
     "data": {
      "application/vnd.jupyter.widget-view+json": {
       "model_id": "8098c5b6f34843b887fd0e6edfd2def2",
       "version_major": 2,
       "version_minor": 0
      },
      "text/plain": [
       "Fetching 6 files:   0%|          | 0/6 [00:00<?, ?it/s]"
      ]
     },
     "metadata": {},
     "output_type": "display_data"
    },
    {
     "data": {
      "application/vnd.jupyter.widget-view+json": {
       "model_id": "f5ff2bac3ccd41748e77bb32569ddcfd",
       "version_major": 2,
       "version_minor": 0
      },
      "text/plain": [
       "Fetching 6 files:   0%|          | 0/6 [00:00<?, ?it/s]"
      ]
     },
     "metadata": {},
     "output_type": "display_data"
    },
    {
     "data": {
      "application/vnd.jupyter.widget-view+json": {
       "model_id": "e80a23c2cb354b2ea96d9ec8e73aeb8a",
       "version_major": 2,
       "version_minor": 0
      },
      "text/plain": [
       "Fetching 6 files:   0%|          | 0/6 [00:00<?, ?it/s]"
      ]
     },
     "metadata": {},
     "output_type": "display_data"
    },
    {
     "data": {
      "application/vnd.jupyter.widget-view+json": {
       "model_id": "86448e185953489393e83e50bafe201b",
       "version_major": 2,
       "version_minor": 0
      },
      "text/plain": [
       "Fetching 6 files:   0%|          | 0/6 [00:00<?, ?it/s]"
      ]
     },
     "metadata": {},
     "output_type": "display_data"
    },
    {
     "data": {
      "application/vnd.jupyter.widget-view+json": {
       "model_id": "01da19742b3745ed9e4153e3ba757d95",
       "version_major": 2,
       "version_minor": 0
      },
      "text/plain": [
       "Fetching 6 files:   0%|          | 0/6 [00:00<?, ?it/s]"
      ]
     },
     "metadata": {},
     "output_type": "display_data"
    },
    {
     "data": {
      "application/vnd.jupyter.widget-view+json": {
       "model_id": "7272a7a14cb44b6694c7bb1801b8ac29",
       "version_major": 2,
       "version_minor": 0
      },
      "text/plain": [
       "Fetching 6 files:   0%|          | 0/6 [00:00<?, ?it/s]"
      ]
     },
     "metadata": {},
     "output_type": "display_data"
    },
    {
     "data": {
      "application/vnd.jupyter.widget-view+json": {
       "model_id": "4e1a9b1ea3d549d7830ced38e52d847b",
       "version_major": 2,
       "version_minor": 0
      },
      "text/plain": [
       "Fetching 6 files:   0%|          | 0/6 [00:00<?, ?it/s]"
      ]
     },
     "metadata": {},
     "output_type": "display_data"
    },
    {
     "data": {
      "application/vnd.jupyter.widget-view+json": {
       "model_id": "459772fd00a94607b1f8c82bf9748480",
       "version_major": 2,
       "version_minor": 0
      },
      "text/plain": [
       "Fetching 6 files:   0%|          | 0/6 [00:00<?, ?it/s]"
      ]
     },
     "metadata": {},
     "output_type": "display_data"
    },
    {
     "data": {
      "application/vnd.jupyter.widget-view+json": {
       "model_id": "3e6f8444d75947a2acca1bd303e63d47",
       "version_major": 2,
       "version_minor": 0
      },
      "text/plain": [
       "Fetching 6 files:   0%|          | 0/6 [00:00<?, ?it/s]"
      ]
     },
     "metadata": {},
     "output_type": "display_data"
    },
    {
     "data": {
      "application/vnd.jupyter.widget-view+json": {
       "model_id": "a52a48acb21a4503869a568586a724fa",
       "version_major": 2,
       "version_minor": 0
      },
      "text/plain": [
       "Fetching 6 files:   0%|          | 0/6 [00:00<?, ?it/s]"
      ]
     },
     "metadata": {},
     "output_type": "display_data"
    },
    {
     "data": {
      "application/vnd.jupyter.widget-view+json": {
       "model_id": "d7ef948380804d3f8773c2159c174255",
       "version_major": 2,
       "version_minor": 0
      },
      "text/plain": [
       "Fetching 6 files:   0%|          | 0/6 [00:00<?, ?it/s]"
      ]
     },
     "metadata": {},
     "output_type": "display_data"
    },
    {
     "data": {
      "application/vnd.jupyter.widget-view+json": {
       "model_id": "5e2695c18a054f14991df56603efc5a7",
       "version_major": 2,
       "version_minor": 0
      },
      "text/plain": [
       "Fetching 6 files:   0%|          | 0/6 [00:00<?, ?it/s]"
      ]
     },
     "metadata": {},
     "output_type": "display_data"
    },
    {
     "data": {
      "application/vnd.jupyter.widget-view+json": {
       "model_id": "7493327df1c645428a9822bc2aae5dcb",
       "version_major": 2,
       "version_minor": 0
      },
      "text/plain": [
       "Fetching 6 files:   0%|          | 0/6 [00:00<?, ?it/s]"
      ]
     },
     "metadata": {},
     "output_type": "display_data"
    },
    {
     "data": {
      "application/vnd.jupyter.widget-view+json": {
       "model_id": "c448e1b769a348a6a97aa1273b596dce",
       "version_major": 2,
       "version_minor": 0
      },
      "text/plain": [
       "Fetching 6 files:   0%|          | 0/6 [00:00<?, ?it/s]"
      ]
     },
     "metadata": {},
     "output_type": "display_data"
    },
    {
     "data": {
      "application/vnd.jupyter.widget-view+json": {
       "model_id": "8dab18cf28ed472d9ed7f8e830643a6d",
       "version_major": 2,
       "version_minor": 0
      },
      "text/plain": [
       "Fetching 6 files:   0%|          | 0/6 [00:00<?, ?it/s]"
      ]
     },
     "metadata": {},
     "output_type": "display_data"
    },
    {
     "data": {
      "application/vnd.jupyter.widget-view+json": {
       "model_id": "d7efce07dd224452b0ef4868f23018ea",
       "version_major": 2,
       "version_minor": 0
      },
      "text/plain": [
       "Fetching 6 files:   0%|          | 0/6 [00:00<?, ?it/s]"
      ]
     },
     "metadata": {},
     "output_type": "display_data"
    },
    {
     "data": {
      "application/vnd.jupyter.widget-view+json": {
       "model_id": "8f53a473bfab46369799bdaa57e02d72",
       "version_major": 2,
       "version_minor": 0
      },
      "text/plain": [
       "Fetching 6 files:   0%|          | 0/6 [00:00<?, ?it/s]"
      ]
     },
     "metadata": {},
     "output_type": "display_data"
    },
    {
     "data": {
      "application/vnd.jupyter.widget-view+json": {
       "model_id": "dfb77264060448a2a0a701223c26b16e",
       "version_major": 2,
       "version_minor": 0
      },
      "text/plain": [
       "Fetching 6 files:   0%|          | 0/6 [00:00<?, ?it/s]"
      ]
     },
     "metadata": {},
     "output_type": "display_data"
    },
    {
     "data": {
      "application/vnd.jupyter.widget-view+json": {
       "model_id": "904b8f5265664dff8cb26c58054a40a5",
       "version_major": 2,
       "version_minor": 0
      },
      "text/plain": [
       "Fetching 6 files:   0%|          | 0/6 [00:00<?, ?it/s]"
      ]
     },
     "metadata": {},
     "output_type": "display_data"
    },
    {
     "data": {
      "application/vnd.jupyter.widget-view+json": {
       "model_id": "b6a85554d7b54227a8bce72fd7f200a3",
       "version_major": 2,
       "version_minor": 0
      },
      "text/plain": [
       "Fetching 6 files:   0%|          | 0/6 [00:00<?, ?it/s]"
      ]
     },
     "metadata": {},
     "output_type": "display_data"
    },
    {
     "data": {
      "application/vnd.jupyter.widget-view+json": {
       "model_id": "9f926e0c7b194696b8ac518246d40ea1",
       "version_major": 2,
       "version_minor": 0
      },
      "text/plain": [
       "Fetching 6 files:   0%|          | 0/6 [00:00<?, ?it/s]"
      ]
     },
     "metadata": {},
     "output_type": "display_data"
    },
    {
     "data": {
      "application/vnd.jupyter.widget-view+json": {
       "model_id": "69d3de83f9e446ffb06cd1cfc246c31c",
       "version_major": 2,
       "version_minor": 0
      },
      "text/plain": [
       "Fetching 6 files:   0%|          | 0/6 [00:00<?, ?it/s]"
      ]
     },
     "metadata": {},
     "output_type": "display_data"
    },
    {
     "data": {
      "application/vnd.jupyter.widget-view+json": {
       "model_id": "ad9952fb59e34987acb3b67e338f332e",
       "version_major": 2,
       "version_minor": 0
      },
      "text/plain": [
       "Fetching 6 files:   0%|          | 0/6 [00:00<?, ?it/s]"
      ]
     },
     "metadata": {},
     "output_type": "display_data"
    },
    {
     "data": {
      "application/vnd.jupyter.widget-view+json": {
       "model_id": "8dc203c0bcf6411faba18dbf8aa13ccc",
       "version_major": 2,
       "version_minor": 0
      },
      "text/plain": [
       "Fetching 6 files:   0%|          | 0/6 [00:00<?, ?it/s]"
      ]
     },
     "metadata": {},
     "output_type": "display_data"
    },
    {
     "data": {
      "application/vnd.jupyter.widget-view+json": {
       "model_id": "66d5026029b947c4a467daf37b7c11ed",
       "version_major": 2,
       "version_minor": 0
      },
      "text/plain": [
       "Fetching 6 files:   0%|          | 0/6 [00:00<?, ?it/s]"
      ]
     },
     "metadata": {},
     "output_type": "display_data"
    },
    {
     "data": {
      "application/vnd.jupyter.widget-view+json": {
       "model_id": "3c0a0e0304094636bc0de17b101a6cc0",
       "version_major": 2,
       "version_minor": 0
      },
      "text/plain": [
       "Fetching 6 files:   0%|          | 0/6 [00:00<?, ?it/s]"
      ]
     },
     "metadata": {},
     "output_type": "display_data"
    },
    {
     "data": {
      "application/vnd.jupyter.widget-view+json": {
       "model_id": "3e297c1df39a484ab44fe0ed52266e74",
       "version_major": 2,
       "version_minor": 0
      },
      "text/plain": [
       "Fetching 6 files:   0%|          | 0/6 [00:00<?, ?it/s]"
      ]
     },
     "metadata": {},
     "output_type": "display_data"
    },
    {
     "data": {
      "application/vnd.jupyter.widget-view+json": {
       "model_id": "50f25861aeff464facc08fbdfd6b985b",
       "version_major": 2,
       "version_minor": 0
      },
      "text/plain": [
       "Fetching 6 files:   0%|          | 0/6 [00:00<?, ?it/s]"
      ]
     },
     "metadata": {},
     "output_type": "display_data"
    },
    {
     "data": {
      "application/vnd.jupyter.widget-view+json": {
       "model_id": "60d7a21589bf408d9d0095f38b35a0ee",
       "version_major": 2,
       "version_minor": 0
      },
      "text/plain": [
       "Fetching 6 files:   0%|          | 0/6 [00:00<?, ?it/s]"
      ]
     },
     "metadata": {},
     "output_type": "display_data"
    },
    {
     "data": {
      "application/vnd.jupyter.widget-view+json": {
       "model_id": "690563a385a242e8b8a209c46ad1fd86",
       "version_major": 2,
       "version_minor": 0
      },
      "text/plain": [
       "Fetching 6 files:   0%|          | 0/6 [00:00<?, ?it/s]"
      ]
     },
     "metadata": {},
     "output_type": "display_data"
    },
    {
     "data": {
      "application/vnd.jupyter.widget-view+json": {
       "model_id": "fd3f00c8a69e46039b26d935b77db5a7",
       "version_major": 2,
       "version_minor": 0
      },
      "text/plain": [
       "Fetching 6 files:   0%|          | 0/6 [00:00<?, ?it/s]"
      ]
     },
     "metadata": {},
     "output_type": "display_data"
    },
    {
     "data": {
      "application/vnd.jupyter.widget-view+json": {
       "model_id": "86596852e6274f6f9810f8a9f58f3871",
       "version_major": 2,
       "version_minor": 0
      },
      "text/plain": [
       "Fetching 6 files:   0%|          | 0/6 [00:00<?, ?it/s]"
      ]
     },
     "metadata": {},
     "output_type": "display_data"
    },
    {
     "data": {
      "application/vnd.jupyter.widget-view+json": {
       "model_id": "ccb14efadd6e49aeab2c05bec21770e6",
       "version_major": 2,
       "version_minor": 0
      },
      "text/plain": [
       "Fetching 6 files:   0%|          | 0/6 [00:00<?, ?it/s]"
      ]
     },
     "metadata": {},
     "output_type": "display_data"
    },
    {
     "data": {
      "application/vnd.jupyter.widget-view+json": {
       "model_id": "fc5920c9b9854da3a75224a97ea85d27",
       "version_major": 2,
       "version_minor": 0
      },
      "text/plain": [
       "Fetching 6 files:   0%|          | 0/6 [00:00<?, ?it/s]"
      ]
     },
     "metadata": {},
     "output_type": "display_data"
    },
    {
     "data": {
      "application/vnd.jupyter.widget-view+json": {
       "model_id": "d93dc13526ec4823860a5c9e439604b0",
       "version_major": 2,
       "version_minor": 0
      },
      "text/plain": [
       "Fetching 6 files:   0%|          | 0/6 [00:00<?, ?it/s]"
      ]
     },
     "metadata": {},
     "output_type": "display_data"
    },
    {
     "data": {
      "application/vnd.jupyter.widget-view+json": {
       "model_id": "2f7d80d60c4e4df79425259cfa403848",
       "version_major": 2,
       "version_minor": 0
      },
      "text/plain": [
       "Fetching 6 files:   0%|          | 0/6 [00:00<?, ?it/s]"
      ]
     },
     "metadata": {},
     "output_type": "display_data"
    },
    {
     "data": {
      "application/vnd.jupyter.widget-view+json": {
       "model_id": "8d07defdb6d6447c9b990374235aed47",
       "version_major": 2,
       "version_minor": 0
      },
      "text/plain": [
       "Fetching 6 files:   0%|          | 0/6 [00:00<?, ?it/s]"
      ]
     },
     "metadata": {},
     "output_type": "display_data"
    },
    {
     "data": {
      "application/vnd.jupyter.widget-view+json": {
       "model_id": "fe4bb29efcaf4b6a96e62db2975ab7fe",
       "version_major": 2,
       "version_minor": 0
      },
      "text/plain": [
       "Fetching 6 files:   0%|          | 0/6 [00:00<?, ?it/s]"
      ]
     },
     "metadata": {},
     "output_type": "display_data"
    },
    {
     "data": {
      "application/vnd.jupyter.widget-view+json": {
       "model_id": "53d87c64a2b44e7d9fca467f02be0b4e",
       "version_major": 2,
       "version_minor": 0
      },
      "text/plain": [
       "Fetching 6 files:   0%|          | 0/6 [00:00<?, ?it/s]"
      ]
     },
     "metadata": {},
     "output_type": "display_data"
    },
    {
     "data": {
      "application/vnd.jupyter.widget-view+json": {
       "model_id": "e195c99adf3c423695cc21611c4478f2",
       "version_major": 2,
       "version_minor": 0
      },
      "text/plain": [
       "Fetching 6 files:   0%|          | 0/6 [00:00<?, ?it/s]"
      ]
     },
     "metadata": {},
     "output_type": "display_data"
    },
    {
     "data": {
      "application/vnd.jupyter.widget-view+json": {
       "model_id": "dddb045806e0467ea07c0047db3f9161",
       "version_major": 2,
       "version_minor": 0
      },
      "text/plain": [
       "Fetching 6 files:   0%|          | 0/6 [00:00<?, ?it/s]"
      ]
     },
     "metadata": {},
     "output_type": "display_data"
    },
    {
     "data": {
      "application/vnd.jupyter.widget-view+json": {
       "model_id": "3d8562863242458199d9ebdd3bba20c0",
       "version_major": 2,
       "version_minor": 0
      },
      "text/plain": [
       "Fetching 6 files:   0%|          | 0/6 [00:00<?, ?it/s]"
      ]
     },
     "metadata": {},
     "output_type": "display_data"
    },
    {
     "data": {
      "application/vnd.jupyter.widget-view+json": {
       "model_id": "3ef5b7deb7ae44d19d6bb93c47708844",
       "version_major": 2,
       "version_minor": 0
      },
      "text/plain": [
       "Fetching 6 files:   0%|          | 0/6 [00:00<?, ?it/s]"
      ]
     },
     "metadata": {},
     "output_type": "display_data"
    },
    {
     "data": {
      "application/vnd.jupyter.widget-view+json": {
       "model_id": "58ecaefb4b264422b75558f5eba6c5c7",
       "version_major": 2,
       "version_minor": 0
      },
      "text/plain": [
       "Fetching 6 files:   0%|          | 0/6 [00:00<?, ?it/s]"
      ]
     },
     "metadata": {},
     "output_type": "display_data"
    },
    {
     "data": {
      "application/vnd.jupyter.widget-view+json": {
       "model_id": "4905c1d093794257873b33fd40b8127b",
       "version_major": 2,
       "version_minor": 0
      },
      "text/plain": [
       "Fetching 6 files:   0%|          | 0/6 [00:00<?, ?it/s]"
      ]
     },
     "metadata": {},
     "output_type": "display_data"
    },
    {
     "data": {
      "application/vnd.jupyter.widget-view+json": {
       "model_id": "e290e88476f04cedbbe9e0001f6c0bf3",
       "version_major": 2,
       "version_minor": 0
      },
      "text/plain": [
       "Fetching 6 files:   0%|          | 0/6 [00:00<?, ?it/s]"
      ]
     },
     "metadata": {},
     "output_type": "display_data"
    },
    {
     "data": {
      "application/vnd.jupyter.widget-view+json": {
       "model_id": "db830881e4314cd98f38221acf4832cd",
       "version_major": 2,
       "version_minor": 0
      },
      "text/plain": [
       "Fetching 6 files:   0%|          | 0/6 [00:00<?, ?it/s]"
      ]
     },
     "metadata": {},
     "output_type": "display_data"
    },
    {
     "data": {
      "application/vnd.jupyter.widget-view+json": {
       "model_id": "73499c0746cc4b6a92a0c7f762437d14",
       "version_major": 2,
       "version_minor": 0
      },
      "text/plain": [
       "Fetching 6 files:   0%|          | 0/6 [00:00<?, ?it/s]"
      ]
     },
     "metadata": {},
     "output_type": "display_data"
    },
    {
     "data": {
      "application/vnd.jupyter.widget-view+json": {
       "model_id": "704b013b47f6484c970faff0cfb021c6",
       "version_major": 2,
       "version_minor": 0
      },
      "text/plain": [
       "Fetching 6 files:   0%|          | 0/6 [00:00<?, ?it/s]"
      ]
     },
     "metadata": {},
     "output_type": "display_data"
    },
    {
     "data": {
      "application/vnd.jupyter.widget-view+json": {
       "model_id": "ead0d3c50ff1428982a4f4ce8be29278",
       "version_major": 2,
       "version_minor": 0
      },
      "text/plain": [
       "Fetching 6 files:   0%|          | 0/6 [00:00<?, ?it/s]"
      ]
     },
     "metadata": {},
     "output_type": "display_data"
    },
    {
     "data": {
      "application/vnd.jupyter.widget-view+json": {
       "model_id": "cd299c0fd77c48ae8a66c12a8eae9fa5",
       "version_major": 2,
       "version_minor": 0
      },
      "text/plain": [
       "Fetching 6 files:   0%|          | 0/6 [00:00<?, ?it/s]"
      ]
     },
     "metadata": {},
     "output_type": "display_data"
    },
    {
     "data": {
      "application/vnd.jupyter.widget-view+json": {
       "model_id": "ae35aa788efa4a90b96e9289ec371b9d",
       "version_major": 2,
       "version_minor": 0
      },
      "text/plain": [
       "Fetching 6 files:   0%|          | 0/6 [00:00<?, ?it/s]"
      ]
     },
     "metadata": {},
     "output_type": "display_data"
    },
    {
     "data": {
      "application/vnd.jupyter.widget-view+json": {
       "model_id": "4d140921ed63411f98de8187fb38aafa",
       "version_major": 2,
       "version_minor": 0
      },
      "text/plain": [
       "Fetching 6 files:   0%|          | 0/6 [00:00<?, ?it/s]"
      ]
     },
     "metadata": {},
     "output_type": "display_data"
    },
    {
     "data": {
      "application/vnd.jupyter.widget-view+json": {
       "model_id": "c592e584436a4d4e92f7cc8967da62d1",
       "version_major": 2,
       "version_minor": 0
      },
      "text/plain": [
       "Fetching 6 files:   0%|          | 0/6 [00:00<?, ?it/s]"
      ]
     },
     "metadata": {},
     "output_type": "display_data"
    },
    {
     "data": {
      "application/vnd.jupyter.widget-view+json": {
       "model_id": "602ab9902ce14c4994312e3a96ef5049",
       "version_major": 2,
       "version_minor": 0
      },
      "text/plain": [
       "Fetching 6 files:   0%|          | 0/6 [00:00<?, ?it/s]"
      ]
     },
     "metadata": {},
     "output_type": "display_data"
    },
    {
     "data": {
      "application/vnd.jupyter.widget-view+json": {
       "model_id": "bb3ac99dea4a41c6b587995d46a50bfb",
       "version_major": 2,
       "version_minor": 0
      },
      "text/plain": [
       "Fetching 6 files:   0%|          | 0/6 [00:00<?, ?it/s]"
      ]
     },
     "metadata": {},
     "output_type": "display_data"
    },
    {
     "data": {
      "application/vnd.jupyter.widget-view+json": {
       "model_id": "f9524fc35bf842c8911e492cf33fd56f",
       "version_major": 2,
       "version_minor": 0
      },
      "text/plain": [
       "Fetching 6 files:   0%|          | 0/6 [00:00<?, ?it/s]"
      ]
     },
     "metadata": {},
     "output_type": "display_data"
    },
    {
     "data": {
      "application/vnd.jupyter.widget-view+json": {
       "model_id": "c95ce5bc6b274f2682bbc4c63b576fa1",
       "version_major": 2,
       "version_minor": 0
      },
      "text/plain": [
       "Fetching 6 files:   0%|          | 0/6 [00:00<?, ?it/s]"
      ]
     },
     "metadata": {},
     "output_type": "display_data"
    },
    {
     "data": {
      "application/vnd.jupyter.widget-view+json": {
       "model_id": "0a56eeff2cba460ea9bddacefe4f6627",
       "version_major": 2,
       "version_minor": 0
      },
      "text/plain": [
       "Fetching 6 files:   0%|          | 0/6 [00:00<?, ?it/s]"
      ]
     },
     "metadata": {},
     "output_type": "display_data"
    },
    {
     "data": {
      "application/vnd.jupyter.widget-view+json": {
       "model_id": "7d002aaf38614a66bf2750bcc1be6f04",
       "version_major": 2,
       "version_minor": 0
      },
      "text/plain": [
       "Fetching 6 files:   0%|          | 0/6 [00:00<?, ?it/s]"
      ]
     },
     "metadata": {},
     "output_type": "display_data"
    },
    {
     "data": {
      "application/vnd.jupyter.widget-view+json": {
       "model_id": "c30dde6f5d0d4b89af581c39586cdddc",
       "version_major": 2,
       "version_minor": 0
      },
      "text/plain": [
       "Fetching 6 files:   0%|          | 0/6 [00:00<?, ?it/s]"
      ]
     },
     "metadata": {},
     "output_type": "display_data"
    },
    {
     "data": {
      "application/vnd.jupyter.widget-view+json": {
       "model_id": "9cbb1908c2bf40baa103f2d37ba1646d",
       "version_major": 2,
       "version_minor": 0
      },
      "text/plain": [
       "Fetching 6 files:   0%|          | 0/6 [00:00<?, ?it/s]"
      ]
     },
     "metadata": {},
     "output_type": "display_data"
    },
    {
     "data": {
      "application/vnd.jupyter.widget-view+json": {
       "model_id": "7cc9b41a12e74389a1880bda7e5b36e1",
       "version_major": 2,
       "version_minor": 0
      },
      "text/plain": [
       "Fetching 6 files:   0%|          | 0/6 [00:00<?, ?it/s]"
      ]
     },
     "metadata": {},
     "output_type": "display_data"
    },
    {
     "data": {
      "application/vnd.jupyter.widget-view+json": {
       "model_id": "248ef1cc5f0f4063a7083cb4ca9b5977",
       "version_major": 2,
       "version_minor": 0
      },
      "text/plain": [
       "Fetching 6 files:   0%|          | 0/6 [00:00<?, ?it/s]"
      ]
     },
     "metadata": {},
     "output_type": "display_data"
    },
    {
     "data": {
      "application/vnd.jupyter.widget-view+json": {
       "model_id": "99ff64faaf5d4b4ead553e930cbfa62a",
       "version_major": 2,
       "version_minor": 0
      },
      "text/plain": [
       "Fetching 6 files:   0%|          | 0/6 [00:00<?, ?it/s]"
      ]
     },
     "metadata": {},
     "output_type": "display_data"
    },
    {
     "data": {
      "application/vnd.jupyter.widget-view+json": {
       "model_id": "0d229f2984c049e1aecd26a25bd79881",
       "version_major": 2,
       "version_minor": 0
      },
      "text/plain": [
       "Fetching 6 files:   0%|          | 0/6 [00:00<?, ?it/s]"
      ]
     },
     "metadata": {},
     "output_type": "display_data"
    },
    {
     "data": {
      "application/vnd.jupyter.widget-view+json": {
       "model_id": "20feaff62afc4194ae7918b9238696c2",
       "version_major": 2,
       "version_minor": 0
      },
      "text/plain": [
       "Fetching 6 files:   0%|          | 0/6 [00:00<?, ?it/s]"
      ]
     },
     "metadata": {},
     "output_type": "display_data"
    },
    {
     "data": {
      "application/vnd.jupyter.widget-view+json": {
       "model_id": "28af8af77f484217ae40916e249b23ba",
       "version_major": 2,
       "version_minor": 0
      },
      "text/plain": [
       "Fetching 6 files:   0%|          | 0/6 [00:00<?, ?it/s]"
      ]
     },
     "metadata": {},
     "output_type": "display_data"
    },
    {
     "data": {
      "application/vnd.jupyter.widget-view+json": {
       "model_id": "cae8e9e18e204bac8ca4580ddba42b4a",
       "version_major": 2,
       "version_minor": 0
      },
      "text/plain": [
       "Fetching 6 files:   0%|          | 0/6 [00:00<?, ?it/s]"
      ]
     },
     "metadata": {},
     "output_type": "display_data"
    },
    {
     "data": {
      "application/vnd.jupyter.widget-view+json": {
       "model_id": "5aed028643b74a47b572337a7f086c91",
       "version_major": 2,
       "version_minor": 0
      },
      "text/plain": [
       "Fetching 6 files:   0%|          | 0/6 [00:00<?, ?it/s]"
      ]
     },
     "metadata": {},
     "output_type": "display_data"
    },
    {
     "data": {
      "application/vnd.jupyter.widget-view+json": {
       "model_id": "26337ef2628d464c9743107b94dae84f",
       "version_major": 2,
       "version_minor": 0
      },
      "text/plain": [
       "Fetching 6 files:   0%|          | 0/6 [00:00<?, ?it/s]"
      ]
     },
     "metadata": {},
     "output_type": "display_data"
    },
    {
     "data": {
      "application/vnd.jupyter.widget-view+json": {
       "model_id": "8f9b6d38c7664203a942d493b0680df7",
       "version_major": 2,
       "version_minor": 0
      },
      "text/plain": [
       "Fetching 6 files:   0%|          | 0/6 [00:00<?, ?it/s]"
      ]
     },
     "metadata": {},
     "output_type": "display_data"
    },
    {
     "data": {
      "application/vnd.jupyter.widget-view+json": {
       "model_id": "490fb2aba8204f6ea0ae4ad7afa72b5e",
       "version_major": 2,
       "version_minor": 0
      },
      "text/plain": [
       "Fetching 6 files:   0%|          | 0/6 [00:00<?, ?it/s]"
      ]
     },
     "metadata": {},
     "output_type": "display_data"
    },
    {
     "data": {
      "application/vnd.jupyter.widget-view+json": {
       "model_id": "68f3c4eb17be428c97a1a058f7aff1f8",
       "version_major": 2,
       "version_minor": 0
      },
      "text/plain": [
       "Fetching 6 files:   0%|          | 0/6 [00:00<?, ?it/s]"
      ]
     },
     "metadata": {},
     "output_type": "display_data"
    },
    {
     "data": {
      "application/vnd.jupyter.widget-view+json": {
       "model_id": "a61ff64b8505421cbef34b13f1df82b5",
       "version_major": 2,
       "version_minor": 0
      },
      "text/plain": [
       "Fetching 6 files:   0%|          | 0/6 [00:00<?, ?it/s]"
      ]
     },
     "metadata": {},
     "output_type": "display_data"
    },
    {
     "data": {
      "application/vnd.jupyter.widget-view+json": {
       "model_id": "f797b6fc69d14bab975c03edb6eea079",
       "version_major": 2,
       "version_minor": 0
      },
      "text/plain": [
       "Fetching 6 files:   0%|          | 0/6 [00:00<?, ?it/s]"
      ]
     },
     "metadata": {},
     "output_type": "display_data"
    },
    {
     "data": {
      "application/vnd.jupyter.widget-view+json": {
       "model_id": "46eef2a2833c43999610190aef9030f6",
       "version_major": 2,
       "version_minor": 0
      },
      "text/plain": [
       "Fetching 6 files:   0%|          | 0/6 [00:00<?, ?it/s]"
      ]
     },
     "metadata": {},
     "output_type": "display_data"
    },
    {
     "data": {
      "application/vnd.jupyter.widget-view+json": {
       "model_id": "6eda953d9ce347468402c858e5f5b9c5",
       "version_major": 2,
       "version_minor": 0
      },
      "text/plain": [
       "Fetching 6 files:   0%|          | 0/6 [00:00<?, ?it/s]"
      ]
     },
     "metadata": {},
     "output_type": "display_data"
    },
    {
     "data": {
      "application/vnd.jupyter.widget-view+json": {
       "model_id": "67cb4501096e4bed9ed60919f42f42b9",
       "version_major": 2,
       "version_minor": 0
      },
      "text/plain": [
       "Fetching 6 files:   0%|          | 0/6 [00:00<?, ?it/s]"
      ]
     },
     "metadata": {},
     "output_type": "display_data"
    },
    {
     "data": {
      "application/vnd.jupyter.widget-view+json": {
       "model_id": "42b15da5ed564991ac2c9aaa17208920",
       "version_major": 2,
       "version_minor": 0
      },
      "text/plain": [
       "Fetching 6 files:   0%|          | 0/6 [00:00<?, ?it/s]"
      ]
     },
     "metadata": {},
     "output_type": "display_data"
    },
    {
     "data": {
      "application/vnd.jupyter.widget-view+json": {
       "model_id": "8954f358dfa24644a42b987ce138e836",
       "version_major": 2,
       "version_minor": 0
      },
      "text/plain": [
       "Fetching 6 files:   0%|          | 0/6 [00:00<?, ?it/s]"
      ]
     },
     "metadata": {},
     "output_type": "display_data"
    },
    {
     "data": {
      "application/vnd.jupyter.widget-view+json": {
       "model_id": "6410f591b73a4cb78bbee643088254cb",
       "version_major": 2,
       "version_minor": 0
      },
      "text/plain": [
       "Fetching 6 files:   0%|          | 0/6 [00:00<?, ?it/s]"
      ]
     },
     "metadata": {},
     "output_type": "display_data"
    },
    {
     "data": {
      "application/vnd.jupyter.widget-view+json": {
       "model_id": "08fe40e6321f40069828f43c804e5f9d",
       "version_major": 2,
       "version_minor": 0
      },
      "text/plain": [
       "Fetching 6 files:   0%|          | 0/6 [00:00<?, ?it/s]"
      ]
     },
     "metadata": {},
     "output_type": "display_data"
    },
    {
     "data": {
      "application/vnd.jupyter.widget-view+json": {
       "model_id": "b1a2f47c234e48a7bffd6cecede93f84",
       "version_major": 2,
       "version_minor": 0
      },
      "text/plain": [
       "Fetching 6 files:   0%|          | 0/6 [00:00<?, ?it/s]"
      ]
     },
     "metadata": {},
     "output_type": "display_data"
    },
    {
     "data": {
      "application/vnd.jupyter.widget-view+json": {
       "model_id": "d8810bc846b24b719313aa56fd376e60",
       "version_major": 2,
       "version_minor": 0
      },
      "text/plain": [
       "Fetching 6 files:   0%|          | 0/6 [00:00<?, ?it/s]"
      ]
     },
     "metadata": {},
     "output_type": "display_data"
    },
    {
     "data": {
      "application/vnd.jupyter.widget-view+json": {
       "model_id": "4e5a3d39750c451081e813569b1557e9",
       "version_major": 2,
       "version_minor": 0
      },
      "text/plain": [
       "Fetching 6 files:   0%|          | 0/6 [00:00<?, ?it/s]"
      ]
     },
     "metadata": {},
     "output_type": "display_data"
    },
    {
     "data": {
      "application/vnd.jupyter.widget-view+json": {
       "model_id": "22dcaaccfbfa4585a0c5dea45a307127",
       "version_major": 2,
       "version_minor": 0
      },
      "text/plain": [
       "Fetching 6 files:   0%|          | 0/6 [00:00<?, ?it/s]"
      ]
     },
     "metadata": {},
     "output_type": "display_data"
    },
    {
     "data": {
      "application/vnd.jupyter.widget-view+json": {
       "model_id": "485afe1c67094d1fae1ca459d332a56f",
       "version_major": 2,
       "version_minor": 0
      },
      "text/plain": [
       "Fetching 6 files:   0%|          | 0/6 [00:00<?, ?it/s]"
      ]
     },
     "metadata": {},
     "output_type": "display_data"
    },
    {
     "data": {
      "application/vnd.jupyter.widget-view+json": {
       "model_id": "9073c36188074094bf46e5929b130fef",
       "version_major": 2,
       "version_minor": 0
      },
      "text/plain": [
       "Fetching 6 files:   0%|          | 0/6 [00:00<?, ?it/s]"
      ]
     },
     "metadata": {},
     "output_type": "display_data"
    },
    {
     "data": {
      "application/vnd.jupyter.widget-view+json": {
       "model_id": "d486d5010695403d9978481cb042becd",
       "version_major": 2,
       "version_minor": 0
      },
      "text/plain": [
       "Fetching 6 files:   0%|          | 0/6 [00:00<?, ?it/s]"
      ]
     },
     "metadata": {},
     "output_type": "display_data"
    },
    {
     "data": {
      "application/vnd.jupyter.widget-view+json": {
       "model_id": "fa44cb958fc04568b78dad48a0bb82f2",
       "version_major": 2,
       "version_minor": 0
      },
      "text/plain": [
       "Fetching 6 files:   0%|          | 0/6 [00:00<?, ?it/s]"
      ]
     },
     "metadata": {},
     "output_type": "display_data"
    },
    {
     "data": {
      "application/vnd.jupyter.widget-view+json": {
       "model_id": "8f89073e93164f8fa5041fc9bd6debf0",
       "version_major": 2,
       "version_minor": 0
      },
      "text/plain": [
       "Fetching 6 files:   0%|          | 0/6 [00:00<?, ?it/s]"
      ]
     },
     "metadata": {},
     "output_type": "display_data"
    },
    {
     "data": {
      "application/vnd.jupyter.widget-view+json": {
       "model_id": "3c96f11a09fb4173bc793c510e41467c",
       "version_major": 2,
       "version_minor": 0
      },
      "text/plain": [
       "Fetching 6 files:   0%|          | 0/6 [00:00<?, ?it/s]"
      ]
     },
     "metadata": {},
     "output_type": "display_data"
    },
    {
     "data": {
      "application/vnd.jupyter.widget-view+json": {
       "model_id": "b0dfcaee84a34fc2bfe730ddf9c6b73b",
       "version_major": 2,
       "version_minor": 0
      },
      "text/plain": [
       "Fetching 6 files:   0%|          | 0/6 [00:00<?, ?it/s]"
      ]
     },
     "metadata": {},
     "output_type": "display_data"
    },
    {
     "data": {
      "application/vnd.jupyter.widget-view+json": {
       "model_id": "7722b92b99fa46a0b1f2baf934dcfba6",
       "version_major": 2,
       "version_minor": 0
      },
      "text/plain": [
       "Fetching 6 files:   0%|          | 0/6 [00:00<?, ?it/s]"
      ]
     },
     "metadata": {},
     "output_type": "display_data"
    },
    {
     "data": {
      "application/vnd.jupyter.widget-view+json": {
       "model_id": "a146a5ea96fd4b24bffe3de564a811c5",
       "version_major": 2,
       "version_minor": 0
      },
      "text/plain": [
       "Fetching 6 files:   0%|          | 0/6 [00:00<?, ?it/s]"
      ]
     },
     "metadata": {},
     "output_type": "display_data"
    },
    {
     "data": {
      "application/vnd.jupyter.widget-view+json": {
       "model_id": "eced7f6183334e1282c045647c190128",
       "version_major": 2,
       "version_minor": 0
      },
      "text/plain": [
       "Fetching 6 files:   0%|          | 0/6 [00:00<?, ?it/s]"
      ]
     },
     "metadata": {},
     "output_type": "display_data"
    },
    {
     "data": {
      "application/vnd.jupyter.widget-view+json": {
       "model_id": "811ed3b82f5440bc84a975db04350c26",
       "version_major": 2,
       "version_minor": 0
      },
      "text/plain": [
       "Fetching 6 files:   0%|          | 0/6 [00:00<?, ?it/s]"
      ]
     },
     "metadata": {},
     "output_type": "display_data"
    },
    {
     "data": {
      "application/vnd.jupyter.widget-view+json": {
       "model_id": "186f62e520a1401da5edcf4a26e24727",
       "version_major": 2,
       "version_minor": 0
      },
      "text/plain": [
       "Fetching 6 files:   0%|          | 0/6 [00:00<?, ?it/s]"
      ]
     },
     "metadata": {},
     "output_type": "display_data"
    },
    {
     "data": {
      "application/vnd.jupyter.widget-view+json": {
       "model_id": "6803c1433c064dbaa065fd8f13c06bb3",
       "version_major": 2,
       "version_minor": 0
      },
      "text/plain": [
       "Fetching 6 files:   0%|          | 0/6 [00:00<?, ?it/s]"
      ]
     },
     "metadata": {},
     "output_type": "display_data"
    },
    {
     "data": {
      "application/vnd.jupyter.widget-view+json": {
       "model_id": "3f43c6e105984c70958a69254d6a3bc0",
       "version_major": 2,
       "version_minor": 0
      },
      "text/plain": [
       "Fetching 6 files:   0%|          | 0/6 [00:00<?, ?it/s]"
      ]
     },
     "metadata": {},
     "output_type": "display_data"
    },
    {
     "data": {
      "application/vnd.jupyter.widget-view+json": {
       "model_id": "f99a63c7a99846979763b5c6cf3c2336",
       "version_major": 2,
       "version_minor": 0
      },
      "text/plain": [
       "Fetching 6 files:   0%|          | 0/6 [00:00<?, ?it/s]"
      ]
     },
     "metadata": {},
     "output_type": "display_data"
    },
    {
     "data": {
      "application/vnd.jupyter.widget-view+json": {
       "model_id": "d0248e3a4a854794bc8e66bf43daa0a7",
       "version_major": 2,
       "version_minor": 0
      },
      "text/plain": [
       "Fetching 6 files:   0%|          | 0/6 [00:00<?, ?it/s]"
      ]
     },
     "metadata": {},
     "output_type": "display_data"
    },
    {
     "data": {
      "application/vnd.jupyter.widget-view+json": {
       "model_id": "dd2e76cb18b54c5c98f4e84c72f6bf9a",
       "version_major": 2,
       "version_minor": 0
      },
      "text/plain": [
       "Fetching 6 files:   0%|          | 0/6 [00:00<?, ?it/s]"
      ]
     },
     "metadata": {},
     "output_type": "display_data"
    },
    {
     "data": {
      "application/vnd.jupyter.widget-view+json": {
       "model_id": "dc046da950e043f583d5c28b22c7e64c",
       "version_major": 2,
       "version_minor": 0
      },
      "text/plain": [
       "Fetching 6 files:   0%|          | 0/6 [00:00<?, ?it/s]"
      ]
     },
     "metadata": {},
     "output_type": "display_data"
    },
    {
     "data": {
      "application/vnd.jupyter.widget-view+json": {
       "model_id": "f3006e6586554f34bfdfb9bcd1c7f49a",
       "version_major": 2,
       "version_minor": 0
      },
      "text/plain": [
       "Fetching 6 files:   0%|          | 0/6 [00:00<?, ?it/s]"
      ]
     },
     "metadata": {},
     "output_type": "display_data"
    },
    {
     "data": {
      "application/vnd.jupyter.widget-view+json": {
       "model_id": "34f45fb98a1c44fc80d19645d7a3e209",
       "version_major": 2,
       "version_minor": 0
      },
      "text/plain": [
       "Fetching 6 files:   0%|          | 0/6 [00:00<?, ?it/s]"
      ]
     },
     "metadata": {},
     "output_type": "display_data"
    },
    {
     "data": {
      "application/vnd.jupyter.widget-view+json": {
       "model_id": "cbb5ee29c6924b08ad271f76f36c9db8",
       "version_major": 2,
       "version_minor": 0
      },
      "text/plain": [
       "Fetching 6 files:   0%|          | 0/6 [00:00<?, ?it/s]"
      ]
     },
     "metadata": {},
     "output_type": "display_data"
    },
    {
     "data": {
      "application/vnd.jupyter.widget-view+json": {
       "model_id": "3b38b71a49714258968de85f61fc008f",
       "version_major": 2,
       "version_minor": 0
      },
      "text/plain": [
       "Fetching 6 files:   0%|          | 0/6 [00:00<?, ?it/s]"
      ]
     },
     "metadata": {},
     "output_type": "display_data"
    },
    {
     "data": {
      "application/vnd.jupyter.widget-view+json": {
       "model_id": "384305251ef34fd5a855eb8fc160082d",
       "version_major": 2,
       "version_minor": 0
      },
      "text/plain": [
       "Fetching 6 files:   0%|          | 0/6 [00:00<?, ?it/s]"
      ]
     },
     "metadata": {},
     "output_type": "display_data"
    },
    {
     "data": {
      "application/vnd.jupyter.widget-view+json": {
       "model_id": "73c84914707b48be9b0ad3bf502a9cbe",
       "version_major": 2,
       "version_minor": 0
      },
      "text/plain": [
       "Fetching 6 files:   0%|          | 0/6 [00:00<?, ?it/s]"
      ]
     },
     "metadata": {},
     "output_type": "display_data"
    },
    {
     "data": {
      "application/vnd.jupyter.widget-view+json": {
       "model_id": "9a6aef061ed24c45a1315d35d936db02",
       "version_major": 2,
       "version_minor": 0
      },
      "text/plain": [
       "Fetching 6 files:   0%|          | 0/6 [00:00<?, ?it/s]"
      ]
     },
     "metadata": {},
     "output_type": "display_data"
    },
    {
     "data": {
      "application/vnd.jupyter.widget-view+json": {
       "model_id": "870a8db56118419e92c48d7e1a0417cd",
       "version_major": 2,
       "version_minor": 0
      },
      "text/plain": [
       "Fetching 6 files:   0%|          | 0/6 [00:00<?, ?it/s]"
      ]
     },
     "metadata": {},
     "output_type": "display_data"
    },
    {
     "data": {
      "application/vnd.jupyter.widget-view+json": {
       "model_id": "54de8a743bc543609d645abd8b094ae3",
       "version_major": 2,
       "version_minor": 0
      },
      "text/plain": [
       "Fetching 6 files:   0%|          | 0/6 [00:00<?, ?it/s]"
      ]
     },
     "metadata": {},
     "output_type": "display_data"
    },
    {
     "data": {
      "application/vnd.jupyter.widget-view+json": {
       "model_id": "f2a29afaa128414da45099d5e70b7bcf",
       "version_major": 2,
       "version_minor": 0
      },
      "text/plain": [
       "Fetching 6 files:   0%|          | 0/6 [00:00<?, ?it/s]"
      ]
     },
     "metadata": {},
     "output_type": "display_data"
    },
    {
     "data": {
      "application/vnd.jupyter.widget-view+json": {
       "model_id": "b7ea4ac03c9e40789dc3d3d5f46dcf70",
       "version_major": 2,
       "version_minor": 0
      },
      "text/plain": [
       "Fetching 6 files:   0%|          | 0/6 [00:00<?, ?it/s]"
      ]
     },
     "metadata": {},
     "output_type": "display_data"
    },
    {
     "data": {
      "application/vnd.jupyter.widget-view+json": {
       "model_id": "fec57ee9a69e4ad095a2896a10072755",
       "version_major": 2,
       "version_minor": 0
      },
      "text/plain": [
       "Fetching 6 files:   0%|          | 0/6 [00:00<?, ?it/s]"
      ]
     },
     "metadata": {},
     "output_type": "display_data"
    },
    {
     "data": {
      "application/vnd.jupyter.widget-view+json": {
       "model_id": "64722af4c4ce41cfa16ae22a9c7a2b99",
       "version_major": 2,
       "version_minor": 0
      },
      "text/plain": [
       "Fetching 6 files:   0%|          | 0/6 [00:00<?, ?it/s]"
      ]
     },
     "metadata": {},
     "output_type": "display_data"
    },
    {
     "data": {
      "application/vnd.jupyter.widget-view+json": {
       "model_id": "7e523c0586cc4e0899664fff84eb6b04",
       "version_major": 2,
       "version_minor": 0
      },
      "text/plain": [
       "Fetching 6 files:   0%|          | 0/6 [00:00<?, ?it/s]"
      ]
     },
     "metadata": {},
     "output_type": "display_data"
    },
    {
     "data": {
      "application/vnd.jupyter.widget-view+json": {
       "model_id": "1b9482c7257442ad901531728a66d289",
       "version_major": 2,
       "version_minor": 0
      },
      "text/plain": [
       "Fetching 6 files:   0%|          | 0/6 [00:00<?, ?it/s]"
      ]
     },
     "metadata": {},
     "output_type": "display_data"
    },
    {
     "data": {
      "application/vnd.jupyter.widget-view+json": {
       "model_id": "a1d501f682aa451d8ad9348369292b48",
       "version_major": 2,
       "version_minor": 0
      },
      "text/plain": [
       "Fetching 6 files:   0%|          | 0/6 [00:00<?, ?it/s]"
      ]
     },
     "metadata": {},
     "output_type": "display_data"
    },
    {
     "data": {
      "application/vnd.jupyter.widget-view+json": {
       "model_id": "7d63b6981f13437d932c81d00c520c83",
       "version_major": 2,
       "version_minor": 0
      },
      "text/plain": [
       "Fetching 6 files:   0%|          | 0/6 [00:00<?, ?it/s]"
      ]
     },
     "metadata": {},
     "output_type": "display_data"
    },
    {
     "data": {
      "application/vnd.jupyter.widget-view+json": {
       "model_id": "cd8e42f44d904ddbaf910edfac04d60c",
       "version_major": 2,
       "version_minor": 0
      },
      "text/plain": [
       "Fetching 6 files:   0%|          | 0/6 [00:00<?, ?it/s]"
      ]
     },
     "metadata": {},
     "output_type": "display_data"
    },
    {
     "data": {
      "application/vnd.jupyter.widget-view+json": {
       "model_id": "ef400cf2139345dbb1ce8c6fd1ca349a",
       "version_major": 2,
       "version_minor": 0
      },
      "text/plain": [
       "Fetching 6 files:   0%|          | 0/6 [00:00<?, ?it/s]"
      ]
     },
     "metadata": {},
     "output_type": "display_data"
    },
    {
     "data": {
      "application/vnd.jupyter.widget-view+json": {
       "model_id": "1f314090ab9e4f41a0264ace943c7f17",
       "version_major": 2,
       "version_minor": 0
      },
      "text/plain": [
       "Fetching 6 files:   0%|          | 0/6 [00:00<?, ?it/s]"
      ]
     },
     "metadata": {},
     "output_type": "display_data"
    },
    {
     "data": {
      "application/vnd.jupyter.widget-view+json": {
       "model_id": "d6d1e3c386be41c7a8ed7f83b0a15044",
       "version_major": 2,
       "version_minor": 0
      },
      "text/plain": [
       "Fetching 6 files:   0%|          | 0/6 [00:00<?, ?it/s]"
      ]
     },
     "metadata": {},
     "output_type": "display_data"
    },
    {
     "data": {
      "application/vnd.jupyter.widget-view+json": {
       "model_id": "34b981cfb6b143ae956811aed1d45f30",
       "version_major": 2,
       "version_minor": 0
      },
      "text/plain": [
       "Fetching 6 files:   0%|          | 0/6 [00:00<?, ?it/s]"
      ]
     },
     "metadata": {},
     "output_type": "display_data"
    },
    {
     "data": {
      "application/vnd.jupyter.widget-view+json": {
       "model_id": "a98f5cb0bb9142b9a28eb31aca58bfc0",
       "version_major": 2,
       "version_minor": 0
      },
      "text/plain": [
       "Fetching 6 files:   0%|          | 0/6 [00:00<?, ?it/s]"
      ]
     },
     "metadata": {},
     "output_type": "display_data"
    },
    {
     "data": {
      "application/vnd.jupyter.widget-view+json": {
       "model_id": "9bc1d375b43442cdbb6ffd2b90bbd7a1",
       "version_major": 2,
       "version_minor": 0
      },
      "text/plain": [
       "Fetching 6 files:   0%|          | 0/6 [00:00<?, ?it/s]"
      ]
     },
     "metadata": {},
     "output_type": "display_data"
    },
    {
     "data": {
      "application/vnd.jupyter.widget-view+json": {
       "model_id": "b57afd527145434c9cf8fd611c7e2409",
       "version_major": 2,
       "version_minor": 0
      },
      "text/plain": [
       "Fetching 6 files:   0%|          | 0/6 [00:00<?, ?it/s]"
      ]
     },
     "metadata": {},
     "output_type": "display_data"
    },
    {
     "data": {
      "application/vnd.jupyter.widget-view+json": {
       "model_id": "9b576ae20d634a25a7463107b75565a6",
       "version_major": 2,
       "version_minor": 0
      },
      "text/plain": [
       "Fetching 6 files:   0%|          | 0/6 [00:00<?, ?it/s]"
      ]
     },
     "metadata": {},
     "output_type": "display_data"
    },
    {
     "data": {
      "application/vnd.jupyter.widget-view+json": {
       "model_id": "ad93ba987a5f4f218b030ef2f1f2b406",
       "version_major": 2,
       "version_minor": 0
      },
      "text/plain": [
       "Fetching 6 files:   0%|          | 0/6 [00:00<?, ?it/s]"
      ]
     },
     "metadata": {},
     "output_type": "display_data"
    },
    {
     "data": {
      "application/vnd.jupyter.widget-view+json": {
       "model_id": "7e8d17e0d9194f679cba31e66f80c690",
       "version_major": 2,
       "version_minor": 0
      },
      "text/plain": [
       "Fetching 6 files:   0%|          | 0/6 [00:00<?, ?it/s]"
      ]
     },
     "metadata": {},
     "output_type": "display_data"
    },
    {
     "data": {
      "application/vnd.jupyter.widget-view+json": {
       "model_id": "c74ebf870d004b39ba803273b6e6a29f",
       "version_major": 2,
       "version_minor": 0
      },
      "text/plain": [
       "Fetching 6 files:   0%|          | 0/6 [00:00<?, ?it/s]"
      ]
     },
     "metadata": {},
     "output_type": "display_data"
    },
    {
     "data": {
      "application/vnd.jupyter.widget-view+json": {
       "model_id": "c41849d0edb144d9925944f61d452f54",
       "version_major": 2,
       "version_minor": 0
      },
      "text/plain": [
       "Fetching 6 files:   0%|          | 0/6 [00:00<?, ?it/s]"
      ]
     },
     "metadata": {},
     "output_type": "display_data"
    },
    {
     "data": {
      "application/vnd.jupyter.widget-view+json": {
       "model_id": "b8413ab40cf44857ad9f3774a1713bcf",
       "version_major": 2,
       "version_minor": 0
      },
      "text/plain": [
       "Fetching 6 files:   0%|          | 0/6 [00:00<?, ?it/s]"
      ]
     },
     "metadata": {},
     "output_type": "display_data"
    },
    {
     "data": {
      "application/vnd.jupyter.widget-view+json": {
       "model_id": "daae4ef20c61470e98607c2eb522f26f",
       "version_major": 2,
       "version_minor": 0
      },
      "text/plain": [
       "Fetching 6 files:   0%|          | 0/6 [00:00<?, ?it/s]"
      ]
     },
     "metadata": {},
     "output_type": "display_data"
    },
    {
     "data": {
      "application/vnd.jupyter.widget-view+json": {
       "model_id": "ecd9e604411940b586f9f9fede09970f",
       "version_major": 2,
       "version_minor": 0
      },
      "text/plain": [
       "Fetching 6 files:   0%|          | 0/6 [00:00<?, ?it/s]"
      ]
     },
     "metadata": {},
     "output_type": "display_data"
    },
    {
     "data": {
      "application/vnd.jupyter.widget-view+json": {
       "model_id": "36c0609478f4419c8d61e9ae48248481",
       "version_major": 2,
       "version_minor": 0
      },
      "text/plain": [
       "Fetching 6 files:   0%|          | 0/6 [00:00<?, ?it/s]"
      ]
     },
     "metadata": {},
     "output_type": "display_data"
    },
    {
     "data": {
      "application/vnd.jupyter.widget-view+json": {
       "model_id": "b113b0cac834478e80ee8fcd28e8f7a9",
       "version_major": 2,
       "version_minor": 0
      },
      "text/plain": [
       "Fetching 6 files:   0%|          | 0/6 [00:00<?, ?it/s]"
      ]
     },
     "metadata": {},
     "output_type": "display_data"
    },
    {
     "data": {
      "application/vnd.jupyter.widget-view+json": {
       "model_id": "e2f3241e0e24465189519d1419a80199",
       "version_major": 2,
       "version_minor": 0
      },
      "text/plain": [
       "Fetching 6 files:   0%|          | 0/6 [00:00<?, ?it/s]"
      ]
     },
     "metadata": {},
     "output_type": "display_data"
    },
    {
     "data": {
      "application/vnd.jupyter.widget-view+json": {
       "model_id": "3bf5bfdebeaf4b609763d6e12944900d",
       "version_major": 2,
       "version_minor": 0
      },
      "text/plain": [
       "Fetching 6 files:   0%|          | 0/6 [00:00<?, ?it/s]"
      ]
     },
     "metadata": {},
     "output_type": "display_data"
    },
    {
     "data": {
      "application/vnd.jupyter.widget-view+json": {
       "model_id": "cdd9c1745bc64c3d8ef8389304626e7c",
       "version_major": 2,
       "version_minor": 0
      },
      "text/plain": [
       "Fetching 6 files:   0%|          | 0/6 [00:00<?, ?it/s]"
      ]
     },
     "metadata": {},
     "output_type": "display_data"
    },
    {
     "data": {
      "application/vnd.jupyter.widget-view+json": {
       "model_id": "f0429cef48db4feea90b31639cd20bc4",
       "version_major": 2,
       "version_minor": 0
      },
      "text/plain": [
       "Fetching 6 files:   0%|          | 0/6 [00:00<?, ?it/s]"
      ]
     },
     "metadata": {},
     "output_type": "display_data"
    },
    {
     "data": {
      "application/vnd.jupyter.widget-view+json": {
       "model_id": "b8515a09acc84af6b51f40de6fb8a300",
       "version_major": 2,
       "version_minor": 0
      },
      "text/plain": [
       "Fetching 6 files:   0%|          | 0/6 [00:00<?, ?it/s]"
      ]
     },
     "metadata": {},
     "output_type": "display_data"
    },
    {
     "data": {
      "application/vnd.jupyter.widget-view+json": {
       "model_id": "d1464a3dafbc4e78ab103d749db988e7",
       "version_major": 2,
       "version_minor": 0
      },
      "text/plain": [
       "Fetching 6 files:   0%|          | 0/6 [00:00<?, ?it/s]"
      ]
     },
     "metadata": {},
     "output_type": "display_data"
    },
    {
     "data": {
      "application/vnd.jupyter.widget-view+json": {
       "model_id": "815174ec71ab46d39ac962df97eeaf8a",
       "version_major": 2,
       "version_minor": 0
      },
      "text/plain": [
       "Fetching 6 files:   0%|          | 0/6 [00:00<?, ?it/s]"
      ]
     },
     "metadata": {},
     "output_type": "display_data"
    },
    {
     "data": {
      "application/vnd.jupyter.widget-view+json": {
       "model_id": "e1d0fa7c07e842379ebd9b79c89661a4",
       "version_major": 2,
       "version_minor": 0
      },
      "text/plain": [
       "Fetching 6 files:   0%|          | 0/6 [00:00<?, ?it/s]"
      ]
     },
     "metadata": {},
     "output_type": "display_data"
    },
    {
     "data": {
      "application/vnd.jupyter.widget-view+json": {
       "model_id": "8203a27d78e1424fa4e0d79c2a11e4a4",
       "version_major": 2,
       "version_minor": 0
      },
      "text/plain": [
       "Fetching 6 files:   0%|          | 0/6 [00:00<?, ?it/s]"
      ]
     },
     "metadata": {},
     "output_type": "display_data"
    },
    {
     "data": {
      "application/vnd.jupyter.widget-view+json": {
       "model_id": "1569880f201b48f2b8a803695b8f0522",
       "version_major": 2,
       "version_minor": 0
      },
      "text/plain": [
       "Fetching 6 files:   0%|          | 0/6 [00:00<?, ?it/s]"
      ]
     },
     "metadata": {},
     "output_type": "display_data"
    },
    {
     "data": {
      "application/vnd.jupyter.widget-view+json": {
       "model_id": "6e03327164a14bf18a34cc5a9d588891",
       "version_major": 2,
       "version_minor": 0
      },
      "text/plain": [
       "Fetching 6 files:   0%|          | 0/6 [00:00<?, ?it/s]"
      ]
     },
     "metadata": {},
     "output_type": "display_data"
    },
    {
     "data": {
      "application/vnd.jupyter.widget-view+json": {
       "model_id": "7524f2621f7f4ea0b7c142a3efc6e4c3",
       "version_major": 2,
       "version_minor": 0
      },
      "text/plain": [
       "Fetching 6 files:   0%|          | 0/6 [00:00<?, ?it/s]"
      ]
     },
     "metadata": {},
     "output_type": "display_data"
    },
    {
     "data": {
      "application/vnd.jupyter.widget-view+json": {
       "model_id": "bcdf654396d643dba27d95bc1e88b554",
       "version_major": 2,
       "version_minor": 0
      },
      "text/plain": [
       "Fetching 6 files:   0%|          | 0/6 [00:00<?, ?it/s]"
      ]
     },
     "metadata": {},
     "output_type": "display_data"
    },
    {
     "data": {
      "application/vnd.jupyter.widget-view+json": {
       "model_id": "d9e55e881c6d41ee9eff0afea8ca772b",
       "version_major": 2,
       "version_minor": 0
      },
      "text/plain": [
       "Fetching 6 files:   0%|          | 0/6 [00:00<?, ?it/s]"
      ]
     },
     "metadata": {},
     "output_type": "display_data"
    },
    {
     "data": {
      "application/vnd.jupyter.widget-view+json": {
       "model_id": "8935e42d5dcd4e00a99df3ddf936750a",
       "version_major": 2,
       "version_minor": 0
      },
      "text/plain": [
       "Fetching 6 files:   0%|          | 0/6 [00:00<?, ?it/s]"
      ]
     },
     "metadata": {},
     "output_type": "display_data"
    },
    {
     "data": {
      "application/vnd.jupyter.widget-view+json": {
       "model_id": "3e8953adab9c4691a9785f476d2b0bb5",
       "version_major": 2,
       "version_minor": 0
      },
      "text/plain": [
       "Fetching 6 files:   0%|          | 0/6 [00:00<?, ?it/s]"
      ]
     },
     "metadata": {},
     "output_type": "display_data"
    },
    {
     "data": {
      "application/vnd.jupyter.widget-view+json": {
       "model_id": "7c064181436d4289afb65ee58c1f0f5b",
       "version_major": 2,
       "version_minor": 0
      },
      "text/plain": [
       "Fetching 6 files:   0%|          | 0/6 [00:00<?, ?it/s]"
      ]
     },
     "metadata": {},
     "output_type": "display_data"
    },
    {
     "data": {
      "application/vnd.jupyter.widget-view+json": {
       "model_id": "ecba46355222480fba1e73f6e1a7f824",
       "version_major": 2,
       "version_minor": 0
      },
      "text/plain": [
       "Fetching 6 files:   0%|          | 0/6 [00:00<?, ?it/s]"
      ]
     },
     "metadata": {},
     "output_type": "display_data"
    },
    {
     "data": {
      "application/vnd.jupyter.widget-view+json": {
       "model_id": "1afe7994b32543f3aaa08463f0358483",
       "version_major": 2,
       "version_minor": 0
      },
      "text/plain": [
       "Fetching 6 files:   0%|          | 0/6 [00:00<?, ?it/s]"
      ]
     },
     "metadata": {},
     "output_type": "display_data"
    },
    {
     "data": {
      "application/vnd.jupyter.widget-view+json": {
       "model_id": "b7b22d9df487439986dc38e9c90594fe",
       "version_major": 2,
       "version_minor": 0
      },
      "text/plain": [
       "Fetching 6 files:   0%|          | 0/6 [00:00<?, ?it/s]"
      ]
     },
     "metadata": {},
     "output_type": "display_data"
    },
    {
     "data": {
      "application/vnd.jupyter.widget-view+json": {
       "model_id": "91c30c5944eb4a68bc8e62bf0d2a7512",
       "version_major": 2,
       "version_minor": 0
      },
      "text/plain": [
       "Fetching 6 files:   0%|          | 0/6 [00:00<?, ?it/s]"
      ]
     },
     "metadata": {},
     "output_type": "display_data"
    },
    {
     "data": {
      "application/vnd.jupyter.widget-view+json": {
       "model_id": "48f59a361b8d40bd8bef9b44cceb3cd0",
       "version_major": 2,
       "version_minor": 0
      },
      "text/plain": [
       "Fetching 6 files:   0%|          | 0/6 [00:00<?, ?it/s]"
      ]
     },
     "metadata": {},
     "output_type": "display_data"
    },
    {
     "data": {
      "application/vnd.jupyter.widget-view+json": {
       "model_id": "7a753e64f69e4d149ed42ada065ba19a",
       "version_major": 2,
       "version_minor": 0
      },
      "text/plain": [
       "Fetching 6 files:   0%|          | 0/6 [00:00<?, ?it/s]"
      ]
     },
     "metadata": {},
     "output_type": "display_data"
    },
    {
     "data": {
      "application/vnd.jupyter.widget-view+json": {
       "model_id": "c463da476a934ad999ac5962876cd442",
       "version_major": 2,
       "version_minor": 0
      },
      "text/plain": [
       "Fetching 6 files:   0%|          | 0/6 [00:00<?, ?it/s]"
      ]
     },
     "metadata": {},
     "output_type": "display_data"
    },
    {
     "data": {
      "application/vnd.jupyter.widget-view+json": {
       "model_id": "50a0626ef25b459fbb693aa2c6c847d5",
       "version_major": 2,
       "version_minor": 0
      },
      "text/plain": [
       "Fetching 6 files:   0%|          | 0/6 [00:00<?, ?it/s]"
      ]
     },
     "metadata": {},
     "output_type": "display_data"
    },
    {
     "data": {
      "application/vnd.jupyter.widget-view+json": {
       "model_id": "fc2945df7dc7476b90278c8f45fa8cc4",
       "version_major": 2,
       "version_minor": 0
      },
      "text/plain": [
       "Fetching 6 files:   0%|          | 0/6 [00:00<?, ?it/s]"
      ]
     },
     "metadata": {},
     "output_type": "display_data"
    },
    {
     "data": {
      "application/vnd.jupyter.widget-view+json": {
       "model_id": "9eac415df8f847568319e37d76df3a0a",
       "version_major": 2,
       "version_minor": 0
      },
      "text/plain": [
       "Fetching 6 files:   0%|          | 0/6 [00:00<?, ?it/s]"
      ]
     },
     "metadata": {},
     "output_type": "display_data"
    },
    {
     "data": {
      "application/vnd.jupyter.widget-view+json": {
       "model_id": "247d3544a5334f35ae12aed78e036589",
       "version_major": 2,
       "version_minor": 0
      },
      "text/plain": [
       "Fetching 6 files:   0%|          | 0/6 [00:00<?, ?it/s]"
      ]
     },
     "metadata": {},
     "output_type": "display_data"
    },
    {
     "data": {
      "application/vnd.jupyter.widget-view+json": {
       "model_id": "220a6a61713d4297ab12ca24d82335ed",
       "version_major": 2,
       "version_minor": 0
      },
      "text/plain": [
       "Fetching 6 files:   0%|          | 0/6 [00:00<?, ?it/s]"
      ]
     },
     "metadata": {},
     "output_type": "display_data"
    },
    {
     "data": {
      "application/vnd.jupyter.widget-view+json": {
       "model_id": "69679b4a56114f16a7413724d8653416",
       "version_major": 2,
       "version_minor": 0
      },
      "text/plain": [
       "Fetching 6 files:   0%|          | 0/6 [00:00<?, ?it/s]"
      ]
     },
     "metadata": {},
     "output_type": "display_data"
    },
    {
     "data": {
      "application/vnd.jupyter.widget-view+json": {
       "model_id": "33d049a08cf84adda1be9ed4bb01d9bf",
       "version_major": 2,
       "version_minor": 0
      },
      "text/plain": [
       "Fetching 6 files:   0%|          | 0/6 [00:00<?, ?it/s]"
      ]
     },
     "metadata": {},
     "output_type": "display_data"
    },
    {
     "data": {
      "application/vnd.jupyter.widget-view+json": {
       "model_id": "a599b72a5da44396aaa5d730bb6e54e0",
       "version_major": 2,
       "version_minor": 0
      },
      "text/plain": [
       "Fetching 6 files:   0%|          | 0/6 [00:00<?, ?it/s]"
      ]
     },
     "metadata": {},
     "output_type": "display_data"
    },
    {
     "data": {
      "application/vnd.jupyter.widget-view+json": {
       "model_id": "0c6e652d606d4e45bf92fba624d87cee",
       "version_major": 2,
       "version_minor": 0
      },
      "text/plain": [
       "Fetching 6 files:   0%|          | 0/6 [00:00<?, ?it/s]"
      ]
     },
     "metadata": {},
     "output_type": "display_data"
    },
    {
     "data": {
      "application/vnd.jupyter.widget-view+json": {
       "model_id": "9cef903a9d944931a9411c26a9f7d029",
       "version_major": 2,
       "version_minor": 0
      },
      "text/plain": [
       "Fetching 6 files:   0%|          | 0/6 [00:00<?, ?it/s]"
      ]
     },
     "metadata": {},
     "output_type": "display_data"
    },
    {
     "data": {
      "application/vnd.jupyter.widget-view+json": {
       "model_id": "346b48f8d37649a9bea5208e6c2f575b",
       "version_major": 2,
       "version_minor": 0
      },
      "text/plain": [
       "Fetching 6 files:   0%|          | 0/6 [00:00<?, ?it/s]"
      ]
     },
     "metadata": {},
     "output_type": "display_data"
    },
    {
     "data": {
      "application/vnd.jupyter.widget-view+json": {
       "model_id": "f4e6c5d63ff043c196281f6df526a143",
       "version_major": 2,
       "version_minor": 0
      },
      "text/plain": [
       "Fetching 6 files:   0%|          | 0/6 [00:00<?, ?it/s]"
      ]
     },
     "metadata": {},
     "output_type": "display_data"
    },
    {
     "data": {
      "application/vnd.jupyter.widget-view+json": {
       "model_id": "da102987bbe5481686b8b1479f8f8cea",
       "version_major": 2,
       "version_minor": 0
      },
      "text/plain": [
       "Fetching 6 files:   0%|          | 0/6 [00:00<?, ?it/s]"
      ]
     },
     "metadata": {},
     "output_type": "display_data"
    },
    {
     "data": {
      "application/vnd.jupyter.widget-view+json": {
       "model_id": "3c79c709d33e4f108b911bc6056f6950",
       "version_major": 2,
       "version_minor": 0
      },
      "text/plain": [
       "Fetching 6 files:   0%|          | 0/6 [00:00<?, ?it/s]"
      ]
     },
     "metadata": {},
     "output_type": "display_data"
    },
    {
     "data": {
      "application/vnd.jupyter.widget-view+json": {
       "model_id": "140a091c3cc242b993e671f3f29a4f84",
       "version_major": 2,
       "version_minor": 0
      },
      "text/plain": [
       "Fetching 6 files:   0%|          | 0/6 [00:00<?, ?it/s]"
      ]
     },
     "metadata": {},
     "output_type": "display_data"
    },
    {
     "data": {
      "application/vnd.jupyter.widget-view+json": {
       "model_id": "ce85395b2f644adeb12069be6c3ee62a",
       "version_major": 2,
       "version_minor": 0
      },
      "text/plain": [
       "Fetching 6 files:   0%|          | 0/6 [00:00<?, ?it/s]"
      ]
     },
     "metadata": {},
     "output_type": "display_data"
    },
    {
     "data": {
      "application/vnd.jupyter.widget-view+json": {
       "model_id": "ec6ce8cd503049a492b1ee5135c44082",
       "version_major": 2,
       "version_minor": 0
      },
      "text/plain": [
       "Fetching 6 files:   0%|          | 0/6 [00:00<?, ?it/s]"
      ]
     },
     "metadata": {},
     "output_type": "display_data"
    },
    {
     "data": {
      "application/vnd.jupyter.widget-view+json": {
       "model_id": "bc2c6dede2674587811aee7b844fd30b",
       "version_major": 2,
       "version_minor": 0
      },
      "text/plain": [
       "Fetching 6 files:   0%|          | 0/6 [00:00<?, ?it/s]"
      ]
     },
     "metadata": {},
     "output_type": "display_data"
    },
    {
     "data": {
      "application/vnd.jupyter.widget-view+json": {
       "model_id": "4ba6dd891bff41b88dadb95632141ecb",
       "version_major": 2,
       "version_minor": 0
      },
      "text/plain": [
       "Fetching 6 files:   0%|          | 0/6 [00:00<?, ?it/s]"
      ]
     },
     "metadata": {},
     "output_type": "display_data"
    },
    {
     "data": {
      "application/vnd.jupyter.widget-view+json": {
       "model_id": "9a3423e518ce4f4d81a9e3e833d94958",
       "version_major": 2,
       "version_minor": 0
      },
      "text/plain": [
       "Fetching 6 files:   0%|          | 0/6 [00:00<?, ?it/s]"
      ]
     },
     "metadata": {},
     "output_type": "display_data"
    },
    {
     "data": {
      "application/vnd.jupyter.widget-view+json": {
       "model_id": "9ca8e4b7fb3343c489eea857baa93bd5",
       "version_major": 2,
       "version_minor": 0
      },
      "text/plain": [
       "Fetching 6 files:   0%|          | 0/6 [00:00<?, ?it/s]"
      ]
     },
     "metadata": {},
     "output_type": "display_data"
    }
   ],
   "source": [
    "model_path_raw = 'mlx-community/Llama-3.2-1B-Instruct-4bit'\n",
    "\n",
    "def score_row_local_raw(row):\n",
    "    score = score_text_local(row['text'], row['ticker'], model_path_raw)\n",
    "    return score\n",
    "\n",
    "scores_series_local_raw = reduced_stock_mentions.apply(score_row_local_raw, axis=1)"
   ]
  },
  {
   "cell_type": "code",
   "execution_count": 124,
   "metadata": {},
   "outputs": [],
   "source": [
    "reduced_stock_mentions['score_local_finetuned'] = scores_series_local\n",
    "reduced_stock_mentions['score_local_raw'] = scores_series_local_raw"
   ]
  },
  {
   "cell_type": "code",
   "execution_count": 125,
   "metadata": {},
   "outputs": [
    {
     "data": {
      "application/vnd.microsoft.datawrangler.viewer.v0+json": {
       "columns": [
        {
         "name": "index",
         "rawType": "int64",
         "type": "integer"
        },
        {
         "name": "ticker",
         "rawType": "object",
         "type": "string"
        },
        {
         "name": "text",
         "rawType": "object",
         "type": "string"
        },
        {
         "name": "score",
         "rawType": "int64",
         "type": "integer"
        },
        {
         "name": "score_local_finetuned",
         "rawType": "int64",
         "type": "integer"
        },
        {
         "name": "score_local_raw",
         "rawType": "int64",
         "type": "integer"
        }
       ],
       "conversionMethod": "pd.DataFrame",
       "ref": "34ea47da-362b-4afb-8d0d-383b856bb173",
       "rows": [
        [
         "0",
         "AAPL",
         "Selling my AAPL position because of Itunes/AppleTV",
         "-1",
         "1",
         "0"
        ],
        [
         "1",
         "LEN",
         "Thoughts on long-term position for Lennar Corp (LEN) and for the homebuilding industry in general?",
         "0",
         "-1",
         "0"
        ],
        [
         "2",
         "AMD",
         "Why can't I find the AMD Annual Report for 2016",
         "0",
         "0",
         "0"
        ],
        [
         "3",
         "TSLA",
         "What is happening to TSLA stock?",
         "0",
         "0",
         "0"
        ],
        [
         "4",
         "HLT",
         "My position in HLT has split into different symbols",
         "0",
         "0",
         "0"
        ],
        [
         "5",
         "DOW",
         "So... No more DOW 20,000?",
         "-1",
         "1",
         "0"
        ],
        [
         "6",
         "AMD",
         "All things AMD are looking good today at CES. So why is it down?",
         "-1",
         "1",
         "0"
        ],
        [
         "7",
         "STZ",
         "Confusion on stz today",
         "0",
         "0",
         "-1"
        ],
        [
         "8",
         "GOOGL",
         "Google is an ETF",
         "-1",
         "0",
         "0"
        ],
        [
         "9",
         "FSLR",
         "FSLR -- Should I 'hold' or 'sell' my share of First Solar",
         "0",
         "0",
         "0"
        ],
        [
         "10",
         "NVDA",
         "NVDA",
         "0",
         "-1",
         "0"
        ],
        [
         "11",
         "NVDA",
         "95% on NVDA call from last week",
         "1",
         "1",
         "0"
        ],
        [
         "12",
         "SBUX",
         "Using my Starbucks stock employee discount",
         "0",
         "-1",
         "0"
        ],
        [
         "13",
         "MSFT",
         "Will Microsoft Corporation Stock Continue To Rally?",
         "0",
         "0",
         "0"
        ],
        [
         "14",
         "GOOGL",
         "\"Ross\" from Warrior Trading is spamming the hell out of my Google ads. He must be spending a fortune on advertising. Anyone else notice this?",
         "0",
         "0",
         "0"
        ],
        [
         "15",
         "CRM",
         "FB, AAPL, or CRM",
         "0",
         "0",
         "0"
        ],
        [
         "16",
         "BAC",
         "Is BAC and BP a good buy for long term investment?",
         "0",
         "-1",
         "0"
        ],
        [
         "17",
         "SBUX",
         "Starbucks RSU questions.",
         "0",
         "-1",
         "0"
        ],
        [
         "18",
         "SBUX",
         "SBUX Earnings - Question",
         "0",
         "0",
         "0"
        ],
        [
         "19",
         "BAC",
         "BAC",
         "0",
         "0",
         "0"
        ],
        [
         "20",
         "AMD",
         "I bought into the AMD hype like an idiot, and have lost 15 dollars so far. Should I cut my losses and sell?",
         "-1",
         "-1",
         "0"
        ],
        [
         "21",
         "ABBV",
         "Been looking at dividened stocks and ABBV caught my eye.",
         "0",
         "1",
         "0"
        ],
        [
         "22",
         "KEY",
         "KeyCorp",
         "0",
         "0",
         "0"
        ],
        [
         "23",
         "TECH",
         "Bio-Tech DD",
         "0",
         "-1",
         "0"
        ],
        [
         "24",
         "TSLA",
         "TSLA",
         "0",
         "-1",
         "0"
        ],
        [
         "25",
         "BAC",
         "BAC",
         "0",
         "0",
         "0"
        ],
        [
         "26",
         "NVDA",
         "Nvidia",
         "0",
         "-1",
         "0"
        ],
        [
         "27",
         "NFLX",
         "NFLX up 8% after hours",
         "1",
         "1",
         "0"
        ],
        [
         "28",
         "AMD",
         "Why has AMD stock being going down?",
         "0",
         "-1",
         "0"
        ],
        [
         "29",
         "AMD",
         "AMD is it time to pull the plug?",
         "-1",
         "0",
         "1"
        ],
        [
         "30",
         "TSLA",
         "Should I jump on the ballooning TSLA stocks?",
         "0",
         "0",
         "0"
        ],
        [
         "31",
         "TAP",
         "How long is the S&amp;P going to tap against 2275?",
         "0",
         "-1",
         "0"
        ],
        [
         "32",
         "CSCO",
         "Cisco since Avaya filing bankruptcy?",
         "1",
         "0",
         "1"
        ],
        [
         "33",
         "AMD",
         "Is amd dropping due to being overbought?",
         "-1",
         "0",
         "0"
        ],
        [
         "34",
         "BALL",
         "China can make ball point pens, what are the effects in stocks of companies involved?",
         "-1",
         "0",
         "0"
        ],
        [
         "35",
         "QCOM",
         "Qualcomm took another hit",
         "-1",
         "1",
         "-1"
        ],
        [
         "36",
         "NFLX",
         "Netflix, Inc. (NASDAQ:NFLX) Quarterly EPS Set At $0.425",
         "0",
         "-1",
         "0"
        ],
        [
         "37",
         "NFLX",
         "Netflix CEO explains why his company keeps growing",
         "1",
         "1",
         "0"
        ],
        [
         "38",
         "QCOM",
         "Apple Sues Qualcomm; Company's Legal Woes Begin To Pile Up",
         "-1",
         "1",
         "1"
        ],
        [
         "39",
         "AMD",
         "AMD stock had a great run in 2016, but the stock may not be able to repeat its performance in 2017.",
         "-1",
         "1",
         "1"
        ],
        [
         "40",
         "GLW",
         "GLW doesnt get enough love here",
         "1",
         "0",
         "1"
        ],
        [
         "41",
         "GILD",
         "WTF GILD ?",
         "-1",
         "1",
         "0"
        ],
        [
         "42",
         "DOW",
         "Dow index hits 20k!",
         "1",
         "0",
         "0"
        ],
        [
         "43",
         "IBM",
         "Taking $IBM and $NFLX to the bank this morning",
         "1",
         "1",
         "0"
        ],
        [
         "44",
         "YUM",
         "Would a temporary Yum investment be wise?",
         "0",
         "0",
         "0"
        ],
        [
         "45",
         "STZ",
         "STZ",
         "0",
         "0",
         "0"
        ],
        [
         "46",
         "EBAY",
         "Is eBay worth buying after they jumped up?",
         "0",
         "0",
         "0"
        ],
        [
         "47",
         "DOW",
         "DOW overvalued?",
         "-1",
         "-1",
         "1"
        ],
        [
         "48",
         "AMZN",
         "Invest in Google, Amazon or ETF?",
         "0",
         "0",
         "0"
        ],
        [
         "49",
         "SBUX",
         "SBUX caught in No Man's Land",
         "-1",
         "1",
         "0"
        ]
       ],
       "shape": {
        "columns": 5,
        "rows": 499
       }
      },
      "text/html": [
       "<div>\n",
       "<style scoped>\n",
       "    .dataframe tbody tr th:only-of-type {\n",
       "        vertical-align: middle;\n",
       "    }\n",
       "\n",
       "    .dataframe tbody tr th {\n",
       "        vertical-align: top;\n",
       "    }\n",
       "\n",
       "    .dataframe thead th {\n",
       "        text-align: right;\n",
       "    }\n",
       "</style>\n",
       "<table border=\"1\" class=\"dataframe\">\n",
       "  <thead>\n",
       "    <tr style=\"text-align: right;\">\n",
       "      <th></th>\n",
       "      <th>ticker</th>\n",
       "      <th>text</th>\n",
       "      <th>score</th>\n",
       "      <th>score_local_finetuned</th>\n",
       "      <th>score_local_raw</th>\n",
       "    </tr>\n",
       "  </thead>\n",
       "  <tbody>\n",
       "    <tr>\n",
       "      <th>0</th>\n",
       "      <td>AAPL</td>\n",
       "      <td>Selling my AAPL position because of Itunes/App...</td>\n",
       "      <td>-1</td>\n",
       "      <td>1</td>\n",
       "      <td>0</td>\n",
       "    </tr>\n",
       "    <tr>\n",
       "      <th>1</th>\n",
       "      <td>LEN</td>\n",
       "      <td>Thoughts on long-term position for Lennar Corp...</td>\n",
       "      <td>0</td>\n",
       "      <td>-1</td>\n",
       "      <td>0</td>\n",
       "    </tr>\n",
       "    <tr>\n",
       "      <th>2</th>\n",
       "      <td>AMD</td>\n",
       "      <td>Why can't I find the AMD Annual Report for 2016</td>\n",
       "      <td>0</td>\n",
       "      <td>0</td>\n",
       "      <td>0</td>\n",
       "    </tr>\n",
       "    <tr>\n",
       "      <th>3</th>\n",
       "      <td>TSLA</td>\n",
       "      <td>What is happening to TSLA stock?</td>\n",
       "      <td>0</td>\n",
       "      <td>0</td>\n",
       "      <td>0</td>\n",
       "    </tr>\n",
       "    <tr>\n",
       "      <th>4</th>\n",
       "      <td>HLT</td>\n",
       "      <td>My position in HLT has split into different sy...</td>\n",
       "      <td>0</td>\n",
       "      <td>0</td>\n",
       "      <td>0</td>\n",
       "    </tr>\n",
       "    <tr>\n",
       "      <th>...</th>\n",
       "      <td>...</td>\n",
       "      <td>...</td>\n",
       "      <td>...</td>\n",
       "      <td>...</td>\n",
       "      <td>...</td>\n",
       "    </tr>\n",
       "    <tr>\n",
       "      <th>495</th>\n",
       "      <td>QCOM</td>\n",
       "      <td>Prediction: Massive dump of QCOM after earning...</td>\n",
       "      <td>-1</td>\n",
       "      <td>1</td>\n",
       "      <td>1</td>\n",
       "    </tr>\n",
       "    <tr>\n",
       "      <th>496</th>\n",
       "      <td>WEC</td>\n",
       "      <td>WEC 2nd Quarter Earnings Report Speculation</td>\n",
       "      <td>0</td>\n",
       "      <td>1</td>\n",
       "      <td>0</td>\n",
       "    </tr>\n",
       "    <tr>\n",
       "      <th>497</th>\n",
       "      <td>TMUS</td>\n",
       "      <td>TMUS Earnings thread</td>\n",
       "      <td>0</td>\n",
       "      <td>0</td>\n",
       "      <td>0</td>\n",
       "    </tr>\n",
       "    <tr>\n",
       "      <th>498</th>\n",
       "      <td>MSFT</td>\n",
       "      <td>Microsoft about to report - buy or short?</td>\n",
       "      <td>0</td>\n",
       "      <td>0</td>\n",
       "      <td>0</td>\n",
       "    </tr>\n",
       "    <tr>\n",
       "      <th>499</th>\n",
       "      <td>MSFT</td>\n",
       "      <td>Betting on MSFT</td>\n",
       "      <td>1</td>\n",
       "      <td>0</td>\n",
       "      <td>0</td>\n",
       "    </tr>\n",
       "  </tbody>\n",
       "</table>\n",
       "<p>499 rows × 5 columns</p>\n",
       "</div>"
      ],
      "text/plain": [
       "    ticker                                               text  score  \\\n",
       "0     AAPL  Selling my AAPL position because of Itunes/App...     -1   \n",
       "1      LEN  Thoughts on long-term position for Lennar Corp...      0   \n",
       "2      AMD    Why can't I find the AMD Annual Report for 2016      0   \n",
       "3     TSLA                   What is happening to TSLA stock?      0   \n",
       "4      HLT  My position in HLT has split into different sy...      0   \n",
       "..     ...                                                ...    ...   \n",
       "495   QCOM  Prediction: Massive dump of QCOM after earning...     -1   \n",
       "496    WEC        WEC 2nd Quarter Earnings Report Speculation      0   \n",
       "497   TMUS                               TMUS Earnings thread      0   \n",
       "498   MSFT          Microsoft about to report - buy or short?      0   \n",
       "499   MSFT                                    Betting on MSFT      1   \n",
       "\n",
       "     score_local_finetuned  score_local_raw  \n",
       "0                        1                0  \n",
       "1                       -1                0  \n",
       "2                        0                0  \n",
       "3                        0                0  \n",
       "4                        0                0  \n",
       "..                     ...              ...  \n",
       "495                      1                1  \n",
       "496                      1                0  \n",
       "497                      0                0  \n",
       "498                      0                0  \n",
       "499                      0                0  \n",
       "\n",
       "[499 rows x 5 columns]"
      ]
     },
     "execution_count": 125,
     "metadata": {},
     "output_type": "execute_result"
    }
   ],
   "source": [
    "reduced_stock_mentions[['ticker', 'text', 'score', 'score_local_finetuned', 'score_local_raw']]"
   ]
  },
  {
   "cell_type": "markdown",
   "metadata": {},
   "source": [
    "## legacy code"
   ]
  },
  {
   "cell_type": "markdown",
   "metadata": {},
   "source": [
    "Here we check that the tokens used for every request are relatively low. This means that for the API we only need to worry about request rate and not token rate."
   ]
  },
  {
   "cell_type": "code",
   "execution_count": 22,
   "metadata": {},
   "outputs": [
    {
     "ename": "NameError",
     "evalue": "name 'genai' is not defined",
     "output_type": "error",
     "traceback": [
      "\u001b[0;31m---------------------------------------------------------------------------\u001b[0m",
      "\u001b[0;31mNameError\u001b[0m                                 Traceback (most recent call last)",
      "Cell \u001b[0;32mIn[22], line 1\u001b[0m\n\u001b[0;32m----> 1\u001b[0m client \u001b[38;5;241m=\u001b[39m \u001b[43mgenai\u001b[49m\u001b[38;5;241m.\u001b[39mClient(api_key\u001b[38;5;241m=\u001b[39mapi_key)\n\u001b[1;32m      3\u001b[0m response \u001b[38;5;241m=\u001b[39m client\u001b[38;5;241m.\u001b[39mmodels\u001b[38;5;241m.\u001b[39mgenerate_content(\n\u001b[1;32m      4\u001b[0m     model\u001b[38;5;241m=\u001b[39m\u001b[38;5;124m\"\u001b[39m\u001b[38;5;124mgemini-2.0-flash\u001b[39m\u001b[38;5;124m\"\u001b[39m,\n\u001b[1;32m      5\u001b[0m     config\u001b[38;5;241m=\u001b[39mtypes\u001b[38;5;241m.\u001b[39mGenerateContentConfig(\n\u001b[1;32m      6\u001b[0m         system_instruction\u001b[38;5;241m=\u001b[39m\u001b[38;5;124m'\u001b[39m\u001b[38;5;124mreply to the question and be friendly\u001b[39m\u001b[38;5;124m'\u001b[39m),\n\u001b[1;32m      7\u001b[0m     contents\u001b[38;5;241m=\u001b[39m\u001b[38;5;124m'\u001b[39m\u001b[38;5;124mhow many days in a year?\u001b[39m\u001b[38;5;124m'\u001b[39m\n\u001b[1;32m      8\u001b[0m     )\n\u001b[1;32m     10\u001b[0m response\n",
      "\u001b[0;31mNameError\u001b[0m: name 'genai' is not defined"
     ]
    }
   ],
   "source": [
    "client = genai.Client(api_key=api_key)\n",
    "\n",
    "response = client.models.generate_content(\n",
    "    model=\"gemini-2.0-flash\",\n",
    "    config=types.GenerateContentConfig(\n",
    "        system_instruction='reply to the question and be friendly'),\n",
    "    contents='how many days in a year?'\n",
    "    )\n",
    "\n",
    "response"
   ]
  },
  {
   "cell_type": "code",
   "execution_count": 32,
   "metadata": {},
   "outputs": [
    {
     "data": {
      "text/plain": [
       "42"
      ]
     },
     "execution_count": 32,
     "metadata": {},
     "output_type": "execute_result"
    }
   ],
   "source": [
    "response.usage_metadata.total_token_count"
   ]
  },
  {
   "cell_type": "markdown",
   "metadata": {},
   "source": [
    "legacy code:"
   ]
  },
  {
   "cell_type": "code",
   "execution_count": null,
   "metadata": {},
   "outputs": [
    {
     "name": "stderr",
     "output_type": "stream",
     "text": [
      "Fetching 6 files: 100%|██████████| 6/6 [00:00<00:00, 96791.63it/s]\n"
     ]
    },
    {
     "name": "stdout",
     "output_type": "stream",
     "text": [
      "==========\n",
      "0\n",
      "==========\n",
      "Prompt: 132 tokens, 355.723 tokens-per-sec\n",
      "Generation: 2 tokens, 12.702 tokens-per-sec\n",
      "Peak memory: 3.615 GB\n"
     ]
    }
   ],
   "source": [
    "from mlx_lm import load, generate\n",
    "\n",
    "model, tokenizer = load(\"mlx-community/gemma-3-1b-it-4bit\")\n",
    "\n",
    "stock = 'GME'\n",
    "\n",
    "messages = [{\n",
    "     'role': 'system',\n",
    "     'content': f'''\n",
    "                You need to act as an expert linguist, trader and researcher, read the reddit comment about {stock} that is given to you, and classify wether the comment is bullish or bearish about {stock}.\n",
    "                Your answer should be 1 if the comment is positive about the stock, -1 if it is negative, and 0 if it is neutral. Do not reply to the comment, just classify it.\n",
    "                ''',\n",
    "   },\n",
    "   {\n",
    "     'role': 'user',\n",
    "     'content': 'I think GME is going up despite the market being bearish',\n",
    "   }]\n",
    "prompt = tokenizer.apply_chat_template(\n",
    "    messages, add_generation_prompt=True\n",
    ")\n",
    "\n",
    "text = generate(model, tokenizer, prompt=prompt, verbose=True)"
   ]
  }
 ],
 "metadata": {
  "kernelspec": {
   "display_name": "hp-trading",
   "language": "python",
   "name": "python3"
  },
  "language_info": {
   "codemirror_mode": {
    "name": "ipython",
    "version": 3
   },
   "file_extension": ".py",
   "mimetype": "text/x-python",
   "name": "python",
   "nbconvert_exporter": "python",
   "pygments_lexer": "ipython3",
   "version": "3.12.9"
  }
 },
 "nbformat": 4,
 "nbformat_minor": 2
}
