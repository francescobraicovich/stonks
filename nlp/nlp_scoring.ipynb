{
 "cells": [
  {
   "cell_type": "code",
   "execution_count": 1,
   "metadata": {},
   "outputs": [],
   "source": [
    "import pandas as pd"
   ]
  },
  {
   "cell_type": "code",
   "execution_count": 42,
   "metadata": {},
   "outputs": [
    {
     "data": {
      "application/vnd.microsoft.datawrangler.viewer.v0+json": {
       "columns": [
        {
         "name": "index",
         "rawType": "int64",
         "type": "integer"
        },
        {
         "name": "ticker",
         "rawType": "object",
         "type": "string"
        },
        {
         "name": "original_word",
         "rawType": "object",
         "type": "string"
        },
        {
         "name": "match_score",
         "rawType": "float64",
         "type": "float"
        },
        {
         "name": "text",
         "rawType": "object",
         "type": "string"
        },
        {
         "name": "text_index",
         "rawType": "int64",
         "type": "integer"
        },
        {
         "name": "origin",
         "rawType": "object",
         "type": "string"
        },
        {
         "name": "original_index",
         "rawType": "int64",
         "type": "integer"
        }
       ],
       "conversionMethod": "pd.DataFrame",
       "ref": "b0b2fd1b-94f5-4de5-9589-439686590852",
       "rows": [
        [
         "0",
         "FAST",
         "fast",
         "100.0",
         "$INO rising fast",
         "41",
         "submission_title",
         "41"
        ],
        [
         "1",
         "TECH",
         "TECH",
         "100.0",
         "Best TECH ETF?",
         "179",
         "submission_title",
         "179"
        ],
        [
         "2",
         "TECH",
         "Tech",
         "100.0",
         "EqualOcean Presents: China Big Tech Crackdown Winners",
         "307",
         "submission_title",
         "307"
        ],
        [
         "3",
         "COST",
         "cost",
         "100.0",
         "Delta Airlines wants to increase its unvaccinated employees health insurance by $200 a month to cover the cost",
         "427",
         "submission_title",
         "427"
        ],
        [
         "4",
         "TECH",
         "tech",
         "100.0",
         "Analysis into whether certain Chinese tech stocks have bottomed",
         "449",
         "submission_title",
         "449"
        ],
        [
         "5",
         "FAST",
         "fast",
         "100.0",
         "A fast growing active stock server dedicated to making you financially free!",
         "455",
         "submission_title",
         "455"
        ],
        [
         "6",
         "GOOGL",
         "Google",
         "90.9090909090909",
         "Google plans to make and use their own CPU’s by 2023",
         "468",
         "submission_title",
         "468"
        ],
        [
         "7",
         "TECH",
         "Tech",
         "100.0",
         "Will the China Tech Stock Rebound continue? Analysis &amp; Research on how to assess landscape.",
         "469",
         "submission_title",
         "469"
        ],
        [
         "8",
         "TECH",
         "TECH",
         "100.0",
         "ESS TECH",
         "643",
         "submission_title",
         "643"
        ],
        [
         "9",
         "FAST",
         "fast",
         "100.0",
         "$IINN moving fast from 3$ to almost 5$ just today!!",
         "689",
         "submission_title",
         "689"
        ],
        [
         "10",
         "UBER",
         "Uber",
         "100.0",
         "Buy AGC Now online Biggest deal in history 40 Billion dollars GRAB IPO same as doordash Uber stock only $15 worth $55 AGC",
         "796",
         "submission_title",
         "796"
        ],
        [
         "11",
         "NVDA",
         "NVDA",
         "100.0",
         "NVDA BULL",
         "846",
         "submission_title",
         "846"
        ],
        [
         "12",
         "DELL",
         "Dell",
         "100.0",
         "Dell Technologies - after-hours earnings report",
         "870",
         "submission_title",
         "870"
        ],
        [
         "13",
         "TECH",
         "Tech",
         "100.0",
         "$ESE - New Gaming Tech Acquisition",
         "926",
         "submission_title",
         "926"
        ],
        [
         "14",
         "GOOGL",
         "Google",
         "90.9090909090909",
         "Roku, Google Reach YouTube Deal",
         "972",
         "submission_title",
         "972"
        ],
        [
         "15",
         "WELL",
         "well",
         "100.0",
         "Daily end of day, as well as morning market analysis with price points!",
         "1041",
         "submission_title",
         "1041"
        ],
        [
         "16",
         "WELL",
         "well",
         "100.0",
         "Looking very very bullish riding well above 50 ema. 3.60 incoming.",
         "1159",
         "submission_title",
         "1159"
        ],
        [
         "17",
         "TECH",
         "tech",
         "100.0",
         "Easy squeeze recent IPO $IMMX with great tech and holding up during volatility 4M Share Float",
         "1203",
         "submission_title",
         "1203"
        ],
        [
         "18",
         "TECH",
         "tech",
         "100.0",
         "t42 solutions (TRAC.L) is using IoT tech to take the maritime shipping industry by storm",
         "1281",
         "submission_title",
         "1281"
        ],
        [
         "19",
         "WELL",
         "Well",
         "100.0",
         "$HELI - Big News out of 1-30 Well",
         "1356",
         "submission_title",
         "1356"
        ],
        [
         "20",
         "META",
         "Meta",
         "100.0",
         "$COIN - Meta + Real Estate = $",
         "1392",
         "submission_title",
         "1392"
        ],
        [
         "21",
         "EBAY",
         "EBay",
         "100.0",
         "EBay Loses Buyers And Sellers",
         "1421",
         "submission_title",
         "1421"
        ],
        [
         "22",
         "TECH",
         "Tech",
         "100.0",
         "Got $5,000? 3 Tech Stocks to Buy and Hold For the Long Term",
         "1431",
         "submission_title",
         "1431"
        ],
        [
         "23",
         "TECH",
         "Tech",
         "100.0",
         "Tech Stock Crash - Is It Time Now To Buy? Nigel Green deVere CEO",
         "1458",
         "submission_title",
         "1458"
        ],
        [
         "24",
         "TECH",
         "Tech",
         "100.0",
         "Cult Food Science: A Gateway to Food Tech Investments",
         "1463",
         "submission_title",
         "1463"
        ],
        [
         "25",
         "FAST",
         "Fast",
         "100.0",
         "Fast Growth &amp; a Game-Changing Product for an $80B Baby Nutrition Industry",
         "1488",
         "submission_title",
         "1488"
        ],
        [
         "26",
         "WELL",
         "well",
         "100.0",
         "ID and linked bank account required but well worth the effort. 5 free stocks worth up to $9600! Lots of fun!",
         "1553",
         "submission_title",
         "1553"
        ],
        [
         "27",
         "FAST",
         "Fast",
         "100.0",
         "$FSRD - Fast Radius. Current Price -$2.26 - uptrend",
         "1558",
         "submission_title",
         "1558"
        ],
        [
         "28",
         "GOOGL",
         "Google",
         "90.9090909090909",
         "Which Google Ticker symbol is splitting on July 1st 2022? Thanks",
         "1584",
         "submission_title",
         "1584"
        ],
        [
         "29",
         "POOL",
         "pool",
         "100.0",
         "$BBIG 75% dark pool on Vinco is this real life? My peeps this happened right before AMC and GME went insane! $sprt was in the same boat. Short interest, cost to borrow, days to cover all shooting up before the fake sell walls broke down all similar. About to 🚀🚀🚀Share on every social media you got.",
         "1595",
         "submission_title",
         "1595"
        ],
        [
         "30",
         "COST",
         "cost",
         "100.0",
         "$BBIG 75% dark pool on Vinco is this real life? My peeps this happened right before AMC and GME went insane! $sprt was in the same boat. Short interest, cost to borrow, days to cover all shooting up before the fake sell walls broke down all similar. About to 🚀🚀🚀Share on every social media you got.",
         "1595",
         "submission_title",
         "1595"
        ],
        [
         "31",
         "MRNA",
         "mRNA",
         "100.0",
         "Good morning! 🌞 #premarket #watchlist 04/05 $SBFM - Designed mRNA Molecules Effective Against Multidrug Resistant Cancer Cells, $RCON -13G big shares stakes buy, $ATER -no news, $SST - earnings. old news, $ANY - new CEO... Also check afterhours runners and low float stocks in my app!",
         "1599",
         "submission_title",
         "1599"
        ],
        [
         "32",
         "COST",
         "Cost",
         "100.0",
         "$CLVS Utilization Rate Almost At 99%, Short Exempts Are Rising Heavily And The Cost To Borrow Fee Is Rising As Well…Off Exchange Volume High",
         "1601",
         "submission_title",
         "1601"
        ],
        [
         "33",
         "COST",
         "Cost",
         "100.0",
         "$CLVS Utilization Rate 100%, Short Exempts Are Rising Daily, The Cost To Borrow Fee Is Rising As Well Now At 4.38% Last Friday It Was 1%…",
         "1611",
         "submission_title",
         "1611"
        ],
        [
         "34",
         "WELL",
         "Well",
         "100.0",
         "$CLVS Utilization Rate 100%, Short Exempts Are Rising Daily, The Cost To Borrow Fee Is Rising As Well Now At 4.38% Last Friday It Was 1%…",
         "1611",
         "submission_title",
         "1611"
        ],
        [
         "35",
         "META",
         "Meta",
         "100.0",
         "Meta Eyes Monetization Tools",
         "1632",
         "submission_title",
         "1632"
        ],
        [
         "36",
         "WELL",
         "Well",
         "100.0",
         "Well positioned micro cap company currently generating $1.2million of oil revenue off their first oil well. 2nd well coming into production in the next two weeks. Expect a large price increase when the announcement hits.",
         "1638",
         "submission_title",
         "1638"
        ],
        [
         "37",
         "WELL",
         "well",
         "100.0",
         "Well positioned micro cap company currently generating $1.2million of oil revenue off their first oil well. 2nd well coming into production in the next two weeks. Expect a large price increase when the announcement hits.",
         "1638",
         "submission_title",
         "1638"
        ],
        [
         "38",
         "COST",
         "Cost",
         "100.0",
         "$CRXT $CRXTW- Yesterdays Volume Was 69% Dark Pool! Short exempts stacking up daily and FTDS. Also 5th Trading Day showing once again zero shares available to short and Cost To Borrow Is In Triple Digits",
         "1670",
         "submission_title",
         "1670"
        ],
        [
         "39",
         "WELL",
         "Well",
         "100.0",
         "💰💰💰Good morning! #premarket #watchlist 06/22 $XELA -Secures XBP Contract Totaling $136 Million, $REV -old news. bankruptsy, $QTNT -Preview of Financials, $USWS -ProFrac Holding Corp. To Acquire U.S. Well Services, Inc, $DTIL -$50 Million Offering of Common Stock",
         "1968",
         "submission_title",
         "1968"
        ],
        [
         "40",
         "TECH",
         "TECH",
         "100.0",
         "$XELA, EXELA TECH SEEING HUGE GAINS DURING PRE MARKET",
         "1969",
         "submission_title",
         "1969"
        ],
        [
         "41",
         "GOOGL",
         "Google",
         "90.9090909090909",
         "Pinterest's Big Google Change",
         "2084",
         "submission_title",
         "2084"
        ],
        [
         "42",
         "META",
         "Meta",
         "100.0",
         "Is Meta Platforms Stock A Buy During The Dip? If You Want To Buy The Next Apple, Then Yes",
         "2207",
         "submission_title",
         "2207"
        ],
        [
         "43",
         "ENPH",
         "ENPH",
         "100.0",
         "Prospero.Ai has bullish sentiment on ENPH",
         "2256",
         "submission_title",
         "2256"
        ],
        [
         "44",
         "UBER",
         "UBER",
         "100.0",
         "SWVL Dilution Complete Way Oversold. UBER Alternative.",
         "2272",
         "submission_title",
         "2272"
        ],
        [
         "45",
         "TECH",
         "tech",
         "100.0",
         "CyberSec/Confidential Computing Portfolio Overview. HUB.TA +16% is my only bull YTD, trailing behind are ETFs (CIBR/BUG) and other US Plays (PANW, FTNT, CYBR). CyberSec/CC still outperformed QQQ (NASDAQ Benchmark), and most beat SPY. tldr; cybersecurity plays are outperforming tech as a whole, yolo",
         "2282",
         "submission_title",
         "2282"
        ],
        [
         "46",
         "TSLA",
         "TSLA",
         "100.0",
         "ARKK projected values of TSLA ROKU ZM in 2026",
         "2308",
         "submission_title",
         "2308"
        ],
        [
         "47",
         "MRNA",
         "mRNA",
         "100.0",
         "💰💰💰Good morning! #premarket #watchlist 07/19 $STIM -Report Second Quarter 2022 Financial and Operating Results and Host Conference, $APLD -Secures Hosting Capacity To Support All 23.3 EH/s of Bitcoin, $CYTO -SemaPhore Platform Shown Particularly Effective in Intracellular mRNA Delivery for Cancer",
         "2317",
         "submission_title",
         "2317"
        ],
        [
         "48",
         "NCLH",
         "NCLH",
         "100.0",
         "Cruise Stocks CCL, RCL, NCLH Gain as CDC Ends Covid Program",
         "2325",
         "submission_title",
         "2325"
        ],
        [
         "49",
         "MSFT",
         "MSFT",
         "100.0",
         "MSFT Q4 Earnings Expectations/Guidance",
         "2388",
         "submission_title",
         "2388"
        ]
       ],
       "shape": {
        "columns": 7,
        "rows": 2202
       }
      },
      "text/html": [
       "<div>\n",
       "<style scoped>\n",
       "    .dataframe tbody tr th:only-of-type {\n",
       "        vertical-align: middle;\n",
       "    }\n",
       "\n",
       "    .dataframe tbody tr th {\n",
       "        vertical-align: top;\n",
       "    }\n",
       "\n",
       "    .dataframe thead th {\n",
       "        text-align: right;\n",
       "    }\n",
       "</style>\n",
       "<table border=\"1\" class=\"dataframe\">\n",
       "  <thead>\n",
       "    <tr style=\"text-align: right;\">\n",
       "      <th></th>\n",
       "      <th>ticker</th>\n",
       "      <th>original_word</th>\n",
       "      <th>match_score</th>\n",
       "      <th>text</th>\n",
       "      <th>text_index</th>\n",
       "      <th>origin</th>\n",
       "      <th>original_index</th>\n",
       "    </tr>\n",
       "  </thead>\n",
       "  <tbody>\n",
       "    <tr>\n",
       "      <th>0</th>\n",
       "      <td>FAST</td>\n",
       "      <td>fast</td>\n",
       "      <td>100.0</td>\n",
       "      <td>$INO rising fast</td>\n",
       "      <td>41</td>\n",
       "      <td>submission_title</td>\n",
       "      <td>41</td>\n",
       "    </tr>\n",
       "    <tr>\n",
       "      <th>1</th>\n",
       "      <td>TECH</td>\n",
       "      <td>TECH</td>\n",
       "      <td>100.0</td>\n",
       "      <td>Best TECH ETF?</td>\n",
       "      <td>179</td>\n",
       "      <td>submission_title</td>\n",
       "      <td>179</td>\n",
       "    </tr>\n",
       "    <tr>\n",
       "      <th>2</th>\n",
       "      <td>TECH</td>\n",
       "      <td>Tech</td>\n",
       "      <td>100.0</td>\n",
       "      <td>EqualOcean Presents: China Big Tech Crackdown ...</td>\n",
       "      <td>307</td>\n",
       "      <td>submission_title</td>\n",
       "      <td>307</td>\n",
       "    </tr>\n",
       "    <tr>\n",
       "      <th>3</th>\n",
       "      <td>COST</td>\n",
       "      <td>cost</td>\n",
       "      <td>100.0</td>\n",
       "      <td>Delta Airlines wants to increase its unvaccina...</td>\n",
       "      <td>427</td>\n",
       "      <td>submission_title</td>\n",
       "      <td>427</td>\n",
       "    </tr>\n",
       "    <tr>\n",
       "      <th>4</th>\n",
       "      <td>TECH</td>\n",
       "      <td>tech</td>\n",
       "      <td>100.0</td>\n",
       "      <td>Analysis into whether certain Chinese tech sto...</td>\n",
       "      <td>449</td>\n",
       "      <td>submission_title</td>\n",
       "      <td>449</td>\n",
       "    </tr>\n",
       "    <tr>\n",
       "      <th>...</th>\n",
       "      <td>...</td>\n",
       "      <td>...</td>\n",
       "      <td>...</td>\n",
       "      <td>...</td>\n",
       "      <td>...</td>\n",
       "      <td>...</td>\n",
       "      <td>...</td>\n",
       "    </tr>\n",
       "    <tr>\n",
       "      <th>2197</th>\n",
       "      <td>GOOG</td>\n",
       "      <td>GOOG</td>\n",
       "      <td>100.0</td>\n",
       "      <td>Index fund such as FXAIX $300, TSLA $200, GOOG...</td>\n",
       "      <td>58695</td>\n",
       "      <td>comment</td>\n",
       "      <td>8909</td>\n",
       "    </tr>\n",
       "    <tr>\n",
       "      <th>2198</th>\n",
       "      <td>NVDA</td>\n",
       "      <td>NVDA</td>\n",
       "      <td>100.0</td>\n",
       "      <td>Index fund such as FXAIX $300, TSLA $200, GOOG...</td>\n",
       "      <td>58695</td>\n",
       "      <td>comment</td>\n",
       "      <td>8909</td>\n",
       "    </tr>\n",
       "    <tr>\n",
       "      <th>2199</th>\n",
       "      <td>WELL</td>\n",
       "      <td>well</td>\n",
       "      <td>100.0</td>\n",
       "      <td>Cifr is poised to do very well in 2025.</td>\n",
       "      <td>58704</td>\n",
       "      <td>comment</td>\n",
       "      <td>8918</td>\n",
       "    </tr>\n",
       "    <tr>\n",
       "      <th>2200</th>\n",
       "      <td>TECH</td>\n",
       "      <td>tech</td>\n",
       "      <td>100.0</td>\n",
       "      <td>Their minimal invasive treatment sounds like i...</td>\n",
       "      <td>58730</td>\n",
       "      <td>comment</td>\n",
       "      <td>8944</td>\n",
       "    </tr>\n",
       "    <tr>\n",
       "      <th>2201</th>\n",
       "      <td>WELL</td>\n",
       "      <td>well</td>\n",
       "      <td>100.0</td>\n",
       "      <td>Thanks for sharing! Looks like their showcase ...</td>\n",
       "      <td>58732</td>\n",
       "      <td>comment</td>\n",
       "      <td>8946</td>\n",
       "    </tr>\n",
       "  </tbody>\n",
       "</table>\n",
       "<p>2202 rows × 7 columns</p>\n",
       "</div>"
      ],
      "text/plain": [
       "     ticker original_word  match_score  \\\n",
       "0      FAST          fast        100.0   \n",
       "1      TECH          TECH        100.0   \n",
       "2      TECH          Tech        100.0   \n",
       "3      COST          cost        100.0   \n",
       "4      TECH          tech        100.0   \n",
       "...     ...           ...          ...   \n",
       "2197   GOOG          GOOG        100.0   \n",
       "2198   NVDA          NVDA        100.0   \n",
       "2199   WELL          well        100.0   \n",
       "2200   TECH          tech        100.0   \n",
       "2201   WELL          well        100.0   \n",
       "\n",
       "                                                   text  text_index  \\\n",
       "0                                      $INO rising fast          41   \n",
       "1                                        Best TECH ETF?         179   \n",
       "2     EqualOcean Presents: China Big Tech Crackdown ...         307   \n",
       "3     Delta Airlines wants to increase its unvaccina...         427   \n",
       "4     Analysis into whether certain Chinese tech sto...         449   \n",
       "...                                                 ...         ...   \n",
       "2197  Index fund such as FXAIX $300, TSLA $200, GOOG...       58695   \n",
       "2198  Index fund such as FXAIX $300, TSLA $200, GOOG...       58695   \n",
       "2199            Cifr is poised to do very well in 2025.       58704   \n",
       "2200  Their minimal invasive treatment sounds like i...       58730   \n",
       "2201  Thanks for sharing! Looks like their showcase ...       58732   \n",
       "\n",
       "                origin  original_index  \n",
       "0     submission_title              41  \n",
       "1     submission_title             179  \n",
       "2     submission_title             307  \n",
       "3     submission_title             427  \n",
       "4     submission_title             449  \n",
       "...                ...             ...  \n",
       "2197           comment            8909  \n",
       "2198           comment            8909  \n",
       "2199           comment            8918  \n",
       "2200           comment            8944  \n",
       "2201           comment            8946  \n",
       "\n",
       "[2202 rows x 7 columns]"
      ]
     },
     "execution_count": 42,
     "metadata": {},
     "output_type": "execute_result"
    }
   ],
   "source": [
    "stock_mentions = \"../data/stock_mentions.parquet\"\n",
    "stock_mentions = pd.read_parquet(stock_mentions)\n",
    "stock_mentions"
   ]
  },
  {
   "cell_type": "code",
   "execution_count": 3,
   "metadata": {},
   "outputs": [],
   "source": [
    "from nlp_utils import score_text_gemini\n",
    "\n",
    "with open(\"api_key.txt\", \"r\") as f:\n",
    "    api_key = f.read().strip()"
   ]
  },
  {
   "cell_type": "code",
   "execution_count": null,
   "metadata": {},
   "outputs": [
    {
     "name": "stdout",
     "output_type": "stream",
     "text": [
      "ticker                        FAST\n",
      "original_word                 fast\n",
      "match_score                  100.0\n",
      "text              $INO rising fast\n",
      "text_index                      41\n",
      "origin            submission_title\n",
      "original_index                  41\n",
      "Name: 0, dtype: object\n",
      "scored submission_title at index 41\n"
     ]
    },
    {
     "ename": "KeyboardInterrupt",
     "evalue": "",
     "output_type": "error",
     "traceback": [
      "\u001b[0;31m---------------------------------------------------------------------------\u001b[0m",
      "\u001b[0;31mRateLimitException\u001b[0m                        Traceback (most recent call last)",
      "File \u001b[0;32m~/miniconda/envs/hp-trading/lib/python3.12/site-packages/ratelimit/decorators.py:113\u001b[0m, in \u001b[0;36msleep_and_retry.<locals>.wrapper\u001b[0;34m(*args, **kargs)\u001b[0m\n\u001b[1;32m    112\u001b[0m \u001b[38;5;28;01mtry\u001b[39;00m:\n\u001b[0;32m--> 113\u001b[0m     \u001b[38;5;28;01mreturn\u001b[39;00m \u001b[43mfunc\u001b[49m\u001b[43m(\u001b[49m\u001b[38;5;241;43m*\u001b[39;49m\u001b[43margs\u001b[49m\u001b[43m,\u001b[49m\u001b[43m \u001b[49m\u001b[38;5;241;43m*\u001b[39;49m\u001b[38;5;241;43m*\u001b[39;49m\u001b[43mkargs\u001b[49m\u001b[43m)\u001b[49m\n\u001b[1;32m    114\u001b[0m \u001b[38;5;28;01mexcept\u001b[39;00m RateLimitException \u001b[38;5;28;01mas\u001b[39;00m exception:\n",
      "File \u001b[0;32m~/miniconda/envs/hp-trading/lib/python3.12/site-packages/ratelimit/decorators.py:77\u001b[0m, in \u001b[0;36mRateLimitDecorator.__call__.<locals>.wrapper\u001b[0;34m(*args, **kargs)\u001b[0m\n\u001b[1;32m     76\u001b[0m \u001b[38;5;28;01mif\u001b[39;00m \u001b[38;5;28mself\u001b[39m\u001b[38;5;241m.\u001b[39mraise_on_limit:\n\u001b[0;32m---> 77\u001b[0m     \u001b[38;5;28;01mraise\u001b[39;00m RateLimitException(\u001b[38;5;124m'\u001b[39m\u001b[38;5;124mtoo many calls\u001b[39m\u001b[38;5;124m'\u001b[39m, period_remaining)\n\u001b[1;32m     78\u001b[0m \u001b[38;5;28;01mreturn\u001b[39;00m\n",
      "\u001b[0;31mRateLimitException\u001b[0m: too many calls",
      "\nDuring handling of the above exception, another exception occurred:\n",
      "\u001b[0;31mKeyboardInterrupt\u001b[0m                         Traceback (most recent call last)",
      "Cell \u001b[0;32mIn[18], line 7\u001b[0m\n\u001b[1;32m      4\u001b[0m     \u001b[38;5;28mprint\u001b[39m(\u001b[38;5;124mf\u001b[39m\u001b[38;5;124m'\u001b[39m\u001b[38;5;124mscored \u001b[39m\u001b[38;5;132;01m{\u001b[39;00mrow[\u001b[38;5;124m'\u001b[39m\u001b[38;5;124morigin\u001b[39m\u001b[38;5;124m'\u001b[39m]\u001b[38;5;132;01m}\u001b[39;00m\u001b[38;5;124m at index \u001b[39m\u001b[38;5;132;01m{\u001b[39;00mrow[\u001b[38;5;124m'\u001b[39m\u001b[38;5;124moriginal_index\u001b[39m\u001b[38;5;124m'\u001b[39m]\u001b[38;5;132;01m}\u001b[39;00m\u001b[38;5;124m'\u001b[39m)\n\u001b[1;32m      5\u001b[0m     \u001b[38;5;28;01mreturn\u001b[39;00m score, tokens\n\u001b[0;32m----> 7\u001b[0m scores_series, tokens_series \u001b[38;5;241m=\u001b[39m \u001b[38;5;28mzip\u001b[39m(\u001b[38;5;241m*\u001b[39m\u001b[43mstock_mentions\u001b[49m\u001b[38;5;241;43m.\u001b[39;49m\u001b[43mhead\u001b[49m\u001b[43m(\u001b[49m\u001b[38;5;241;43m100\u001b[39;49m\u001b[43m)\u001b[49m\u001b[38;5;241;43m.\u001b[39;49m\u001b[43mapply\u001b[49m\u001b[43m(\u001b[49m\u001b[43mscore_row_gemini\u001b[49m\u001b[43m,\u001b[49m\u001b[43m \u001b[49m\u001b[43maxis\u001b[49m\u001b[38;5;241;43m=\u001b[39;49m\u001b[38;5;241;43m1\u001b[39;49m\u001b[43m)\u001b[49m)\n",
      "File \u001b[0;32m~/miniconda/envs/hp-trading/lib/python3.12/site-packages/pandas/core/frame.py:10374\u001b[0m, in \u001b[0;36mDataFrame.apply\u001b[0;34m(self, func, axis, raw, result_type, args, by_row, engine, engine_kwargs, **kwargs)\u001b[0m\n\u001b[1;32m  10360\u001b[0m \u001b[38;5;28;01mfrom\u001b[39;00m\u001b[38;5;250m \u001b[39m\u001b[38;5;21;01mpandas\u001b[39;00m\u001b[38;5;21;01m.\u001b[39;00m\u001b[38;5;21;01mcore\u001b[39;00m\u001b[38;5;21;01m.\u001b[39;00m\u001b[38;5;21;01mapply\u001b[39;00m\u001b[38;5;250m \u001b[39m\u001b[38;5;28;01mimport\u001b[39;00m frame_apply\n\u001b[1;32m  10362\u001b[0m op \u001b[38;5;241m=\u001b[39m frame_apply(\n\u001b[1;32m  10363\u001b[0m     \u001b[38;5;28mself\u001b[39m,\n\u001b[1;32m  10364\u001b[0m     func\u001b[38;5;241m=\u001b[39mfunc,\n\u001b[0;32m   (...)\u001b[0m\n\u001b[1;32m  10372\u001b[0m     kwargs\u001b[38;5;241m=\u001b[39mkwargs,\n\u001b[1;32m  10373\u001b[0m )\n\u001b[0;32m> 10374\u001b[0m \u001b[38;5;28;01mreturn\u001b[39;00m \u001b[43mop\u001b[49m\u001b[38;5;241;43m.\u001b[39;49m\u001b[43mapply\u001b[49m\u001b[43m(\u001b[49m\u001b[43m)\u001b[49m\u001b[38;5;241m.\u001b[39m__finalize__(\u001b[38;5;28mself\u001b[39m, method\u001b[38;5;241m=\u001b[39m\u001b[38;5;124m\"\u001b[39m\u001b[38;5;124mapply\u001b[39m\u001b[38;5;124m\"\u001b[39m)\n",
      "File \u001b[0;32m~/miniconda/envs/hp-trading/lib/python3.12/site-packages/pandas/core/apply.py:916\u001b[0m, in \u001b[0;36mFrameApply.apply\u001b[0;34m(self)\u001b[0m\n\u001b[1;32m    913\u001b[0m \u001b[38;5;28;01melif\u001b[39;00m \u001b[38;5;28mself\u001b[39m\u001b[38;5;241m.\u001b[39mraw:\n\u001b[1;32m    914\u001b[0m     \u001b[38;5;28;01mreturn\u001b[39;00m \u001b[38;5;28mself\u001b[39m\u001b[38;5;241m.\u001b[39mapply_raw(engine\u001b[38;5;241m=\u001b[39m\u001b[38;5;28mself\u001b[39m\u001b[38;5;241m.\u001b[39mengine, engine_kwargs\u001b[38;5;241m=\u001b[39m\u001b[38;5;28mself\u001b[39m\u001b[38;5;241m.\u001b[39mengine_kwargs)\n\u001b[0;32m--> 916\u001b[0m \u001b[38;5;28;01mreturn\u001b[39;00m \u001b[38;5;28;43mself\u001b[39;49m\u001b[38;5;241;43m.\u001b[39;49m\u001b[43mapply_standard\u001b[49m\u001b[43m(\u001b[49m\u001b[43m)\u001b[49m\n",
      "File \u001b[0;32m~/miniconda/envs/hp-trading/lib/python3.12/site-packages/pandas/core/apply.py:1063\u001b[0m, in \u001b[0;36mFrameApply.apply_standard\u001b[0;34m(self)\u001b[0m\n\u001b[1;32m   1061\u001b[0m \u001b[38;5;28;01mdef\u001b[39;00m\u001b[38;5;250m \u001b[39m\u001b[38;5;21mapply_standard\u001b[39m(\u001b[38;5;28mself\u001b[39m):\n\u001b[1;32m   1062\u001b[0m     \u001b[38;5;28;01mif\u001b[39;00m \u001b[38;5;28mself\u001b[39m\u001b[38;5;241m.\u001b[39mengine \u001b[38;5;241m==\u001b[39m \u001b[38;5;124m\"\u001b[39m\u001b[38;5;124mpython\u001b[39m\u001b[38;5;124m\"\u001b[39m:\n\u001b[0;32m-> 1063\u001b[0m         results, res_index \u001b[38;5;241m=\u001b[39m \u001b[38;5;28;43mself\u001b[39;49m\u001b[38;5;241;43m.\u001b[39;49m\u001b[43mapply_series_generator\u001b[49m\u001b[43m(\u001b[49m\u001b[43m)\u001b[49m\n\u001b[1;32m   1064\u001b[0m     \u001b[38;5;28;01melse\u001b[39;00m:\n\u001b[1;32m   1065\u001b[0m         results, res_index \u001b[38;5;241m=\u001b[39m \u001b[38;5;28mself\u001b[39m\u001b[38;5;241m.\u001b[39mapply_series_numba()\n",
      "File \u001b[0;32m~/miniconda/envs/hp-trading/lib/python3.12/site-packages/pandas/core/apply.py:1081\u001b[0m, in \u001b[0;36mFrameApply.apply_series_generator\u001b[0;34m(self)\u001b[0m\n\u001b[1;32m   1078\u001b[0m \u001b[38;5;28;01mwith\u001b[39;00m option_context(\u001b[38;5;124m\"\u001b[39m\u001b[38;5;124mmode.chained_assignment\u001b[39m\u001b[38;5;124m\"\u001b[39m, \u001b[38;5;28;01mNone\u001b[39;00m):\n\u001b[1;32m   1079\u001b[0m     \u001b[38;5;28;01mfor\u001b[39;00m i, v \u001b[38;5;129;01min\u001b[39;00m \u001b[38;5;28menumerate\u001b[39m(series_gen):\n\u001b[1;32m   1080\u001b[0m         \u001b[38;5;66;03m# ignore SettingWithCopy here in case the user mutates\u001b[39;00m\n\u001b[0;32m-> 1081\u001b[0m         results[i] \u001b[38;5;241m=\u001b[39m \u001b[38;5;28;43mself\u001b[39;49m\u001b[38;5;241;43m.\u001b[39;49m\u001b[43mfunc\u001b[49m\u001b[43m(\u001b[49m\u001b[43mv\u001b[49m\u001b[43m,\u001b[49m\u001b[43m \u001b[49m\u001b[38;5;241;43m*\u001b[39;49m\u001b[38;5;28;43mself\u001b[39;49m\u001b[38;5;241;43m.\u001b[39;49m\u001b[43margs\u001b[49m\u001b[43m,\u001b[49m\u001b[43m \u001b[49m\u001b[38;5;241;43m*\u001b[39;49m\u001b[38;5;241;43m*\u001b[39;49m\u001b[38;5;28;43mself\u001b[39;49m\u001b[38;5;241;43m.\u001b[39;49m\u001b[43mkwargs\u001b[49m\u001b[43m)\u001b[49m\n\u001b[1;32m   1082\u001b[0m         \u001b[38;5;28;01mif\u001b[39;00m \u001b[38;5;28misinstance\u001b[39m(results[i], ABCSeries):\n\u001b[1;32m   1083\u001b[0m             \u001b[38;5;66;03m# If we have a view on v, we need to make a copy because\u001b[39;00m\n\u001b[1;32m   1084\u001b[0m             \u001b[38;5;66;03m#  series_generator will swap out the underlying data\u001b[39;00m\n\u001b[1;32m   1085\u001b[0m             results[i] \u001b[38;5;241m=\u001b[39m results[i]\u001b[38;5;241m.\u001b[39mcopy(deep\u001b[38;5;241m=\u001b[39m\u001b[38;5;28;01mFalse\u001b[39;00m)\n",
      "Cell \u001b[0;32mIn[18], line 2\u001b[0m, in \u001b[0;36mscore_row_gemini\u001b[0;34m(row)\u001b[0m\n\u001b[1;32m      1\u001b[0m \u001b[38;5;28;01mdef\u001b[39;00m\u001b[38;5;250m \u001b[39m\u001b[38;5;21mscore_row_gemini\u001b[39m(row):\n\u001b[0;32m----> 2\u001b[0m     score, tokens \u001b[38;5;241m=\u001b[39m \u001b[43mscore_text_gemini\u001b[49m\u001b[43m(\u001b[49m\u001b[43mrow\u001b[49m\u001b[43m[\u001b[49m\u001b[38;5;124;43m'\u001b[39;49m\u001b[38;5;124;43mtext\u001b[39;49m\u001b[38;5;124;43m'\u001b[39;49m\u001b[43m]\u001b[49m\u001b[43m,\u001b[49m\u001b[43m \u001b[49m\u001b[43mrow\u001b[49m\u001b[43m[\u001b[49m\u001b[38;5;124;43m'\u001b[39;49m\u001b[38;5;124;43mticker\u001b[39;49m\u001b[38;5;124;43m'\u001b[39;49m\u001b[43m]\u001b[49m\u001b[43m,\u001b[49m\u001b[43m \u001b[49m\u001b[43mapi_key\u001b[49m\u001b[43m)\u001b[49m\n\u001b[1;32m      3\u001b[0m     \u001b[38;5;28mprint\u001b[39m(row)\n\u001b[1;32m      4\u001b[0m     \u001b[38;5;28mprint\u001b[39m(\u001b[38;5;124mf\u001b[39m\u001b[38;5;124m'\u001b[39m\u001b[38;5;124mscored \u001b[39m\u001b[38;5;132;01m{\u001b[39;00mrow[\u001b[38;5;124m'\u001b[39m\u001b[38;5;124morigin\u001b[39m\u001b[38;5;124m'\u001b[39m]\u001b[38;5;132;01m}\u001b[39;00m\u001b[38;5;124m at index \u001b[39m\u001b[38;5;132;01m{\u001b[39;00mrow[\u001b[38;5;124m'\u001b[39m\u001b[38;5;124moriginal_index\u001b[39m\u001b[38;5;124m'\u001b[39m]\u001b[38;5;132;01m}\u001b[39;00m\u001b[38;5;124m'\u001b[39m)\n",
      "File \u001b[0;32m~/Library/CloudStorage/OneDrive-UniversitàCommercialeLuigiBocconi/University_/year 3/HP-Intesa project/stonks/nlp/nlp_utils.py:25\u001b[0m, in \u001b[0;36mscore_text_gemini\u001b[0;34m(text, stock, api_key)\u001b[0m\n\u001b[1;32m     23\u001b[0m \u001b[38;5;28;01mdef\u001b[39;00m\u001b[38;5;250m \u001b[39m\u001b[38;5;21mscore_text_gemini\u001b[39m(text, stock, api_key):\n\u001b[1;32m     24\u001b[0m     client \u001b[38;5;241m=\u001b[39m genai\u001b[38;5;241m.\u001b[39mClient(api_key\u001b[38;5;241m=\u001b[39mapi_key)\n\u001b[0;32m---> 25\u001b[0m     \u001b[43mcheck_limit\u001b[49m\u001b[43m(\u001b[49m\u001b[43m)\u001b[49m\n\u001b[1;32m     26\u001b[0m     response \u001b[38;5;241m=\u001b[39m client\u001b[38;5;241m.\u001b[39mmodels\u001b[38;5;241m.\u001b[39mgenerate_content(\n\u001b[1;32m     27\u001b[0m     model\u001b[38;5;241m=\u001b[39m\u001b[38;5;124m\"\u001b[39m\u001b[38;5;124mgemini-2.0-flash\u001b[39m\u001b[38;5;124m\"\u001b[39m,\n\u001b[1;32m     28\u001b[0m     config\u001b[38;5;241m=\u001b[39mtypes\u001b[38;5;241m.\u001b[39mGenerateContentConfig(\n\u001b[1;32m     29\u001b[0m         system_instruction\u001b[38;5;241m=\u001b[39msystem_text(stock)),\n\u001b[1;32m     30\u001b[0m     contents\u001b[38;5;241m=\u001b[39mtext\n\u001b[1;32m     31\u001b[0m     )\n\u001b[1;32m     33\u001b[0m     output \u001b[38;5;241m=\u001b[39m response\u001b[38;5;241m.\u001b[39mtext\n",
      "File \u001b[0;32m~/miniconda/envs/hp-trading/lib/python3.12/site-packages/ratelimit/decorators.py:115\u001b[0m, in \u001b[0;36msleep_and_retry.<locals>.wrapper\u001b[0;34m(*args, **kargs)\u001b[0m\n\u001b[1;32m    113\u001b[0m     \u001b[38;5;28;01mreturn\u001b[39;00m func(\u001b[38;5;241m*\u001b[39margs, \u001b[38;5;241m*\u001b[39m\u001b[38;5;241m*\u001b[39mkargs)\n\u001b[1;32m    114\u001b[0m \u001b[38;5;28;01mexcept\u001b[39;00m RateLimitException \u001b[38;5;28;01mas\u001b[39;00m exception:\n\u001b[0;32m--> 115\u001b[0m     \u001b[43mtime\u001b[49m\u001b[38;5;241;43m.\u001b[39;49m\u001b[43msleep\u001b[49m\u001b[43m(\u001b[49m\u001b[43mexception\u001b[49m\u001b[38;5;241;43m.\u001b[39;49m\u001b[43mperiod_remaining\u001b[49m\u001b[43m)\u001b[49m\n",
      "\u001b[0;31mKeyboardInterrupt\u001b[0m: "
     ]
    }
   ],
   "source": [
    "def score_row_gemini(row):\n",
    "    score, tokens = score_text_gemini(row['text'], row['ticker'], api_key)\n",
    "    print(f'scored {row['origin']} at index {row['original_index']}')\n",
    "    return score\n",
    "\n",
    "scores_series = stock_mentions.head(100).apply(score_row_gemini, axis=1)"
   ]
  },
  {
   "cell_type": "code",
   "execution_count": null,
   "metadata": {},
   "outputs": [
    {
     "name": "stderr",
     "output_type": "stream",
     "text": [
      "/var/folders/2n/ywnb5cc17zq6c5n2w2n7bkzw0000gn/T/ipykernel_15328/2621434444.py:2: SettingWithCopyWarning: \n",
      "A value is trying to be set on a copy of a slice from a DataFrame.\n",
      "Try using .loc[row_indexer,col_indexer] = value instead\n",
      "\n",
      "See the caveats in the documentation: https://pandas.pydata.org/pandas-docs/stable/user_guide/indexing.html#returning-a-view-versus-a-copy\n",
      "  reduced_stock_mentions['score'] = scores_series\n",
      "/var/folders/2n/ywnb5cc17zq6c5n2w2n7bkzw0000gn/T/ipykernel_15328/2621434444.py:3: SettingWithCopyWarning: \n",
      "A value is trying to be set on a copy of a slice from a DataFrame.\n",
      "Try using .loc[row_indexer,col_indexer] = value instead\n",
      "\n",
      "See the caveats in the documentation: https://pandas.pydata.org/pandas-docs/stable/user_guide/indexing.html#returning-a-view-versus-a-copy\n",
      "  reduced_stock_mentions['tokens'] = tokens_series\n"
     ]
    },
    {
     "data": {
      "application/vnd.microsoft.datawrangler.viewer.v0+json": {
       "columns": [
        {
         "name": "index",
         "rawType": "int64",
         "type": "integer"
        },
        {
         "name": "ticker",
         "rawType": "object",
         "type": "string"
        },
        {
         "name": "original_word",
         "rawType": "object",
         "type": "string"
        },
        {
         "name": "match_score",
         "rawType": "float64",
         "type": "float"
        },
        {
         "name": "text",
         "rawType": "object",
         "type": "string"
        },
        {
         "name": "text_index",
         "rawType": "int64",
         "type": "integer"
        },
        {
         "name": "origin",
         "rawType": "object",
         "type": "string"
        },
        {
         "name": "original_index",
         "rawType": "int64",
         "type": "integer"
        },
        {
         "name": "score",
         "rawType": "int64",
         "type": "integer"
        },
        {
         "name": "tokens",
         "rawType": "int64",
         "type": "integer"
        }
       ],
       "conversionMethod": "pd.DataFrame",
       "ref": "06ee9065-e15e-494b-a3bb-fbc3a967fc2f",
       "rows": [
        [
         "0",
         "FAST",
         "fast",
         "100.0",
         "$INO rising fast",
         "41",
         "submission_title",
         "41",
         "1",
         "92"
        ],
        [
         "1",
         "TECH",
         "TECH",
         "100.0",
         "Best TECH ETF?",
         "179",
         "submission_title",
         "179",
         "0",
         "92"
        ],
        [
         "2",
         "TECH",
         "Tech",
         "100.0",
         "EqualOcean Presents: China Big Tech Crackdown Winners",
         "307",
         "submission_title",
         "307",
         "0",
         "98"
        ],
        [
         "3",
         "COST",
         "cost",
         "100.0",
         "Delta Airlines wants to increase its unvaccinated employees health insurance by $200 a month to cover the cost",
         "427",
         "submission_title",
         "427",
         "0",
         "109"
        ],
        [
         "4",
         "TECH",
         "tech",
         "100.0",
         "Analysis into whether certain Chinese tech stocks have bottomed",
         "449",
         "submission_title",
         "449",
         "0",
         "98"
        ],
        [
         "5",
         "FAST",
         "fast",
         "100.0",
         "A fast growing active stock server dedicated to making you financially free!",
         "455",
         "submission_title",
         "455",
         "0",
         "101"
        ],
        [
         "6",
         "GOOGL",
         "Google",
         "90.9090909090909",
         "Google plans to make and use their own CPU’s by 2023",
         "468",
         "submission_title",
         "468",
         "1",
         "109"
        ],
        [
         "7",
         "TECH",
         "Tech",
         "100.0",
         "Will the China Tech Stock Rebound continue? Analysis &amp; Research on how to assess landscape.",
         "469",
         "submission_title",
         "469",
         "0",
         "108"
        ],
        [
         "8",
         "TECH",
         "TECH",
         "100.0",
         "ESS TECH",
         "643",
         "submission_title",
         "643",
         "0",
         "90"
        ],
        [
         "9",
         "FAST",
         "fast",
         "100.0",
         "$IINN moving fast from 3$ to almost 5$ just today!!",
         "689",
         "submission_title",
         "689",
         "1",
         "105"
        ],
        [
         "10",
         "UBER",
         "Uber",
         "100.0",
         "Buy AGC Now online Biggest deal in history 40 Billion dollars GRAB IPO same as doordash Uber stock only $15 worth $55 AGC",
         "796",
         "submission_title",
         "796",
         "1",
         "122"
        ],
        [
         "11",
         "NVDA",
         "NVDA",
         "100.0",
         "NVDA BULL",
         "846",
         "submission_title",
         "846",
         "1",
         "93"
        ],
        [
         "12",
         "DELL",
         "Dell",
         "100.0",
         "Dell Technologies - after-hours earnings report",
         "870",
         "submission_title",
         "870",
         "0",
         "96"
        ],
        [
         "13",
         "TECH",
         "Tech",
         "100.0",
         "$ESE - New Gaming Tech Acquisition",
         "926",
         "submission_title",
         "926",
         "1",
         "95"
        ],
        [
         "14",
         "GOOGL",
         "Google",
         "90.9090909090909",
         "Roku, Google Reach YouTube Deal",
         "972",
         "submission_title",
         "972",
         "1",
         "99"
        ],
        [
         "15",
         "WELL",
         "well",
         "100.0",
         "Daily end of day, as well as morning market analysis with price points!",
         "1041",
         "submission_title",
         "1041",
         "0",
         "103"
        ],
        [
         "16",
         "WELL",
         "well",
         "100.0",
         "Looking very very bullish riding well above 50 ema. 3.60 incoming.",
         "1159",
         "submission_title",
         "1159",
         "1",
         "107"
        ],
        [
         "17",
         "TECH",
         "tech",
         "100.0",
         "Easy squeeze recent IPO $IMMX with great tech and holding up during volatility 4M Share Float",
         "1203",
         "submission_title",
         "1203",
         "1",
         "108"
        ],
        [
         "18",
         "TECH",
         "tech",
         "100.0",
         "t42 solutions (TRAC.L) is using IoT tech to take the maritime shipping industry by storm",
         "1281",
         "submission_title",
         "1281",
         "1",
         "110"
        ],
        [
         "19",
         "WELL",
         "Well",
         "100.0",
         "$HELI - Big News out of 1-30 Well",
         "1356",
         "submission_title",
         "1356",
         "1",
         "102"
        ],
        [
         "20",
         "META",
         "Meta",
         "100.0",
         "$COIN - Meta + Real Estate = $",
         "1392",
         "submission_title",
         "1392",
         "0",
         "97"
        ],
        [
         "21",
         "EBAY",
         "EBay",
         "100.0",
         "EBay Loses Buyers And Sellers",
         "1421",
         "submission_title",
         "1421",
         "-1",
         "98"
        ],
        [
         "22",
         "TECH",
         "Tech",
         "100.0",
         "Got $5,000? 3 Tech Stocks to Buy and Hold For the Long Term",
         "1431",
         "submission_title",
         "1431",
         "1",
         "108"
        ],
        [
         "23",
         "TECH",
         "Tech",
         "100.0",
         "Tech Stock Crash - Is It Time Now To Buy? Nigel Green deVere CEO",
         "1458",
         "submission_title",
         "1458",
         "0",
         "104"
        ],
        [
         "24",
         "TECH",
         "Tech",
         "100.0",
         "Cult Food Science: A Gateway to Food Tech Investments",
         "1463",
         "submission_title",
         "1463",
         "1",
         "98"
        ],
        [
         "25",
         "FAST",
         "Fast",
         "100.0",
         "Fast Growth &amp; a Game-Changing Product for an $80B Baby Nutrition Industry",
         "1488",
         "submission_title",
         "1488",
         "1",
         "107"
        ],
        [
         "26",
         "WELL",
         "well",
         "100.0",
         "ID and linked bank account required but well worth the effort. 5 free stocks worth up to $9600! Lots of fun!",
         "1553",
         "submission_title",
         "1553",
         "1",
         "117"
        ],
        [
         "27",
         "FAST",
         "Fast",
         "100.0",
         "$FSRD - Fast Radius. Current Price -$2.26 - uptrend",
         "1558",
         "submission_title",
         "1558",
         "1",
         "106"
        ],
        [
         "28",
         "GOOGL",
         "Google",
         "90.9090909090909",
         "Which Google Ticker symbol is splitting on July 1st 2022? Thanks",
         "1584",
         "submission_title",
         "1584",
         "0",
         "111"
        ],
        [
         "29",
         "POOL",
         "pool",
         "100.0",
         "$BBIG 75% dark pool on Vinco is this real life? My peeps this happened right before AMC and GME went insane! $sprt was in the same boat. Short interest, cost to borrow, days to cover all shooting up before the fake sell walls broke down all similar. About to 🚀🚀🚀Share on every social media you got.",
         "1595",
         "submission_title",
         "1595",
         "1",
         "162"
        ],
        [
         "30",
         "COST",
         "cost",
         "100.0",
         "$BBIG 75% dark pool on Vinco is this real life? My peeps this happened right before AMC and GME went insane! $sprt was in the same boat. Short interest, cost to borrow, days to cover all shooting up before the fake sell walls broke down all similar. About to 🚀🚀🚀Share on every social media you got.",
         "1595",
         "submission_title",
         "1595",
         "1",
         "162"
        ],
        [
         "31",
         "MRNA",
         "mRNA",
         "100.0",
         "Good morning! 🌞 #premarket #watchlist 04/05 $SBFM - Designed mRNA Molecules Effective Against Multidrug Resistant Cancer Cells, $RCON -13G big shares stakes buy, $ATER -no news, $SST - earnings. old news, $ANY - new CEO... Also check afterhours runners and low float stocks in my app!",
         "1599",
         "submission_title",
         "1599",
         "1",
         "167"
        ],
        [
         "32",
         "COST",
         "Cost",
         "100.0",
         "$CLVS Utilization Rate Almost At 99%, Short Exempts Are Rising Heavily And The Cost To Borrow Fee Is Rising As Well…Off Exchange Volume High",
         "1601",
         "submission_title",
         "1601",
         "1",
         "122"
        ],
        [
         "33",
         "COST",
         "Cost",
         "100.0",
         "$CLVS Utilization Rate 100%, Short Exempts Are Rising Daily, The Cost To Borrow Fee Is Rising As Well Now At 4.38% Last Friday It Was 1%…",
         "1611",
         "submission_title",
         "1611",
         "1",
         "131"
        ],
        [
         "34",
         "WELL",
         "Well",
         "100.0",
         "$CLVS Utilization Rate 100%, Short Exempts Are Rising Daily, The Cost To Borrow Fee Is Rising As Well Now At 4.38% Last Friday It Was 1%…",
         "1611",
         "submission_title",
         "1611",
         "1",
         "131"
        ],
        [
         "35",
         "META",
         "Meta",
         "100.0",
         "Meta Eyes Monetization Tools",
         "1632",
         "submission_title",
         "1632",
         "1",
         "93"
        ],
        [
         "36",
         "WELL",
         "Well",
         "100.0",
         "Well positioned micro cap company currently generating $1.2million of oil revenue off their first oil well. 2nd well coming into production in the next two weeks. Expect a large price increase when the announcement hits.",
         "1638",
         "submission_title",
         "1638",
         "1",
         "132"
        ],
        [
         "37",
         "WELL",
         "well",
         "100.0",
         "Well positioned micro cap company currently generating $1.2million of oil revenue off their first oil well. 2nd well coming into production in the next two weeks. Expect a large price increase when the announcement hits.",
         "1638",
         "submission_title",
         "1638",
         "1",
         "132"
        ],
        [
         "38",
         "COST",
         "Cost",
         "100.0",
         "$CRXT $CRXTW- Yesterdays Volume Was 69% Dark Pool! Short exempts stacking up daily and FTDS. Also 5th Trading Day showing once again zero shares available to short and Cost To Borrow Is In Triple Digits",
         "1670",
         "submission_title",
         "1670",
         "1",
         "141"
        ],
        [
         "39",
         "WELL",
         "Well",
         "100.0",
         "💰💰💰Good morning! #premarket #watchlist 06/22 $XELA -Secures XBP Contract Totaling $136 Million, $REV -old news. bankruptsy, $QTNT -Preview of Financials, $USWS -ProFrac Holding Corp. To Acquire U.S. Well Services, Inc, $DTIL -$50 Million Offering of Common Stock",
         "1968",
         "submission_title",
         "1968",
         "-1",
         "174"
        ],
        [
         "40",
         "TECH",
         "TECH",
         "100.0",
         "$XELA, EXELA TECH SEEING HUGE GAINS DURING PRE MARKET",
         "1969",
         "submission_title",
         "1969",
         "1",
         "103"
        ],
        [
         "41",
         "GOOGL",
         "Google",
         "90.9090909090909",
         "Pinterest's Big Google Change",
         "2084",
         "submission_title",
         "2084",
         "0",
         "98"
        ],
        [
         "42",
         "META",
         "Meta",
         "100.0",
         "Is Meta Platforms Stock A Buy During The Dip? If You Want To Buy The Next Apple, Then Yes",
         "2207",
         "submission_title",
         "2207",
         "1",
         "109"
        ],
        [
         "43",
         "ENPH",
         "ENPH",
         "100.0",
         "Prospero.Ai has bullish sentiment on ENPH",
         "2256",
         "submission_title",
         "2256",
         "1",
         "100"
        ],
        [
         "44",
         "UBER",
         "UBER",
         "100.0",
         "SWVL Dilution Complete Way Oversold. UBER Alternative.",
         "2272",
         "submission_title",
         "2272",
         "-1",
         "103"
        ],
        [
         "45",
         "TECH",
         "tech",
         "100.0",
         "CyberSec/Confidential Computing Portfolio Overview. HUB.TA +16% is my only bull YTD, trailing behind are ETFs (CIBR/BUG) and other US Plays (PANW, FTNT, CYBR). CyberSec/CC still outperformed QQQ (NASDAQ Benchmark), and most beat SPY. tldr; cybersecurity plays are outperforming tech as a whole, yolo",
         "2282",
         "submission_title",
         "2282",
         "1",
         "167"
        ],
        [
         "46",
         "TSLA",
         "TSLA",
         "100.0",
         "ARKK projected values of TSLA ROKU ZM in 2026",
         "2308",
         "submission_title",
         "2308",
         "0",
         "107"
        ],
        [
         "47",
         "MRNA",
         "mRNA",
         "100.0",
         "💰💰💰Good morning! #premarket #watchlist 07/19 $STIM -Report Second Quarter 2022 Financial and Operating Results and Host Conference, $APLD -Secures Hosting Capacity To Support All 23.3 EH/s of Bitcoin, $CYTO -SemaPhore Platform Shown Particularly Effective in Intracellular mRNA Delivery for Cancer",
         "2317",
         "submission_title",
         "2317",
         "1",
         "169"
        ],
        [
         "48",
         "NCLH",
         "NCLH",
         "100.0",
         "Cruise Stocks CCL, RCL, NCLH Gain as CDC Ends Covid Program",
         "2325",
         "submission_title",
         "2325",
         "1",
         "108"
        ],
        [
         "49",
         "MSFT",
         "MSFT",
         "100.0",
         "MSFT Q4 Earnings Expectations/Guidance",
         "2388",
         "submission_title",
         "2388",
         "0",
         "98"
        ]
       ],
       "shape": {
        "columns": 9,
        "rows": 100
       }
      },
      "text/html": [
       "<div>\n",
       "<style scoped>\n",
       "    .dataframe tbody tr th:only-of-type {\n",
       "        vertical-align: middle;\n",
       "    }\n",
       "\n",
       "    .dataframe tbody tr th {\n",
       "        vertical-align: top;\n",
       "    }\n",
       "\n",
       "    .dataframe thead th {\n",
       "        text-align: right;\n",
       "    }\n",
       "</style>\n",
       "<table border=\"1\" class=\"dataframe\">\n",
       "  <thead>\n",
       "    <tr style=\"text-align: right;\">\n",
       "      <th></th>\n",
       "      <th>ticker</th>\n",
       "      <th>original_word</th>\n",
       "      <th>match_score</th>\n",
       "      <th>text</th>\n",
       "      <th>text_index</th>\n",
       "      <th>origin</th>\n",
       "      <th>original_index</th>\n",
       "      <th>score</th>\n",
       "      <th>tokens</th>\n",
       "    </tr>\n",
       "  </thead>\n",
       "  <tbody>\n",
       "    <tr>\n",
       "      <th>0</th>\n",
       "      <td>FAST</td>\n",
       "      <td>fast</td>\n",
       "      <td>100.0</td>\n",
       "      <td>$INO rising fast</td>\n",
       "      <td>41</td>\n",
       "      <td>submission_title</td>\n",
       "      <td>41</td>\n",
       "      <td>1</td>\n",
       "      <td>92</td>\n",
       "    </tr>\n",
       "    <tr>\n",
       "      <th>1</th>\n",
       "      <td>TECH</td>\n",
       "      <td>TECH</td>\n",
       "      <td>100.0</td>\n",
       "      <td>Best TECH ETF?</td>\n",
       "      <td>179</td>\n",
       "      <td>submission_title</td>\n",
       "      <td>179</td>\n",
       "      <td>0</td>\n",
       "      <td>92</td>\n",
       "    </tr>\n",
       "    <tr>\n",
       "      <th>2</th>\n",
       "      <td>TECH</td>\n",
       "      <td>Tech</td>\n",
       "      <td>100.0</td>\n",
       "      <td>EqualOcean Presents: China Big Tech Crackdown ...</td>\n",
       "      <td>307</td>\n",
       "      <td>submission_title</td>\n",
       "      <td>307</td>\n",
       "      <td>0</td>\n",
       "      <td>98</td>\n",
       "    </tr>\n",
       "    <tr>\n",
       "      <th>3</th>\n",
       "      <td>COST</td>\n",
       "      <td>cost</td>\n",
       "      <td>100.0</td>\n",
       "      <td>Delta Airlines wants to increase its unvaccina...</td>\n",
       "      <td>427</td>\n",
       "      <td>submission_title</td>\n",
       "      <td>427</td>\n",
       "      <td>0</td>\n",
       "      <td>109</td>\n",
       "    </tr>\n",
       "    <tr>\n",
       "      <th>4</th>\n",
       "      <td>TECH</td>\n",
       "      <td>tech</td>\n",
       "      <td>100.0</td>\n",
       "      <td>Analysis into whether certain Chinese tech sto...</td>\n",
       "      <td>449</td>\n",
       "      <td>submission_title</td>\n",
       "      <td>449</td>\n",
       "      <td>0</td>\n",
       "      <td>98</td>\n",
       "    </tr>\n",
       "    <tr>\n",
       "      <th>...</th>\n",
       "      <td>...</td>\n",
       "      <td>...</td>\n",
       "      <td>...</td>\n",
       "      <td>...</td>\n",
       "      <td>...</td>\n",
       "      <td>...</td>\n",
       "      <td>...</td>\n",
       "      <td>...</td>\n",
       "      <td>...</td>\n",
       "    </tr>\n",
       "    <tr>\n",
       "      <th>95</th>\n",
       "      <td>META</td>\n",
       "      <td>META</td>\n",
       "      <td>100.0</td>\n",
       "      <td>META Summarized News for the week [Feb 19]</td>\n",
       "      <td>5745</td>\n",
       "      <td>submission_title</td>\n",
       "      <td>5745</td>\n",
       "      <td>0</td>\n",
       "      <td>101</td>\n",
       "    </tr>\n",
       "    <tr>\n",
       "      <th>96</th>\n",
       "      <td>META</td>\n",
       "      <td>Meta</td>\n",
       "      <td>100.0</td>\n",
       "      <td>The Meta triangle wedge is finishing up</td>\n",
       "      <td>5923</td>\n",
       "      <td>submission_title</td>\n",
       "      <td>5923</td>\n",
       "      <td>0</td>\n",
       "      <td>95</td>\n",
       "    </tr>\n",
       "    <tr>\n",
       "      <th>97</th>\n",
       "      <td>AXON</td>\n",
       "      <td>AXON</td>\n",
       "      <td>100.0</td>\n",
       "      <td>AXON</td>\n",
       "      <td>5957</td>\n",
       "      <td>submission_title</td>\n",
       "      <td>5957</td>\n",
       "      <td>0</td>\n",
       "      <td>106</td>\n",
       "    </tr>\n",
       "    <tr>\n",
       "      <th>98</th>\n",
       "      <td>COST</td>\n",
       "      <td>Cost</td>\n",
       "      <td>100.0</td>\n",
       "      <td>Cost of Capital: Charlie Munger's Sarcastic Ta...</td>\n",
       "      <td>6155</td>\n",
       "      <td>submission_title</td>\n",
       "      <td>6155</td>\n",
       "      <td>0</td>\n",
       "      <td>105</td>\n",
       "    </tr>\n",
       "    <tr>\n",
       "      <th>99</th>\n",
       "      <td>COST</td>\n",
       "      <td>Cost</td>\n",
       "      <td>100.0</td>\n",
       "      <td>FedEx's $4B Cost Cutting, BlackRock Hired by U...</td>\n",
       "      <td>6614</td>\n",
       "      <td>submission_title</td>\n",
       "      <td>6614</td>\n",
       "      <td>0</td>\n",
       "      <td>129</td>\n",
       "    </tr>\n",
       "  </tbody>\n",
       "</table>\n",
       "<p>100 rows × 9 columns</p>\n",
       "</div>"
      ],
      "text/plain": [
       "   ticker original_word  match_score  \\\n",
       "0    FAST          fast        100.0   \n",
       "1    TECH          TECH        100.0   \n",
       "2    TECH          Tech        100.0   \n",
       "3    COST          cost        100.0   \n",
       "4    TECH          tech        100.0   \n",
       "..    ...           ...          ...   \n",
       "95   META          META        100.0   \n",
       "96   META          Meta        100.0   \n",
       "97   AXON          AXON        100.0   \n",
       "98   COST          Cost        100.0   \n",
       "99   COST          Cost        100.0   \n",
       "\n",
       "                                                 text  text_index  \\\n",
       "0                                    $INO rising fast          41   \n",
       "1                                      Best TECH ETF?         179   \n",
       "2   EqualOcean Presents: China Big Tech Crackdown ...         307   \n",
       "3   Delta Airlines wants to increase its unvaccina...         427   \n",
       "4   Analysis into whether certain Chinese tech sto...         449   \n",
       "..                                                ...         ...   \n",
       "95         META Summarized News for the week [Feb 19]        5745   \n",
       "96            The Meta triangle wedge is finishing up        5923   \n",
       "97                                               AXON        5957   \n",
       "98  Cost of Capital: Charlie Munger's Sarcastic Ta...        6155   \n",
       "99  FedEx's $4B Cost Cutting, BlackRock Hired by U...        6614   \n",
       "\n",
       "              origin  original_index  score  tokens  \n",
       "0   submission_title              41      1      92  \n",
       "1   submission_title             179      0      92  \n",
       "2   submission_title             307      0      98  \n",
       "3   submission_title             427      0     109  \n",
       "4   submission_title             449      0      98  \n",
       "..               ...             ...    ...     ...  \n",
       "95  submission_title            5745      0     101  \n",
       "96  submission_title            5923      0      95  \n",
       "97  submission_title            5957      0     106  \n",
       "98  submission_title            6155      0     105  \n",
       "99  submission_title            6614      0     129  \n",
       "\n",
       "[100 rows x 9 columns]"
      ]
     },
     "execution_count": 21,
     "metadata": {},
     "output_type": "execute_result"
    }
   ],
   "source": [
    "reduced_stock_mentions = stock_mentions.head(100)\n",
    "reduced_stock_mentions['score'] = scores_series\n",
    "reduced_stock_mentions"
   ]
  },
  {
   "cell_type": "code",
   "execution_count": 15,
   "metadata": {},
   "outputs": [],
   "source": [
    "reduced_stock_mentions.to_parquet(\"fine_tuning/data/reduced_stock_mentions.parquet\")"
   ]
  },
  {
   "cell_type": "code",
   "execution_count": 28,
   "metadata": {},
   "outputs": [
    {
     "data": {
      "application/vnd.microsoft.datawrangler.viewer.v0+json": {
       "columns": [
        {
         "name": "index",
         "rawType": "int64",
         "type": "integer"
        },
        {
         "name": "ticker",
         "rawType": "object",
         "type": "string"
        },
        {
         "name": "original_word",
         "rawType": "object",
         "type": "string"
        },
        {
         "name": "match_score",
         "rawType": "float64",
         "type": "float"
        },
        {
         "name": "text",
         "rawType": "object",
         "type": "string"
        },
        {
         "name": "text_index",
         "rawType": "int64",
         "type": "integer"
        },
        {
         "name": "origin",
         "rawType": "object",
         "type": "string"
        },
        {
         "name": "original_index",
         "rawType": "int64",
         "type": "integer"
        },
        {
         "name": "score",
         "rawType": "int64",
         "type": "integer"
        },
        {
         "name": "tokens",
         "rawType": "int64",
         "type": "integer"
        }
       ],
       "conversionMethod": "pd.DataFrame",
       "ref": "0a3139e9-8620-4a31-883b-1b64a40e1007",
       "rows": [
        [
         "0",
         "FAST",
         "fast",
         "100.0",
         "$INO rising fast",
         "41",
         "submission_title",
         "41",
         "1",
         "92"
        ],
        [
         "1",
         "TECH",
         "TECH",
         "100.0",
         "Best TECH ETF?",
         "179",
         "submission_title",
         "179",
         "0",
         "92"
        ],
        [
         "2",
         "TECH",
         "Tech",
         "100.0",
         "EqualOcean Presents: China Big Tech Crackdown Winners",
         "307",
         "submission_title",
         "307",
         "0",
         "98"
        ],
        [
         "3",
         "COST",
         "cost",
         "100.0",
         "Delta Airlines wants to increase its unvaccinated employees health insurance by $200 a month to cover the cost",
         "427",
         "submission_title",
         "427",
         "0",
         "109"
        ],
        [
         "4",
         "TECH",
         "tech",
         "100.0",
         "Analysis into whether certain Chinese tech stocks have bottomed",
         "449",
         "submission_title",
         "449",
         "0",
         "98"
        ],
        [
         "5",
         "FAST",
         "fast",
         "100.0",
         "A fast growing active stock server dedicated to making you financially free!",
         "455",
         "submission_title",
         "455",
         "0",
         "101"
        ],
        [
         "6",
         "GOOGL",
         "Google",
         "90.9090909090909",
         "Google plans to make and use their own CPU’s by 2023",
         "468",
         "submission_title",
         "468",
         "1",
         "109"
        ],
        [
         "7",
         "TECH",
         "Tech",
         "100.0",
         "Will the China Tech Stock Rebound continue? Analysis &amp; Research on how to assess landscape.",
         "469",
         "submission_title",
         "469",
         "0",
         "108"
        ],
        [
         "8",
         "TECH",
         "TECH",
         "100.0",
         "ESS TECH",
         "643",
         "submission_title",
         "643",
         "0",
         "90"
        ],
        [
         "9",
         "FAST",
         "fast",
         "100.0",
         "$IINN moving fast from 3$ to almost 5$ just today!!",
         "689",
         "submission_title",
         "689",
         "1",
         "105"
        ],
        [
         "10",
         "UBER",
         "Uber",
         "100.0",
         "Buy AGC Now online Biggest deal in history 40 Billion dollars GRAB IPO same as doordash Uber stock only $15 worth $55 AGC",
         "796",
         "submission_title",
         "796",
         "1",
         "122"
        ],
        [
         "11",
         "NVDA",
         "NVDA",
         "100.0",
         "NVDA BULL",
         "846",
         "submission_title",
         "846",
         "1",
         "93"
        ],
        [
         "12",
         "DELL",
         "Dell",
         "100.0",
         "Dell Technologies - after-hours earnings report",
         "870",
         "submission_title",
         "870",
         "0",
         "96"
        ],
        [
         "13",
         "TECH",
         "Tech",
         "100.0",
         "$ESE - New Gaming Tech Acquisition",
         "926",
         "submission_title",
         "926",
         "1",
         "95"
        ],
        [
         "14",
         "GOOGL",
         "Google",
         "90.9090909090909",
         "Roku, Google Reach YouTube Deal",
         "972",
         "submission_title",
         "972",
         "1",
         "99"
        ],
        [
         "15",
         "WELL",
         "well",
         "100.0",
         "Daily end of day, as well as morning market analysis with price points!",
         "1041",
         "submission_title",
         "1041",
         "0",
         "103"
        ],
        [
         "16",
         "WELL",
         "well",
         "100.0",
         "Looking very very bullish riding well above 50 ema. 3.60 incoming.",
         "1159",
         "submission_title",
         "1159",
         "1",
         "107"
        ],
        [
         "17",
         "TECH",
         "tech",
         "100.0",
         "Easy squeeze recent IPO $IMMX with great tech and holding up during volatility 4M Share Float",
         "1203",
         "submission_title",
         "1203",
         "1",
         "108"
        ],
        [
         "18",
         "TECH",
         "tech",
         "100.0",
         "t42 solutions (TRAC.L) is using IoT tech to take the maritime shipping industry by storm",
         "1281",
         "submission_title",
         "1281",
         "1",
         "110"
        ],
        [
         "19",
         "WELL",
         "Well",
         "100.0",
         "$HELI - Big News out of 1-30 Well",
         "1356",
         "submission_title",
         "1356",
         "1",
         "102"
        ],
        [
         "20",
         "META",
         "Meta",
         "100.0",
         "$COIN - Meta + Real Estate = $",
         "1392",
         "submission_title",
         "1392",
         "0",
         "97"
        ],
        [
         "21",
         "EBAY",
         "EBay",
         "100.0",
         "EBay Loses Buyers And Sellers",
         "1421",
         "submission_title",
         "1421",
         "-1",
         "98"
        ],
        [
         "22",
         "TECH",
         "Tech",
         "100.0",
         "Got $5,000? 3 Tech Stocks to Buy and Hold For the Long Term",
         "1431",
         "submission_title",
         "1431",
         "1",
         "108"
        ],
        [
         "23",
         "TECH",
         "Tech",
         "100.0",
         "Tech Stock Crash - Is It Time Now To Buy? Nigel Green deVere CEO",
         "1458",
         "submission_title",
         "1458",
         "0",
         "104"
        ],
        [
         "24",
         "TECH",
         "Tech",
         "100.0",
         "Cult Food Science: A Gateway to Food Tech Investments",
         "1463",
         "submission_title",
         "1463",
         "1",
         "98"
        ],
        [
         "25",
         "FAST",
         "Fast",
         "100.0",
         "Fast Growth &amp; a Game-Changing Product for an $80B Baby Nutrition Industry",
         "1488",
         "submission_title",
         "1488",
         "1",
         "107"
        ],
        [
         "26",
         "WELL",
         "well",
         "100.0",
         "ID and linked bank account required but well worth the effort. 5 free stocks worth up to $9600! Lots of fun!",
         "1553",
         "submission_title",
         "1553",
         "1",
         "117"
        ],
        [
         "27",
         "FAST",
         "Fast",
         "100.0",
         "$FSRD - Fast Radius. Current Price -$2.26 - uptrend",
         "1558",
         "submission_title",
         "1558",
         "1",
         "106"
        ],
        [
         "28",
         "GOOGL",
         "Google",
         "90.9090909090909",
         "Which Google Ticker symbol is splitting on July 1st 2022? Thanks",
         "1584",
         "submission_title",
         "1584",
         "0",
         "111"
        ],
        [
         "29",
         "POOL",
         "pool",
         "100.0",
         "$BBIG 75% dark pool on Vinco is this real life? My peeps this happened right before AMC and GME went insane! $sprt was in the same boat. Short interest, cost to borrow, days to cover all shooting up before the fake sell walls broke down all similar. About to 🚀🚀🚀Share on every social media you got.",
         "1595",
         "submission_title",
         "1595",
         "1",
         "162"
        ],
        [
         "30",
         "COST",
         "cost",
         "100.0",
         "$BBIG 75% dark pool on Vinco is this real life? My peeps this happened right before AMC and GME went insane! $sprt was in the same boat. Short interest, cost to borrow, days to cover all shooting up before the fake sell walls broke down all similar. About to 🚀🚀🚀Share on every social media you got.",
         "1595",
         "submission_title",
         "1595",
         "1",
         "162"
        ],
        [
         "31",
         "MRNA",
         "mRNA",
         "100.0",
         "Good morning! 🌞 #premarket #watchlist 04/05 $SBFM - Designed mRNA Molecules Effective Against Multidrug Resistant Cancer Cells, $RCON -13G big shares stakes buy, $ATER -no news, $SST - earnings. old news, $ANY - new CEO... Also check afterhours runners and low float stocks in my app!",
         "1599",
         "submission_title",
         "1599",
         "1",
         "167"
        ],
        [
         "32",
         "COST",
         "Cost",
         "100.0",
         "$CLVS Utilization Rate Almost At 99%, Short Exempts Are Rising Heavily And The Cost To Borrow Fee Is Rising As Well…Off Exchange Volume High",
         "1601",
         "submission_title",
         "1601",
         "1",
         "122"
        ],
        [
         "33",
         "COST",
         "Cost",
         "100.0",
         "$CLVS Utilization Rate 100%, Short Exempts Are Rising Daily, The Cost To Borrow Fee Is Rising As Well Now At 4.38% Last Friday It Was 1%…",
         "1611",
         "submission_title",
         "1611",
         "1",
         "131"
        ],
        [
         "34",
         "WELL",
         "Well",
         "100.0",
         "$CLVS Utilization Rate 100%, Short Exempts Are Rising Daily, The Cost To Borrow Fee Is Rising As Well Now At 4.38% Last Friday It Was 1%…",
         "1611",
         "submission_title",
         "1611",
         "1",
         "131"
        ],
        [
         "35",
         "META",
         "Meta",
         "100.0",
         "Meta Eyes Monetization Tools",
         "1632",
         "submission_title",
         "1632",
         "1",
         "93"
        ],
        [
         "36",
         "WELL",
         "Well",
         "100.0",
         "Well positioned micro cap company currently generating $1.2million of oil revenue off their first oil well. 2nd well coming into production in the next two weeks. Expect a large price increase when the announcement hits.",
         "1638",
         "submission_title",
         "1638",
         "1",
         "132"
        ],
        [
         "37",
         "WELL",
         "well",
         "100.0",
         "Well positioned micro cap company currently generating $1.2million of oil revenue off their first oil well. 2nd well coming into production in the next two weeks. Expect a large price increase when the announcement hits.",
         "1638",
         "submission_title",
         "1638",
         "1",
         "132"
        ],
        [
         "38",
         "COST",
         "Cost",
         "100.0",
         "$CRXT $CRXTW- Yesterdays Volume Was 69% Dark Pool! Short exempts stacking up daily and FTDS. Also 5th Trading Day showing once again zero shares available to short and Cost To Borrow Is In Triple Digits",
         "1670",
         "submission_title",
         "1670",
         "1",
         "141"
        ],
        [
         "39",
         "WELL",
         "Well",
         "100.0",
         "💰💰💰Good morning! #premarket #watchlist 06/22 $XELA -Secures XBP Contract Totaling $136 Million, $REV -old news. bankruptsy, $QTNT -Preview of Financials, $USWS -ProFrac Holding Corp. To Acquire U.S. Well Services, Inc, $DTIL -$50 Million Offering of Common Stock",
         "1968",
         "submission_title",
         "1968",
         "-1",
         "174"
        ],
        [
         "40",
         "TECH",
         "TECH",
         "100.0",
         "$XELA, EXELA TECH SEEING HUGE GAINS DURING PRE MARKET",
         "1969",
         "submission_title",
         "1969",
         "1",
         "103"
        ],
        [
         "41",
         "GOOGL",
         "Google",
         "90.9090909090909",
         "Pinterest's Big Google Change",
         "2084",
         "submission_title",
         "2084",
         "0",
         "98"
        ],
        [
         "42",
         "META",
         "Meta",
         "100.0",
         "Is Meta Platforms Stock A Buy During The Dip? If You Want To Buy The Next Apple, Then Yes",
         "2207",
         "submission_title",
         "2207",
         "1",
         "109"
        ],
        [
         "43",
         "ENPH",
         "ENPH",
         "100.0",
         "Prospero.Ai has bullish sentiment on ENPH",
         "2256",
         "submission_title",
         "2256",
         "1",
         "100"
        ],
        [
         "44",
         "UBER",
         "UBER",
         "100.0",
         "SWVL Dilution Complete Way Oversold. UBER Alternative.",
         "2272",
         "submission_title",
         "2272",
         "-1",
         "103"
        ],
        [
         "45",
         "TECH",
         "tech",
         "100.0",
         "CyberSec/Confidential Computing Portfolio Overview. HUB.TA +16% is my only bull YTD, trailing behind are ETFs (CIBR/BUG) and other US Plays (PANW, FTNT, CYBR). CyberSec/CC still outperformed QQQ (NASDAQ Benchmark), and most beat SPY. tldr; cybersecurity plays are outperforming tech as a whole, yolo",
         "2282",
         "submission_title",
         "2282",
         "1",
         "167"
        ],
        [
         "46",
         "TSLA",
         "TSLA",
         "100.0",
         "ARKK projected values of TSLA ROKU ZM in 2026",
         "2308",
         "submission_title",
         "2308",
         "0",
         "107"
        ],
        [
         "47",
         "MRNA",
         "mRNA",
         "100.0",
         "💰💰💰Good morning! #premarket #watchlist 07/19 $STIM -Report Second Quarter 2022 Financial and Operating Results and Host Conference, $APLD -Secures Hosting Capacity To Support All 23.3 EH/s of Bitcoin, $CYTO -SemaPhore Platform Shown Particularly Effective in Intracellular mRNA Delivery for Cancer",
         "2317",
         "submission_title",
         "2317",
         "1",
         "169"
        ],
        [
         "48",
         "NCLH",
         "NCLH",
         "100.0",
         "Cruise Stocks CCL, RCL, NCLH Gain as CDC Ends Covid Program",
         "2325",
         "submission_title",
         "2325",
         "1",
         "108"
        ],
        [
         "49",
         "MSFT",
         "MSFT",
         "100.0",
         "MSFT Q4 Earnings Expectations/Guidance",
         "2388",
         "submission_title",
         "2388",
         "0",
         "98"
        ]
       ],
       "shape": {
        "columns": 9,
        "rows": 100
       }
      },
      "text/html": [
       "<div>\n",
       "<style scoped>\n",
       "    .dataframe tbody tr th:only-of-type {\n",
       "        vertical-align: middle;\n",
       "    }\n",
       "\n",
       "    .dataframe tbody tr th {\n",
       "        vertical-align: top;\n",
       "    }\n",
       "\n",
       "    .dataframe thead th {\n",
       "        text-align: right;\n",
       "    }\n",
       "</style>\n",
       "<table border=\"1\" class=\"dataframe\">\n",
       "  <thead>\n",
       "    <tr style=\"text-align: right;\">\n",
       "      <th></th>\n",
       "      <th>ticker</th>\n",
       "      <th>original_word</th>\n",
       "      <th>match_score</th>\n",
       "      <th>text</th>\n",
       "      <th>text_index</th>\n",
       "      <th>origin</th>\n",
       "      <th>original_index</th>\n",
       "      <th>score</th>\n",
       "      <th>tokens</th>\n",
       "    </tr>\n",
       "  </thead>\n",
       "  <tbody>\n",
       "    <tr>\n",
       "      <th>0</th>\n",
       "      <td>FAST</td>\n",
       "      <td>fast</td>\n",
       "      <td>100.0</td>\n",
       "      <td>$INO rising fast</td>\n",
       "      <td>41</td>\n",
       "      <td>submission_title</td>\n",
       "      <td>41</td>\n",
       "      <td>1</td>\n",
       "      <td>92</td>\n",
       "    </tr>\n",
       "    <tr>\n",
       "      <th>1</th>\n",
       "      <td>TECH</td>\n",
       "      <td>TECH</td>\n",
       "      <td>100.0</td>\n",
       "      <td>Best TECH ETF?</td>\n",
       "      <td>179</td>\n",
       "      <td>submission_title</td>\n",
       "      <td>179</td>\n",
       "      <td>0</td>\n",
       "      <td>92</td>\n",
       "    </tr>\n",
       "    <tr>\n",
       "      <th>2</th>\n",
       "      <td>TECH</td>\n",
       "      <td>Tech</td>\n",
       "      <td>100.0</td>\n",
       "      <td>EqualOcean Presents: China Big Tech Crackdown ...</td>\n",
       "      <td>307</td>\n",
       "      <td>submission_title</td>\n",
       "      <td>307</td>\n",
       "      <td>0</td>\n",
       "      <td>98</td>\n",
       "    </tr>\n",
       "    <tr>\n",
       "      <th>3</th>\n",
       "      <td>COST</td>\n",
       "      <td>cost</td>\n",
       "      <td>100.0</td>\n",
       "      <td>Delta Airlines wants to increase its unvaccina...</td>\n",
       "      <td>427</td>\n",
       "      <td>submission_title</td>\n",
       "      <td>427</td>\n",
       "      <td>0</td>\n",
       "      <td>109</td>\n",
       "    </tr>\n",
       "    <tr>\n",
       "      <th>4</th>\n",
       "      <td>TECH</td>\n",
       "      <td>tech</td>\n",
       "      <td>100.0</td>\n",
       "      <td>Analysis into whether certain Chinese tech sto...</td>\n",
       "      <td>449</td>\n",
       "      <td>submission_title</td>\n",
       "      <td>449</td>\n",
       "      <td>0</td>\n",
       "      <td>98</td>\n",
       "    </tr>\n",
       "    <tr>\n",
       "      <th>...</th>\n",
       "      <td>...</td>\n",
       "      <td>...</td>\n",
       "      <td>...</td>\n",
       "      <td>...</td>\n",
       "      <td>...</td>\n",
       "      <td>...</td>\n",
       "      <td>...</td>\n",
       "      <td>...</td>\n",
       "      <td>...</td>\n",
       "    </tr>\n",
       "    <tr>\n",
       "      <th>95</th>\n",
       "      <td>META</td>\n",
       "      <td>META</td>\n",
       "      <td>100.0</td>\n",
       "      <td>META Summarized News for the week [Feb 19]</td>\n",
       "      <td>5745</td>\n",
       "      <td>submission_title</td>\n",
       "      <td>5745</td>\n",
       "      <td>0</td>\n",
       "      <td>101</td>\n",
       "    </tr>\n",
       "    <tr>\n",
       "      <th>96</th>\n",
       "      <td>META</td>\n",
       "      <td>Meta</td>\n",
       "      <td>100.0</td>\n",
       "      <td>The Meta triangle wedge is finishing up</td>\n",
       "      <td>5923</td>\n",
       "      <td>submission_title</td>\n",
       "      <td>5923</td>\n",
       "      <td>0</td>\n",
       "      <td>95</td>\n",
       "    </tr>\n",
       "    <tr>\n",
       "      <th>97</th>\n",
       "      <td>AXON</td>\n",
       "      <td>AXON</td>\n",
       "      <td>100.0</td>\n",
       "      <td>AXON</td>\n",
       "      <td>5957</td>\n",
       "      <td>submission_title</td>\n",
       "      <td>5957</td>\n",
       "      <td>0</td>\n",
       "      <td>106</td>\n",
       "    </tr>\n",
       "    <tr>\n",
       "      <th>98</th>\n",
       "      <td>COST</td>\n",
       "      <td>Cost</td>\n",
       "      <td>100.0</td>\n",
       "      <td>Cost of Capital: Charlie Munger's Sarcastic Ta...</td>\n",
       "      <td>6155</td>\n",
       "      <td>submission_title</td>\n",
       "      <td>6155</td>\n",
       "      <td>0</td>\n",
       "      <td>105</td>\n",
       "    </tr>\n",
       "    <tr>\n",
       "      <th>99</th>\n",
       "      <td>COST</td>\n",
       "      <td>Cost</td>\n",
       "      <td>100.0</td>\n",
       "      <td>FedEx's $4B Cost Cutting, BlackRock Hired by U...</td>\n",
       "      <td>6614</td>\n",
       "      <td>submission_title</td>\n",
       "      <td>6614</td>\n",
       "      <td>0</td>\n",
       "      <td>129</td>\n",
       "    </tr>\n",
       "  </tbody>\n",
       "</table>\n",
       "<p>100 rows × 9 columns</p>\n",
       "</div>"
      ],
      "text/plain": [
       "   ticker original_word  match_score  \\\n",
       "0    FAST          fast        100.0   \n",
       "1    TECH          TECH        100.0   \n",
       "2    TECH          Tech        100.0   \n",
       "3    COST          cost        100.0   \n",
       "4    TECH          tech        100.0   \n",
       "..    ...           ...          ...   \n",
       "95   META          META        100.0   \n",
       "96   META          Meta        100.0   \n",
       "97   AXON          AXON        100.0   \n",
       "98   COST          Cost        100.0   \n",
       "99   COST          Cost        100.0   \n",
       "\n",
       "                                                 text  text_index  \\\n",
       "0                                    $INO rising fast          41   \n",
       "1                                      Best TECH ETF?         179   \n",
       "2   EqualOcean Presents: China Big Tech Crackdown ...         307   \n",
       "3   Delta Airlines wants to increase its unvaccina...         427   \n",
       "4   Analysis into whether certain Chinese tech sto...         449   \n",
       "..                                                ...         ...   \n",
       "95         META Summarized News for the week [Feb 19]        5745   \n",
       "96            The Meta triangle wedge is finishing up        5923   \n",
       "97                                               AXON        5957   \n",
       "98  Cost of Capital: Charlie Munger's Sarcastic Ta...        6155   \n",
       "99  FedEx's $4B Cost Cutting, BlackRock Hired by U...        6614   \n",
       "\n",
       "              origin  original_index  score  tokens  \n",
       "0   submission_title              41      1      92  \n",
       "1   submission_title             179      0      92  \n",
       "2   submission_title             307      0      98  \n",
       "3   submission_title             427      0     109  \n",
       "4   submission_title             449      0      98  \n",
       "..               ...             ...    ...     ...  \n",
       "95  submission_title            5745      0     101  \n",
       "96  submission_title            5923      0      95  \n",
       "97  submission_title            5957      0     106  \n",
       "98  submission_title            6155      0     105  \n",
       "99  submission_title            6614      0     129  \n",
       "\n",
       "[100 rows x 9 columns]"
      ]
     },
     "execution_count": 28,
     "metadata": {},
     "output_type": "execute_result"
    }
   ],
   "source": [
    "reduced_stock_mentions = pd.read_parquet(\"fine_tuning/data/reduced_stock_mentions.parquet\")\n",
    "reduced_stock_mentions"
   ]
  },
  {
   "cell_type": "code",
   "execution_count": 29,
   "metadata": {},
   "outputs": [
    {
     "data": {
      "application/vnd.microsoft.datawrangler.viewer.v0+json": {
       "columns": [
        {
         "name": "index",
         "rawType": "int64",
         "type": "integer"
        },
        {
         "name": "ticker",
         "rawType": "object",
         "type": "string"
        },
        {
         "name": "original_word",
         "rawType": "object",
         "type": "string"
        },
        {
         "name": "match_score",
         "rawType": "float64",
         "type": "float"
        },
        {
         "name": "text",
         "rawType": "object",
         "type": "string"
        },
        {
         "name": "text_index",
         "rawType": "int64",
         "type": "integer"
        },
        {
         "name": "origin",
         "rawType": "object",
         "type": "string"
        },
        {
         "name": "original_index",
         "rawType": "int64",
         "type": "integer"
        },
        {
         "name": "score",
         "rawType": "int64",
         "type": "integer"
        },
        {
         "name": "tokens",
         "rawType": "int64",
         "type": "integer"
        },
        {
         "name": "system_text",
         "rawType": "object",
         "type": "string"
        }
       ],
       "conversionMethod": "pd.DataFrame",
       "ref": "745375b5-66e5-4021-a6d8-b7b5c43dc2d0",
       "rows": [
        [
         "0",
         "FAST",
         "fast",
         "100.0",
         "$INO rising fast",
         "41",
         "submission_title",
         "41",
         "1",
         "92",
         "You need to act as an expert linguist, trader and researcher, read the reddit comment, and classify wether the comment is bullish or bearish about the ticker: FAST. Your answer should be 1 if the comment is positive about FAST, -1 if it is negative, and 0 if it is neutral. Do not reply to the comment, just classify it."
        ],
        [
         "1",
         "TECH",
         "TECH",
         "100.0",
         "Best TECH ETF?",
         "179",
         "submission_title",
         "179",
         "0",
         "92",
         "You need to act as an expert linguist, trader and researcher, read the reddit comment, and classify wether the comment is bullish or bearish about the ticker: TECH. Your answer should be 1 if the comment is positive about TECH, -1 if it is negative, and 0 if it is neutral. Do not reply to the comment, just classify it."
        ],
        [
         "2",
         "TECH",
         "Tech",
         "100.0",
         "EqualOcean Presents: China Big Tech Crackdown Winners",
         "307",
         "submission_title",
         "307",
         "0",
         "98",
         "You need to act as an expert linguist, trader and researcher, read the reddit comment, and classify wether the comment is bullish or bearish about the ticker: TECH. Your answer should be 1 if the comment is positive about TECH, -1 if it is negative, and 0 if it is neutral. Do not reply to the comment, just classify it."
        ],
        [
         "3",
         "COST",
         "cost",
         "100.0",
         "Delta Airlines wants to increase its unvaccinated employees health insurance by $200 a month to cover the cost",
         "427",
         "submission_title",
         "427",
         "0",
         "109",
         "You need to act as an expert linguist, trader and researcher, read the reddit comment, and classify wether the comment is bullish or bearish about the ticker: COST. Your answer should be 1 if the comment is positive about COST, -1 if it is negative, and 0 if it is neutral. Do not reply to the comment, just classify it."
        ],
        [
         "4",
         "TECH",
         "tech",
         "100.0",
         "Analysis into whether certain Chinese tech stocks have bottomed",
         "449",
         "submission_title",
         "449",
         "0",
         "98",
         "You need to act as an expert linguist, trader and researcher, read the reddit comment, and classify wether the comment is bullish or bearish about the ticker: TECH. Your answer should be 1 if the comment is positive about TECH, -1 if it is negative, and 0 if it is neutral. Do not reply to the comment, just classify it."
        ],
        [
         "5",
         "FAST",
         "fast",
         "100.0",
         "A fast growing active stock server dedicated to making you financially free!",
         "455",
         "submission_title",
         "455",
         "0",
         "101",
         "You need to act as an expert linguist, trader and researcher, read the reddit comment, and classify wether the comment is bullish or bearish about the ticker: FAST. Your answer should be 1 if the comment is positive about FAST, -1 if it is negative, and 0 if it is neutral. Do not reply to the comment, just classify it."
        ],
        [
         "6",
         "GOOGL",
         "Google",
         "90.9090909090909",
         "Google plans to make and use their own CPU’s by 2023",
         "468",
         "submission_title",
         "468",
         "1",
         "109",
         "You need to act as an expert linguist, trader and researcher, read the reddit comment, and classify wether the comment is bullish or bearish about the ticker: GOOGL. Your answer should be 1 if the comment is positive about GOOGL, -1 if it is negative, and 0 if it is neutral. Do not reply to the comment, just classify it."
        ],
        [
         "7",
         "TECH",
         "Tech",
         "100.0",
         "Will the China Tech Stock Rebound continue? Analysis &amp; Research on how to assess landscape.",
         "469",
         "submission_title",
         "469",
         "0",
         "108",
         "You need to act as an expert linguist, trader and researcher, read the reddit comment, and classify wether the comment is bullish or bearish about the ticker: TECH. Your answer should be 1 if the comment is positive about TECH, -1 if it is negative, and 0 if it is neutral. Do not reply to the comment, just classify it."
        ],
        [
         "8",
         "TECH",
         "TECH",
         "100.0",
         "ESS TECH",
         "643",
         "submission_title",
         "643",
         "0",
         "90",
         "You need to act as an expert linguist, trader and researcher, read the reddit comment, and classify wether the comment is bullish or bearish about the ticker: TECH. Your answer should be 1 if the comment is positive about TECH, -1 if it is negative, and 0 if it is neutral. Do not reply to the comment, just classify it."
        ],
        [
         "9",
         "FAST",
         "fast",
         "100.0",
         "$IINN moving fast from 3$ to almost 5$ just today!!",
         "689",
         "submission_title",
         "689",
         "1",
         "105",
         "You need to act as an expert linguist, trader and researcher, read the reddit comment, and classify wether the comment is bullish or bearish about the ticker: FAST. Your answer should be 1 if the comment is positive about FAST, -1 if it is negative, and 0 if it is neutral. Do not reply to the comment, just classify it."
        ],
        [
         "10",
         "UBER",
         "Uber",
         "100.0",
         "Buy AGC Now online Biggest deal in history 40 Billion dollars GRAB IPO same as doordash Uber stock only $15 worth $55 AGC",
         "796",
         "submission_title",
         "796",
         "1",
         "122",
         "You need to act as an expert linguist, trader and researcher, read the reddit comment, and classify wether the comment is bullish or bearish about the ticker: UBER. Your answer should be 1 if the comment is positive about UBER, -1 if it is negative, and 0 if it is neutral. Do not reply to the comment, just classify it."
        ],
        [
         "11",
         "NVDA",
         "NVDA",
         "100.0",
         "NVDA BULL",
         "846",
         "submission_title",
         "846",
         "1",
         "93",
         "You need to act as an expert linguist, trader and researcher, read the reddit comment, and classify wether the comment is bullish or bearish about the ticker: NVDA. Your answer should be 1 if the comment is positive about NVDA, -1 if it is negative, and 0 if it is neutral. Do not reply to the comment, just classify it."
        ],
        [
         "12",
         "DELL",
         "Dell",
         "100.0",
         "Dell Technologies - after-hours earnings report",
         "870",
         "submission_title",
         "870",
         "0",
         "96",
         "You need to act as an expert linguist, trader and researcher, read the reddit comment, and classify wether the comment is bullish or bearish about the ticker: DELL. Your answer should be 1 if the comment is positive about DELL, -1 if it is negative, and 0 if it is neutral. Do not reply to the comment, just classify it."
        ],
        [
         "13",
         "TECH",
         "Tech",
         "100.0",
         "$ESE - New Gaming Tech Acquisition",
         "926",
         "submission_title",
         "926",
         "1",
         "95",
         "You need to act as an expert linguist, trader and researcher, read the reddit comment, and classify wether the comment is bullish or bearish about the ticker: TECH. Your answer should be 1 if the comment is positive about TECH, -1 if it is negative, and 0 if it is neutral. Do not reply to the comment, just classify it."
        ],
        [
         "14",
         "GOOGL",
         "Google",
         "90.9090909090909",
         "Roku, Google Reach YouTube Deal",
         "972",
         "submission_title",
         "972",
         "1",
         "99",
         "You need to act as an expert linguist, trader and researcher, read the reddit comment, and classify wether the comment is bullish or bearish about the ticker: GOOGL. Your answer should be 1 if the comment is positive about GOOGL, -1 if it is negative, and 0 if it is neutral. Do not reply to the comment, just classify it."
        ],
        [
         "15",
         "WELL",
         "well",
         "100.0",
         "Daily end of day, as well as morning market analysis with price points!",
         "1041",
         "submission_title",
         "1041",
         "0",
         "103",
         "You need to act as an expert linguist, trader and researcher, read the reddit comment, and classify wether the comment is bullish or bearish about the ticker: WELL. Your answer should be 1 if the comment is positive about WELL, -1 if it is negative, and 0 if it is neutral. Do not reply to the comment, just classify it."
        ],
        [
         "16",
         "WELL",
         "well",
         "100.0",
         "Looking very very bullish riding well above 50 ema. 3.60 incoming.",
         "1159",
         "submission_title",
         "1159",
         "1",
         "107",
         "You need to act as an expert linguist, trader and researcher, read the reddit comment, and classify wether the comment is bullish or bearish about the ticker: WELL. Your answer should be 1 if the comment is positive about WELL, -1 if it is negative, and 0 if it is neutral. Do not reply to the comment, just classify it."
        ],
        [
         "17",
         "TECH",
         "tech",
         "100.0",
         "Easy squeeze recent IPO $IMMX with great tech and holding up during volatility 4M Share Float",
         "1203",
         "submission_title",
         "1203",
         "1",
         "108",
         "You need to act as an expert linguist, trader and researcher, read the reddit comment, and classify wether the comment is bullish or bearish about the ticker: TECH. Your answer should be 1 if the comment is positive about TECH, -1 if it is negative, and 0 if it is neutral. Do not reply to the comment, just classify it."
        ],
        [
         "18",
         "TECH",
         "tech",
         "100.0",
         "t42 solutions (TRAC.L) is using IoT tech to take the maritime shipping industry by storm",
         "1281",
         "submission_title",
         "1281",
         "1",
         "110",
         "You need to act as an expert linguist, trader and researcher, read the reddit comment, and classify wether the comment is bullish or bearish about the ticker: TECH. Your answer should be 1 if the comment is positive about TECH, -1 if it is negative, and 0 if it is neutral. Do not reply to the comment, just classify it."
        ],
        [
         "19",
         "WELL",
         "Well",
         "100.0",
         "$HELI - Big News out of 1-30 Well",
         "1356",
         "submission_title",
         "1356",
         "1",
         "102",
         "You need to act as an expert linguist, trader and researcher, read the reddit comment, and classify wether the comment is bullish or bearish about the ticker: WELL. Your answer should be 1 if the comment is positive about WELL, -1 if it is negative, and 0 if it is neutral. Do not reply to the comment, just classify it."
        ],
        [
         "20",
         "META",
         "Meta",
         "100.0",
         "$COIN - Meta + Real Estate = $",
         "1392",
         "submission_title",
         "1392",
         "0",
         "97",
         "You need to act as an expert linguist, trader and researcher, read the reddit comment, and classify wether the comment is bullish or bearish about the ticker: META. Your answer should be 1 if the comment is positive about META, -1 if it is negative, and 0 if it is neutral. Do not reply to the comment, just classify it."
        ],
        [
         "21",
         "EBAY",
         "EBay",
         "100.0",
         "EBay Loses Buyers And Sellers",
         "1421",
         "submission_title",
         "1421",
         "-1",
         "98",
         "You need to act as an expert linguist, trader and researcher, read the reddit comment, and classify wether the comment is bullish or bearish about the ticker: EBAY. Your answer should be 1 if the comment is positive about EBAY, -1 if it is negative, and 0 if it is neutral. Do not reply to the comment, just classify it."
        ],
        [
         "22",
         "TECH",
         "Tech",
         "100.0",
         "Got $5,000? 3 Tech Stocks to Buy and Hold For the Long Term",
         "1431",
         "submission_title",
         "1431",
         "1",
         "108",
         "You need to act as an expert linguist, trader and researcher, read the reddit comment, and classify wether the comment is bullish or bearish about the ticker: TECH. Your answer should be 1 if the comment is positive about TECH, -1 if it is negative, and 0 if it is neutral. Do not reply to the comment, just classify it."
        ],
        [
         "23",
         "TECH",
         "Tech",
         "100.0",
         "Tech Stock Crash - Is It Time Now To Buy? Nigel Green deVere CEO",
         "1458",
         "submission_title",
         "1458",
         "0",
         "104",
         "You need to act as an expert linguist, trader and researcher, read the reddit comment, and classify wether the comment is bullish or bearish about the ticker: TECH. Your answer should be 1 if the comment is positive about TECH, -1 if it is negative, and 0 if it is neutral. Do not reply to the comment, just classify it."
        ],
        [
         "24",
         "TECH",
         "Tech",
         "100.0",
         "Cult Food Science: A Gateway to Food Tech Investments",
         "1463",
         "submission_title",
         "1463",
         "1",
         "98",
         "You need to act as an expert linguist, trader and researcher, read the reddit comment, and classify wether the comment is bullish or bearish about the ticker: TECH. Your answer should be 1 if the comment is positive about TECH, -1 if it is negative, and 0 if it is neutral. Do not reply to the comment, just classify it."
        ],
        [
         "25",
         "FAST",
         "Fast",
         "100.0",
         "Fast Growth &amp; a Game-Changing Product for an $80B Baby Nutrition Industry",
         "1488",
         "submission_title",
         "1488",
         "1",
         "107",
         "You need to act as an expert linguist, trader and researcher, read the reddit comment, and classify wether the comment is bullish or bearish about the ticker: FAST. Your answer should be 1 if the comment is positive about FAST, -1 if it is negative, and 0 if it is neutral. Do not reply to the comment, just classify it."
        ],
        [
         "26",
         "WELL",
         "well",
         "100.0",
         "ID and linked bank account required but well worth the effort. 5 free stocks worth up to $9600! Lots of fun!",
         "1553",
         "submission_title",
         "1553",
         "1",
         "117",
         "You need to act as an expert linguist, trader and researcher, read the reddit comment, and classify wether the comment is bullish or bearish about the ticker: WELL. Your answer should be 1 if the comment is positive about WELL, -1 if it is negative, and 0 if it is neutral. Do not reply to the comment, just classify it."
        ],
        [
         "27",
         "FAST",
         "Fast",
         "100.0",
         "$FSRD - Fast Radius. Current Price -$2.26 - uptrend",
         "1558",
         "submission_title",
         "1558",
         "1",
         "106",
         "You need to act as an expert linguist, trader and researcher, read the reddit comment, and classify wether the comment is bullish or bearish about the ticker: FAST. Your answer should be 1 if the comment is positive about FAST, -1 if it is negative, and 0 if it is neutral. Do not reply to the comment, just classify it."
        ],
        [
         "28",
         "GOOGL",
         "Google",
         "90.9090909090909",
         "Which Google Ticker symbol is splitting on July 1st 2022? Thanks",
         "1584",
         "submission_title",
         "1584",
         "0",
         "111",
         "You need to act as an expert linguist, trader and researcher, read the reddit comment, and classify wether the comment is bullish or bearish about the ticker: GOOGL. Your answer should be 1 if the comment is positive about GOOGL, -1 if it is negative, and 0 if it is neutral. Do not reply to the comment, just classify it."
        ],
        [
         "29",
         "POOL",
         "pool",
         "100.0",
         "$BBIG 75% dark pool on Vinco is this real life? My peeps this happened right before AMC and GME went insane! $sprt was in the same boat. Short interest, cost to borrow, days to cover all shooting up before the fake sell walls broke down all similar. About to 🚀🚀🚀Share on every social media you got.",
         "1595",
         "submission_title",
         "1595",
         "1",
         "162",
         "You need to act as an expert linguist, trader and researcher, read the reddit comment, and classify wether the comment is bullish or bearish about the ticker: POOL. Your answer should be 1 if the comment is positive about POOL, -1 if it is negative, and 0 if it is neutral. Do not reply to the comment, just classify it."
        ],
        [
         "30",
         "COST",
         "cost",
         "100.0",
         "$BBIG 75% dark pool on Vinco is this real life? My peeps this happened right before AMC and GME went insane! $sprt was in the same boat. Short interest, cost to borrow, days to cover all shooting up before the fake sell walls broke down all similar. About to 🚀🚀🚀Share on every social media you got.",
         "1595",
         "submission_title",
         "1595",
         "1",
         "162",
         "You need to act as an expert linguist, trader and researcher, read the reddit comment, and classify wether the comment is bullish or bearish about the ticker: COST. Your answer should be 1 if the comment is positive about COST, -1 if it is negative, and 0 if it is neutral. Do not reply to the comment, just classify it."
        ],
        [
         "31",
         "MRNA",
         "mRNA",
         "100.0",
         "Good morning! 🌞 #premarket #watchlist 04/05 $SBFM - Designed mRNA Molecules Effective Against Multidrug Resistant Cancer Cells, $RCON -13G big shares stakes buy, $ATER -no news, $SST - earnings. old news, $ANY - new CEO... Also check afterhours runners and low float stocks in my app!",
         "1599",
         "submission_title",
         "1599",
         "1",
         "167",
         "You need to act as an expert linguist, trader and researcher, read the reddit comment, and classify wether the comment is bullish or bearish about the ticker: MRNA. Your answer should be 1 if the comment is positive about MRNA, -1 if it is negative, and 0 if it is neutral. Do not reply to the comment, just classify it."
        ],
        [
         "32",
         "COST",
         "Cost",
         "100.0",
         "$CLVS Utilization Rate Almost At 99%, Short Exempts Are Rising Heavily And The Cost To Borrow Fee Is Rising As Well…Off Exchange Volume High",
         "1601",
         "submission_title",
         "1601",
         "1",
         "122",
         "You need to act as an expert linguist, trader and researcher, read the reddit comment, and classify wether the comment is bullish or bearish about the ticker: COST. Your answer should be 1 if the comment is positive about COST, -1 if it is negative, and 0 if it is neutral. Do not reply to the comment, just classify it."
        ],
        [
         "33",
         "COST",
         "Cost",
         "100.0",
         "$CLVS Utilization Rate 100%, Short Exempts Are Rising Daily, The Cost To Borrow Fee Is Rising As Well Now At 4.38% Last Friday It Was 1%…",
         "1611",
         "submission_title",
         "1611",
         "1",
         "131",
         "You need to act as an expert linguist, trader and researcher, read the reddit comment, and classify wether the comment is bullish or bearish about the ticker: COST. Your answer should be 1 if the comment is positive about COST, -1 if it is negative, and 0 if it is neutral. Do not reply to the comment, just classify it."
        ],
        [
         "34",
         "WELL",
         "Well",
         "100.0",
         "$CLVS Utilization Rate 100%, Short Exempts Are Rising Daily, The Cost To Borrow Fee Is Rising As Well Now At 4.38% Last Friday It Was 1%…",
         "1611",
         "submission_title",
         "1611",
         "1",
         "131",
         "You need to act as an expert linguist, trader and researcher, read the reddit comment, and classify wether the comment is bullish or bearish about the ticker: WELL. Your answer should be 1 if the comment is positive about WELL, -1 if it is negative, and 0 if it is neutral. Do not reply to the comment, just classify it."
        ],
        [
         "35",
         "META",
         "Meta",
         "100.0",
         "Meta Eyes Monetization Tools",
         "1632",
         "submission_title",
         "1632",
         "1",
         "93",
         "You need to act as an expert linguist, trader and researcher, read the reddit comment, and classify wether the comment is bullish or bearish about the ticker: META. Your answer should be 1 if the comment is positive about META, -1 if it is negative, and 0 if it is neutral. Do not reply to the comment, just classify it."
        ],
        [
         "36",
         "WELL",
         "Well",
         "100.0",
         "Well positioned micro cap company currently generating $1.2million of oil revenue off their first oil well. 2nd well coming into production in the next two weeks. Expect a large price increase when the announcement hits.",
         "1638",
         "submission_title",
         "1638",
         "1",
         "132",
         "You need to act as an expert linguist, trader and researcher, read the reddit comment, and classify wether the comment is bullish or bearish about the ticker: WELL. Your answer should be 1 if the comment is positive about WELL, -1 if it is negative, and 0 if it is neutral. Do not reply to the comment, just classify it."
        ],
        [
         "37",
         "WELL",
         "well",
         "100.0",
         "Well positioned micro cap company currently generating $1.2million of oil revenue off their first oil well. 2nd well coming into production in the next two weeks. Expect a large price increase when the announcement hits.",
         "1638",
         "submission_title",
         "1638",
         "1",
         "132",
         "You need to act as an expert linguist, trader and researcher, read the reddit comment, and classify wether the comment is bullish or bearish about the ticker: WELL. Your answer should be 1 if the comment is positive about WELL, -1 if it is negative, and 0 if it is neutral. Do not reply to the comment, just classify it."
        ],
        [
         "38",
         "COST",
         "Cost",
         "100.0",
         "$CRXT $CRXTW- Yesterdays Volume Was 69% Dark Pool! Short exempts stacking up daily and FTDS. Also 5th Trading Day showing once again zero shares available to short and Cost To Borrow Is In Triple Digits",
         "1670",
         "submission_title",
         "1670",
         "1",
         "141",
         "You need to act as an expert linguist, trader and researcher, read the reddit comment, and classify wether the comment is bullish or bearish about the ticker: COST. Your answer should be 1 if the comment is positive about COST, -1 if it is negative, and 0 if it is neutral. Do not reply to the comment, just classify it."
        ],
        [
         "39",
         "WELL",
         "Well",
         "100.0",
         "💰💰💰Good morning! #premarket #watchlist 06/22 $XELA -Secures XBP Contract Totaling $136 Million, $REV -old news. bankruptsy, $QTNT -Preview of Financials, $USWS -ProFrac Holding Corp. To Acquire U.S. Well Services, Inc, $DTIL -$50 Million Offering of Common Stock",
         "1968",
         "submission_title",
         "1968",
         "-1",
         "174",
         "You need to act as an expert linguist, trader and researcher, read the reddit comment, and classify wether the comment is bullish or bearish about the ticker: WELL. Your answer should be 1 if the comment is positive about WELL, -1 if it is negative, and 0 if it is neutral. Do not reply to the comment, just classify it."
        ],
        [
         "40",
         "TECH",
         "TECH",
         "100.0",
         "$XELA, EXELA TECH SEEING HUGE GAINS DURING PRE MARKET",
         "1969",
         "submission_title",
         "1969",
         "1",
         "103",
         "You need to act as an expert linguist, trader and researcher, read the reddit comment, and classify wether the comment is bullish or bearish about the ticker: TECH. Your answer should be 1 if the comment is positive about TECH, -1 if it is negative, and 0 if it is neutral. Do not reply to the comment, just classify it."
        ],
        [
         "41",
         "GOOGL",
         "Google",
         "90.9090909090909",
         "Pinterest's Big Google Change",
         "2084",
         "submission_title",
         "2084",
         "0",
         "98",
         "You need to act as an expert linguist, trader and researcher, read the reddit comment, and classify wether the comment is bullish or bearish about the ticker: GOOGL. Your answer should be 1 if the comment is positive about GOOGL, -1 if it is negative, and 0 if it is neutral. Do not reply to the comment, just classify it."
        ],
        [
         "42",
         "META",
         "Meta",
         "100.0",
         "Is Meta Platforms Stock A Buy During The Dip? If You Want To Buy The Next Apple, Then Yes",
         "2207",
         "submission_title",
         "2207",
         "1",
         "109",
         "You need to act as an expert linguist, trader and researcher, read the reddit comment, and classify wether the comment is bullish or bearish about the ticker: META. Your answer should be 1 if the comment is positive about META, -1 if it is negative, and 0 if it is neutral. Do not reply to the comment, just classify it."
        ],
        [
         "43",
         "ENPH",
         "ENPH",
         "100.0",
         "Prospero.Ai has bullish sentiment on ENPH",
         "2256",
         "submission_title",
         "2256",
         "1",
         "100",
         "You need to act as an expert linguist, trader and researcher, read the reddit comment, and classify wether the comment is bullish or bearish about the ticker: ENPH. Your answer should be 1 if the comment is positive about ENPH, -1 if it is negative, and 0 if it is neutral. Do not reply to the comment, just classify it."
        ],
        [
         "44",
         "UBER",
         "UBER",
         "100.0",
         "SWVL Dilution Complete Way Oversold. UBER Alternative.",
         "2272",
         "submission_title",
         "2272",
         "-1",
         "103",
         "You need to act as an expert linguist, trader and researcher, read the reddit comment, and classify wether the comment is bullish or bearish about the ticker: UBER. Your answer should be 1 if the comment is positive about UBER, -1 if it is negative, and 0 if it is neutral. Do not reply to the comment, just classify it."
        ],
        [
         "45",
         "TECH",
         "tech",
         "100.0",
         "CyberSec/Confidential Computing Portfolio Overview. HUB.TA +16% is my only bull YTD, trailing behind are ETFs (CIBR/BUG) and other US Plays (PANW, FTNT, CYBR). CyberSec/CC still outperformed QQQ (NASDAQ Benchmark), and most beat SPY. tldr; cybersecurity plays are outperforming tech as a whole, yolo",
         "2282",
         "submission_title",
         "2282",
         "1",
         "167",
         "You need to act as an expert linguist, trader and researcher, read the reddit comment, and classify wether the comment is bullish or bearish about the ticker: TECH. Your answer should be 1 if the comment is positive about TECH, -1 if it is negative, and 0 if it is neutral. Do not reply to the comment, just classify it."
        ],
        [
         "46",
         "TSLA",
         "TSLA",
         "100.0",
         "ARKK projected values of TSLA ROKU ZM in 2026",
         "2308",
         "submission_title",
         "2308",
         "0",
         "107",
         "You need to act as an expert linguist, trader and researcher, read the reddit comment, and classify wether the comment is bullish or bearish about the ticker: TSLA. Your answer should be 1 if the comment is positive about TSLA, -1 if it is negative, and 0 if it is neutral. Do not reply to the comment, just classify it."
        ],
        [
         "47",
         "MRNA",
         "mRNA",
         "100.0",
         "💰💰💰Good morning! #premarket #watchlist 07/19 $STIM -Report Second Quarter 2022 Financial and Operating Results and Host Conference, $APLD -Secures Hosting Capacity To Support All 23.3 EH/s of Bitcoin, $CYTO -SemaPhore Platform Shown Particularly Effective in Intracellular mRNA Delivery for Cancer",
         "2317",
         "submission_title",
         "2317",
         "1",
         "169",
         "You need to act as an expert linguist, trader and researcher, read the reddit comment, and classify wether the comment is bullish or bearish about the ticker: MRNA. Your answer should be 1 if the comment is positive about MRNA, -1 if it is negative, and 0 if it is neutral. Do not reply to the comment, just classify it."
        ],
        [
         "48",
         "NCLH",
         "NCLH",
         "100.0",
         "Cruise Stocks CCL, RCL, NCLH Gain as CDC Ends Covid Program",
         "2325",
         "submission_title",
         "2325",
         "1",
         "108",
         "You need to act as an expert linguist, trader and researcher, read the reddit comment, and classify wether the comment is bullish or bearish about the ticker: NCLH. Your answer should be 1 if the comment is positive about NCLH, -1 if it is negative, and 0 if it is neutral. Do not reply to the comment, just classify it."
        ],
        [
         "49",
         "MSFT",
         "MSFT",
         "100.0",
         "MSFT Q4 Earnings Expectations/Guidance",
         "2388",
         "submission_title",
         "2388",
         "0",
         "98",
         "You need to act as an expert linguist, trader and researcher, read the reddit comment, and classify wether the comment is bullish or bearish about the ticker: MSFT. Your answer should be 1 if the comment is positive about MSFT, -1 if it is negative, and 0 if it is neutral. Do not reply to the comment, just classify it."
        ]
       ],
       "shape": {
        "columns": 10,
        "rows": 100
       }
      },
      "text/html": [
       "<div>\n",
       "<style scoped>\n",
       "    .dataframe tbody tr th:only-of-type {\n",
       "        vertical-align: middle;\n",
       "    }\n",
       "\n",
       "    .dataframe tbody tr th {\n",
       "        vertical-align: top;\n",
       "    }\n",
       "\n",
       "    .dataframe thead th {\n",
       "        text-align: right;\n",
       "    }\n",
       "</style>\n",
       "<table border=\"1\" class=\"dataframe\">\n",
       "  <thead>\n",
       "    <tr style=\"text-align: right;\">\n",
       "      <th></th>\n",
       "      <th>ticker</th>\n",
       "      <th>original_word</th>\n",
       "      <th>match_score</th>\n",
       "      <th>text</th>\n",
       "      <th>text_index</th>\n",
       "      <th>origin</th>\n",
       "      <th>original_index</th>\n",
       "      <th>score</th>\n",
       "      <th>tokens</th>\n",
       "      <th>system_text</th>\n",
       "    </tr>\n",
       "  </thead>\n",
       "  <tbody>\n",
       "    <tr>\n",
       "      <th>0</th>\n",
       "      <td>FAST</td>\n",
       "      <td>fast</td>\n",
       "      <td>100.0</td>\n",
       "      <td>$INO rising fast</td>\n",
       "      <td>41</td>\n",
       "      <td>submission_title</td>\n",
       "      <td>41</td>\n",
       "      <td>1</td>\n",
       "      <td>92</td>\n",
       "      <td>You need to act as an expert linguist, trader ...</td>\n",
       "    </tr>\n",
       "    <tr>\n",
       "      <th>1</th>\n",
       "      <td>TECH</td>\n",
       "      <td>TECH</td>\n",
       "      <td>100.0</td>\n",
       "      <td>Best TECH ETF?</td>\n",
       "      <td>179</td>\n",
       "      <td>submission_title</td>\n",
       "      <td>179</td>\n",
       "      <td>0</td>\n",
       "      <td>92</td>\n",
       "      <td>You need to act as an expert linguist, trader ...</td>\n",
       "    </tr>\n",
       "    <tr>\n",
       "      <th>2</th>\n",
       "      <td>TECH</td>\n",
       "      <td>Tech</td>\n",
       "      <td>100.0</td>\n",
       "      <td>EqualOcean Presents: China Big Tech Crackdown ...</td>\n",
       "      <td>307</td>\n",
       "      <td>submission_title</td>\n",
       "      <td>307</td>\n",
       "      <td>0</td>\n",
       "      <td>98</td>\n",
       "      <td>You need to act as an expert linguist, trader ...</td>\n",
       "    </tr>\n",
       "    <tr>\n",
       "      <th>3</th>\n",
       "      <td>COST</td>\n",
       "      <td>cost</td>\n",
       "      <td>100.0</td>\n",
       "      <td>Delta Airlines wants to increase its unvaccina...</td>\n",
       "      <td>427</td>\n",
       "      <td>submission_title</td>\n",
       "      <td>427</td>\n",
       "      <td>0</td>\n",
       "      <td>109</td>\n",
       "      <td>You need to act as an expert linguist, trader ...</td>\n",
       "    </tr>\n",
       "    <tr>\n",
       "      <th>4</th>\n",
       "      <td>TECH</td>\n",
       "      <td>tech</td>\n",
       "      <td>100.0</td>\n",
       "      <td>Analysis into whether certain Chinese tech sto...</td>\n",
       "      <td>449</td>\n",
       "      <td>submission_title</td>\n",
       "      <td>449</td>\n",
       "      <td>0</td>\n",
       "      <td>98</td>\n",
       "      <td>You need to act as an expert linguist, trader ...</td>\n",
       "    </tr>\n",
       "    <tr>\n",
       "      <th>...</th>\n",
       "      <td>...</td>\n",
       "      <td>...</td>\n",
       "      <td>...</td>\n",
       "      <td>...</td>\n",
       "      <td>...</td>\n",
       "      <td>...</td>\n",
       "      <td>...</td>\n",
       "      <td>...</td>\n",
       "      <td>...</td>\n",
       "      <td>...</td>\n",
       "    </tr>\n",
       "    <tr>\n",
       "      <th>95</th>\n",
       "      <td>META</td>\n",
       "      <td>META</td>\n",
       "      <td>100.0</td>\n",
       "      <td>META Summarized News for the week [Feb 19]</td>\n",
       "      <td>5745</td>\n",
       "      <td>submission_title</td>\n",
       "      <td>5745</td>\n",
       "      <td>0</td>\n",
       "      <td>101</td>\n",
       "      <td>You need to act as an expert linguist, trader ...</td>\n",
       "    </tr>\n",
       "    <tr>\n",
       "      <th>96</th>\n",
       "      <td>META</td>\n",
       "      <td>Meta</td>\n",
       "      <td>100.0</td>\n",
       "      <td>The Meta triangle wedge is finishing up</td>\n",
       "      <td>5923</td>\n",
       "      <td>submission_title</td>\n",
       "      <td>5923</td>\n",
       "      <td>0</td>\n",
       "      <td>95</td>\n",
       "      <td>You need to act as an expert linguist, trader ...</td>\n",
       "    </tr>\n",
       "    <tr>\n",
       "      <th>97</th>\n",
       "      <td>AXON</td>\n",
       "      <td>AXON</td>\n",
       "      <td>100.0</td>\n",
       "      <td>AXON</td>\n",
       "      <td>5957</td>\n",
       "      <td>submission_title</td>\n",
       "      <td>5957</td>\n",
       "      <td>0</td>\n",
       "      <td>106</td>\n",
       "      <td>You need to act as an expert linguist, trader ...</td>\n",
       "    </tr>\n",
       "    <tr>\n",
       "      <th>98</th>\n",
       "      <td>COST</td>\n",
       "      <td>Cost</td>\n",
       "      <td>100.0</td>\n",
       "      <td>Cost of Capital: Charlie Munger's Sarcastic Ta...</td>\n",
       "      <td>6155</td>\n",
       "      <td>submission_title</td>\n",
       "      <td>6155</td>\n",
       "      <td>0</td>\n",
       "      <td>105</td>\n",
       "      <td>You need to act as an expert linguist, trader ...</td>\n",
       "    </tr>\n",
       "    <tr>\n",
       "      <th>99</th>\n",
       "      <td>COST</td>\n",
       "      <td>Cost</td>\n",
       "      <td>100.0</td>\n",
       "      <td>FedEx's $4B Cost Cutting, BlackRock Hired by U...</td>\n",
       "      <td>6614</td>\n",
       "      <td>submission_title</td>\n",
       "      <td>6614</td>\n",
       "      <td>0</td>\n",
       "      <td>129</td>\n",
       "      <td>You need to act as an expert linguist, trader ...</td>\n",
       "    </tr>\n",
       "  </tbody>\n",
       "</table>\n",
       "<p>100 rows × 10 columns</p>\n",
       "</div>"
      ],
      "text/plain": [
       "   ticker original_word  match_score  \\\n",
       "0    FAST          fast        100.0   \n",
       "1    TECH          TECH        100.0   \n",
       "2    TECH          Tech        100.0   \n",
       "3    COST          cost        100.0   \n",
       "4    TECH          tech        100.0   \n",
       "..    ...           ...          ...   \n",
       "95   META          META        100.0   \n",
       "96   META          Meta        100.0   \n",
       "97   AXON          AXON        100.0   \n",
       "98   COST          Cost        100.0   \n",
       "99   COST          Cost        100.0   \n",
       "\n",
       "                                                 text  text_index  \\\n",
       "0                                    $INO rising fast          41   \n",
       "1                                      Best TECH ETF?         179   \n",
       "2   EqualOcean Presents: China Big Tech Crackdown ...         307   \n",
       "3   Delta Airlines wants to increase its unvaccina...         427   \n",
       "4   Analysis into whether certain Chinese tech sto...         449   \n",
       "..                                                ...         ...   \n",
       "95         META Summarized News for the week [Feb 19]        5745   \n",
       "96            The Meta triangle wedge is finishing up        5923   \n",
       "97                                               AXON        5957   \n",
       "98  Cost of Capital: Charlie Munger's Sarcastic Ta...        6155   \n",
       "99  FedEx's $4B Cost Cutting, BlackRock Hired by U...        6614   \n",
       "\n",
       "              origin  original_index  score  tokens  \\\n",
       "0   submission_title              41      1      92   \n",
       "1   submission_title             179      0      92   \n",
       "2   submission_title             307      0      98   \n",
       "3   submission_title             427      0     109   \n",
       "4   submission_title             449      0      98   \n",
       "..               ...             ...    ...     ...   \n",
       "95  submission_title            5745      0     101   \n",
       "96  submission_title            5923      0      95   \n",
       "97  submission_title            5957      0     106   \n",
       "98  submission_title            6155      0     105   \n",
       "99  submission_title            6614      0     129   \n",
       "\n",
       "                                          system_text  \n",
       "0   You need to act as an expert linguist, trader ...  \n",
       "1   You need to act as an expert linguist, trader ...  \n",
       "2   You need to act as an expert linguist, trader ...  \n",
       "3   You need to act as an expert linguist, trader ...  \n",
       "4   You need to act as an expert linguist, trader ...  \n",
       "..                                                ...  \n",
       "95  You need to act as an expert linguist, trader ...  \n",
       "96  You need to act as an expert linguist, trader ...  \n",
       "97  You need to act as an expert linguist, trader ...  \n",
       "98  You need to act as an expert linguist, trader ...  \n",
       "99  You need to act as an expert linguist, trader ...  \n",
       "\n",
       "[100 rows x 10 columns]"
      ]
     },
     "execution_count": 29,
     "metadata": {},
     "output_type": "execute_result"
    }
   ],
   "source": [
    "from nlp_utils import system_text\n",
    "\n",
    "def system_row(row):\n",
    "    prompt = system_text(row['ticker'])\n",
    "    return prompt\n",
    "\n",
    "reduced_stock_mentions['system_text'] = reduced_stock_mentions.apply(system_row, axis=1)\n",
    "reduced_stock_mentions"
   ]
  },
  {
   "cell_type": "code",
   "execution_count": 37,
   "metadata": {},
   "outputs": [],
   "source": [
    "json_data = [{\"messages\": [{\"role\": \"system\", \"content\": row[\"system_text\"]}, {\"role\": \"user\", \"content\": row[\"text\"]},{\"role\": \"assistant\", \"content\": row[\"score\"]}]} for _, row in reduced_stock_mentions.iterrows()]"
   ]
  },
  {
   "cell_type": "code",
   "execution_count": 38,
   "metadata": {},
   "outputs": [
    {
     "data": {
      "application/vnd.microsoft.datawrangler.viewer.v0+json": {
       "columns": [
        {
         "name": "index",
         "rawType": "int64",
         "type": "integer"
        },
        {
         "name": "messages",
         "rawType": "object",
         "type": "unknown"
        }
       ],
       "conversionMethod": "pd.DataFrame",
       "ref": "d19e102d-b3d3-45ef-b6ea-a4e3e618ed82",
       "rows": [
        [
         "0",
         "[{'role': 'system', 'content': 'You need to act as an expert linguist, trader and researcher, read the reddit comment, and classify wether the comment is bullish or bearish about the ticker: FAST. Your answer should be 1 if the comment is positive about FAST, -1 if it is negative, and 0 if it is neutral. Do not reply to the comment, just classify it.'}, {'role': 'user', 'content': '$INO rising fast'}, {'role': 'assistant', 'content': 1}]"
        ],
        [
         "1",
         "[{'role': 'system', 'content': 'You need to act as an expert linguist, trader and researcher, read the reddit comment, and classify wether the comment is bullish or bearish about the ticker: TECH. Your answer should be 1 if the comment is positive about TECH, -1 if it is negative, and 0 if it is neutral. Do not reply to the comment, just classify it.'}, {'role': 'user', 'content': 'Best TECH ETF?'}, {'role': 'assistant', 'content': 0}]"
        ],
        [
         "2",
         "[{'role': 'system', 'content': 'You need to act as an expert linguist, trader and researcher, read the reddit comment, and classify wether the comment is bullish or bearish about the ticker: TECH. Your answer should be 1 if the comment is positive about TECH, -1 if it is negative, and 0 if it is neutral. Do not reply to the comment, just classify it.'}, {'role': 'user', 'content': 'EqualOcean Presents: China Big Tech Crackdown Winners'}, {'role': 'assistant', 'content': 0}]"
        ],
        [
         "3",
         "[{'role': 'system', 'content': 'You need to act as an expert linguist, trader and researcher, read the reddit comment, and classify wether the comment is bullish or bearish about the ticker: COST. Your answer should be 1 if the comment is positive about COST, -1 if it is negative, and 0 if it is neutral. Do not reply to the comment, just classify it.'}, {'role': 'user', 'content': 'Delta Airlines wants to increase its unvaccinated employees health insurance by $200 a month to cover the cost'}, {'role': 'assistant', 'content': 0}]"
        ],
        [
         "4",
         "[{'role': 'system', 'content': 'You need to act as an expert linguist, trader and researcher, read the reddit comment, and classify wether the comment is bullish or bearish about the ticker: TECH. Your answer should be 1 if the comment is positive about TECH, -1 if it is negative, and 0 if it is neutral. Do not reply to the comment, just classify it.'}, {'role': 'user', 'content': 'Analysis into whether certain Chinese tech stocks have bottomed'}, {'role': 'assistant', 'content': 0}]"
        ],
        [
         "5",
         "[{'role': 'system', 'content': 'You need to act as an expert linguist, trader and researcher, read the reddit comment, and classify wether the comment is bullish or bearish about the ticker: FAST. Your answer should be 1 if the comment is positive about FAST, -1 if it is negative, and 0 if it is neutral. Do not reply to the comment, just classify it.'}, {'role': 'user', 'content': 'A fast growing active stock server dedicated to making you financially free!'}, {'role': 'assistant', 'content': 0}]"
        ],
        [
         "6",
         "[{'role': 'system', 'content': 'You need to act as an expert linguist, trader and researcher, read the reddit comment, and classify wether the comment is bullish or bearish about the ticker: GOOGL. Your answer should be 1 if the comment is positive about GOOGL, -1 if it is negative, and 0 if it is neutral. Do not reply to the comment, just classify it.'}, {'role': 'user', 'content': 'Google plans to make and use their own CPU’s by 2023'}, {'role': 'assistant', 'content': 1}]"
        ],
        [
         "7",
         "[{'role': 'system', 'content': 'You need to act as an expert linguist, trader and researcher, read the reddit comment, and classify wether the comment is bullish or bearish about the ticker: TECH. Your answer should be 1 if the comment is positive about TECH, -1 if it is negative, and 0 if it is neutral. Do not reply to the comment, just classify it.'}, {'role': 'user', 'content': 'Will the China Tech Stock Rebound continue? Analysis &amp; Research on how to assess landscape.'}, {'role': 'assistant', 'content': 0}]"
        ],
        [
         "8",
         "[{'role': 'system', 'content': 'You need to act as an expert linguist, trader and researcher, read the reddit comment, and classify wether the comment is bullish or bearish about the ticker: TECH. Your answer should be 1 if the comment is positive about TECH, -1 if it is negative, and 0 if it is neutral. Do not reply to the comment, just classify it.'}, {'role': 'user', 'content': 'ESS TECH'}, {'role': 'assistant', 'content': 0}]"
        ],
        [
         "9",
         "[{'role': 'system', 'content': 'You need to act as an expert linguist, trader and researcher, read the reddit comment, and classify wether the comment is bullish or bearish about the ticker: FAST. Your answer should be 1 if the comment is positive about FAST, -1 if it is negative, and 0 if it is neutral. Do not reply to the comment, just classify it.'}, {'role': 'user', 'content': '$IINN moving fast from 3$ to almost 5$ just today!!'}, {'role': 'assistant', 'content': 1}]"
        ],
        [
         "10",
         "[{'role': 'system', 'content': 'You need to act as an expert linguist, trader and researcher, read the reddit comment, and classify wether the comment is bullish or bearish about the ticker: UBER. Your answer should be 1 if the comment is positive about UBER, -1 if it is negative, and 0 if it is neutral. Do not reply to the comment, just classify it.'}, {'role': 'user', 'content': 'Buy AGC Now online Biggest deal in history 40 Billion dollars GRAB IPO same as doordash Uber stock only $15 worth $55 AGC'}, {'role': 'assistant', 'content': 1}]"
        ],
        [
         "11",
         "[{'role': 'system', 'content': 'You need to act as an expert linguist, trader and researcher, read the reddit comment, and classify wether the comment is bullish or bearish about the ticker: NVDA. Your answer should be 1 if the comment is positive about NVDA, -1 if it is negative, and 0 if it is neutral. Do not reply to the comment, just classify it.'}, {'role': 'user', 'content': 'NVDA BULL'}, {'role': 'assistant', 'content': 1}]"
        ],
        [
         "12",
         "[{'role': 'system', 'content': 'You need to act as an expert linguist, trader and researcher, read the reddit comment, and classify wether the comment is bullish or bearish about the ticker: DELL. Your answer should be 1 if the comment is positive about DELL, -1 if it is negative, and 0 if it is neutral. Do not reply to the comment, just classify it.'}, {'role': 'user', 'content': 'Dell Technologies - after-hours earnings report'}, {'role': 'assistant', 'content': 0}]"
        ],
        [
         "13",
         "[{'role': 'system', 'content': 'You need to act as an expert linguist, trader and researcher, read the reddit comment, and classify wether the comment is bullish or bearish about the ticker: TECH. Your answer should be 1 if the comment is positive about TECH, -1 if it is negative, and 0 if it is neutral. Do not reply to the comment, just classify it.'}, {'role': 'user', 'content': '$ESE - New Gaming Tech Acquisition'}, {'role': 'assistant', 'content': 1}]"
        ],
        [
         "14",
         "[{'role': 'system', 'content': 'You need to act as an expert linguist, trader and researcher, read the reddit comment, and classify wether the comment is bullish or bearish about the ticker: GOOGL. Your answer should be 1 if the comment is positive about GOOGL, -1 if it is negative, and 0 if it is neutral. Do not reply to the comment, just classify it.'}, {'role': 'user', 'content': 'Roku, Google Reach YouTube Deal'}, {'role': 'assistant', 'content': 1}]"
        ],
        [
         "15",
         "[{'role': 'system', 'content': 'You need to act as an expert linguist, trader and researcher, read the reddit comment, and classify wether the comment is bullish or bearish about the ticker: WELL. Your answer should be 1 if the comment is positive about WELL, -1 if it is negative, and 0 if it is neutral. Do not reply to the comment, just classify it.'}, {'role': 'user', 'content': 'Daily end of day, as well as morning market analysis with price points!'}, {'role': 'assistant', 'content': 0}]"
        ],
        [
         "16",
         "[{'role': 'system', 'content': 'You need to act as an expert linguist, trader and researcher, read the reddit comment, and classify wether the comment is bullish or bearish about the ticker: WELL. Your answer should be 1 if the comment is positive about WELL, -1 if it is negative, and 0 if it is neutral. Do not reply to the comment, just classify it.'}, {'role': 'user', 'content': 'Looking very very bullish riding well above 50 ema. 3.60 incoming.'}, {'role': 'assistant', 'content': 1}]"
        ],
        [
         "17",
         "[{'role': 'system', 'content': 'You need to act as an expert linguist, trader and researcher, read the reddit comment, and classify wether the comment is bullish or bearish about the ticker: TECH. Your answer should be 1 if the comment is positive about TECH, -1 if it is negative, and 0 if it is neutral. Do not reply to the comment, just classify it.'}, {'role': 'user', 'content': 'Easy squeeze recent IPO $IMMX with great tech and holding up during volatility 4M Share Float'}, {'role': 'assistant', 'content': 1}]"
        ],
        [
         "18",
         "[{'role': 'system', 'content': 'You need to act as an expert linguist, trader and researcher, read the reddit comment, and classify wether the comment is bullish or bearish about the ticker: TECH. Your answer should be 1 if the comment is positive about TECH, -1 if it is negative, and 0 if it is neutral. Do not reply to the comment, just classify it.'}, {'role': 'user', 'content': 't42 solutions (TRAC.L) is using IoT tech to take the maritime shipping industry by storm'}, {'role': 'assistant', 'content': 1}]"
        ],
        [
         "19",
         "[{'role': 'system', 'content': 'You need to act as an expert linguist, trader and researcher, read the reddit comment, and classify wether the comment is bullish or bearish about the ticker: WELL. Your answer should be 1 if the comment is positive about WELL, -1 if it is negative, and 0 if it is neutral. Do not reply to the comment, just classify it.'}, {'role': 'user', 'content': '$HELI - Big News out of 1-30 Well'}, {'role': 'assistant', 'content': 1}]"
        ],
        [
         "20",
         "[{'role': 'system', 'content': 'You need to act as an expert linguist, trader and researcher, read the reddit comment, and classify wether the comment is bullish or bearish about the ticker: META. Your answer should be 1 if the comment is positive about META, -1 if it is negative, and 0 if it is neutral. Do not reply to the comment, just classify it.'}, {'role': 'user', 'content': '$COIN - Meta + Real Estate = $'}, {'role': 'assistant', 'content': 0}]"
        ],
        [
         "21",
         "[{'role': 'system', 'content': 'You need to act as an expert linguist, trader and researcher, read the reddit comment, and classify wether the comment is bullish or bearish about the ticker: EBAY. Your answer should be 1 if the comment is positive about EBAY, -1 if it is negative, and 0 if it is neutral. Do not reply to the comment, just classify it.'}, {'role': 'user', 'content': 'EBay Loses Buyers And Sellers'}, {'role': 'assistant', 'content': -1}]"
        ],
        [
         "22",
         "[{'role': 'system', 'content': 'You need to act as an expert linguist, trader and researcher, read the reddit comment, and classify wether the comment is bullish or bearish about the ticker: TECH. Your answer should be 1 if the comment is positive about TECH, -1 if it is negative, and 0 if it is neutral. Do not reply to the comment, just classify it.'}, {'role': 'user', 'content': 'Got $5,000? 3 Tech Stocks to Buy and Hold For the Long Term'}, {'role': 'assistant', 'content': 1}]"
        ],
        [
         "23",
         "[{'role': 'system', 'content': 'You need to act as an expert linguist, trader and researcher, read the reddit comment, and classify wether the comment is bullish or bearish about the ticker: TECH. Your answer should be 1 if the comment is positive about TECH, -1 if it is negative, and 0 if it is neutral. Do not reply to the comment, just classify it.'}, {'role': 'user', 'content': 'Tech Stock Crash - Is It Time Now To Buy? Nigel Green deVere CEO'}, {'role': 'assistant', 'content': 0}]"
        ],
        [
         "24",
         "[{'role': 'system', 'content': 'You need to act as an expert linguist, trader and researcher, read the reddit comment, and classify wether the comment is bullish or bearish about the ticker: TECH. Your answer should be 1 if the comment is positive about TECH, -1 if it is negative, and 0 if it is neutral. Do not reply to the comment, just classify it.'}, {'role': 'user', 'content': 'Cult Food Science: A Gateway to Food Tech Investments'}, {'role': 'assistant', 'content': 1}]"
        ],
        [
         "25",
         "[{'role': 'system', 'content': 'You need to act as an expert linguist, trader and researcher, read the reddit comment, and classify wether the comment is bullish or bearish about the ticker: FAST. Your answer should be 1 if the comment is positive about FAST, -1 if it is negative, and 0 if it is neutral. Do not reply to the comment, just classify it.'}, {'role': 'user', 'content': 'Fast Growth &amp; a Game-Changing Product for an $80B Baby Nutrition Industry'}, {'role': 'assistant', 'content': 1}]"
        ],
        [
         "26",
         "[{'role': 'system', 'content': 'You need to act as an expert linguist, trader and researcher, read the reddit comment, and classify wether the comment is bullish or bearish about the ticker: WELL. Your answer should be 1 if the comment is positive about WELL, -1 if it is negative, and 0 if it is neutral. Do not reply to the comment, just classify it.'}, {'role': 'user', 'content': 'ID and linked bank account required but well worth the effort. 5 free stocks worth up to $9600! Lots of fun!'}, {'role': 'assistant', 'content': 1}]"
        ],
        [
         "27",
         "[{'role': 'system', 'content': 'You need to act as an expert linguist, trader and researcher, read the reddit comment, and classify wether the comment is bullish or bearish about the ticker: FAST. Your answer should be 1 if the comment is positive about FAST, -1 if it is negative, and 0 if it is neutral. Do not reply to the comment, just classify it.'}, {'role': 'user', 'content': '$FSRD - Fast Radius. Current Price -$2.26 - uptrend'}, {'role': 'assistant', 'content': 1}]"
        ],
        [
         "28",
         "[{'role': 'system', 'content': 'You need to act as an expert linguist, trader and researcher, read the reddit comment, and classify wether the comment is bullish or bearish about the ticker: GOOGL. Your answer should be 1 if the comment is positive about GOOGL, -1 if it is negative, and 0 if it is neutral. Do not reply to the comment, just classify it.'}, {'role': 'user', 'content': 'Which Google Ticker symbol is splitting on July 1st 2022? Thanks'}, {'role': 'assistant', 'content': 0}]"
        ],
        [
         "29",
         "[{'role': 'system', 'content': 'You need to act as an expert linguist, trader and researcher, read the reddit comment, and classify wether the comment is bullish or bearish about the ticker: POOL. Your answer should be 1 if the comment is positive about POOL, -1 if it is negative, and 0 if it is neutral. Do not reply to the comment, just classify it.'}, {'role': 'user', 'content': '$BBIG 75% dark pool on Vinco is this real life? My peeps this happened right before AMC and GME went insane! $sprt was in the same boat. Short interest, cost to borrow, days to cover all shooting up before the fake sell walls broke down all similar. About to 🚀🚀🚀Share on every social media you got.'}, {'role': 'assistant', 'content': 1}]"
        ],
        [
         "30",
         "[{'role': 'system', 'content': 'You need to act as an expert linguist, trader and researcher, read the reddit comment, and classify wether the comment is bullish or bearish about the ticker: COST. Your answer should be 1 if the comment is positive about COST, -1 if it is negative, and 0 if it is neutral. Do not reply to the comment, just classify it.'}, {'role': 'user', 'content': '$BBIG 75% dark pool on Vinco is this real life? My peeps this happened right before AMC and GME went insane! $sprt was in the same boat. Short interest, cost to borrow, days to cover all shooting up before the fake sell walls broke down all similar. About to 🚀🚀🚀Share on every social media you got.'}, {'role': 'assistant', 'content': 1}]"
        ],
        [
         "31",
         "[{'role': 'system', 'content': 'You need to act as an expert linguist, trader and researcher, read the reddit comment, and classify wether the comment is bullish or bearish about the ticker: MRNA. Your answer should be 1 if the comment is positive about MRNA, -1 if it is negative, and 0 if it is neutral. Do not reply to the comment, just classify it.'}, {'role': 'user', 'content': 'Good morning! 🌞 #premarket #watchlist 04/05 $SBFM - Designed mRNA Molecules Effective Against Multidrug Resistant Cancer Cells, $RCON -13G big shares stakes buy, $ATER -no news, $SST - earnings. old news, $ANY - new CEO... Also check afterhours runners and low float stocks in my app!'}, {'role': 'assistant', 'content': 1}]"
        ],
        [
         "32",
         "[{'role': 'system', 'content': 'You need to act as an expert linguist, trader and researcher, read the reddit comment, and classify wether the comment is bullish or bearish about the ticker: COST. Your answer should be 1 if the comment is positive about COST, -1 if it is negative, and 0 if it is neutral. Do not reply to the comment, just classify it.'}, {'role': 'user', 'content': '$CLVS Utilization Rate Almost At 99%, Short Exempts Are Rising Heavily And The Cost To Borrow Fee Is Rising As Well…Off Exchange Volume High'}, {'role': 'assistant', 'content': 1}]"
        ],
        [
         "33",
         "[{'role': 'system', 'content': 'You need to act as an expert linguist, trader and researcher, read the reddit comment, and classify wether the comment is bullish or bearish about the ticker: COST. Your answer should be 1 if the comment is positive about COST, -1 if it is negative, and 0 if it is neutral. Do not reply to the comment, just classify it.'}, {'role': 'user', 'content': '$CLVS Utilization Rate 100%, Short Exempts Are Rising Daily, The Cost To Borrow Fee Is Rising As Well Now At 4.38% Last Friday It Was 1%…'}, {'role': 'assistant', 'content': 1}]"
        ],
        [
         "34",
         "[{'role': 'system', 'content': 'You need to act as an expert linguist, trader and researcher, read the reddit comment, and classify wether the comment is bullish or bearish about the ticker: WELL. Your answer should be 1 if the comment is positive about WELL, -1 if it is negative, and 0 if it is neutral. Do not reply to the comment, just classify it.'}, {'role': 'user', 'content': '$CLVS Utilization Rate 100%, Short Exempts Are Rising Daily, The Cost To Borrow Fee Is Rising As Well Now At 4.38% Last Friday It Was 1%…'}, {'role': 'assistant', 'content': 1}]"
        ],
        [
         "35",
         "[{'role': 'system', 'content': 'You need to act as an expert linguist, trader and researcher, read the reddit comment, and classify wether the comment is bullish or bearish about the ticker: META. Your answer should be 1 if the comment is positive about META, -1 if it is negative, and 0 if it is neutral. Do not reply to the comment, just classify it.'}, {'role': 'user', 'content': 'Meta Eyes Monetization Tools'}, {'role': 'assistant', 'content': 1}]"
        ],
        [
         "36",
         "[{'role': 'system', 'content': 'You need to act as an expert linguist, trader and researcher, read the reddit comment, and classify wether the comment is bullish or bearish about the ticker: WELL. Your answer should be 1 if the comment is positive about WELL, -1 if it is negative, and 0 if it is neutral. Do not reply to the comment, just classify it.'}, {'role': 'user', 'content': 'Well positioned micro cap company currently generating $1.2million of oil revenue off their first oil well. 2nd well coming into production in the next two weeks. Expect a large price increase when the announcement hits.'}, {'role': 'assistant', 'content': 1}]"
        ],
        [
         "37",
         "[{'role': 'system', 'content': 'You need to act as an expert linguist, trader and researcher, read the reddit comment, and classify wether the comment is bullish or bearish about the ticker: WELL. Your answer should be 1 if the comment is positive about WELL, -1 if it is negative, and 0 if it is neutral. Do not reply to the comment, just classify it.'}, {'role': 'user', 'content': 'Well positioned micro cap company currently generating $1.2million of oil revenue off their first oil well. 2nd well coming into production in the next two weeks. Expect a large price increase when the announcement hits.'}, {'role': 'assistant', 'content': 1}]"
        ],
        [
         "38",
         "[{'role': 'system', 'content': 'You need to act as an expert linguist, trader and researcher, read the reddit comment, and classify wether the comment is bullish or bearish about the ticker: COST. Your answer should be 1 if the comment is positive about COST, -1 if it is negative, and 0 if it is neutral. Do not reply to the comment, just classify it.'}, {'role': 'user', 'content': '$CRXT $CRXTW- Yesterdays Volume Was 69% Dark Pool! Short exempts stacking up daily and FTDS. Also 5th Trading Day showing once again zero shares available to short and Cost To Borrow Is In Triple Digits'}, {'role': 'assistant', 'content': 1}]"
        ],
        [
         "39",
         "[{'role': 'system', 'content': 'You need to act as an expert linguist, trader and researcher, read the reddit comment, and classify wether the comment is bullish or bearish about the ticker: WELL. Your answer should be 1 if the comment is positive about WELL, -1 if it is negative, and 0 if it is neutral. Do not reply to the comment, just classify it.'}, {'role': 'user', 'content': '💰💰💰Good morning! #premarket #watchlist 06/22 $XELA -Secures XBP Contract Totaling $136 Million, $REV -old news. bankruptsy, $QTNT -Preview of Financials, $USWS -ProFrac Holding Corp. To Acquire U.S. Well Services, Inc, $DTIL -$50 Million Offering of Common Stock'}, {'role': 'assistant', 'content': -1}]"
        ],
        [
         "40",
         "[{'role': 'system', 'content': 'You need to act as an expert linguist, trader and researcher, read the reddit comment, and classify wether the comment is bullish or bearish about the ticker: TECH. Your answer should be 1 if the comment is positive about TECH, -1 if it is negative, and 0 if it is neutral. Do not reply to the comment, just classify it.'}, {'role': 'user', 'content': '$XELA, EXELA TECH SEEING HUGE GAINS DURING PRE MARKET'}, {'role': 'assistant', 'content': 1}]"
        ],
        [
         "41",
         "[{'role': 'system', 'content': 'You need to act as an expert linguist, trader and researcher, read the reddit comment, and classify wether the comment is bullish or bearish about the ticker: GOOGL. Your answer should be 1 if the comment is positive about GOOGL, -1 if it is negative, and 0 if it is neutral. Do not reply to the comment, just classify it.'}, {'role': 'user', 'content': \"Pinterest's Big Google Change\"}, {'role': 'assistant', 'content': 0}]"
        ],
        [
         "42",
         "[{'role': 'system', 'content': 'You need to act as an expert linguist, trader and researcher, read the reddit comment, and classify wether the comment is bullish or bearish about the ticker: META. Your answer should be 1 if the comment is positive about META, -1 if it is negative, and 0 if it is neutral. Do not reply to the comment, just classify it.'}, {'role': 'user', 'content': 'Is Meta Platforms Stock A Buy During The Dip? If You Want To Buy The Next Apple, Then Yes'}, {'role': 'assistant', 'content': 1}]"
        ],
        [
         "43",
         "[{'role': 'system', 'content': 'You need to act as an expert linguist, trader and researcher, read the reddit comment, and classify wether the comment is bullish or bearish about the ticker: ENPH. Your answer should be 1 if the comment is positive about ENPH, -1 if it is negative, and 0 if it is neutral. Do not reply to the comment, just classify it.'}, {'role': 'user', 'content': 'Prospero.Ai has bullish sentiment on ENPH'}, {'role': 'assistant', 'content': 1}]"
        ],
        [
         "44",
         "[{'role': 'system', 'content': 'You need to act as an expert linguist, trader and researcher, read the reddit comment, and classify wether the comment is bullish or bearish about the ticker: UBER. Your answer should be 1 if the comment is positive about UBER, -1 if it is negative, and 0 if it is neutral. Do not reply to the comment, just classify it.'}, {'role': 'user', 'content': 'SWVL Dilution Complete Way Oversold. UBER Alternative.'}, {'role': 'assistant', 'content': -1}]"
        ],
        [
         "45",
         "[{'role': 'system', 'content': 'You need to act as an expert linguist, trader and researcher, read the reddit comment, and classify wether the comment is bullish or bearish about the ticker: TECH. Your answer should be 1 if the comment is positive about TECH, -1 if it is negative, and 0 if it is neutral. Do not reply to the comment, just classify it.'}, {'role': 'user', 'content': 'CyberSec/Confidential Computing Portfolio Overview. HUB.TA +16% is my only bull YTD, trailing behind are ETFs (CIBR/BUG) and other US Plays (PANW, FTNT, CYBR). CyberSec/CC still outperformed QQQ (NASDAQ Benchmark), and most beat SPY. tldr; cybersecurity plays are outperforming tech as a whole, yolo'}, {'role': 'assistant', 'content': 1}]"
        ],
        [
         "46",
         "[{'role': 'system', 'content': 'You need to act as an expert linguist, trader and researcher, read the reddit comment, and classify wether the comment is bullish or bearish about the ticker: TSLA. Your answer should be 1 if the comment is positive about TSLA, -1 if it is negative, and 0 if it is neutral. Do not reply to the comment, just classify it.'}, {'role': 'user', 'content': 'ARKK projected values of TSLA ROKU ZM in 2026'}, {'role': 'assistant', 'content': 0}]"
        ],
        [
         "47",
         "[{'role': 'system', 'content': 'You need to act as an expert linguist, trader and researcher, read the reddit comment, and classify wether the comment is bullish or bearish about the ticker: MRNA. Your answer should be 1 if the comment is positive about MRNA, -1 if it is negative, and 0 if it is neutral. Do not reply to the comment, just classify it.'}, {'role': 'user', 'content': '💰💰💰Good morning! #premarket #watchlist 07/19 $STIM -Report Second Quarter 2022 Financial and Operating Results and Host Conference, $APLD -Secures Hosting Capacity To Support All 23.3 EH/s of Bitcoin, $CYTO -SemaPhore Platform Shown Particularly Effective in Intracellular mRNA Delivery for Cancer'}, {'role': 'assistant', 'content': 1}]"
        ],
        [
         "48",
         "[{'role': 'system', 'content': 'You need to act as an expert linguist, trader and researcher, read the reddit comment, and classify wether the comment is bullish or bearish about the ticker: NCLH. Your answer should be 1 if the comment is positive about NCLH, -1 if it is negative, and 0 if it is neutral. Do not reply to the comment, just classify it.'}, {'role': 'user', 'content': 'Cruise Stocks CCL, RCL, NCLH Gain as CDC Ends Covid Program'}, {'role': 'assistant', 'content': 1}]"
        ],
        [
         "49",
         "[{'role': 'system', 'content': 'You need to act as an expert linguist, trader and researcher, read the reddit comment, and classify wether the comment is bullish or bearish about the ticker: MSFT. Your answer should be 1 if the comment is positive about MSFT, -1 if it is negative, and 0 if it is neutral. Do not reply to the comment, just classify it.'}, {'role': 'user', 'content': 'MSFT Q4 Earnings Expectations/Guidance'}, {'role': 'assistant', 'content': 0}]"
        ]
       ],
       "shape": {
        "columns": 1,
        "rows": 100
       }
      },
      "text/html": [
       "<div>\n",
       "<style scoped>\n",
       "    .dataframe tbody tr th:only-of-type {\n",
       "        vertical-align: middle;\n",
       "    }\n",
       "\n",
       "    .dataframe tbody tr th {\n",
       "        vertical-align: top;\n",
       "    }\n",
       "\n",
       "    .dataframe thead th {\n",
       "        text-align: right;\n",
       "    }\n",
       "</style>\n",
       "<table border=\"1\" class=\"dataframe\">\n",
       "  <thead>\n",
       "    <tr style=\"text-align: right;\">\n",
       "      <th></th>\n",
       "      <th>messages</th>\n",
       "    </tr>\n",
       "  </thead>\n",
       "  <tbody>\n",
       "    <tr>\n",
       "      <th>0</th>\n",
       "      <td>[{'role': 'system', 'content': 'You need to ac...</td>\n",
       "    </tr>\n",
       "    <tr>\n",
       "      <th>1</th>\n",
       "      <td>[{'role': 'system', 'content': 'You need to ac...</td>\n",
       "    </tr>\n",
       "    <tr>\n",
       "      <th>2</th>\n",
       "      <td>[{'role': 'system', 'content': 'You need to ac...</td>\n",
       "    </tr>\n",
       "    <tr>\n",
       "      <th>3</th>\n",
       "      <td>[{'role': 'system', 'content': 'You need to ac...</td>\n",
       "    </tr>\n",
       "    <tr>\n",
       "      <th>4</th>\n",
       "      <td>[{'role': 'system', 'content': 'You need to ac...</td>\n",
       "    </tr>\n",
       "    <tr>\n",
       "      <th>...</th>\n",
       "      <td>...</td>\n",
       "    </tr>\n",
       "    <tr>\n",
       "      <th>95</th>\n",
       "      <td>[{'role': 'system', 'content': 'You need to ac...</td>\n",
       "    </tr>\n",
       "    <tr>\n",
       "      <th>96</th>\n",
       "      <td>[{'role': 'system', 'content': 'You need to ac...</td>\n",
       "    </tr>\n",
       "    <tr>\n",
       "      <th>97</th>\n",
       "      <td>[{'role': 'system', 'content': 'You need to ac...</td>\n",
       "    </tr>\n",
       "    <tr>\n",
       "      <th>98</th>\n",
       "      <td>[{'role': 'system', 'content': 'You need to ac...</td>\n",
       "    </tr>\n",
       "    <tr>\n",
       "      <th>99</th>\n",
       "      <td>[{'role': 'system', 'content': 'You need to ac...</td>\n",
       "    </tr>\n",
       "  </tbody>\n",
       "</table>\n",
       "<p>100 rows × 1 columns</p>\n",
       "</div>"
      ],
      "text/plain": [
       "                                             messages\n",
       "0   [{'role': 'system', 'content': 'You need to ac...\n",
       "1   [{'role': 'system', 'content': 'You need to ac...\n",
       "2   [{'role': 'system', 'content': 'You need to ac...\n",
       "3   [{'role': 'system', 'content': 'You need to ac...\n",
       "4   [{'role': 'system', 'content': 'You need to ac...\n",
       "..                                                ...\n",
       "95  [{'role': 'system', 'content': 'You need to ac...\n",
       "96  [{'role': 'system', 'content': 'You need to ac...\n",
       "97  [{'role': 'system', 'content': 'You need to ac...\n",
       "98  [{'role': 'system', 'content': 'You need to ac...\n",
       "99  [{'role': 'system', 'content': 'You need to ac...\n",
       "\n",
       "[100 rows x 1 columns]"
      ]
     },
     "execution_count": 38,
     "metadata": {},
     "output_type": "execute_result"
    }
   ],
   "source": [
    "json_df = pd.DataFrame(json_data)\n",
    "json_df"
   ]
  },
  {
   "cell_type": "code",
   "execution_count": 39,
   "metadata": {},
   "outputs": [],
   "source": [
    "from sklearn.model_selection import train_test_split\n",
    "\n",
    "# Split into 80% train, 20% temp (which will be split further)\n",
    "train_data, temp_data = train_test_split(json_df, test_size=0.2, random_state=42)\n",
    "\n",
    "# Split temp into 50% validation, 50% test (so each is 10% of total)\n",
    "val_data, test_data = train_test_split(temp_data, test_size=0.5, random_state=42)\n",
    "\n",
    "# Convert DataFrames back to list format for JSON saving\n",
    "train_json = train_data.to_dict(orient=\"records\")\n",
    "val_json = val_data.to_dict(orient=\"records\")\n",
    "test_json = test_data.to_dict(orient=\"records\")"
   ]
  },
  {
   "cell_type": "code",
   "execution_count": 41,
   "metadata": {},
   "outputs": [],
   "source": [
    "# Save train set\n",
    "with open(\"fine_tuning/data/split/train.jsonl\", \"w\", encoding=\"utf-8\") as f:\n",
    "    for item in train_json:\n",
    "        f.write(json.dumps(item) + '\\n')\n",
    "\n",
    "# Save validation set\n",
    "with open(\"fine_tuning/data/split/valid.jsonl\", \"w\", encoding=\"utf-8\") as f:\n",
    "    for item in val_json:\n",
    "        f.write(json.dumps(item) + '\\n')\n",
    "\n",
    "# Save test set\n",
    "with open(\"fine_tuning/data/split/test.jsonl\", \"w\", encoding=\"utf-8\") as f:\n",
    "    for item in test_json:\n",
    "        f.write(json.dumps(item) + '\\n')"
   ]
  },
  {
   "cell_type": "code",
   "execution_count": 58,
   "metadata": {},
   "outputs": [
    {
     "data": {
      "application/vnd.jupyter.widget-view+json": {
       "model_id": "69dd546f05a94b559ea7345ad5412b20",
       "version_major": 2,
       "version_minor": 0
      },
      "text/plain": [
       "Fetching 6 files:   0%|          | 0/6 [00:00<?, ?it/s]"
      ]
     },
     "metadata": {},
     "output_type": "display_data"
    },
    {
     "name": "stderr",
     "output_type": "stream",
     "text": [
      "huggingface/tokenizers: The current process just got forked, after parallelism has already been used. Disabling parallelism to avoid deadlocks...\n",
      "To disable this warning, you can either:\n",
      "\t- Avoid using `tokenizers` before the fork if possible\n",
      "\t- Explicitly set the environment variable TOKENIZERS_PARALLELISM=(true | false)\n"
     ]
    },
    {
     "data": {
      "application/vnd.jupyter.widget-view+json": {
       "model_id": "0a326f21067246eeab63877e335c97af",
       "version_major": 2,
       "version_minor": 0
      },
      "text/plain": [
       "Fetching 6 files:   0%|          | 0/6 [00:00<?, ?it/s]"
      ]
     },
     "metadata": {},
     "output_type": "display_data"
    },
    {
     "data": {
      "application/vnd.jupyter.widget-view+json": {
       "model_id": "c354136133874aa7b281ff7c1d329165",
       "version_major": 2,
       "version_minor": 0
      },
      "text/plain": [
       "Fetching 6 files:   0%|          | 0/6 [00:00<?, ?it/s]"
      ]
     },
     "metadata": {},
     "output_type": "display_data"
    },
    {
     "data": {
      "application/vnd.jupyter.widget-view+json": {
       "model_id": "41cf1071f70a4a4f940f0957ed63a189",
       "version_major": 2,
       "version_minor": 0
      },
      "text/plain": [
       "Fetching 6 files:   0%|          | 0/6 [00:00<?, ?it/s]"
      ]
     },
     "metadata": {},
     "output_type": "display_data"
    },
    {
     "data": {
      "application/vnd.jupyter.widget-view+json": {
       "model_id": "e1a22e926e3940bb9dabed2ab6a8623a",
       "version_major": 2,
       "version_minor": 0
      },
      "text/plain": [
       "Fetching 6 files:   0%|          | 0/6 [00:00<?, ?it/s]"
      ]
     },
     "metadata": {},
     "output_type": "display_data"
    },
    {
     "data": {
      "application/vnd.jupyter.widget-view+json": {
       "model_id": "ed208b88871344cfa05ce15ec9cba743",
       "version_major": 2,
       "version_minor": 0
      },
      "text/plain": [
       "Fetching 6 files:   0%|          | 0/6 [00:00<?, ?it/s]"
      ]
     },
     "metadata": {},
     "output_type": "display_data"
    },
    {
     "data": {
      "application/vnd.jupyter.widget-view+json": {
       "model_id": "9500981de1aa4efd99a0cbc11e14eb89",
       "version_major": 2,
       "version_minor": 0
      },
      "text/plain": [
       "Fetching 6 files:   0%|          | 0/6 [00:00<?, ?it/s]"
      ]
     },
     "metadata": {},
     "output_type": "display_data"
    },
    {
     "data": {
      "application/vnd.jupyter.widget-view+json": {
       "model_id": "d9b57ff84d16490c8c349fa074dad629",
       "version_major": 2,
       "version_minor": 0
      },
      "text/plain": [
       "Fetching 6 files:   0%|          | 0/6 [00:00<?, ?it/s]"
      ]
     },
     "metadata": {},
     "output_type": "display_data"
    },
    {
     "data": {
      "application/vnd.jupyter.widget-view+json": {
       "model_id": "a7f8861e2bc6461ea39e073671c6a900",
       "version_major": 2,
       "version_minor": 0
      },
      "text/plain": [
       "Fetching 6 files:   0%|          | 0/6 [00:00<?, ?it/s]"
      ]
     },
     "metadata": {},
     "output_type": "display_data"
    },
    {
     "data": {
      "application/vnd.jupyter.widget-view+json": {
       "model_id": "3718a81578d445708c439e2ae4f4e55e",
       "version_major": 2,
       "version_minor": 0
      },
      "text/plain": [
       "Fetching 6 files:   0%|          | 0/6 [00:00<?, ?it/s]"
      ]
     },
     "metadata": {},
     "output_type": "display_data"
    },
    {
     "data": {
      "application/vnd.jupyter.widget-view+json": {
       "model_id": "09ab2f9822f94c6f88658eb4aca13321",
       "version_major": 2,
       "version_minor": 0
      },
      "text/plain": [
       "Fetching 6 files:   0%|          | 0/6 [00:00<?, ?it/s]"
      ]
     },
     "metadata": {},
     "output_type": "display_data"
    },
    {
     "data": {
      "application/vnd.jupyter.widget-view+json": {
       "model_id": "0e57ecdab0a142399661077914280ee9",
       "version_major": 2,
       "version_minor": 0
      },
      "text/plain": [
       "Fetching 6 files:   0%|          | 0/6 [00:00<?, ?it/s]"
      ]
     },
     "metadata": {},
     "output_type": "display_data"
    },
    {
     "data": {
      "application/vnd.jupyter.widget-view+json": {
       "model_id": "f55ef3f92fd84d529b52c60906e9bcda",
       "version_major": 2,
       "version_minor": 0
      },
      "text/plain": [
       "Fetching 6 files:   0%|          | 0/6 [00:00<?, ?it/s]"
      ]
     },
     "metadata": {},
     "output_type": "display_data"
    },
    {
     "data": {
      "application/vnd.jupyter.widget-view+json": {
       "model_id": "0c23a5ce5d5f4f739c9e5c0e7eb6c4e6",
       "version_major": 2,
       "version_minor": 0
      },
      "text/plain": [
       "Fetching 6 files:   0%|          | 0/6 [00:00<?, ?it/s]"
      ]
     },
     "metadata": {},
     "output_type": "display_data"
    },
    {
     "data": {
      "application/vnd.jupyter.widget-view+json": {
       "model_id": "11dd4dd1865f4b9e96a4a7506ef7a908",
       "version_major": 2,
       "version_minor": 0
      },
      "text/plain": [
       "Fetching 6 files:   0%|          | 0/6 [00:00<?, ?it/s]"
      ]
     },
     "metadata": {},
     "output_type": "display_data"
    },
    {
     "data": {
      "application/vnd.jupyter.widget-view+json": {
       "model_id": "799d169d665745718a572a750860dc28",
       "version_major": 2,
       "version_minor": 0
      },
      "text/plain": [
       "Fetching 6 files:   0%|          | 0/6 [00:00<?, ?it/s]"
      ]
     },
     "metadata": {},
     "output_type": "display_data"
    },
    {
     "data": {
      "application/vnd.jupyter.widget-view+json": {
       "model_id": "d1ea10203a8f4d3e872b2130a168af92",
       "version_major": 2,
       "version_minor": 0
      },
      "text/plain": [
       "Fetching 6 files:   0%|          | 0/6 [00:00<?, ?it/s]"
      ]
     },
     "metadata": {},
     "output_type": "display_data"
    },
    {
     "data": {
      "application/vnd.jupyter.widget-view+json": {
       "model_id": "7004df873cbe4ab885507a8ec254c381",
       "version_major": 2,
       "version_minor": 0
      },
      "text/plain": [
       "Fetching 6 files:   0%|          | 0/6 [00:00<?, ?it/s]"
      ]
     },
     "metadata": {},
     "output_type": "display_data"
    },
    {
     "data": {
      "application/vnd.jupyter.widget-view+json": {
       "model_id": "dee418023fdf474cbb1a795fa9454337",
       "version_major": 2,
       "version_minor": 0
      },
      "text/plain": [
       "Fetching 6 files:   0%|          | 0/6 [00:00<?, ?it/s]"
      ]
     },
     "metadata": {},
     "output_type": "display_data"
    },
    {
     "data": {
      "application/vnd.jupyter.widget-view+json": {
       "model_id": "120d5d46ce4e41a9b1ea0657fcf9f6cb",
       "version_major": 2,
       "version_minor": 0
      },
      "text/plain": [
       "Fetching 6 files:   0%|          | 0/6 [00:00<?, ?it/s]"
      ]
     },
     "metadata": {},
     "output_type": "display_data"
    },
    {
     "data": {
      "application/vnd.jupyter.widget-view+json": {
       "model_id": "36fa433f107a46ebbcd03d610facc15e",
       "version_major": 2,
       "version_minor": 0
      },
      "text/plain": [
       "Fetching 6 files:   0%|          | 0/6 [00:00<?, ?it/s]"
      ]
     },
     "metadata": {},
     "output_type": "display_data"
    },
    {
     "data": {
      "application/vnd.jupyter.widget-view+json": {
       "model_id": "975e70b26e534083a0d2ffb25bdd4a26",
       "version_major": 2,
       "version_minor": 0
      },
      "text/plain": [
       "Fetching 6 files:   0%|          | 0/6 [00:00<?, ?it/s]"
      ]
     },
     "metadata": {},
     "output_type": "display_data"
    },
    {
     "data": {
      "application/vnd.jupyter.widget-view+json": {
       "model_id": "150bb2b236184bb7880c42919835af7f",
       "version_major": 2,
       "version_minor": 0
      },
      "text/plain": [
       "Fetching 6 files:   0%|          | 0/6 [00:00<?, ?it/s]"
      ]
     },
     "metadata": {},
     "output_type": "display_data"
    },
    {
     "data": {
      "application/vnd.jupyter.widget-view+json": {
       "model_id": "0ce8593c4ef84f77a20ab6060db9fb39",
       "version_major": 2,
       "version_minor": 0
      },
      "text/plain": [
       "Fetching 6 files:   0%|          | 0/6 [00:00<?, ?it/s]"
      ]
     },
     "metadata": {},
     "output_type": "display_data"
    },
    {
     "data": {
      "application/vnd.jupyter.widget-view+json": {
       "model_id": "f6f7108d063e40738730cec342b20346",
       "version_major": 2,
       "version_minor": 0
      },
      "text/plain": [
       "Fetching 6 files:   0%|          | 0/6 [00:00<?, ?it/s]"
      ]
     },
     "metadata": {},
     "output_type": "display_data"
    },
    {
     "data": {
      "application/vnd.jupyter.widget-view+json": {
       "model_id": "d7eaf91cb85545849dbbd4ca57f1459f",
       "version_major": 2,
       "version_minor": 0
      },
      "text/plain": [
       "Fetching 6 files:   0%|          | 0/6 [00:00<?, ?it/s]"
      ]
     },
     "metadata": {},
     "output_type": "display_data"
    },
    {
     "data": {
      "application/vnd.jupyter.widget-view+json": {
       "model_id": "a428132233674d52b22174c8b99f0917",
       "version_major": 2,
       "version_minor": 0
      },
      "text/plain": [
       "Fetching 6 files:   0%|          | 0/6 [00:00<?, ?it/s]"
      ]
     },
     "metadata": {},
     "output_type": "display_data"
    },
    {
     "data": {
      "application/vnd.jupyter.widget-view+json": {
       "model_id": "50874209547c4f5c8fc303f9d80802df",
       "version_major": 2,
       "version_minor": 0
      },
      "text/plain": [
       "Fetching 6 files:   0%|          | 0/6 [00:00<?, ?it/s]"
      ]
     },
     "metadata": {},
     "output_type": "display_data"
    },
    {
     "data": {
      "application/vnd.jupyter.widget-view+json": {
       "model_id": "37a9760eb4374c0ab0289a1b15fb6965",
       "version_major": 2,
       "version_minor": 0
      },
      "text/plain": [
       "Fetching 6 files:   0%|          | 0/6 [00:00<?, ?it/s]"
      ]
     },
     "metadata": {},
     "output_type": "display_data"
    },
    {
     "data": {
      "application/vnd.jupyter.widget-view+json": {
       "model_id": "8da23c6b95c8427197c131ad148b15fc",
       "version_major": 2,
       "version_minor": 0
      },
      "text/plain": [
       "Fetching 6 files:   0%|          | 0/6 [00:00<?, ?it/s]"
      ]
     },
     "metadata": {},
     "output_type": "display_data"
    },
    {
     "data": {
      "application/vnd.jupyter.widget-view+json": {
       "model_id": "ca512dff2fac48acb059bff66f88b10a",
       "version_major": 2,
       "version_minor": 0
      },
      "text/plain": [
       "Fetching 6 files:   0%|          | 0/6 [00:00<?, ?it/s]"
      ]
     },
     "metadata": {},
     "output_type": "display_data"
    },
    {
     "data": {
      "application/vnd.jupyter.widget-view+json": {
       "model_id": "d90176e0e4ef495c9f43bb2660ea168c",
       "version_major": 2,
       "version_minor": 0
      },
      "text/plain": [
       "Fetching 6 files:   0%|          | 0/6 [00:00<?, ?it/s]"
      ]
     },
     "metadata": {},
     "output_type": "display_data"
    },
    {
     "data": {
      "application/vnd.jupyter.widget-view+json": {
       "model_id": "96ea8c75cdb94d46a638dad3fce3d8d8",
       "version_major": 2,
       "version_minor": 0
      },
      "text/plain": [
       "Fetching 6 files:   0%|          | 0/6 [00:00<?, ?it/s]"
      ]
     },
     "metadata": {},
     "output_type": "display_data"
    },
    {
     "data": {
      "application/vnd.jupyter.widget-view+json": {
       "model_id": "a730f223ae4641d9b68fbae64133779b",
       "version_major": 2,
       "version_minor": 0
      },
      "text/plain": [
       "Fetching 6 files:   0%|          | 0/6 [00:00<?, ?it/s]"
      ]
     },
     "metadata": {},
     "output_type": "display_data"
    },
    {
     "data": {
      "application/vnd.jupyter.widget-view+json": {
       "model_id": "e43eb0ecd31746978a6b586dce9fb55f",
       "version_major": 2,
       "version_minor": 0
      },
      "text/plain": [
       "Fetching 6 files:   0%|          | 0/6 [00:00<?, ?it/s]"
      ]
     },
     "metadata": {},
     "output_type": "display_data"
    },
    {
     "data": {
      "application/vnd.jupyter.widget-view+json": {
       "model_id": "60d830ab703b48b790be6afb73358fab",
       "version_major": 2,
       "version_minor": 0
      },
      "text/plain": [
       "Fetching 6 files:   0%|          | 0/6 [00:00<?, ?it/s]"
      ]
     },
     "metadata": {},
     "output_type": "display_data"
    },
    {
     "data": {
      "application/vnd.jupyter.widget-view+json": {
       "model_id": "f24ceb964140432f9fed8561a8425d7a",
       "version_major": 2,
       "version_minor": 0
      },
      "text/plain": [
       "Fetching 6 files:   0%|          | 0/6 [00:00<?, ?it/s]"
      ]
     },
     "metadata": {},
     "output_type": "display_data"
    },
    {
     "data": {
      "application/vnd.jupyter.widget-view+json": {
       "model_id": "3ea9d4d70b094981abffb9f37b3ed588",
       "version_major": 2,
       "version_minor": 0
      },
      "text/plain": [
       "Fetching 6 files:   0%|          | 0/6 [00:00<?, ?it/s]"
      ]
     },
     "metadata": {},
     "output_type": "display_data"
    },
    {
     "data": {
      "application/vnd.jupyter.widget-view+json": {
       "model_id": "e8e762c18ea644949afa3a63f378f80b",
       "version_major": 2,
       "version_minor": 0
      },
      "text/plain": [
       "Fetching 6 files:   0%|          | 0/6 [00:00<?, ?it/s]"
      ]
     },
     "metadata": {},
     "output_type": "display_data"
    },
    {
     "data": {
      "application/vnd.jupyter.widget-view+json": {
       "model_id": "826aa653434f487d9a0a8e133fdf47c1",
       "version_major": 2,
       "version_minor": 0
      },
      "text/plain": [
       "Fetching 6 files:   0%|          | 0/6 [00:00<?, ?it/s]"
      ]
     },
     "metadata": {},
     "output_type": "display_data"
    },
    {
     "data": {
      "application/vnd.jupyter.widget-view+json": {
       "model_id": "343d9ec4083c4a66bb1c71ae1b4c51f8",
       "version_major": 2,
       "version_minor": 0
      },
      "text/plain": [
       "Fetching 6 files:   0%|          | 0/6 [00:00<?, ?it/s]"
      ]
     },
     "metadata": {},
     "output_type": "display_data"
    },
    {
     "data": {
      "application/vnd.jupyter.widget-view+json": {
       "model_id": "de179a49ec9349338f6606ec23e888eb",
       "version_major": 2,
       "version_minor": 0
      },
      "text/plain": [
       "Fetching 6 files:   0%|          | 0/6 [00:00<?, ?it/s]"
      ]
     },
     "metadata": {},
     "output_type": "display_data"
    },
    {
     "data": {
      "application/vnd.jupyter.widget-view+json": {
       "model_id": "7fa2bbaef70e4fdea538d8b49719ee08",
       "version_major": 2,
       "version_minor": 0
      },
      "text/plain": [
       "Fetching 6 files:   0%|          | 0/6 [00:00<?, ?it/s]"
      ]
     },
     "metadata": {},
     "output_type": "display_data"
    },
    {
     "data": {
      "application/vnd.jupyter.widget-view+json": {
       "model_id": "36c2ae47b1a04b92bee21a76f3674acd",
       "version_major": 2,
       "version_minor": 0
      },
      "text/plain": [
       "Fetching 6 files:   0%|          | 0/6 [00:00<?, ?it/s]"
      ]
     },
     "metadata": {},
     "output_type": "display_data"
    },
    {
     "data": {
      "application/vnd.jupyter.widget-view+json": {
       "model_id": "e3d7feef532f4cf6b0be7e2662ba2f4f",
       "version_major": 2,
       "version_minor": 0
      },
      "text/plain": [
       "Fetching 6 files:   0%|          | 0/6 [00:00<?, ?it/s]"
      ]
     },
     "metadata": {},
     "output_type": "display_data"
    },
    {
     "data": {
      "application/vnd.jupyter.widget-view+json": {
       "model_id": "5f145bd730a348688b055f2fb2ea5c6e",
       "version_major": 2,
       "version_minor": 0
      },
      "text/plain": [
       "Fetching 6 files:   0%|          | 0/6 [00:00<?, ?it/s]"
      ]
     },
     "metadata": {},
     "output_type": "display_data"
    },
    {
     "data": {
      "application/vnd.jupyter.widget-view+json": {
       "model_id": "c289e9c8262b44afa88f7cd92f3db9cf",
       "version_major": 2,
       "version_minor": 0
      },
      "text/plain": [
       "Fetching 6 files:   0%|          | 0/6 [00:00<?, ?it/s]"
      ]
     },
     "metadata": {},
     "output_type": "display_data"
    },
    {
     "data": {
      "application/vnd.jupyter.widget-view+json": {
       "model_id": "f97cd6e1adb240cfafd38bd77ecb3316",
       "version_major": 2,
       "version_minor": 0
      },
      "text/plain": [
       "Fetching 6 files:   0%|          | 0/6 [00:00<?, ?it/s]"
      ]
     },
     "metadata": {},
     "output_type": "display_data"
    },
    {
     "data": {
      "application/vnd.jupyter.widget-view+json": {
       "model_id": "901149ff756f41e892606a5cdc9ea48a",
       "version_major": 2,
       "version_minor": 0
      },
      "text/plain": [
       "Fetching 6 files:   0%|          | 0/6 [00:00<?, ?it/s]"
      ]
     },
     "metadata": {},
     "output_type": "display_data"
    },
    {
     "data": {
      "application/vnd.jupyter.widget-view+json": {
       "model_id": "070880024d6846ae8563943e2069ae0a",
       "version_major": 2,
       "version_minor": 0
      },
      "text/plain": [
       "Fetching 6 files:   0%|          | 0/6 [00:00<?, ?it/s]"
      ]
     },
     "metadata": {},
     "output_type": "display_data"
    },
    {
     "data": {
      "application/vnd.jupyter.widget-view+json": {
       "model_id": "aab51c9caeee452194ca9f01be784bb9",
       "version_major": 2,
       "version_minor": 0
      },
      "text/plain": [
       "Fetching 6 files:   0%|          | 0/6 [00:00<?, ?it/s]"
      ]
     },
     "metadata": {},
     "output_type": "display_data"
    },
    {
     "data": {
      "application/vnd.jupyter.widget-view+json": {
       "model_id": "d8fa7296d4e847e8b630a81567885039",
       "version_major": 2,
       "version_minor": 0
      },
      "text/plain": [
       "Fetching 6 files:   0%|          | 0/6 [00:00<?, ?it/s]"
      ]
     },
     "metadata": {},
     "output_type": "display_data"
    },
    {
     "data": {
      "application/vnd.jupyter.widget-view+json": {
       "model_id": "260fcc15748f4b0c8409332f2b7bf9e8",
       "version_major": 2,
       "version_minor": 0
      },
      "text/plain": [
       "Fetching 6 files:   0%|          | 0/6 [00:00<?, ?it/s]"
      ]
     },
     "metadata": {},
     "output_type": "display_data"
    },
    {
     "data": {
      "application/vnd.jupyter.widget-view+json": {
       "model_id": "f94bc12f449f4aaf923feb010640ecde",
       "version_major": 2,
       "version_minor": 0
      },
      "text/plain": [
       "Fetching 6 files:   0%|          | 0/6 [00:00<?, ?it/s]"
      ]
     },
     "metadata": {},
     "output_type": "display_data"
    },
    {
     "data": {
      "application/vnd.jupyter.widget-view+json": {
       "model_id": "2ade9d1663624b81bbae21597e0fa69d",
       "version_major": 2,
       "version_minor": 0
      },
      "text/plain": [
       "Fetching 6 files:   0%|          | 0/6 [00:00<?, ?it/s]"
      ]
     },
     "metadata": {},
     "output_type": "display_data"
    },
    {
     "data": {
      "application/vnd.jupyter.widget-view+json": {
       "model_id": "04025b533d93461cbd98cce95f138c30",
       "version_major": 2,
       "version_minor": 0
      },
      "text/plain": [
       "Fetching 6 files:   0%|          | 0/6 [00:00<?, ?it/s]"
      ]
     },
     "metadata": {},
     "output_type": "display_data"
    },
    {
     "data": {
      "application/vnd.jupyter.widget-view+json": {
       "model_id": "d05399011e08438bba93bcc3c1826dbd",
       "version_major": 2,
       "version_minor": 0
      },
      "text/plain": [
       "Fetching 6 files:   0%|          | 0/6 [00:00<?, ?it/s]"
      ]
     },
     "metadata": {},
     "output_type": "display_data"
    },
    {
     "data": {
      "application/vnd.jupyter.widget-view+json": {
       "model_id": "add7505850584ed2aa3b68a6b2a84c29",
       "version_major": 2,
       "version_minor": 0
      },
      "text/plain": [
       "Fetching 6 files:   0%|          | 0/6 [00:00<?, ?it/s]"
      ]
     },
     "metadata": {},
     "output_type": "display_data"
    },
    {
     "data": {
      "application/vnd.jupyter.widget-view+json": {
       "model_id": "c63fe8a74b734d46aa60529fa133f803",
       "version_major": 2,
       "version_minor": 0
      },
      "text/plain": [
       "Fetching 6 files:   0%|          | 0/6 [00:00<?, ?it/s]"
      ]
     },
     "metadata": {},
     "output_type": "display_data"
    },
    {
     "data": {
      "application/vnd.jupyter.widget-view+json": {
       "model_id": "68b3cf7ffbca409192831d995142cb1a",
       "version_major": 2,
       "version_minor": 0
      },
      "text/plain": [
       "Fetching 6 files:   0%|          | 0/6 [00:00<?, ?it/s]"
      ]
     },
     "metadata": {},
     "output_type": "display_data"
    },
    {
     "data": {
      "application/vnd.jupyter.widget-view+json": {
       "model_id": "fca28a7625734795979c8396810422ce",
       "version_major": 2,
       "version_minor": 0
      },
      "text/plain": [
       "Fetching 6 files:   0%|          | 0/6 [00:00<?, ?it/s]"
      ]
     },
     "metadata": {},
     "output_type": "display_data"
    },
    {
     "data": {
      "application/vnd.jupyter.widget-view+json": {
       "model_id": "067415a21b274796a7c5d1064c6cc6cd",
       "version_major": 2,
       "version_minor": 0
      },
      "text/plain": [
       "Fetching 6 files:   0%|          | 0/6 [00:00<?, ?it/s]"
      ]
     },
     "metadata": {},
     "output_type": "display_data"
    },
    {
     "data": {
      "application/vnd.jupyter.widget-view+json": {
       "model_id": "504a9d155d5c44be8795523108c51023",
       "version_major": 2,
       "version_minor": 0
      },
      "text/plain": [
       "Fetching 6 files:   0%|          | 0/6 [00:00<?, ?it/s]"
      ]
     },
     "metadata": {},
     "output_type": "display_data"
    },
    {
     "data": {
      "application/vnd.jupyter.widget-view+json": {
       "model_id": "ca5fe65c8f6d4e57b8823980446bf942",
       "version_major": 2,
       "version_minor": 0
      },
      "text/plain": [
       "Fetching 6 files:   0%|          | 0/6 [00:00<?, ?it/s]"
      ]
     },
     "metadata": {},
     "output_type": "display_data"
    },
    {
     "data": {
      "application/vnd.jupyter.widget-view+json": {
       "model_id": "3e9b99a4682a4ea29dcee030e9b2e954",
       "version_major": 2,
       "version_minor": 0
      },
      "text/plain": [
       "Fetching 6 files:   0%|          | 0/6 [00:00<?, ?it/s]"
      ]
     },
     "metadata": {},
     "output_type": "display_data"
    },
    {
     "data": {
      "application/vnd.jupyter.widget-view+json": {
       "model_id": "b4aee159917448e38a1f7632d8604d87",
       "version_major": 2,
       "version_minor": 0
      },
      "text/plain": [
       "Fetching 6 files:   0%|          | 0/6 [00:00<?, ?it/s]"
      ]
     },
     "metadata": {},
     "output_type": "display_data"
    },
    {
     "data": {
      "application/vnd.jupyter.widget-view+json": {
       "model_id": "f0e8f7b25e4046da94090e9f1f4d06b8",
       "version_major": 2,
       "version_minor": 0
      },
      "text/plain": [
       "Fetching 6 files:   0%|          | 0/6 [00:00<?, ?it/s]"
      ]
     },
     "metadata": {},
     "output_type": "display_data"
    },
    {
     "data": {
      "application/vnd.jupyter.widget-view+json": {
       "model_id": "08ca1544b64a4144be6ce454450f332f",
       "version_major": 2,
       "version_minor": 0
      },
      "text/plain": [
       "Fetching 6 files:   0%|          | 0/6 [00:00<?, ?it/s]"
      ]
     },
     "metadata": {},
     "output_type": "display_data"
    },
    {
     "data": {
      "application/vnd.jupyter.widget-view+json": {
       "model_id": "1742acf4c20e45e7813ae70dd5ec2547",
       "version_major": 2,
       "version_minor": 0
      },
      "text/plain": [
       "Fetching 6 files:   0%|          | 0/6 [00:00<?, ?it/s]"
      ]
     },
     "metadata": {},
     "output_type": "display_data"
    },
    {
     "data": {
      "application/vnd.jupyter.widget-view+json": {
       "model_id": "148895dc406841a09e85af40012ff5c6",
       "version_major": 2,
       "version_minor": 0
      },
      "text/plain": [
       "Fetching 6 files:   0%|          | 0/6 [00:00<?, ?it/s]"
      ]
     },
     "metadata": {},
     "output_type": "display_data"
    },
    {
     "data": {
      "application/vnd.jupyter.widget-view+json": {
       "model_id": "ba617f727bae4efb8aa9affe39769891",
       "version_major": 2,
       "version_minor": 0
      },
      "text/plain": [
       "Fetching 6 files:   0%|          | 0/6 [00:00<?, ?it/s]"
      ]
     },
     "metadata": {},
     "output_type": "display_data"
    },
    {
     "data": {
      "application/vnd.jupyter.widget-view+json": {
       "model_id": "af8906ca00ac4eb0a8eb01d3c759ef89",
       "version_major": 2,
       "version_minor": 0
      },
      "text/plain": [
       "Fetching 6 files:   0%|          | 0/6 [00:00<?, ?it/s]"
      ]
     },
     "metadata": {},
     "output_type": "display_data"
    },
    {
     "data": {
      "application/vnd.jupyter.widget-view+json": {
       "model_id": "410607c99b6741ad8671354aaf049224",
       "version_major": 2,
       "version_minor": 0
      },
      "text/plain": [
       "Fetching 6 files:   0%|          | 0/6 [00:00<?, ?it/s]"
      ]
     },
     "metadata": {},
     "output_type": "display_data"
    },
    {
     "data": {
      "application/vnd.jupyter.widget-view+json": {
       "model_id": "ee1f9c33aa044d80ad4734aac93be936",
       "version_major": 2,
       "version_minor": 0
      },
      "text/plain": [
       "Fetching 6 files:   0%|          | 0/6 [00:00<?, ?it/s]"
      ]
     },
     "metadata": {},
     "output_type": "display_data"
    },
    {
     "data": {
      "application/vnd.jupyter.widget-view+json": {
       "model_id": "5fa7d7160f534c318a1106f9d633edd9",
       "version_major": 2,
       "version_minor": 0
      },
      "text/plain": [
       "Fetching 6 files:   0%|          | 0/6 [00:00<?, ?it/s]"
      ]
     },
     "metadata": {},
     "output_type": "display_data"
    },
    {
     "data": {
      "application/vnd.jupyter.widget-view+json": {
       "model_id": "bbec2c6bf72b4b488d002fb676e148ae",
       "version_major": 2,
       "version_minor": 0
      },
      "text/plain": [
       "Fetching 6 files:   0%|          | 0/6 [00:00<?, ?it/s]"
      ]
     },
     "metadata": {},
     "output_type": "display_data"
    },
    {
     "data": {
      "application/vnd.jupyter.widget-view+json": {
       "model_id": "0f711cac0d48430495741c04d70f1cda",
       "version_major": 2,
       "version_minor": 0
      },
      "text/plain": [
       "Fetching 6 files:   0%|          | 0/6 [00:00<?, ?it/s]"
      ]
     },
     "metadata": {},
     "output_type": "display_data"
    },
    {
     "data": {
      "application/vnd.jupyter.widget-view+json": {
       "model_id": "cb4903386f7b45ffb9f87b2410c782d6",
       "version_major": 2,
       "version_minor": 0
      },
      "text/plain": [
       "Fetching 6 files:   0%|          | 0/6 [00:00<?, ?it/s]"
      ]
     },
     "metadata": {},
     "output_type": "display_data"
    },
    {
     "data": {
      "application/vnd.jupyter.widget-view+json": {
       "model_id": "ead8cfb176a443638dc80243807f6ba3",
       "version_major": 2,
       "version_minor": 0
      },
      "text/plain": [
       "Fetching 6 files:   0%|          | 0/6 [00:00<?, ?it/s]"
      ]
     },
     "metadata": {},
     "output_type": "display_data"
    },
    {
     "data": {
      "application/vnd.jupyter.widget-view+json": {
       "model_id": "bfa90ffa7a674140b8e33cfcd9ba0076",
       "version_major": 2,
       "version_minor": 0
      },
      "text/plain": [
       "Fetching 6 files:   0%|          | 0/6 [00:00<?, ?it/s]"
      ]
     },
     "metadata": {},
     "output_type": "display_data"
    },
    {
     "data": {
      "application/vnd.jupyter.widget-view+json": {
       "model_id": "4f5762d24bbc40968ef98ee5630baf7b",
       "version_major": 2,
       "version_minor": 0
      },
      "text/plain": [
       "Fetching 6 files:   0%|          | 0/6 [00:00<?, ?it/s]"
      ]
     },
     "metadata": {},
     "output_type": "display_data"
    },
    {
     "data": {
      "application/vnd.jupyter.widget-view+json": {
       "model_id": "81cc00ca26f94b69b0f034def13d5e93",
       "version_major": 2,
       "version_minor": 0
      },
      "text/plain": [
       "Fetching 6 files:   0%|          | 0/6 [00:00<?, ?it/s]"
      ]
     },
     "metadata": {},
     "output_type": "display_data"
    },
    {
     "data": {
      "application/vnd.jupyter.widget-view+json": {
       "model_id": "4f3998ad65aa4628960be93287a0c5aa",
       "version_major": 2,
       "version_minor": 0
      },
      "text/plain": [
       "Fetching 6 files:   0%|          | 0/6 [00:00<?, ?it/s]"
      ]
     },
     "metadata": {},
     "output_type": "display_data"
    },
    {
     "data": {
      "application/vnd.jupyter.widget-view+json": {
       "model_id": "ebb922b16234488fb59f7b00430b7a56",
       "version_major": 2,
       "version_minor": 0
      },
      "text/plain": [
       "Fetching 6 files:   0%|          | 0/6 [00:00<?, ?it/s]"
      ]
     },
     "metadata": {},
     "output_type": "display_data"
    },
    {
     "data": {
      "application/vnd.jupyter.widget-view+json": {
       "model_id": "ef042749d16f49429ce5074d6858e9e9",
       "version_major": 2,
       "version_minor": 0
      },
      "text/plain": [
       "Fetching 6 files:   0%|          | 0/6 [00:00<?, ?it/s]"
      ]
     },
     "metadata": {},
     "output_type": "display_data"
    },
    {
     "data": {
      "application/vnd.jupyter.widget-view+json": {
       "model_id": "0b1700e0ef51443fb96c9a83c9d1ea70",
       "version_major": 2,
       "version_minor": 0
      },
      "text/plain": [
       "Fetching 6 files:   0%|          | 0/6 [00:00<?, ?it/s]"
      ]
     },
     "metadata": {},
     "output_type": "display_data"
    },
    {
     "data": {
      "application/vnd.jupyter.widget-view+json": {
       "model_id": "07fe9235a6694e8c970fc85671b128ac",
       "version_major": 2,
       "version_minor": 0
      },
      "text/plain": [
       "Fetching 6 files:   0%|          | 0/6 [00:00<?, ?it/s]"
      ]
     },
     "metadata": {},
     "output_type": "display_data"
    },
    {
     "data": {
      "application/vnd.jupyter.widget-view+json": {
       "model_id": "7210bd664caf42bd8c1de4ca017ad03f",
       "version_major": 2,
       "version_minor": 0
      },
      "text/plain": [
       "Fetching 6 files:   0%|          | 0/6 [00:00<?, ?it/s]"
      ]
     },
     "metadata": {},
     "output_type": "display_data"
    },
    {
     "data": {
      "application/vnd.jupyter.widget-view+json": {
       "model_id": "664bfad7febd45a296fd458bab1e2659",
       "version_major": 2,
       "version_minor": 0
      },
      "text/plain": [
       "Fetching 6 files:   0%|          | 0/6 [00:00<?, ?it/s]"
      ]
     },
     "metadata": {},
     "output_type": "display_data"
    },
    {
     "data": {
      "application/vnd.jupyter.widget-view+json": {
       "model_id": "e68a85c3b50647dc9c9b4abbf5eaf3dc",
       "version_major": 2,
       "version_minor": 0
      },
      "text/plain": [
       "Fetching 6 files:   0%|          | 0/6 [00:00<?, ?it/s]"
      ]
     },
     "metadata": {},
     "output_type": "display_data"
    },
    {
     "data": {
      "application/vnd.jupyter.widget-view+json": {
       "model_id": "bf0da15244c241509aff6cc15b52bfe7",
       "version_major": 2,
       "version_minor": 0
      },
      "text/plain": [
       "Fetching 6 files:   0%|          | 0/6 [00:00<?, ?it/s]"
      ]
     },
     "metadata": {},
     "output_type": "display_data"
    },
    {
     "data": {
      "application/vnd.jupyter.widget-view+json": {
       "model_id": "e53f470dc62b42bb9b89b34724ae5fa9",
       "version_major": 2,
       "version_minor": 0
      },
      "text/plain": [
       "Fetching 6 files:   0%|          | 0/6 [00:00<?, ?it/s]"
      ]
     },
     "metadata": {},
     "output_type": "display_data"
    },
    {
     "data": {
      "application/vnd.jupyter.widget-view+json": {
       "model_id": "614060322f8649dc8ad8e6138fd3f017",
       "version_major": 2,
       "version_minor": 0
      },
      "text/plain": [
       "Fetching 6 files:   0%|          | 0/6 [00:00<?, ?it/s]"
      ]
     },
     "metadata": {},
     "output_type": "display_data"
    },
    {
     "data": {
      "application/vnd.jupyter.widget-view+json": {
       "model_id": "19cb2983a76044ba90d87290f29635aa",
       "version_major": 2,
       "version_minor": 0
      },
      "text/plain": [
       "Fetching 6 files:   0%|          | 0/6 [00:00<?, ?it/s]"
      ]
     },
     "metadata": {},
     "output_type": "display_data"
    },
    {
     "data": {
      "application/vnd.jupyter.widget-view+json": {
       "model_id": "4f59b0884939479aba6e4afd5c03e91e",
       "version_major": 2,
       "version_minor": 0
      },
      "text/plain": [
       "Fetching 6 files:   0%|          | 0/6 [00:00<?, ?it/s]"
      ]
     },
     "metadata": {},
     "output_type": "display_data"
    },
    {
     "data": {
      "application/vnd.jupyter.widget-view+json": {
       "model_id": "12b0577a6f6847f6961c8543517596e0",
       "version_major": 2,
       "version_minor": 0
      },
      "text/plain": [
       "Fetching 6 files:   0%|          | 0/6 [00:00<?, ?it/s]"
      ]
     },
     "metadata": {},
     "output_type": "display_data"
    },
    {
     "data": {
      "application/vnd.jupyter.widget-view+json": {
       "model_id": "61f472f9b61f4dfbadf86759a45f50ed",
       "version_major": 2,
       "version_minor": 0
      },
      "text/plain": [
       "Fetching 6 files:   0%|          | 0/6 [00:00<?, ?it/s]"
      ]
     },
     "metadata": {},
     "output_type": "display_data"
    },
    {
     "data": {
      "application/vnd.jupyter.widget-view+json": {
       "model_id": "c6d08128cbd24218982dac0b9cb29ca2",
       "version_major": 2,
       "version_minor": 0
      },
      "text/plain": [
       "Fetching 6 files:   0%|          | 0/6 [00:00<?, ?it/s]"
      ]
     },
     "metadata": {},
     "output_type": "display_data"
    },
    {
     "data": {
      "application/vnd.jupyter.widget-view+json": {
       "model_id": "dca7957db9f542019ce3ec83d1800094",
       "version_major": 2,
       "version_minor": 0
      },
      "text/plain": [
       "Fetching 6 files:   0%|          | 0/6 [00:00<?, ?it/s]"
      ]
     },
     "metadata": {},
     "output_type": "display_data"
    },
    {
     "data": {
      "application/vnd.jupyter.widget-view+json": {
       "model_id": "8e958e62882c49fdaa5bbfb974c40e55",
       "version_major": 2,
       "version_minor": 0
      },
      "text/plain": [
       "Fetching 6 files:   0%|          | 0/6 [00:00<?, ?it/s]"
      ]
     },
     "metadata": {},
     "output_type": "display_data"
    }
   ],
   "source": [
    "from nlp_utils import score_text_local\n",
    "\n",
    "# model_path = 'fine_tuning/models/fused_model'\n",
    "model_path = 'mlx-community/Llama-3.2-3B-Instruct-4bit'\n",
    "\n",
    "def score_row_local(row):\n",
    "    score = score_text_local(row['text'], row['ticker'], model_path)\n",
    "    return score\n",
    "\n",
    "scores_series_local = stock_mentions.head(100).apply(score_row_local, axis=1)"
   ]
  },
  {
   "cell_type": "code",
   "execution_count": 59,
   "metadata": {},
   "outputs": [],
   "source": [
    "reduced_stock_mentions['score_local_no_finetuning'] = scores_series_local"
   ]
  },
  {
   "cell_type": "code",
   "execution_count": 60,
   "metadata": {},
   "outputs": [
    {
     "data": {
      "application/vnd.microsoft.datawrangler.viewer.v0+json": {
       "columns": [
        {
         "name": "index",
         "rawType": "int64",
         "type": "integer"
        },
        {
         "name": "ticker",
         "rawType": "object",
         "type": "string"
        },
        {
         "name": "text",
         "rawType": "object",
         "type": "string"
        },
        {
         "name": "score",
         "rawType": "int64",
         "type": "integer"
        },
        {
         "name": "score_local",
         "rawType": "int64",
         "type": "integer"
        },
        {
         "name": "score_local_no_finetuning",
         "rawType": "int64",
         "type": "integer"
        }
       ],
       "conversionMethod": "pd.DataFrame",
       "ref": "ff629efc-d2cf-4652-aa22-f2ee36315ea3",
       "rows": [
        [
         "0",
         "FAST",
         "$INO rising fast",
         "1",
         "0",
         "0"
        ],
        [
         "1",
         "TECH",
         "Best TECH ETF?",
         "0",
         "0",
         "0"
        ],
        [
         "2",
         "TECH",
         "EqualOcean Presents: China Big Tech Crackdown Winners",
         "0",
         "0",
         "0"
        ],
        [
         "3",
         "COST",
         "Delta Airlines wants to increase its unvaccinated employees health insurance by $200 a month to cover the cost",
         "0",
         "0",
         "0"
        ],
        [
         "4",
         "TECH",
         "Analysis into whether certain Chinese tech stocks have bottomed",
         "0",
         "0",
         "0"
        ],
        [
         "5",
         "FAST",
         "A fast growing active stock server dedicated to making you financially free!",
         "0",
         "1",
         "0"
        ],
        [
         "6",
         "GOOGL",
         "Google plans to make and use their own CPU’s by 2023",
         "1",
         "-1",
         "-1"
        ],
        [
         "7",
         "TECH",
         "Will the China Tech Stock Rebound continue? Analysis &amp; Research on how to assess landscape.",
         "0",
         "0",
         "0"
        ],
        [
         "8",
         "TECH",
         "ESS TECH",
         "0",
         "0",
         "0"
        ],
        [
         "9",
         "FAST",
         "$IINN moving fast from 3$ to almost 5$ just today!!",
         "1",
         "0",
         "0"
        ],
        [
         "10",
         "UBER",
         "Buy AGC Now online Biggest deal in history 40 Billion dollars GRAB IPO same as doordash Uber stock only $15 worth $55 AGC",
         "1",
         "-1",
         "-1"
        ],
        [
         "11",
         "NVDA",
         "NVDA BULL",
         "1",
         "0",
         "0"
        ],
        [
         "12",
         "DELL",
         "Dell Technologies - after-hours earnings report",
         "0",
         "0",
         "0"
        ],
        [
         "13",
         "TECH",
         "$ESE - New Gaming Tech Acquisition",
         "1",
         "0",
         "0"
        ],
        [
         "14",
         "GOOGL",
         "Roku, Google Reach YouTube Deal",
         "1",
         "0",
         "0"
        ],
        [
         "15",
         "WELL",
         "Daily end of day, as well as morning market analysis with price points!",
         "0",
         "0",
         "0"
        ],
        [
         "16",
         "WELL",
         "Looking very very bullish riding well above 50 ema. 3.60 incoming.",
         "1",
         "1",
         "1"
        ],
        [
         "17",
         "TECH",
         "Easy squeeze recent IPO $IMMX with great tech and holding up during volatility 4M Share Float",
         "1",
         "0",
         "0"
        ],
        [
         "18",
         "TECH",
         "t42 solutions (TRAC.L) is using IoT tech to take the maritime shipping industry by storm",
         "1",
         "0",
         "0"
        ],
        [
         "19",
         "WELL",
         "$HELI - Big News out of 1-30 Well",
         "1",
         "0",
         "0"
        ],
        [
         "20",
         "META",
         "$COIN - Meta + Real Estate = $",
         "0",
         "0",
         "0"
        ],
        [
         "21",
         "EBAY",
         "EBay Loses Buyers And Sellers",
         "-1",
         "-1",
         "-1"
        ],
        [
         "22",
         "TECH",
         "Got $5,000? 3 Tech Stocks to Buy and Hold For the Long Term",
         "1",
         "0",
         "0"
        ],
        [
         "23",
         "TECH",
         "Tech Stock Crash - Is It Time Now To Buy? Nigel Green deVere CEO",
         "0",
         "0",
         "0"
        ],
        [
         "24",
         "TECH",
         "Cult Food Science: A Gateway to Food Tech Investments",
         "1",
         "0",
         "0"
        ],
        [
         "25",
         "FAST",
         "Fast Growth &amp; a Game-Changing Product for an $80B Baby Nutrition Industry",
         "1",
         "1",
         "0"
        ],
        [
         "26",
         "WELL",
         "ID and linked bank account required but well worth the effort. 5 free stocks worth up to $9600! Lots of fun!",
         "1",
         "1",
         "0"
        ],
        [
         "27",
         "FAST",
         "$FSRD - Fast Radius. Current Price -$2.26 - uptrend",
         "1",
         "0",
         "0"
        ],
        [
         "28",
         "GOOGL",
         "Which Google Ticker symbol is splitting on July 1st 2022? Thanks",
         "0",
         "0",
         "0"
        ],
        [
         "29",
         "POOL",
         "$BBIG 75% dark pool on Vinco is this real life? My peeps this happened right before AMC and GME went insane! $sprt was in the same boat. Short interest, cost to borrow, days to cover all shooting up before the fake sell walls broke down all similar. About to 🚀🚀🚀Share on every social media you got.",
         "1",
         "0",
         "0"
        ],
        [
         "30",
         "COST",
         "$BBIG 75% dark pool on Vinco is this real life? My peeps this happened right before AMC and GME went insane! $sprt was in the same boat. Short interest, cost to borrow, days to cover all shooting up before the fake sell walls broke down all similar. About to 🚀🚀🚀Share on every social media you got.",
         "1",
         "0",
         "0"
        ],
        [
         "31",
         "MRNA",
         "Good morning! 🌞 #premarket #watchlist 04/05 $SBFM - Designed mRNA Molecules Effective Against Multidrug Resistant Cancer Cells, $RCON -13G big shares stakes buy, $ATER -no news, $SST - earnings. old news, $ANY - new CEO... Also check afterhours runners and low float stocks in my app!",
         "1",
         "0",
         "0"
        ],
        [
         "32",
         "COST",
         "$CLVS Utilization Rate Almost At 99%, Short Exempts Are Rising Heavily And The Cost To Borrow Fee Is Rising As Well…Off Exchange Volume High",
         "1",
         "-1",
         "-1"
        ],
        [
         "33",
         "COST",
         "$CLVS Utilization Rate 100%, Short Exempts Are Rising Daily, The Cost To Borrow Fee Is Rising As Well Now At 4.38% Last Friday It Was 1%…",
         "1",
         "-1",
         "-1"
        ],
        [
         "34",
         "WELL",
         "$CLVS Utilization Rate 100%, Short Exempts Are Rising Daily, The Cost To Borrow Fee Is Rising As Well Now At 4.38% Last Friday It Was 1%…",
         "1",
         "-1",
         "-1"
        ],
        [
         "35",
         "META",
         "Meta Eyes Monetization Tools",
         "1",
         "0",
         "0"
        ],
        [
         "36",
         "WELL",
         "Well positioned micro cap company currently generating $1.2million of oil revenue off their first oil well. 2nd well coming into production in the next two weeks. Expect a large price increase when the announcement hits.",
         "1",
         "1",
         "1"
        ],
        [
         "37",
         "WELL",
         "Well positioned micro cap company currently generating $1.2million of oil revenue off their first oil well. 2nd well coming into production in the next two weeks. Expect a large price increase when the announcement hits.",
         "1",
         "1",
         "1"
        ],
        [
         "38",
         "COST",
         "$CRXT $CRXTW- Yesterdays Volume Was 69% Dark Pool! Short exempts stacking up daily and FTDS. Also 5th Trading Day showing once again zero shares available to short and Cost To Borrow Is In Triple Digits",
         "1",
         "-1",
         "-1"
        ],
        [
         "39",
         "WELL",
         "💰💰💰Good morning! #premarket #watchlist 06/22 $XELA -Secures XBP Contract Totaling $136 Million, $REV -old news. bankruptsy, $QTNT -Preview of Financials, $USWS -ProFrac Holding Corp. To Acquire U.S. Well Services, Inc, $DTIL -$50 Million Offering of Common Stock",
         "-1",
         "0",
         "0"
        ],
        [
         "40",
         "TECH",
         "$XELA, EXELA TECH SEEING HUGE GAINS DURING PRE MARKET",
         "1",
         "-1",
         "-1"
        ],
        [
         "41",
         "GOOGL",
         "Pinterest's Big Google Change",
         "0",
         "0",
         "0"
        ],
        [
         "42",
         "META",
         "Is Meta Platforms Stock A Buy During The Dip? If You Want To Buy The Next Apple, Then Yes",
         "1",
         "1",
         "0"
        ],
        [
         "43",
         "ENPH",
         "Prospero.Ai has bullish sentiment on ENPH",
         "1",
         "0",
         "0"
        ],
        [
         "44",
         "UBER",
         "SWVL Dilution Complete Way Oversold. UBER Alternative.",
         "-1",
         "-1",
         "-1"
        ],
        [
         "45",
         "TECH",
         "CyberSec/Confidential Computing Portfolio Overview. HUB.TA +16% is my only bull YTD, trailing behind are ETFs (CIBR/BUG) and other US Plays (PANW, FTNT, CYBR). CyberSec/CC still outperformed QQQ (NASDAQ Benchmark), and most beat SPY. tldr; cybersecurity plays are outperforming tech as a whole, yolo",
         "1",
         "0",
         "-1"
        ],
        [
         "46",
         "TSLA",
         "ARKK projected values of TSLA ROKU ZM in 2026",
         "0",
         "0",
         "0"
        ],
        [
         "47",
         "MRNA",
         "💰💰💰Good morning! #premarket #watchlist 07/19 $STIM -Report Second Quarter 2022 Financial and Operating Results and Host Conference, $APLD -Secures Hosting Capacity To Support All 23.3 EH/s of Bitcoin, $CYTO -SemaPhore Platform Shown Particularly Effective in Intracellular mRNA Delivery for Cancer",
         "1",
         "0",
         "0"
        ],
        [
         "48",
         "NCLH",
         "Cruise Stocks CCL, RCL, NCLH Gain as CDC Ends Covid Program",
         "1",
         "0",
         "0"
        ],
        [
         "49",
         "MSFT",
         "MSFT Q4 Earnings Expectations/Guidance",
         "0",
         "0",
         "0"
        ]
       ],
       "shape": {
        "columns": 5,
        "rows": 100
       }
      },
      "text/html": [
       "<div>\n",
       "<style scoped>\n",
       "    .dataframe tbody tr th:only-of-type {\n",
       "        vertical-align: middle;\n",
       "    }\n",
       "\n",
       "    .dataframe tbody tr th {\n",
       "        vertical-align: top;\n",
       "    }\n",
       "\n",
       "    .dataframe thead th {\n",
       "        text-align: right;\n",
       "    }\n",
       "</style>\n",
       "<table border=\"1\" class=\"dataframe\">\n",
       "  <thead>\n",
       "    <tr style=\"text-align: right;\">\n",
       "      <th></th>\n",
       "      <th>ticker</th>\n",
       "      <th>text</th>\n",
       "      <th>score</th>\n",
       "      <th>score_local</th>\n",
       "      <th>score_local_no_finetuning</th>\n",
       "    </tr>\n",
       "  </thead>\n",
       "  <tbody>\n",
       "    <tr>\n",
       "      <th>0</th>\n",
       "      <td>FAST</td>\n",
       "      <td>$INO rising fast</td>\n",
       "      <td>1</td>\n",
       "      <td>0</td>\n",
       "      <td>0</td>\n",
       "    </tr>\n",
       "    <tr>\n",
       "      <th>1</th>\n",
       "      <td>TECH</td>\n",
       "      <td>Best TECH ETF?</td>\n",
       "      <td>0</td>\n",
       "      <td>0</td>\n",
       "      <td>0</td>\n",
       "    </tr>\n",
       "    <tr>\n",
       "      <th>2</th>\n",
       "      <td>TECH</td>\n",
       "      <td>EqualOcean Presents: China Big Tech Crackdown ...</td>\n",
       "      <td>0</td>\n",
       "      <td>0</td>\n",
       "      <td>0</td>\n",
       "    </tr>\n",
       "    <tr>\n",
       "      <th>3</th>\n",
       "      <td>COST</td>\n",
       "      <td>Delta Airlines wants to increase its unvaccina...</td>\n",
       "      <td>0</td>\n",
       "      <td>0</td>\n",
       "      <td>0</td>\n",
       "    </tr>\n",
       "    <tr>\n",
       "      <th>4</th>\n",
       "      <td>TECH</td>\n",
       "      <td>Analysis into whether certain Chinese tech sto...</td>\n",
       "      <td>0</td>\n",
       "      <td>0</td>\n",
       "      <td>0</td>\n",
       "    </tr>\n",
       "    <tr>\n",
       "      <th>...</th>\n",
       "      <td>...</td>\n",
       "      <td>...</td>\n",
       "      <td>...</td>\n",
       "      <td>...</td>\n",
       "      <td>...</td>\n",
       "    </tr>\n",
       "    <tr>\n",
       "      <th>95</th>\n",
       "      <td>META</td>\n",
       "      <td>META Summarized News for the week [Feb 19]</td>\n",
       "      <td>0</td>\n",
       "      <td>0</td>\n",
       "      <td>0</td>\n",
       "    </tr>\n",
       "    <tr>\n",
       "      <th>96</th>\n",
       "      <td>META</td>\n",
       "      <td>The Meta triangle wedge is finishing up</td>\n",
       "      <td>0</td>\n",
       "      <td>0</td>\n",
       "      <td>0</td>\n",
       "    </tr>\n",
       "    <tr>\n",
       "      <th>97</th>\n",
       "      <td>AXON</td>\n",
       "      <td>AXON</td>\n",
       "      <td>0</td>\n",
       "      <td>0</td>\n",
       "      <td>0</td>\n",
       "    </tr>\n",
       "    <tr>\n",
       "      <th>98</th>\n",
       "      <td>COST</td>\n",
       "      <td>Cost of Capital: Charlie Munger's Sarcastic Ta...</td>\n",
       "      <td>0</td>\n",
       "      <td>0</td>\n",
       "      <td>0</td>\n",
       "    </tr>\n",
       "    <tr>\n",
       "      <th>99</th>\n",
       "      <td>COST</td>\n",
       "      <td>FedEx's $4B Cost Cutting, BlackRock Hired by U...</td>\n",
       "      <td>0</td>\n",
       "      <td>0</td>\n",
       "      <td>0</td>\n",
       "    </tr>\n",
       "  </tbody>\n",
       "</table>\n",
       "<p>100 rows × 5 columns</p>\n",
       "</div>"
      ],
      "text/plain": [
       "   ticker                                               text  score  \\\n",
       "0    FAST                                   $INO rising fast      1   \n",
       "1    TECH                                     Best TECH ETF?      0   \n",
       "2    TECH  EqualOcean Presents: China Big Tech Crackdown ...      0   \n",
       "3    COST  Delta Airlines wants to increase its unvaccina...      0   \n",
       "4    TECH  Analysis into whether certain Chinese tech sto...      0   \n",
       "..    ...                                                ...    ...   \n",
       "95   META         META Summarized News for the week [Feb 19]      0   \n",
       "96   META            The Meta triangle wedge is finishing up      0   \n",
       "97   AXON                                               AXON      0   \n",
       "98   COST  Cost of Capital: Charlie Munger's Sarcastic Ta...      0   \n",
       "99   COST  FedEx's $4B Cost Cutting, BlackRock Hired by U...      0   \n",
       "\n",
       "    score_local  score_local_no_finetuning  \n",
       "0             0                          0  \n",
       "1             0                          0  \n",
       "2             0                          0  \n",
       "3             0                          0  \n",
       "4             0                          0  \n",
       "..          ...                        ...  \n",
       "95            0                          0  \n",
       "96            0                          0  \n",
       "97            0                          0  \n",
       "98            0                          0  \n",
       "99            0                          0  \n",
       "\n",
       "[100 rows x 5 columns]"
      ]
     },
     "execution_count": 60,
     "metadata": {},
     "output_type": "execute_result"
    }
   ],
   "source": [
    "reduced_stock_mentions[['ticker', 'text', 'score', 'score_local', 'score_local_no_finetuning']]"
   ]
  },
  {
   "cell_type": "markdown",
   "metadata": {},
   "source": [
    "Here we check that the tokens used for every request are relatively low. This means that for the API we only need to worry about request rate and not token rate."
   ]
  },
  {
   "cell_type": "code",
   "execution_count": 22,
   "metadata": {},
   "outputs": [
    {
     "ename": "NameError",
     "evalue": "name 'genai' is not defined",
     "output_type": "error",
     "traceback": [
      "\u001b[0;31m---------------------------------------------------------------------------\u001b[0m",
      "\u001b[0;31mNameError\u001b[0m                                 Traceback (most recent call last)",
      "Cell \u001b[0;32mIn[22], line 1\u001b[0m\n\u001b[0;32m----> 1\u001b[0m client \u001b[38;5;241m=\u001b[39m \u001b[43mgenai\u001b[49m\u001b[38;5;241m.\u001b[39mClient(api_key\u001b[38;5;241m=\u001b[39mapi_key)\n\u001b[1;32m      3\u001b[0m response \u001b[38;5;241m=\u001b[39m client\u001b[38;5;241m.\u001b[39mmodels\u001b[38;5;241m.\u001b[39mgenerate_content(\n\u001b[1;32m      4\u001b[0m     model\u001b[38;5;241m=\u001b[39m\u001b[38;5;124m\"\u001b[39m\u001b[38;5;124mgemini-2.0-flash\u001b[39m\u001b[38;5;124m\"\u001b[39m,\n\u001b[1;32m      5\u001b[0m     config\u001b[38;5;241m=\u001b[39mtypes\u001b[38;5;241m.\u001b[39mGenerateContentConfig(\n\u001b[1;32m      6\u001b[0m         system_instruction\u001b[38;5;241m=\u001b[39m\u001b[38;5;124m'\u001b[39m\u001b[38;5;124mreply to the question and be friendly\u001b[39m\u001b[38;5;124m'\u001b[39m),\n\u001b[1;32m      7\u001b[0m     contents\u001b[38;5;241m=\u001b[39m\u001b[38;5;124m'\u001b[39m\u001b[38;5;124mhow many days in a year?\u001b[39m\u001b[38;5;124m'\u001b[39m\n\u001b[1;32m      8\u001b[0m     )\n\u001b[1;32m     10\u001b[0m response\n",
      "\u001b[0;31mNameError\u001b[0m: name 'genai' is not defined"
     ]
    }
   ],
   "source": [
    "client = genai.Client(api_key=api_key)\n",
    "\n",
    "response = client.models.generate_content(\n",
    "    model=\"gemini-2.0-flash\",\n",
    "    config=types.GenerateContentConfig(\n",
    "        system_instruction='reply to the question and be friendly'),\n",
    "    contents='how many days in a year?'\n",
    "    )\n",
    "\n",
    "response"
   ]
  },
  {
   "cell_type": "code",
   "execution_count": 32,
   "metadata": {},
   "outputs": [
    {
     "data": {
      "text/plain": [
       "42"
      ]
     },
     "execution_count": 32,
     "metadata": {},
     "output_type": "execute_result"
    }
   ],
   "source": [
    "response.usage_metadata.total_token_count"
   ]
  },
  {
   "cell_type": "markdown",
   "metadata": {},
   "source": [
    "legacy code:"
   ]
  },
  {
   "cell_type": "code",
   "execution_count": 16,
   "metadata": {},
   "outputs": [
    {
     "name": "stderr",
     "output_type": "stream",
     "text": [
      "Fetching 6 files: 100%|██████████| 6/6 [00:00<00:00, 96791.63it/s]\n"
     ]
    },
    {
     "name": "stdout",
     "output_type": "stream",
     "text": [
      "==========\n",
      "0\n",
      "==========\n",
      "Prompt: 132 tokens, 355.723 tokens-per-sec\n",
      "Generation: 2 tokens, 12.702 tokens-per-sec\n",
      "Peak memory: 3.615 GB\n"
     ]
    }
   ],
   "source": [
    "from mlx_lm import load, generate\n",
    "\n",
    "model, tokenizer = load(\"mlx-community/Llama-3.2-3B-Instruct-4bit\")\n",
    "\n",
    "stock = 'GME'\n",
    "\n",
    "messages = [{\n",
    "     'role': 'system',\n",
    "     'content': f'''\n",
    "                You need to act as an expert linguist, trader and researcher, read the reddit comment about {stock} that is given to you, and classify wether the comment is bullish or bearish about {stock}.\n",
    "                Your answer should be 1 if the comment is positive about the stock, -1 if it is negative, and 0 if it is neutral. Do not reply to the comment, just classify it.\n",
    "                ''',\n",
    "   },\n",
    "   {\n",
    "     'role': 'user',\n",
    "     'content': 'I think GME is going up despite the market being bearish',\n",
    "   }]\n",
    "prompt = tokenizer.apply_chat_template(\n",
    "    messages, add_generation_prompt=True\n",
    ")\n",
    "\n",
    "text = generate(model, tokenizer, prompt=prompt, verbose=True)"
   ]
  }
 ],
 "metadata": {
  "kernelspec": {
   "display_name": "hp-trading",
   "language": "python",
   "name": "python3"
  },
  "language_info": {
   "codemirror_mode": {
    "name": "ipython",
    "version": 3
   },
   "file_extension": ".py",
   "mimetype": "text/x-python",
   "name": "python",
   "nbconvert_exporter": "python",
   "pygments_lexer": "ipython3",
   "version": "3.12.9"
  }
 },
 "nbformat": 4,
 "nbformat_minor": 2
}
